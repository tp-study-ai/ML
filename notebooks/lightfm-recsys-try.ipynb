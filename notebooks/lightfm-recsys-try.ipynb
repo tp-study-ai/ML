{
 "cells": [
  {
   "cell_type": "markdown",
   "source": [
    "# My attempt on building a recommendation system with LightFM"
   ],
   "metadata": {
    "collapsed": false
   }
  },
  {
   "cell_type": "markdown",
   "source": [
    "Import necessary libraries"
   ],
   "metadata": {
    "collapsed": false
   }
  },
  {
   "cell_type": "code",
   "execution_count": 1,
   "metadata": {
    "collapsed": true,
    "ExecuteTime": {
     "start_time": "2023-04-12T10:29:52.773674Z",
     "end_time": "2023-04-12T10:29:55.947269Z"
    }
   },
   "outputs": [],
   "source": [
    "import numpy as np\n",
    "import pandas as pd\n",
    "\n",
    "import matplotlib.pyplot as plt\n",
    "\n",
    "%matplotlib inline\n",
    "\n",
    "from lightfm.data import Dataset"
   ]
  },
  {
   "cell_type": "markdown",
   "source": [
    "Read dataframes"
   ],
   "metadata": {
    "collapsed": false
   }
  },
  {
   "cell_type": "code",
   "execution_count": 2,
   "outputs": [],
   "source": [
    "authors = pd.read_csv(\"../data/external/general_recs/authors.csv\", index_col=0)\n",
    "submissions = pd.read_csv(\"../data/external/general_recs/cf-cpp-submissions-wo-code.csv\", index_col=0)\n",
    "problems = pd.read_csv(\"../data/external/general_recs/final_df.csv\", index_col=0)"
   ],
   "metadata": {
    "collapsed": false,
    "ExecuteTime": {
     "start_time": "2023-04-12T10:29:55.929224Z",
     "end_time": "2023-04-12T10:30:22.317539Z"
    }
   }
  },
  {
   "cell_type": "markdown",
   "source": [
    "Drop useless column"
   ],
   "metadata": {
    "collapsed": false
   }
  },
  {
   "cell_type": "code",
   "execution_count": 3,
   "outputs": [],
   "source": [
    "authors.drop(columns=[\"full_name\"], inplace=True)"
   ],
   "metadata": {
    "collapsed": false,
    "ExecuteTime": {
     "start_time": "2023-04-12T10:30:22.348106Z",
     "end_time": "2023-04-12T10:30:22.411767Z"
    }
   }
  },
  {
   "cell_type": "markdown",
   "source": [
    "## Data Analysis"
   ],
   "metadata": {
    "collapsed": false
   }
  },
  {
   "cell_type": "code",
   "execution_count": 4,
   "outputs": [
    {
     "data": {
      "text/plain": "            author                author_url  rating rating_text     city   \n1       anubhav360       /profile/anubhav360  1199.0      newbie      NaN  \\\n2  little_waxberry  /profile/little_waxberry  2186.0      master  Nanjing   \n3  saurabhnewatiya  /profile/saurabhnewatiya  1259.0       pupil   Kanpur   \n4             mp13             /profile/mp13   929.0      newbie   Mumbai   \n5        sachi1325        /profile/sachi1325  1417.0  specialist      NaN   \n\n  country                                      organization  contribution   \n1     NaN                                               NaN           0.0  \\\n2   China                   Nanjing Foreign Language School           0.0   \n3   India  Jaypee Institute of Information Technology,Noida           0.0   \n4   India       Dwarkadas J. Sanghvi College of Engineering           0.0   \n5     NaN                                               NaN           0.0   \n\n   friend_of  rating_max rating_max_text         registered  \n1        0.0      1393.0           pupil  Aug/22/2019 15:09  \n2      191.0      2186.0          master  Mar/20/2017 02:10  \n3       34.0      1406.0      specialist  Aug/18/2018 17:31  \n4        1.0      1362.0           pupil  Nov/18/2019 13:42  \n5        2.0      1495.0      specialist  Sep/24/2010 13:48  ",
      "text/html": "<div>\n<style scoped>\n    .dataframe tbody tr th:only-of-type {\n        vertical-align: middle;\n    }\n\n    .dataframe tbody tr th {\n        vertical-align: top;\n    }\n\n    .dataframe thead th {\n        text-align: right;\n    }\n</style>\n<table border=\"1\" class=\"dataframe\">\n  <thead>\n    <tr style=\"text-align: right;\">\n      <th></th>\n      <th>author</th>\n      <th>author_url</th>\n      <th>rating</th>\n      <th>rating_text</th>\n      <th>city</th>\n      <th>country</th>\n      <th>organization</th>\n      <th>contribution</th>\n      <th>friend_of</th>\n      <th>rating_max</th>\n      <th>rating_max_text</th>\n      <th>registered</th>\n    </tr>\n  </thead>\n  <tbody>\n    <tr>\n      <th>1</th>\n      <td>anubhav360</td>\n      <td>/profile/anubhav360</td>\n      <td>1199.0</td>\n      <td>newbie</td>\n      <td>NaN</td>\n      <td>NaN</td>\n      <td>NaN</td>\n      <td>0.0</td>\n      <td>0.0</td>\n      <td>1393.0</td>\n      <td>pupil</td>\n      <td>Aug/22/2019 15:09</td>\n    </tr>\n    <tr>\n      <th>2</th>\n      <td>little_waxberry</td>\n      <td>/profile/little_waxberry</td>\n      <td>2186.0</td>\n      <td>master</td>\n      <td>Nanjing</td>\n      <td>China</td>\n      <td>Nanjing Foreign Language School</td>\n      <td>0.0</td>\n      <td>191.0</td>\n      <td>2186.0</td>\n      <td>master</td>\n      <td>Mar/20/2017 02:10</td>\n    </tr>\n    <tr>\n      <th>3</th>\n      <td>saurabhnewatiya</td>\n      <td>/profile/saurabhnewatiya</td>\n      <td>1259.0</td>\n      <td>pupil</td>\n      <td>Kanpur</td>\n      <td>India</td>\n      <td>Jaypee Institute of Information Technology,Noida</td>\n      <td>0.0</td>\n      <td>34.0</td>\n      <td>1406.0</td>\n      <td>specialist</td>\n      <td>Aug/18/2018 17:31</td>\n    </tr>\n    <tr>\n      <th>4</th>\n      <td>mp13</td>\n      <td>/profile/mp13</td>\n      <td>929.0</td>\n      <td>newbie</td>\n      <td>Mumbai</td>\n      <td>India</td>\n      <td>Dwarkadas J. Sanghvi College of Engineering</td>\n      <td>0.0</td>\n      <td>1.0</td>\n      <td>1362.0</td>\n      <td>pupil</td>\n      <td>Nov/18/2019 13:42</td>\n    </tr>\n    <tr>\n      <th>5</th>\n      <td>sachi1325</td>\n      <td>/profile/sachi1325</td>\n      <td>1417.0</td>\n      <td>specialist</td>\n      <td>NaN</td>\n      <td>NaN</td>\n      <td>NaN</td>\n      <td>0.0</td>\n      <td>2.0</td>\n      <td>1495.0</td>\n      <td>specialist</td>\n      <td>Sep/24/2010 13:48</td>\n    </tr>\n  </tbody>\n</table>\n</div>"
     },
     "execution_count": 4,
     "metadata": {},
     "output_type": "execute_result"
    }
   ],
   "source": [
    "authors.head()"
   ],
   "metadata": {
    "collapsed": false,
    "ExecuteTime": {
     "start_time": "2023-04-12T10:30:22.414157Z",
     "end_time": "2023-04-12T10:30:22.522795Z"
    }
   }
  },
  {
   "cell_type": "code",
   "execution_count": 5,
   "outputs": [
    {
     "name": "stdout",
     "output_type": "stream",
     "text": [
      "<class 'pandas.core.frame.DataFrame'>\n",
      "Index: 367083 entries, 1 to 367083\n",
      "Data columns (total 12 columns):\n",
      " #   Column           Non-Null Count   Dtype  \n",
      "---  ------           --------------   -----  \n",
      " 0   author           348473 non-null  object \n",
      " 1   author_url       348475 non-null  object \n",
      " 2   rating           341323 non-null  float64\n",
      " 3   rating_text      348475 non-null  object \n",
      " 4   city             129680 non-null  object \n",
      " 5   country          104655 non-null  object \n",
      " 6   organization     81856 non-null   object \n",
      " 7   contribution     348475 non-null  float64\n",
      " 8   friend_of        348475 non-null  float64\n",
      " 9   rating_max       341323 non-null  float64\n",
      " 10  rating_max_text  341323 non-null  object \n",
      " 11  registered       348475 non-null  object \n",
      "dtypes: float64(4), object(8)\n",
      "memory usage: 36.4+ MB\n"
     ]
    }
   ],
   "source": [
    "authors.info()"
   ],
   "metadata": {
    "collapsed": false,
    "ExecuteTime": {
     "start_time": "2023-04-12T10:33:33.692996Z",
     "end_time": "2023-04-12T10:33:33.962162Z"
    }
   }
  },
  {
   "cell_type": "code",
   "execution_count": 11,
   "outputs": [
    {
     "data": {
      "text/plain": "              rating   contribution      friend_of     rating_max\ncount  341323.000000  348475.000000  348475.000000  341323.000000\nmean     1252.809272       0.240075      12.821431    1357.588873\nstd       395.505409       4.364203     111.815511     393.694496\nmin       -47.000000    -139.000000       0.000000     346.000000\n25%       998.000000       0.000000       0.000000    1181.000000\n50%      1286.000000       0.000000       2.000000    1410.000000\n75%      1468.000000       0.000000       8.000000    1536.000000\nmax      3796.000000     196.000000   42215.000000    3979.000000",
      "text/html": "<div>\n<style scoped>\n    .dataframe tbody tr th:only-of-type {\n        vertical-align: middle;\n    }\n\n    .dataframe tbody tr th {\n        vertical-align: top;\n    }\n\n    .dataframe thead th {\n        text-align: right;\n    }\n</style>\n<table border=\"1\" class=\"dataframe\">\n  <thead>\n    <tr style=\"text-align: right;\">\n      <th></th>\n      <th>rating</th>\n      <th>contribution</th>\n      <th>friend_of</th>\n      <th>rating_max</th>\n    </tr>\n  </thead>\n  <tbody>\n    <tr>\n      <th>count</th>\n      <td>341323.000000</td>\n      <td>348475.000000</td>\n      <td>348475.000000</td>\n      <td>341323.000000</td>\n    </tr>\n    <tr>\n      <th>mean</th>\n      <td>1252.809272</td>\n      <td>0.240075</td>\n      <td>12.821431</td>\n      <td>1357.588873</td>\n    </tr>\n    <tr>\n      <th>std</th>\n      <td>395.505409</td>\n      <td>4.364203</td>\n      <td>111.815511</td>\n      <td>393.694496</td>\n    </tr>\n    <tr>\n      <th>min</th>\n      <td>-47.000000</td>\n      <td>-139.000000</td>\n      <td>0.000000</td>\n      <td>346.000000</td>\n    </tr>\n    <tr>\n      <th>25%</th>\n      <td>998.000000</td>\n      <td>0.000000</td>\n      <td>0.000000</td>\n      <td>1181.000000</td>\n    </tr>\n    <tr>\n      <th>50%</th>\n      <td>1286.000000</td>\n      <td>0.000000</td>\n      <td>2.000000</td>\n      <td>1410.000000</td>\n    </tr>\n    <tr>\n      <th>75%</th>\n      <td>1468.000000</td>\n      <td>0.000000</td>\n      <td>8.000000</td>\n      <td>1536.000000</td>\n    </tr>\n    <tr>\n      <th>max</th>\n      <td>3796.000000</td>\n      <td>196.000000</td>\n      <td>42215.000000</td>\n      <td>3979.000000</td>\n    </tr>\n  </tbody>\n</table>\n</div>"
     },
     "execution_count": 11,
     "metadata": {},
     "output_type": "execute_result"
    }
   ],
   "source": [
    "authors.describe()"
   ],
   "metadata": {
    "collapsed": false,
    "ExecuteTime": {
     "start_time": "2023-04-11T16:59:58.282036Z",
     "end_time": "2023-04-11T16:59:58.352731Z"
    }
   }
  },
  {
   "cell_type": "code",
   "execution_count": 10,
   "outputs": [
    {
     "data": {
      "text/plain": "<Axes: >"
     },
     "execution_count": 10,
     "metadata": {},
     "output_type": "execute_result"
    },
    {
     "data": {
      "text/plain": "<Figure size 640x480 with 1 Axes>",
      "image/png": "[encoded data removed]"
     },
     "metadata": {},
     "output_type": "display_data"
    }
   ],
   "source": [
    "authors.rating.hist(bins=200)"
   ],
   "metadata": {
    "collapsed": false,
    "ExecuteTime": {
     "start_time": "2023-04-12T10:39:26.027730Z",
     "end_time": "2023-04-12T10:39:26.846876Z"
    }
   }
  },
  {
   "cell_type": "code",
   "execution_count": 25,
   "outputs": [
    {
     "data": {
      "text/plain": "                  author                 author_url  rating rating_text   \n118938            gKseni            /profile/gKseni  1344.0     unrated  \\\n359738       vanwilder77       /profile/vanwilder77     NaN     unrated   \n359739      luciferajeet      /profile/luciferajeet     NaN     unrated   \n359740  gjfjisuanjisiban  /profile/gjfjisuanjisiban     NaN     unrated   \n359741         VladTkach         /profile/VladTkach     NaN     unrated   \n...                  ...                        ...     ...         ...   \n367079  marcos.junqueira  /profile/marcos.junqueira     NaN     unrated   \n367080          hubelias          /profile/hubelias     NaN     unrated   \n367081           deniz15           /profile/deniz15     NaN     unrated   \n367082  marchesin.angelo  /profile/marchesin.angelo     NaN     unrated   \n367083           mikelsv           /profile/mikelsv     NaN     unrated   \n\n             city country              organization  contribution  friend_of   \n118938    Saratov  Russia  Saratov State University          13.0      482.0  \\\n359738        NaN     NaN                       NaN           0.0        0.0   \n359739  Ghaziabad   India                       NaN           0.0        0.0   \n359740        NaN     NaN                       NaN           0.0        0.0   \n359741        NaN     NaN                       NaN           0.0        0.0   \n...           ...     ...                       ...           ...        ...   \n367079        NaN     NaN                       NaN           0.0        0.0   \n367080        NaN     NaN                       NaN           0.0        0.0   \n367081        NaN     NaN                       NaN           0.0        0.0   \n367082        NaN     NaN                       NaN           0.0        0.0   \n367083        NaN     NaN                       NaN           0.0        0.0   \n\n        rating_max rating_max_text         registered rating_text_cat  \n118938      1431.0      specialist  Nov/01/2014 23:07             NaN  \n359738         NaN             NaN  Apr/03/2012 20:41             NaN  \n359739         NaN             NaN  Aug/04/2015 21:26             NaN  \n359740         NaN             NaN  Feb/13/2015 09:09             NaN  \n359741         NaN             NaN  Apr/05/2019 19:42             NaN  \n...            ...             ...                ...             ...  \n367079         NaN             NaN  Mar/03/2021 04:40             NaN  \n367080         NaN             NaN  Oct/05/2021 20:22             NaN  \n367081         NaN             NaN  Jun/28/2015 21:20             NaN  \n367082         NaN             NaN  May/28/2019 17:12             NaN  \n367083         NaN             NaN  Sep/17/2015 22:05             NaN  \n\n[7153 rows x 13 columns]",
      "text/html": "<div>\n<style scoped>\n    .dataframe tbody tr th:only-of-type {\n        vertical-align: middle;\n    }\n\n    .dataframe tbody tr th {\n        vertical-align: top;\n    }\n\n    .dataframe thead th {\n        text-align: right;\n    }\n</style>\n<table border=\"1\" class=\"dataframe\">\n  <thead>\n    <tr style=\"text-align: right;\">\n      <th></th>\n      <th>author</th>\n      <th>author_url</th>\n      <th>rating</th>\n      <th>rating_text</th>\n      <th>city</th>\n      <th>country</th>\n      <th>organization</th>\n      <th>contribution</th>\n      <th>friend_of</th>\n      <th>rating_max</th>\n      <th>rating_max_text</th>\n      <th>registered</th>\n      <th>rating_text_cat</th>\n    </tr>\n  </thead>\n  <tbody>\n    <tr>\n      <th>118938</th>\n      <td>gKseni</td>\n      <td>/profile/gKseni</td>\n      <td>1344.0</td>\n      <td>unrated</td>\n      <td>Saratov</td>\n      <td>Russia</td>\n      <td>Saratov State University</td>\n      <td>13.0</td>\n      <td>482.0</td>\n      <td>1431.0</td>\n      <td>specialist</td>\n      <td>Nov/01/2014 23:07</td>\n      <td>NaN</td>\n    </tr>\n    <tr>\n      <th>359738</th>\n      <td>vanwilder77</td>\n      <td>/profile/vanwilder77</td>\n      <td>NaN</td>\n      <td>unrated</td>\n      <td>NaN</td>\n      <td>NaN</td>\n      <td>NaN</td>\n      <td>0.0</td>\n      <td>0.0</td>\n      <td>NaN</td>\n      <td>NaN</td>\n      <td>Apr/03/2012 20:41</td>\n      <td>NaN</td>\n    </tr>\n    <tr>\n      <th>359739</th>\n      <td>luciferajeet</td>\n      <td>/profile/luciferajeet</td>\n      <td>NaN</td>\n      <td>unrated</td>\n      <td>Ghaziabad</td>\n      <td>India</td>\n      <td>NaN</td>\n      <td>0.0</td>\n      <td>0.0</td>\n      <td>NaN</td>\n      <td>NaN</td>\n      <td>Aug/04/2015 21:26</td>\n      <td>NaN</td>\n    </tr>\n    <tr>\n      <th>359740</th>\n      <td>gjfjisuanjisiban</td>\n      <td>/profile/gjfjisuanjisiban</td>\n      <td>NaN</td>\n      <td>unrated</td>\n      <td>NaN</td>\n      <td>NaN</td>\n      <td>NaN</td>\n      <td>0.0</td>\n      <td>0.0</td>\n      <td>NaN</td>\n      <td>NaN</td>\n      <td>Feb/13/2015 09:09</td>\n      <td>NaN</td>\n    </tr>\n    <tr>\n      <th>359741</th>\n      <td>VladTkach</td>\n      <td>/profile/VladTkach</td>\n      <td>NaN</td>\n      <td>unrated</td>\n      <td>NaN</td>\n      <td>NaN</td>\n      <td>NaN</td>\n      <td>0.0</td>\n      <td>0.0</td>\n      <td>NaN</td>\n      <td>NaN</td>\n      <td>Apr/05/2019 19:42</td>\n      <td>NaN</td>\n    </tr>\n    <tr>\n      <th>...</th>\n      <td>...</td>\n      <td>...</td>\n      <td>...</td>\n      <td>...</td>\n      <td>...</td>\n      <td>...</td>\n      <td>...</td>\n      <td>...</td>\n      <td>...</td>\n      <td>...</td>\n      <td>...</td>\n      <td>...</td>\n      <td>...</td>\n    </tr>\n    <tr>\n      <th>367079</th>\n      <td>marcos.junqueira</td>\n      <td>/profile/marcos.junqueira</td>\n      <td>NaN</td>\n      <td>unrated</td>\n      <td>NaN</td>\n      <td>NaN</td>\n      <td>NaN</td>\n      <td>0.0</td>\n      <td>0.0</td>\n      <td>NaN</td>\n      <td>NaN</td>\n      <td>Mar/03/2021 04:40</td>\n      <td>NaN</td>\n    </tr>\n    <tr>\n      <th>367080</th>\n      <td>hubelias</td>\n      <td>/profile/hubelias</td>\n      <td>NaN</td>\n      <td>unrated</td>\n      <td>NaN</td>\n      <td>NaN</td>\n      <td>NaN</td>\n      <td>0.0</td>\n      <td>0.0</td>\n      <td>NaN</td>\n      <td>NaN</td>\n      <td>Oct/05/2021 20:22</td>\n      <td>NaN</td>\n    </tr>\n    <tr>\n      <th>367081</th>\n      <td>deniz15</td>\n      <td>/profile/deniz15</td>\n      <td>NaN</td>\n      <td>unrated</td>\n      <td>NaN</td>\n      <td>NaN</td>\n      <td>NaN</td>\n      <td>0.0</td>\n      <td>0.0</td>\n      <td>NaN</td>\n      <td>NaN</td>\n      <td>Jun/28/2015 21:20</td>\n      <td>NaN</td>\n    </tr>\n    <tr>\n      <th>367082</th>\n      <td>marchesin.angelo</td>\n      <td>/profile/marchesin.angelo</td>\n      <td>NaN</td>\n      <td>unrated</td>\n      <td>NaN</td>\n      <td>NaN</td>\n      <td>NaN</td>\n      <td>0.0</td>\n      <td>0.0</td>\n      <td>NaN</td>\n      <td>NaN</td>\n      <td>May/28/2019 17:12</td>\n      <td>NaN</td>\n    </tr>\n    <tr>\n      <th>367083</th>\n      <td>mikelsv</td>\n      <td>/profile/mikelsv</td>\n      <td>NaN</td>\n      <td>unrated</td>\n      <td>NaN</td>\n      <td>NaN</td>\n      <td>NaN</td>\n      <td>0.0</td>\n      <td>0.0</td>\n      <td>NaN</td>\n      <td>NaN</td>\n      <td>Sep/17/2015 22:05</td>\n      <td>NaN</td>\n    </tr>\n  </tbody>\n</table>\n<p>7153 rows × 13 columns</p>\n</div>"
     },
     "execution_count": 25,
     "metadata": {},
     "output_type": "execute_result"
    }
   ],
   "source": [
    "authors[authors.rating_text == \"unrated\"]"
   ],
   "metadata": {
    "collapsed": false,
    "ExecuteTime": {
     "start_time": "2023-04-12T10:51:59.172278Z",
     "end_time": "2023-04-12T10:51:59.260869Z"
    }
   }
  },
  {
   "cell_type": "code",
   "execution_count": 27,
   "outputs": [
    {
     "data": {
      "text/plain": "         contest_id  submission_id            author    author_url   \n45021           407        6179469  Contestant:\\nKAN  /profile/KAN  \\\n45022           407        6178468  Contestant:\\nKAN  /profile/KAN   \n88540           555       11790812  Contestant:\\nKAN  /profile/KAN   \n88541           555       11788414  Contestant:\\nKAN  /profile/KAN   \n88542           555       11798751  Contestant:\\nKAN  /profile/KAN   \n...             ...            ...               ...           ...   \n8962495         576       12932687  Contestant:\\nKAN  /profile/KAN   \n8962496         576       12931428  Contestant:\\nKAN  /profile/KAN   \n8962497         576       12935004  Contestant:\\nKAN  /profile/KAN   \n8972483         251        2702857  Contestant:\\nKAN  /profile/KAN   \n8972484         251        2704866  Contestant:\\nKAN  /profile/KAN   \n\n                       problem             problem_url   language   verdict   \n45021    407A\\r\\n         - 30  /contest/407/problem/A    GNU C++  Accepted  \\\n45022    407B\\r\\n         - 31  /contest/407/problem/B    GNU C++  Accepted   \n88540    555A\\r\\n         - 20  /contest/555/problem/A  GNU C++11  Accepted   \n88541    555B\\r\\n         - 29  /contest/555/problem/B  GNU C++11  Accepted   \n88542    555C\\r\\n         - 21  /contest/555/problem/C  GNU C++11  Accepted   \n...                        ...                     ...        ...       ...   \n8962495  576A\\r\\n         - 23  /contest/576/problem/A  GNU C++11  Accepted   \n8962496  576B\\r\\n         - 24  /contest/576/problem/B  GNU C++11  Accepted   \n8962497  576C\\r\\n         - 36  /contest/576/problem/C  GNU C++11  Accepted   \n8972483  251A\\r\\n         - 22  /contest/251/problem/A    GNU C++  Accepted   \n8972484  251C\\r\\n         - 26  /contest/251/problem/C    GNU C++  Accepted   \n\n           time     memory                 sent               judged  \n45021     15 ms       4 KB  2014-03-30 11:14:24  2014-03-30 13:03:01  \n45022     15 ms      12 KB  2014-03-30 11:07:17  2014-03-30 13:02:55  \n88540     46 ms      20 KB  2015-06-27 17:33:19  2015-06-27 19:39:03  \n88541    327 ms   22932 KB  2015-06-27 17:23:02  2015-06-27 19:34:25  \n88542    795 ms  167248 KB  2015-06-27 18:21:48  2015-06-27 19:57:54  \n...         ...        ...                  ...                  ...  \n8962495   31 ms      12 KB  2015-09-10 19:59:28  2015-09-10 22:06:02  \n8962496   62 ms    2568 KB  2015-09-10 19:52:52  2015-09-10 22:00:29  \n8962497  607 ms   40644 KB  2015-09-10 20:12:49  2015-09-10 22:14:35  \n8972483   78 ms     396 KB  2012-12-06 19:52:13  2012-12-06 22:11:05  \n8972484  203 ms    1568 KB  2012-12-06 20:16:11  2012-12-06 22:32:29  \n\n[362 rows x 12 columns]",
      "text/html": "<div>\n<style scoped>\n    .dataframe tbody tr th:only-of-type {\n        vertical-align: middle;\n    }\n\n    .dataframe tbody tr th {\n        vertical-align: top;\n    }\n\n    .dataframe thead th {\n        text-align: right;\n    }\n</style>\n<table border=\"1\" class=\"dataframe\">\n  <thead>\n    <tr style=\"text-align: right;\">\n      <th></th>\n      <th>contest_id</th>\n      <th>submission_id</th>\n      <th>author</th>\n      <th>author_url</th>\n      <th>problem</th>\n      <th>problem_url</th>\n      <th>language</th>\n      <th>verdict</th>\n      <th>time</th>\n      <th>memory</th>\n      <th>sent</th>\n      <th>judged</th>\n    </tr>\n  </thead>\n  <tbody>\n    <tr>\n      <th>45021</th>\n      <td>407</td>\n      <td>6179469</td>\n      <td>Contestant:\\nKAN</td>\n      <td>/profile/KAN</td>\n      <td>407A\\r\\n         - 30</td>\n      <td>/contest/407/problem/A</td>\n      <td>GNU C++</td>\n      <td>Accepted</td>\n      <td>15 ms</td>\n      <td>4 KB</td>\n      <td>2014-03-30 11:14:24</td>\n      <td>2014-03-30 13:03:01</td>\n    </tr>\n    <tr>\n      <th>45022</th>\n      <td>407</td>\n      <td>6178468</td>\n      <td>Contestant:\\nKAN</td>\n      <td>/profile/KAN</td>\n      <td>407B\\r\\n         - 31</td>\n      <td>/contest/407/problem/B</td>\n      <td>GNU C++</td>\n      <td>Accepted</td>\n      <td>15 ms</td>\n      <td>12 KB</td>\n      <td>2014-03-30 11:07:17</td>\n      <td>2014-03-30 13:02:55</td>\n    </tr>\n    <tr>\n      <th>88540</th>\n      <td>555</td>\n      <td>11790812</td>\n      <td>Contestant:\\nKAN</td>\n      <td>/profile/KAN</td>\n      <td>555A\\r\\n         - 20</td>\n      <td>/contest/555/problem/A</td>\n      <td>GNU C++11</td>\n      <td>Accepted</td>\n      <td>46 ms</td>\n      <td>20 KB</td>\n      <td>2015-06-27 17:33:19</td>\n      <td>2015-06-27 19:39:03</td>\n    </tr>\n    <tr>\n      <th>88541</th>\n      <td>555</td>\n      <td>11788414</td>\n      <td>Contestant:\\nKAN</td>\n      <td>/profile/KAN</td>\n      <td>555B\\r\\n         - 29</td>\n      <td>/contest/555/problem/B</td>\n      <td>GNU C++11</td>\n      <td>Accepted</td>\n      <td>327 ms</td>\n      <td>22932 KB</td>\n      <td>2015-06-27 17:23:02</td>\n      <td>2015-06-27 19:34:25</td>\n    </tr>\n    <tr>\n      <th>88542</th>\n      <td>555</td>\n      <td>11798751</td>\n      <td>Contestant:\\nKAN</td>\n      <td>/profile/KAN</td>\n      <td>555C\\r\\n         - 21</td>\n      <td>/contest/555/problem/C</td>\n      <td>GNU C++11</td>\n      <td>Accepted</td>\n      <td>795 ms</td>\n      <td>167248 KB</td>\n      <td>2015-06-27 18:21:48</td>\n      <td>2015-06-27 19:57:54</td>\n    </tr>\n    <tr>\n      <th>...</th>\n      <td>...</td>\n      <td>...</td>\n      <td>...</td>\n      <td>...</td>\n      <td>...</td>\n      <td>...</td>\n      <td>...</td>\n      <td>...</td>\n      <td>...</td>\n      <td>...</td>\n      <td>...</td>\n      <td>...</td>\n    </tr>\n    <tr>\n      <th>8962495</th>\n      <td>576</td>\n      <td>12932687</td>\n      <td>Contestant:\\nKAN</td>\n      <td>/profile/KAN</td>\n      <td>576A\\r\\n         - 23</td>\n      <td>/contest/576/problem/A</td>\n      <td>GNU C++11</td>\n      <td>Accepted</td>\n      <td>31 ms</td>\n      <td>12 KB</td>\n      <td>2015-09-10 19:59:28</td>\n      <td>2015-09-10 22:06:02</td>\n    </tr>\n    <tr>\n      <th>8962496</th>\n      <td>576</td>\n      <td>12931428</td>\n      <td>Contestant:\\nKAN</td>\n      <td>/profile/KAN</td>\n      <td>576B\\r\\n         - 24</td>\n      <td>/contest/576/problem/B</td>\n      <td>GNU C++11</td>\n      <td>Accepted</td>\n      <td>62 ms</td>\n      <td>2568 KB</td>\n      <td>2015-09-10 19:52:52</td>\n      <td>2015-09-10 22:00:29</td>\n    </tr>\n    <tr>\n      <th>8962497</th>\n      <td>576</td>\n      <td>12935004</td>\n      <td>Contestant:\\nKAN</td>\n      <td>/profile/KAN</td>\n      <td>576C\\r\\n         - 36</td>\n      <td>/contest/576/problem/C</td>\n      <td>GNU C++11</td>\n      <td>Accepted</td>\n      <td>607 ms</td>\n      <td>40644 KB</td>\n      <td>2015-09-10 20:12:49</td>\n      <td>2015-09-10 22:14:35</td>\n    </tr>\n    <tr>\n      <th>8972483</th>\n      <td>251</td>\n      <td>2702857</td>\n      <td>Contestant:\\nKAN</td>\n      <td>/profile/KAN</td>\n      <td>251A\\r\\n         - 22</td>\n      <td>/contest/251/problem/A</td>\n      <td>GNU C++</td>\n      <td>Accepted</td>\n      <td>78 ms</td>\n      <td>396 KB</td>\n      <td>2012-12-06 19:52:13</td>\n      <td>2012-12-06 22:11:05</td>\n    </tr>\n    <tr>\n      <th>8972484</th>\n      <td>251</td>\n      <td>2704866</td>\n      <td>Contestant:\\nKAN</td>\n      <td>/profile/KAN</td>\n      <td>251C\\r\\n         - 26</td>\n      <td>/contest/251/problem/C</td>\n      <td>GNU C++</td>\n      <td>Accepted</td>\n      <td>203 ms</td>\n      <td>1568 KB</td>\n      <td>2012-12-06 20:16:11</td>\n      <td>2012-12-06 22:32:29</td>\n    </tr>\n  </tbody>\n</table>\n<p>362 rows × 12 columns</p>\n</div>"
     },
     "execution_count": 27,
     "metadata": {},
     "output_type": "execute_result"
    }
   ],
   "source": [
    "submissions[submissions.author_url.isin(authors[authors.rating_text == \"headquarters\"].author_url)]"
   ],
   "metadata": {
    "collapsed": false,
    "ExecuteTime": {
     "start_time": "2023-04-12T10:53:36.059629Z",
     "end_time": "2023-04-12T10:53:36.342061Z"
    }
   }
  },
  {
   "cell_type": "code",
   "execution_count": 28,
   "outputs": [
    {
     "data": {
      "text/plain": "               author              author_url  rating   rating_text   \n4876              KAN            /profile/KAN  3014.0  headquarters  \\\n104089  geranazavr555  /profile/geranazavr555  1772.0  headquarters   \n\n                   city country                             organization   \n4876    Nizhny Novgorod  Russia  Institute of Applied Physics of the RAS  \\\n104089        Stavropol  Russia                                    Poisk   \n\n        contribution  friend_of  rating_max        rating_max_text   \n4876            49.0     1783.0      3025.0  legendary grandmaster  \\\n104089         144.0      289.0      1864.0                 expert   \n\n               registered rating_text_cat  \n4876    Jun/16/2011 14:43             NaN  \n104089  Aug/06/2014 12:19             NaN  ",
      "text/html": "<div>\n<style scoped>\n    .dataframe tbody tr th:only-of-type {\n        vertical-align: middle;\n    }\n\n    .dataframe tbody tr th {\n        vertical-align: top;\n    }\n\n    .dataframe thead th {\n        text-align: right;\n    }\n</style>\n<table border=\"1\" class=\"dataframe\">\n  <thead>\n    <tr style=\"text-align: right;\">\n      <th></th>\n      <th>author</th>\n      <th>author_url</th>\n      <th>rating</th>\n      <th>rating_text</th>\n      <th>city</th>\n      <th>country</th>\n      <th>organization</th>\n      <th>contribution</th>\n      <th>friend_of</th>\n      <th>rating_max</th>\n      <th>rating_max_text</th>\n      <th>registered</th>\n      <th>rating_text_cat</th>\n    </tr>\n  </thead>\n  <tbody>\n    <tr>\n      <th>4876</th>\n      <td>KAN</td>\n      <td>/profile/KAN</td>\n      <td>3014.0</td>\n      <td>headquarters</td>\n      <td>Nizhny Novgorod</td>\n      <td>Russia</td>\n      <td>Institute of Applied Physics of the RAS</td>\n      <td>49.0</td>\n      <td>1783.0</td>\n      <td>3025.0</td>\n      <td>legendary grandmaster</td>\n      <td>Jun/16/2011 14:43</td>\n      <td>NaN</td>\n    </tr>\n    <tr>\n      <th>104089</th>\n      <td>geranazavr555</td>\n      <td>/profile/geranazavr555</td>\n      <td>1772.0</td>\n      <td>headquarters</td>\n      <td>Stavropol</td>\n      <td>Russia</td>\n      <td>Poisk</td>\n      <td>144.0</td>\n      <td>289.0</td>\n      <td>1864.0</td>\n      <td>expert</td>\n      <td>Aug/06/2014 12:19</td>\n      <td>NaN</td>\n    </tr>\n  </tbody>\n</table>\n</div>"
     },
     "execution_count": 28,
     "metadata": {},
     "output_type": "execute_result"
    }
   ],
   "source": [
    "authors[authors.rating_text == \"headquarters\"]"
   ],
   "metadata": {
    "collapsed": false,
    "ExecuteTime": {
     "start_time": "2023-04-12T10:54:13.740064Z",
     "end_time": "2023-04-12T10:54:13.822138Z"
    }
   }
  },
  {
   "cell_type": "code",
   "execution_count": 24,
   "outputs": [
    {
     "data": {
      "text/plain": "array(['newbie', 'master', 'pupil', 'specialist', 'expert', nan,\n       'candidate master', 'international master', 'grandmaster',\n       'legendary grandmaster', 'international grandmaster',\n       'headquarters', 'unrated'], dtype=object)"
     },
     "execution_count": 24,
     "metadata": {},
     "output_type": "execute_result"
    }
   ],
   "source": [
    "authors.rating_text.unique()"
   ],
   "metadata": {
    "collapsed": false,
    "ExecuteTime": {
     "start_time": "2023-04-12T10:51:06.366552Z",
     "end_time": "2023-04-12T10:51:06.383948Z"
    }
   }
  },
  {
   "cell_type": "code",
   "execution_count": 47,
   "outputs": [],
   "source": [
    "from pandas.api.types import CategoricalDtype\n",
    "\n",
    "cat_type = CategoricalDtype(\n",
    "    categories=[\"unrated\", \"newbie\", \"pupil\", \"specialist\", \"expert\", \"candidate master\", \"master\",\n",
    "                \"international master\",\n",
    "                \"grandmaster\", \"international grandmaster\", \"legendary grandmaster\", \"headquarters\"], ordered=True)"
   ],
   "metadata": {
    "collapsed": false,
    "ExecuteTime": {
     "start_time": "2023-04-12T10:58:12.235888Z",
     "end_time": "2023-04-12T10:58:12.303798Z"
    }
   }
  },
  {
   "cell_type": "code",
   "execution_count": 49,
   "outputs": [],
   "source": [
    "authors[\"rating_text_cat\"] = authors.rating_text.astype(cat_type)"
   ],
   "metadata": {
    "collapsed": false,
    "ExecuteTime": {
     "start_time": "2023-04-12T10:58:34.660533Z",
     "end_time": "2023-04-12T10:58:34.719555Z"
    }
   }
  },
  {
   "cell_type": "code",
   "execution_count": 54,
   "outputs": [],
   "source": [
    "authors[\"rating_max_text_cat\"] = authors.rating_max_text.astype(cat_type)"
   ],
   "metadata": {
    "collapsed": false,
    "ExecuteTime": {
     "start_time": "2023-04-12T11:00:37.813356Z",
     "end_time": "2023-04-12T11:00:37.908866Z"
    }
   }
  },
  {
   "cell_type": "code",
   "execution_count": 55,
   "outputs": [
    {
     "data": {
      "text/plain": "array(['/profile/PinkieDashForever', '/profile/cjtoribio',\n       '/profile/miraliv', ..., '/profile/JLFPP', '/profile/lijunjin',\n       '/profile/Aidana88888'], dtype=object)"
     },
     "execution_count": 55,
     "metadata": {},
     "output_type": "execute_result"
    }
   ],
   "source": [
    "submissions.author_url.unique()"
   ],
   "metadata": {
    "collapsed": false,
    "ExecuteTime": {
     "start_time": "2023-04-12T11:00:39.689418Z",
     "end_time": "2023-04-12T11:00:40.541011Z"
    }
   }
  },
  {
   "cell_type": "code",
   "execution_count": 56,
   "outputs": [],
   "source": [
    "authors_active = authors[authors.author_url.isin(submissions.author_url.unique())]"
   ],
   "metadata": {
    "collapsed": false,
    "ExecuteTime": {
     "start_time": "2023-04-12T11:00:40.653853Z",
     "end_time": "2023-04-12T11:00:41.721321Z"
    }
   }
  },
  {
   "cell_type": "code",
   "execution_count": 57,
   "outputs": [
    {
     "data": {
      "text/plain": "array(['/profile/anubhav360', '/profile/little_waxberry',\n       '/profile/saurabhnewatiya', ..., '/profile/levdmit-nn',\n       '/profile/adumrewal', '/profile/mikelsv'], dtype=object)"
     },
     "execution_count": 57,
     "metadata": {},
     "output_type": "execute_result"
    }
   ],
   "source": [
    "authors_active.author_url.unique()"
   ],
   "metadata": {
    "collapsed": false,
    "ExecuteTime": {
     "start_time": "2023-04-12T11:00:41.732978Z",
     "end_time": "2023-04-12T11:00:41.784898Z"
    }
   }
  },
  {
   "cell_type": "code",
   "execution_count": 58,
   "outputs": [
    {
     "data": {
      "text/plain": "            author                author_url  rating rating_text     city   \n1       anubhav360       /profile/anubhav360  1199.0      newbie      NaN  \\\n2  little_waxberry  /profile/little_waxberry  2186.0      master  Nanjing   \n3  saurabhnewatiya  /profile/saurabhnewatiya  1259.0       pupil   Kanpur   \n4             mp13             /profile/mp13   929.0      newbie   Mumbai   \n5        sachi1325        /profile/sachi1325  1417.0  specialist      NaN   \n\n  country                                      organization  contribution   \n1     NaN                                               NaN           0.0  \\\n2   China                   Nanjing Foreign Language School           0.0   \n3   India  Jaypee Institute of Information Technology,Noida           0.0   \n4   India       Dwarkadas J. Sanghvi College of Engineering           0.0   \n5     NaN                                               NaN           0.0   \n\n   friend_of  rating_max rating_max_text         registered rating_text_cat   \n1        0.0      1393.0           pupil  Aug/22/2019 15:09          newbie  \\\n2      191.0      2186.0          master  Mar/20/2017 02:10          master   \n3       34.0      1406.0      specialist  Aug/18/2018 17:31           pupil   \n4        1.0      1362.0           pupil  Nov/18/2019 13:42          newbie   \n5        2.0      1495.0      specialist  Sep/24/2010 13:48      specialist   \n\n  rating_max_text_cat  \n1               pupil  \n2              master  \n3          specialist  \n4               pupil  \n5          specialist  ",
      "text/html": "<div>\n<style scoped>\n    .dataframe tbody tr th:only-of-type {\n        vertical-align: middle;\n    }\n\n    .dataframe tbody tr th {\n        vertical-align: top;\n    }\n\n    .dataframe thead th {\n        text-align: right;\n    }\n</style>\n<table border=\"1\" class=\"dataframe\">\n  <thead>\n    <tr style=\"text-align: right;\">\n      <th></th>\n      <th>author</th>\n      <th>author_url</th>\n      <th>rating</th>\n      <th>rating_text</th>\n      <th>city</th>\n      <th>country</th>\n      <th>organization</th>\n      <th>contribution</th>\n      <th>friend_of</th>\n      <th>rating_max</th>\n      <th>rating_max_text</th>\n      <th>registered</th>\n      <th>rating_text_cat</th>\n      <th>rating_max_text_cat</th>\n    </tr>\n  </thead>\n  <tbody>\n    <tr>\n      <th>1</th>\n      <td>anubhav360</td>\n      <td>/profile/anubhav360</td>\n      <td>1199.0</td>\n      <td>newbie</td>\n      <td>NaN</td>\n      <td>NaN</td>\n      <td>NaN</td>\n      <td>0.0</td>\n      <td>0.0</td>\n      <td>1393.0</td>\n      <td>pupil</td>\n      <td>Aug/22/2019 15:09</td>\n      <td>newbie</td>\n      <td>pupil</td>\n    </tr>\n    <tr>\n      <th>2</th>\n      <td>little_waxberry</td>\n      <td>/profile/little_waxberry</td>\n      <td>2186.0</td>\n      <td>master</td>\n      <td>Nanjing</td>\n      <td>China</td>\n      <td>Nanjing Foreign Language School</td>\n      <td>0.0</td>\n      <td>191.0</td>\n      <td>2186.0</td>\n      <td>master</td>\n      <td>Mar/20/2017 02:10</td>\n      <td>master</td>\n      <td>master</td>\n    </tr>\n    <tr>\n      <th>3</th>\n      <td>saurabhnewatiya</td>\n      <td>/profile/saurabhnewatiya</td>\n      <td>1259.0</td>\n      <td>pupil</td>\n      <td>Kanpur</td>\n      <td>India</td>\n      <td>Jaypee Institute of Information Technology,Noida</td>\n      <td>0.0</td>\n      <td>34.0</td>\n      <td>1406.0</td>\n      <td>specialist</td>\n      <td>Aug/18/2018 17:31</td>\n      <td>pupil</td>\n      <td>specialist</td>\n    </tr>\n    <tr>\n      <th>4</th>\n      <td>mp13</td>\n      <td>/profile/mp13</td>\n      <td>929.0</td>\n      <td>newbie</td>\n      <td>Mumbai</td>\n      <td>India</td>\n      <td>Dwarkadas J. Sanghvi College of Engineering</td>\n      <td>0.0</td>\n      <td>1.0</td>\n      <td>1362.0</td>\n      <td>pupil</td>\n      <td>Nov/18/2019 13:42</td>\n      <td>newbie</td>\n      <td>pupil</td>\n    </tr>\n    <tr>\n      <th>5</th>\n      <td>sachi1325</td>\n      <td>/profile/sachi1325</td>\n      <td>1417.0</td>\n      <td>specialist</td>\n      <td>NaN</td>\n      <td>NaN</td>\n      <td>NaN</td>\n      <td>0.0</td>\n      <td>2.0</td>\n      <td>1495.0</td>\n      <td>specialist</td>\n      <td>Sep/24/2010 13:48</td>\n      <td>specialist</td>\n      <td>specialist</td>\n    </tr>\n  </tbody>\n</table>\n</div>"
     },
     "execution_count": 58,
     "metadata": {},
     "output_type": "execute_result"
    }
   ],
   "source": [
    "authors_active.head()"
   ],
   "metadata": {
    "collapsed": false,
    "ExecuteTime": {
     "start_time": "2023-04-12T11:00:52.787632Z",
     "end_time": "2023-04-12T11:00:52.850386Z"
    }
   }
  },
  {
   "cell_type": "code",
   "execution_count": 59,
   "outputs": [
    {
     "data": {
      "text/plain": "   contest_id index             problem_url  level_0   \n0         325     A  /contest/325/problem/A   7149.0  \\\n1         325     B  /contest/325/problem/B   7148.0   \n2         325     C  /contest/325/problem/C   7147.0   \n3         325     D  /contest/325/problem/D   7146.0   \n4         325     E  /contest/325/problem/E   7145.0   \n\n                       name  points   \n0  Квадрат и прямоугольники   500.0  \\\n1            Стадион и игры  1000.0   \n2      Монстры и бриллианты  2000.0   \n3     Царство и государство  2000.0   \n4        Тропинки и полянки  2500.0   \n\n                                                tags              tag_ids   \n0                                 ['implementation']                 [23]  \\\n1                          ['binary search', 'math']              [3, 25]   \n2    ['dfs and similar', 'graphs', 'shortest paths']         [10, 20, 31]   \n3                                            ['dsu']                 [13]   \n4  ['combinatorics', 'dfs and similar', 'dsu', 'g...  [7, 10, 13, 20, 21]   \n\n   rating  \n0  1500.0  \n1  1800.0  \n2  2600.0  \n3  2900.0  \n4  2800.0  ",
      "text/html": "<div>\n<style scoped>\n    .dataframe tbody tr th:only-of-type {\n        vertical-align: middle;\n    }\n\n    .dataframe tbody tr th {\n        vertical-align: top;\n    }\n\n    .dataframe thead th {\n        text-align: right;\n    }\n</style>\n<table border=\"1\" class=\"dataframe\">\n  <thead>\n    <tr style=\"text-align: right;\">\n      <th></th>\n      <th>contest_id</th>\n      <th>index</th>\n      <th>problem_url</th>\n      <th>level_0</th>\n      <th>name</th>\n      <th>points</th>\n      <th>tags</th>\n      <th>tag_ids</th>\n      <th>rating</th>\n    </tr>\n  </thead>\n  <tbody>\n    <tr>\n      <th>0</th>\n      <td>325</td>\n      <td>A</td>\n      <td>/contest/325/problem/A</td>\n      <td>7149.0</td>\n      <td>Квадрат и прямоугольники</td>\n      <td>500.0</td>\n      <td>['implementation']</td>\n      <td>[23]</td>\n      <td>1500.0</td>\n    </tr>\n    <tr>\n      <th>1</th>\n      <td>325</td>\n      <td>B</td>\n      <td>/contest/325/problem/B</td>\n      <td>7148.0</td>\n      <td>Стадион и игры</td>\n      <td>1000.0</td>\n      <td>['binary search', 'math']</td>\n      <td>[3, 25]</td>\n      <td>1800.0</td>\n    </tr>\n    <tr>\n      <th>2</th>\n      <td>325</td>\n      <td>C</td>\n      <td>/contest/325/problem/C</td>\n      <td>7147.0</td>\n      <td>Монстры и бриллианты</td>\n      <td>2000.0</td>\n      <td>['dfs and similar', 'graphs', 'shortest paths']</td>\n      <td>[10, 20, 31]</td>\n      <td>2600.0</td>\n    </tr>\n    <tr>\n      <th>3</th>\n      <td>325</td>\n      <td>D</td>\n      <td>/contest/325/problem/D</td>\n      <td>7146.0</td>\n      <td>Царство и государство</td>\n      <td>2000.0</td>\n      <td>['dsu']</td>\n      <td>[13]</td>\n      <td>2900.0</td>\n    </tr>\n    <tr>\n      <th>4</th>\n      <td>325</td>\n      <td>E</td>\n      <td>/contest/325/problem/E</td>\n      <td>7145.0</td>\n      <td>Тропинки и полянки</td>\n      <td>2500.0</td>\n      <td>['combinatorics', 'dfs and similar', 'dsu', 'g...</td>\n      <td>[7, 10, 13, 20, 21]</td>\n      <td>2800.0</td>\n    </tr>\n  </tbody>\n</table>\n</div>"
     },
     "execution_count": 59,
     "metadata": {},
     "output_type": "execute_result"
    }
   ],
   "source": [
    "problems.head()"
   ],
   "metadata": {
    "collapsed": false,
    "ExecuteTime": {
     "start_time": "2023-04-12T11:01:48.438916Z",
     "end_time": "2023-04-12T11:01:48.489153Z"
    }
   }
  },
  {
   "cell_type": "code",
   "execution_count": 61,
   "outputs": [
    {
     "data": {
      "text/plain": "index\nA     1647\nB     1626\nC     1599\nD     1550\nE     1538\n      ... \nU        1\nT        1\nS        1\nA6       1\nU3       1\nName: count, Length: 73, dtype: int64"
     },
     "execution_count": 61,
     "metadata": {},
     "output_type": "execute_result"
    }
   ],
   "source": [
    "problems[\"index\"].value_counts()"
   ],
   "metadata": {
    "collapsed": false,
    "ExecuteTime": {
     "start_time": "2023-04-12T11:02:21.600705Z",
     "end_time": "2023-04-12T11:02:21.671499Z"
    }
   }
  },
  {
   "cell_type": "code",
   "execution_count": 67,
   "outputs": [
    {
     "data": {
      "text/plain": "3500.0"
     },
     "execution_count": 67,
     "metadata": {},
     "output_type": "execute_result"
    }
   ],
   "source": [
    "problems.rating.max()"
   ],
   "metadata": {
    "collapsed": false,
    "ExecuteTime": {
     "start_time": "2023-04-12T11:12:15.910147Z",
     "end_time": "2023-04-12T11:12:15.944087Z"
    }
   }
  },
  {
   "cell_type": "code",
   "execution_count": 81,
   "outputs": [
    {
     "data": {
      "text/plain": "<Axes: >"
     },
     "execution_count": 81,
     "metadata": {},
     "output_type": "execute_result"
    },
    {
     "data": {
      "text/plain": "<Figure size 640x480 with 1 Axes>",
      "image/png": "[encoded data removed]"
     },
     "metadata": {},
     "output_type": "display_data"
    }
   ],
   "source": [
    "problems.rating.hist(bins=[800, 1200, 1600, 1900, 2200, 2500, 3000, 3500])"
   ],
   "metadata": {
    "collapsed": false,
    "ExecuteTime": {
     "start_time": "2023-04-12T11:14:52.742230Z",
     "end_time": "2023-04-12T11:14:52.952282Z"
    }
   }
  },
  {
   "cell_type": "code",
   "execution_count": 82,
   "outputs": [],
   "source": [
    "problems[\"filled_rating\"] = problems.apply(lambda row: row.rating if not row.rating != row.rating else problems[\n",
    "    problems.rating.notna() & (problems[\"index\"].str.slice(stop=1) == row[\"index\"][:1])].rating.median(), axis=1)"
   ],
   "metadata": {
    "collapsed": false,
    "ExecuteTime": {
     "start_time": "2023-04-12T11:16:33.719473Z",
     "end_time": "2023-04-12T11:16:34.945827Z"
    }
   }
  },
  {
   "cell_type": "code",
   "execution_count": 101,
   "outputs": [
    {
     "data": {
      "text/plain": "<Axes: >"
     },
     "execution_count": 101,
     "metadata": {},
     "output_type": "execute_result"
    },
    {
     "data": {
      "text/plain": "<Figure size 640x480 with 1 Axes>",
      "image/png": "[encoded data removed]"
     },
     "metadata": {},
     "output_type": "display_data"
    }
   ],
   "source": [
    "problems.filled_rating.hist(bins=[800, 1200, 1600, 1900, 2200, 2500, 2900, 3500])"
   ],
   "metadata": {
    "collapsed": false,
    "ExecuteTime": {
     "start_time": "2023-04-12T11:30:00.913907Z",
     "end_time": "2023-04-12T11:30:01.090450Z"
    }
   }
  },
  {
   "cell_type": "code",
   "execution_count": null,
   "outputs": [],
   "source": [
    "problems.rating_labels"
   ],
   "metadata": {
    "collapsed": false
   }
  },
  {
   "cell_type": "code",
   "execution_count": 105,
   "outputs": [],
   "source": [
    "problems[\"rating_labels\"] = pd.cut(problems.filled_rating, bins=[799, 1199, 1599, 1899, 2199, 2499, 2899, 3501],\n",
    "       labels=[\"newbie\", \"student\", \"expert\", \"master\", \"international master\", \"grandmaster\", \"legendary grandmaster\"])"
   ],
   "metadata": {
    "collapsed": false,
    "ExecuteTime": {
     "start_time": "2023-04-12T11:31:42.218225Z",
     "end_time": "2023-04-12T11:31:42.314323Z"
    }
   }
  },
  {
   "cell_type": "code",
   "execution_count": 111,
   "outputs": [
    {
     "name": "stdout",
     "output_type": "stream",
     "text": [
      "      contest_id index              problem_url  level_0 name  points tags   \n",
      "4623        1164     S  /contest/1164/problem/S      NaN  NaN     NaN   []  \\\n",
      "4624        1164     T  /contest/1164/problem/T      NaN  NaN     NaN   []   \n",
      "\n",
      "     tag_ids  rating  filled_rating rating_labels  \n",
      "4623     NaN     NaN            NaN           NaN  \n",
      "4624     NaN     NaN            NaN           NaN  \n"
     ]
    }
   ],
   "source": [
    "print(problems[problems.rating_labels.isna()])"
   ],
   "metadata": {
    "collapsed": false,
    "ExecuteTime": {
     "start_time": "2023-04-12T11:33:11.874572Z",
     "end_time": "2023-04-12T11:33:11.921289Z"
    }
   }
  },
  {
   "cell_type": "markdown",
   "source": [
    "## Building the dataset"
   ],
   "metadata": {
    "collapsed": false
   }
  },
  {
   "cell_type": "markdown",
   "source": [
    "### Add users and items"
   ],
   "metadata": {
    "collapsed": false
   }
  },
  {
   "cell_type": "code",
   "execution_count": null,
   "outputs": [],
   "source": [],
   "metadata": {
    "collapsed": false
   }
  },
  {
   "cell_type": "code",
   "execution_count": 112,
   "outputs": [],
   "source": [
    "ds = Dataset()\n",
    "\n"
   ],
   "metadata": {
    "collapsed": false,
    "ExecuteTime": {
     "start_time": "2023-04-12T12:11:31.490920Z",
     "end_time": "2023-04-12T12:11:31.588647Z"
    }
   }
  },
  {
   "cell_type": "code",
   "execution_count": 113,
   "outputs": [
    {
     "data": {
      "text/plain": "   contest_id index             problem_url  level_0   \n0         325     A  /contest/325/problem/A   7149.0  \\\n1         325     B  /contest/325/problem/B   7148.0   \n2         325     C  /contest/325/problem/C   7147.0   \n3         325     D  /contest/325/problem/D   7146.0   \n4         325     E  /contest/325/problem/E   7145.0   \n\n                       name  points   \n0  Квадрат и прямоугольники   500.0  \\\n1            Стадион и игры  1000.0   \n2      Монстры и бриллианты  2000.0   \n3     Царство и государство  2000.0   \n4        Тропинки и полянки  2500.0   \n\n                                                tags              tag_ids   \n0                                 ['implementation']                 [23]  \\\n1                          ['binary search', 'math']              [3, 25]   \n2    ['dfs and similar', 'graphs', 'shortest paths']         [10, 20, 31]   \n3                                            ['dsu']                 [13]   \n4  ['combinatorics', 'dfs and similar', 'dsu', 'g...  [7, 10, 13, 20, 21]   \n\n   rating  filled_rating          rating_labels  \n0  1500.0         1500.0                student  \n1  1800.0         1800.0                 expert  \n2  2600.0         2600.0            grandmaster  \n3  2900.0         2900.0  legendary grandmaster  \n4  2800.0         2800.0            grandmaster  ",
      "text/html": "<div>\n<style scoped>\n    .dataframe tbody tr th:only-of-type {\n        vertical-align: middle;\n    }\n\n    .dataframe tbody tr th {\n        vertical-align: top;\n    }\n\n    .dataframe thead th {\n        text-align: right;\n    }\n</style>\n<table border=\"1\" class=\"dataframe\">\n  <thead>\n    <tr style=\"text-align: right;\">\n      <th></th>\n      <th>contest_id</th>\n      <th>index</th>\n      <th>problem_url</th>\n      <th>level_0</th>\n      <th>name</th>\n      <th>points</th>\n      <th>tags</th>\n      <th>tag_ids</th>\n      <th>rating</th>\n      <th>filled_rating</th>\n      <th>rating_labels</th>\n    </tr>\n  </thead>\n  <tbody>\n    <tr>\n      <th>0</th>\n      <td>325</td>\n      <td>A</td>\n      <td>/contest/325/problem/A</td>\n      <td>7149.0</td>\n      <td>Квадрат и прямоугольники</td>\n      <td>500.0</td>\n      <td>['implementation']</td>\n      <td>[23]</td>\n      <td>1500.0</td>\n      <td>1500.0</td>\n      <td>student</td>\n    </tr>\n    <tr>\n      <th>1</th>\n      <td>325</td>\n      <td>B</td>\n      <td>/contest/325/problem/B</td>\n      <td>7148.0</td>\n      <td>Стадион и игры</td>\n      <td>1000.0</td>\n      <td>['binary search', 'math']</td>\n      <td>[3, 25]</td>\n      <td>1800.0</td>\n      <td>1800.0</td>\n      <td>expert</td>\n    </tr>\n    <tr>\n      <th>2</th>\n      <td>325</td>\n      <td>C</td>\n      <td>/contest/325/problem/C</td>\n      <td>7147.0</td>\n      <td>Монстры и бриллианты</td>\n      <td>2000.0</td>\n      <td>['dfs and similar', 'graphs', 'shortest paths']</td>\n      <td>[10, 20, 31]</td>\n      <td>2600.0</td>\n      <td>2600.0</td>\n      <td>grandmaster</td>\n    </tr>\n    <tr>\n      <th>3</th>\n      <td>325</td>\n      <td>D</td>\n      <td>/contest/325/problem/D</td>\n      <td>7146.0</td>\n      <td>Царство и государство</td>\n      <td>2000.0</td>\n      <td>['dsu']</td>\n      <td>[13]</td>\n      <td>2900.0</td>\n      <td>2900.0</td>\n      <td>legendary grandmaster</td>\n    </tr>\n    <tr>\n      <th>4</th>\n      <td>325</td>\n      <td>E</td>\n      <td>/contest/325/problem/E</td>\n      <td>7145.0</td>\n      <td>Тропинки и полянки</td>\n      <td>2500.0</td>\n      <td>['combinatorics', 'dfs and similar', 'dsu', 'g...</td>\n      <td>[7, 10, 13, 20, 21]</td>\n      <td>2800.0</td>\n      <td>2800.0</td>\n      <td>grandmaster</td>\n    </tr>\n  </tbody>\n</table>\n</div>"
     },
     "execution_count": 113,
     "metadata": {},
     "output_type": "execute_result"
    }
   ],
   "source": [
    "problems.head()"
   ],
   "metadata": {
    "collapsed": false,
    "ExecuteTime": {
     "start_time": "2023-04-12T12:11:34.084942Z",
     "end_time": "2023-04-12T12:11:34.197843Z"
    }
   }
  },
  {
   "cell_type": "markdown",
   "source": [
    "Add even more problems"
   ],
   "metadata": {
    "collapsed": false
   }
  },
  {
   "cell_type": "code",
   "execution_count": 114,
   "outputs": [
    {
     "data": {
      "text/plain": "(0, 0)"
     },
     "execution_count": 114,
     "metadata": {},
     "output_type": "execute_result"
    }
   ],
   "source": [
    "ds.interactions_shape()"
   ],
   "metadata": {
    "collapsed": false,
    "ExecuteTime": {
     "start_time": "2023-04-12T12:11:38.620600Z",
     "end_time": "2023-04-12T12:11:38.751521Z"
    }
   }
  },
  {
   "cell_type": "markdown",
   "source": [
    "### Add features"
   ],
   "metadata": {
    "collapsed": false
   }
  },
  {
   "cell_type": "markdown",
   "source": [
    "#### Fill N/A"
   ],
   "metadata": {
    "collapsed": false
   }
  },
  {
   "cell_type": "code",
   "execution_count": 114,
   "outputs": [
    {
     "data": {
      "text/plain": "(2000.0, 2078.8929440389293)"
     },
     "execution_count": 114,
     "metadata": {},
     "output_type": "execute_result"
    }
   ],
   "source": [
    "(problems[problems[\"index\"].str.slice(stop=1) == \"D\"].rating.median(),\n",
    " problems[problems[\"index\"].str.slice(stop=1) == \"D\"].rating.mean())"
   ],
   "metadata": {
    "collapsed": false,
    "ExecuteTime": {
     "start_time": "2023-04-11T19:51:03.399206Z",
     "end_time": "2023-04-11T19:51:03.445088Z"
    }
   }
  },
  {
   "cell_type": "code",
   "execution_count": 80,
   "outputs": [],
   "source": [
    "problems[\"filled_rating\"] = problems.apply(lambda row: row.rating if not row.rating != row.rating else problems[\n",
    "    problems.rating.notna() & (problems[\"index\"].str.slice(stop=1) == row[\"index\"][:1])].rating.median(), axis=1)"
   ],
   "metadata": {
    "collapsed": false,
    "ExecuteTime": {
     "start_time": "2023-04-11T19:42:28.106497Z",
     "end_time": "2023-04-11T19:42:29.680246Z"
    }
   }
  },
  {
   "cell_type": "code",
   "execution_count": 82,
   "outputs": [
    {
     "data": {
      "text/plain": "       contest_id index               problem_url  level_0   \n509          1356    A1  /contest/1356/problem/A1   2543.0  \\\n510          1356    A2  /contest/1356/problem/A2   2542.0   \n511          1356    A3  /contest/1356/problem/A3   2541.0   \n512          1356    A4  /contest/1356/problem/A4   2540.0   \n513          1356    A5  /contest/1356/problem/A5   2539.0   \n...           ...   ...                       ...      ...   \n10102        1814     B   /contest/1814/problem/B      4.0   \n10103        1814     C   /contest/1814/problem/C      3.0   \n10104        1814     D   /contest/1814/problem/D      2.0   \n10105        1814     E   /contest/1814/problem/E      1.0   \n10106        1814     F   /contest/1814/problem/F      0.0   \n\n                              name  points   \n509           Distinguish I from X     NaN  \\\n510           Distinguish I from Z     NaN   \n511           Distinguish Z from S     NaN   \n512    Distinguish I ⊗ X from CNOT     NaN   \n513          Distinguish Z from -Z     NaN   \n...                            ...     ...   \n10102                 Длинные ноги     NaN   \n10103           Параллельный поиск     NaN   \n10104           Балансировка пушек     NaN   \n10105             Фишки на цепочке     NaN   \n10106                  Вышки связи     NaN   \n\n                                                    tags         tag_ids   \n509                                         ['*special']             [1]  \\\n510                                         ['*special']             [1]   \n511                                         ['*special']             [1]   \n512                                         ['*special']             [1]   \n513                                         ['*special']             [1]   \n...                                                  ...             ...   \n10102                            ['brute force', 'math']         [5, 25]   \n10103  ['constructive algorithms', 'greedy', 'sortings']     [8, 21, 32]   \n10104  ['binary search', 'brute force', 'math', 'two ...  [3, 5, 25, 37]   \n10105                          ['data structures', 'dp']         [9, 12]   \n10106       ['brute force', 'divide and conquer', 'dsu']     [5, 11, 13]   \n\n       rating  filled_rating  \n509       NaN         1000.0  \n510       NaN         1000.0  \n511       NaN         1000.0  \n512       NaN         1000.0  \n513       NaN         1000.0  \n...       ...            ...  \n10102     NaN         1400.0  \n10103     NaN         1700.0  \n10104     NaN         2000.0  \n10105     NaN         2400.0  \n10106     NaN         2600.0  \n\n[324 rows x 10 columns]",
      "text/html": "<div>\n<style scoped>\n    .dataframe tbody tr th:only-of-type {\n        vertical-align: middle;\n    }\n\n    .dataframe tbody tr th {\n        vertical-align: top;\n    }\n\n    .dataframe thead th {\n        text-align: right;\n    }\n</style>\n<table border=\"1\" class=\"dataframe\">\n  <thead>\n    <tr style=\"text-align: right;\">\n      <th></th>\n      <th>contest_id</th>\n      <th>index</th>\n      <th>problem_url</th>\n      <th>level_0</th>\n      <th>name</th>\n      <th>points</th>\n      <th>tags</th>\n      <th>tag_ids</th>\n      <th>rating</th>\n      <th>filled_rating</th>\n    </tr>\n  </thead>\n  <tbody>\n    <tr>\n      <th>509</th>\n      <td>1356</td>\n      <td>A1</td>\n      <td>/contest/1356/problem/A1</td>\n      <td>2543.0</td>\n      <td>Distinguish I from X</td>\n      <td>NaN</td>\n      <td>['*special']</td>\n      <td>[1]</td>\n      <td>NaN</td>\n      <td>1000.0</td>\n    </tr>\n    <tr>\n      <th>510</th>\n      <td>1356</td>\n      <td>A2</td>\n      <td>/contest/1356/problem/A2</td>\n      <td>2542.0</td>\n      <td>Distinguish I from Z</td>\n      <td>NaN</td>\n      <td>['*special']</td>\n      <td>[1]</td>\n      <td>NaN</td>\n      <td>1000.0</td>\n    </tr>\n    <tr>\n      <th>511</th>\n      <td>1356</td>\n      <td>A3</td>\n      <td>/contest/1356/problem/A3</td>\n      <td>2541.0</td>\n      <td>Distinguish Z from S</td>\n      <td>NaN</td>\n      <td>['*special']</td>\n      <td>[1]</td>\n      <td>NaN</td>\n      <td>1000.0</td>\n    </tr>\n    <tr>\n      <th>512</th>\n      <td>1356</td>\n      <td>A4</td>\n      <td>/contest/1356/problem/A4</td>\n      <td>2540.0</td>\n      <td>Distinguish I ⊗ X from CNOT</td>\n      <td>NaN</td>\n      <td>['*special']</td>\n      <td>[1]</td>\n      <td>NaN</td>\n      <td>1000.0</td>\n    </tr>\n    <tr>\n      <th>513</th>\n      <td>1356</td>\n      <td>A5</td>\n      <td>/contest/1356/problem/A5</td>\n      <td>2539.0</td>\n      <td>Distinguish Z from -Z</td>\n      <td>NaN</td>\n      <td>['*special']</td>\n      <td>[1]</td>\n      <td>NaN</td>\n      <td>1000.0</td>\n    </tr>\n    <tr>\n      <th>...</th>\n      <td>...</td>\n      <td>...</td>\n      <td>...</td>\n      <td>...</td>\n      <td>...</td>\n      <td>...</td>\n      <td>...</td>\n      <td>...</td>\n      <td>...</td>\n      <td>...</td>\n    </tr>\n    <tr>\n      <th>10102</th>\n      <td>1814</td>\n      <td>B</td>\n      <td>/contest/1814/problem/B</td>\n      <td>4.0</td>\n      <td>Длинные ноги</td>\n      <td>NaN</td>\n      <td>['brute force', 'math']</td>\n      <td>[5, 25]</td>\n      <td>NaN</td>\n      <td>1400.0</td>\n    </tr>\n    <tr>\n      <th>10103</th>\n      <td>1814</td>\n      <td>C</td>\n      <td>/contest/1814/problem/C</td>\n      <td>3.0</td>\n      <td>Параллельный поиск</td>\n      <td>NaN</td>\n      <td>['constructive algorithms', 'greedy', 'sortings']</td>\n      <td>[8, 21, 32]</td>\n      <td>NaN</td>\n      <td>1700.0</td>\n    </tr>\n    <tr>\n      <th>10104</th>\n      <td>1814</td>\n      <td>D</td>\n      <td>/contest/1814/problem/D</td>\n      <td>2.0</td>\n      <td>Балансировка пушек</td>\n      <td>NaN</td>\n      <td>['binary search', 'brute force', 'math', 'two ...</td>\n      <td>[3, 5, 25, 37]</td>\n      <td>NaN</td>\n      <td>2000.0</td>\n    </tr>\n    <tr>\n      <th>10105</th>\n      <td>1814</td>\n      <td>E</td>\n      <td>/contest/1814/problem/E</td>\n      <td>1.0</td>\n      <td>Фишки на цепочке</td>\n      <td>NaN</td>\n      <td>['data structures', 'dp']</td>\n      <td>[9, 12]</td>\n      <td>NaN</td>\n      <td>2400.0</td>\n    </tr>\n    <tr>\n      <th>10106</th>\n      <td>1814</td>\n      <td>F</td>\n      <td>/contest/1814/problem/F</td>\n      <td>0.0</td>\n      <td>Вышки связи</td>\n      <td>NaN</td>\n      <td>['brute force', 'divide and conquer', 'dsu']</td>\n      <td>[5, 11, 13]</td>\n      <td>NaN</td>\n      <td>2600.0</td>\n    </tr>\n  </tbody>\n</table>\n<p>324 rows × 10 columns</p>\n</div>"
     },
     "execution_count": 82,
     "metadata": {},
     "output_type": "execute_result"
    }
   ],
   "source": [
    "problems[problems.rating.isna()]"
   ],
   "metadata": {
    "collapsed": false,
    "ExecuteTime": {
     "start_time": "2023-04-11T19:42:47.106749Z",
     "end_time": "2023-04-11T19:42:47.140980Z"
    }
   }
  },
  {
   "cell_type": "code",
   "execution_count": 97,
   "outputs": [],
   "source": [
    "problems[\"filled_points\"] = problems.apply(lambda row: row.points if not row.points != row.points else problems[\n",
    "    problems.points.notna() & (problems[\"index\"].str.slice(stop=1) == row[\"index\"][:1])].points.median(), axis=1)"
   ],
   "metadata": {
    "collapsed": false,
    "ExecuteTime": {
     "start_time": "2023-04-11T19:47:25.782834Z",
     "end_time": "2023-04-11T19:47:41.333031Z"
    }
   }
  },
  {
   "cell_type": "code",
   "execution_count": 98,
   "outputs": [
    {
     "data": {
      "text/plain": "       contest_id index              problem_url  level_0   \n5               1     A     /contest/1/problem/A   8592.0  \\\n6               1     B     /contest/1/problem/B   8591.0   \n7               1     C     /contest/1/problem/C   8590.0   \n8              10     A    /contest/10/problem/A   8553.0   \n9              10     B    /contest/10/problem/B   8552.0   \n...           ...   ...                      ...      ...   \n10102        1814     B  /contest/1814/problem/B      4.0   \n10103        1814     C  /contest/1814/problem/C      3.0   \n10104        1814     D  /contest/1814/problem/D      2.0   \n10105        1814     E  /contest/1814/problem/E      1.0   \n10106        1814     F  /contest/1814/problem/F      0.0   \n\n                         name  points   \n5         Театральная площадь     NaN  \\\n6         Электронные таблицы     NaN   \n7      Древнеберляндский цирк     NaN   \n8      Учет энергопотребления     NaN   \n9         Кассир в кинотеатре     NaN   \n...                       ...     ...   \n10102            Длинные ноги     NaN   \n10103      Параллельный поиск     NaN   \n10104      Балансировка пушек     NaN   \n10105        Фишки на цепочке     NaN   \n10106             Вышки связи     NaN   \n\n                                                    tags         tag_ids   \n5                                               ['math']            [25]  \\\n6                             ['implementation', 'math']        [23, 25]   \n7                                   ['geometry', 'math']        [18, 25]   \n8                                     ['implementation']            [23]   \n9                               ['dp', 'implementation']        [12, 23]   \n...                                                  ...             ...   \n10102                            ['brute force', 'math']         [5, 25]   \n10103  ['constructive algorithms', 'greedy', 'sortings']     [8, 21, 32]   \n10104  ['binary search', 'brute force', 'math', 'two ...  [3, 5, 25, 37]   \n10105                          ['data structures', 'dp']         [9, 12]   \n10106       ['brute force', 'divide and conquer', 'dsu']     [5, 11, 13]   \n\n       rating  filled_rating  filled_points  \n5      1000.0         1000.0          500.0  \n6      1600.0         1600.0         1000.0  \n7      2100.0         2100.0         1500.0  \n8       900.0          900.0          500.0  \n9      1500.0         1500.0         1000.0  \n...       ...            ...            ...  \n10102     NaN         1400.0         1000.0  \n10103     NaN         1700.0         1500.0  \n10104     NaN         2000.0         2000.0  \n10105     NaN         2400.0         2500.0  \n10106     NaN         2600.0         2750.0  \n\n[4213 rows x 11 columns]",
      "text/html": "<div>\n<style scoped>\n    .dataframe tbody tr th:only-of-type {\n        vertical-align: middle;\n    }\n\n    .dataframe tbody tr th {\n        vertical-align: top;\n    }\n\n    .dataframe thead th {\n        text-align: right;\n    }\n</style>\n<table border=\"1\" class=\"dataframe\">\n  <thead>\n    <tr style=\"text-align: right;\">\n      <th></th>\n      <th>contest_id</th>\n      <th>index</th>\n      <th>problem_url</th>\n      <th>level_0</th>\n      <th>name</th>\n      <th>points</th>\n      <th>tags</th>\n      <th>tag_ids</th>\n      <th>rating</th>\n      <th>filled_rating</th>\n      <th>filled_points</th>\n    </tr>\n  </thead>\n  <tbody>\n    <tr>\n      <th>5</th>\n      <td>1</td>\n      <td>A</td>\n      <td>/contest/1/problem/A</td>\n      <td>8592.0</td>\n      <td>Театральная площадь</td>\n      <td>NaN</td>\n      <td>['math']</td>\n      <td>[25]</td>\n      <td>1000.0</td>\n      <td>1000.0</td>\n      <td>500.0</td>\n    </tr>\n    <tr>\n      <th>6</th>\n      <td>1</td>\n      <td>B</td>\n      <td>/contest/1/problem/B</td>\n      <td>8591.0</td>\n      <td>Электронные таблицы</td>\n      <td>NaN</td>\n      <td>['implementation', 'math']</td>\n      <td>[23, 25]</td>\n      <td>1600.0</td>\n      <td>1600.0</td>\n      <td>1000.0</td>\n    </tr>\n    <tr>\n      <th>7</th>\n      <td>1</td>\n      <td>C</td>\n      <td>/contest/1/problem/C</td>\n      <td>8590.0</td>\n      <td>Древнеберляндский цирк</td>\n      <td>NaN</td>\n      <td>['geometry', 'math']</td>\n      <td>[18, 25]</td>\n      <td>2100.0</td>\n      <td>2100.0</td>\n      <td>1500.0</td>\n    </tr>\n    <tr>\n      <th>8</th>\n      <td>10</td>\n      <td>A</td>\n      <td>/contest/10/problem/A</td>\n      <td>8553.0</td>\n      <td>Учет энергопотребления</td>\n      <td>NaN</td>\n      <td>['implementation']</td>\n      <td>[23]</td>\n      <td>900.0</td>\n      <td>900.0</td>\n      <td>500.0</td>\n    </tr>\n    <tr>\n      <th>9</th>\n      <td>10</td>\n      <td>B</td>\n      <td>/contest/10/problem/B</td>\n      <td>8552.0</td>\n      <td>Кассир в кинотеатре</td>\n      <td>NaN</td>\n      <td>['dp', 'implementation']</td>\n      <td>[12, 23]</td>\n      <td>1500.0</td>\n      <td>1500.0</td>\n      <td>1000.0</td>\n    </tr>\n    <tr>\n      <th>...</th>\n      <td>...</td>\n      <td>...</td>\n      <td>...</td>\n      <td>...</td>\n      <td>...</td>\n      <td>...</td>\n      <td>...</td>\n      <td>...</td>\n      <td>...</td>\n      <td>...</td>\n      <td>...</td>\n    </tr>\n    <tr>\n      <th>10102</th>\n      <td>1814</td>\n      <td>B</td>\n      <td>/contest/1814/problem/B</td>\n      <td>4.0</td>\n      <td>Длинные ноги</td>\n      <td>NaN</td>\n      <td>['brute force', 'math']</td>\n      <td>[5, 25]</td>\n      <td>NaN</td>\n      <td>1400.0</td>\n      <td>1000.0</td>\n    </tr>\n    <tr>\n      <th>10103</th>\n      <td>1814</td>\n      <td>C</td>\n      <td>/contest/1814/problem/C</td>\n      <td>3.0</td>\n      <td>Параллельный поиск</td>\n      <td>NaN</td>\n      <td>['constructive algorithms', 'greedy', 'sortings']</td>\n      <td>[8, 21, 32]</td>\n      <td>NaN</td>\n      <td>1700.0</td>\n      <td>1500.0</td>\n    </tr>\n    <tr>\n      <th>10104</th>\n      <td>1814</td>\n      <td>D</td>\n      <td>/contest/1814/problem/D</td>\n      <td>2.0</td>\n      <td>Балансировка пушек</td>\n      <td>NaN</td>\n      <td>['binary search', 'brute force', 'math', 'two ...</td>\n      <td>[3, 5, 25, 37]</td>\n      <td>NaN</td>\n      <td>2000.0</td>\n      <td>2000.0</td>\n    </tr>\n    <tr>\n      <th>10105</th>\n      <td>1814</td>\n      <td>E</td>\n      <td>/contest/1814/problem/E</td>\n      <td>1.0</td>\n      <td>Фишки на цепочке</td>\n      <td>NaN</td>\n      <td>['data structures', 'dp']</td>\n      <td>[9, 12]</td>\n      <td>NaN</td>\n      <td>2400.0</td>\n      <td>2500.0</td>\n    </tr>\n    <tr>\n      <th>10106</th>\n      <td>1814</td>\n      <td>F</td>\n      <td>/contest/1814/problem/F</td>\n      <td>0.0</td>\n      <td>Вышки связи</td>\n      <td>NaN</td>\n      <td>['brute force', 'divide and conquer', 'dsu']</td>\n      <td>[5, 11, 13]</td>\n      <td>NaN</td>\n      <td>2600.0</td>\n      <td>2750.0</td>\n    </tr>\n  </tbody>\n</table>\n<p>4213 rows × 11 columns</p>\n</div>"
     },
     "execution_count": 98,
     "metadata": {},
     "output_type": "execute_result"
    }
   ],
   "source": [
    "problems[problems.points.isna()]"
   ],
   "metadata": {
    "collapsed": false,
    "ExecuteTime": {
     "start_time": "2023-04-11T19:47:41.337324Z",
     "end_time": "2023-04-11T19:47:41.359091Z"
    }
   }
  },
  {
   "cell_type": "code",
   "execution_count": 113,
   "outputs": [
    {
     "data": {
      "text/plain": "(4000.0, 4218.75)"
     },
     "execution_count": 113,
     "metadata": {},
     "output_type": "execute_result"
    }
   ],
   "source": [
    "(problems[problems[\"index\"].str.slice(stop=1) == \"I\"].points.median(),\n",
    " problems[problems[\"index\"].str.slice(stop=1) == \"I\"].points.mean())"
   ],
   "metadata": {
    "collapsed": false,
    "ExecuteTime": {
     "start_time": "2023-04-11T19:50:19.361146Z",
     "end_time": "2023-04-11T19:50:19.417907Z"
    }
   }
  },
  {
   "cell_type": "code",
   "execution_count": 64,
   "outputs": [
    {
     "data": {
      "text/plain": "0                      [1500.0, ['implementation'], 500.0]\n1              [1800.0, ['binary search', 'math'], 1000.0]\n2        [2600.0, ['dfs and similar', 'graphs', 'shorte...\n3                                [2900.0, ['dsu'], 2000.0]\n4        [2800.0, ['combinatorics', 'dfs and similar', ...\n                               ...                        \n10102                  [nan, ['brute force', 'math'], nan]\n10103    [nan, ['constructive algorithms', 'greedy', 's...\n10104    [nan, ['binary search', 'brute force', 'math',...\n10105                [nan, ['data structures', 'dp'], nan]\n10106    [nan, ['brute force', 'divide and conquer', 'd...\nLength: 10107, dtype: object"
     },
     "execution_count": 64,
     "metadata": {},
     "output_type": "execute_result"
    }
   ],
   "source": [
    "problems[[\"filled_rating\", \"tags\", \"filled_points\"]].apply(list, axis=1)"
   ],
   "metadata": {
    "collapsed": false,
    "ExecuteTime": {
     "start_time": "2023-04-11T19:17:51.486769Z",
     "end_time": "2023-04-11T19:17:51.558789Z"
    }
   }
  },
  {
   "cell_type": "code",
   "execution_count": 174,
   "outputs": [
    {
     "data": {
      "text/plain": "rating_text\nnewbie                       113995\npupil                         67222\nspecialist                    55701\nexpert                        35246\ncandidate master               9708\nmaster                         6178\nunrated                        3165\ngrandmaster                    1085\ninternational master            800\ninternational grandmaster       450\nlegendary grandmaster            93\nheadquarters                      2\nName: count, dtype: int64"
     },
     "execution_count": 174,
     "metadata": {},
     "output_type": "execute_result"
    }
   ],
   "source": [
    "authors_active.rating_text.value_counts()"
   ],
   "metadata": {
    "collapsed": false,
    "ExecuteTime": {
     "start_time": "2023-04-11T21:14:45.314569Z",
     "end_time": "2023-04-11T21:14:45.331332Z"
    }
   }
  },
  {
   "cell_type": "code",
   "execution_count": 182,
   "outputs": [
    {
     "data": {
      "text/plain": "rating\nTrue     3164\nFalse       1\nName: count, dtype: int64"
     },
     "execution_count": 182,
     "metadata": {},
     "output_type": "execute_result"
    }
   ],
   "source": [
    "authors_active[authors_active.rating_text == 'unrated'].rating.isna().value_counts()"
   ],
   "metadata": {
    "collapsed": false,
    "ExecuteTime": {
     "start_time": "2023-04-11T21:16:48.664366Z",
     "end_time": "2023-04-11T21:16:48.731943Z"
    }
   }
  },
  {
   "cell_type": "code",
   "execution_count": 121,
   "outputs": [],
   "source": [
    "def create_features(dataframe, features_names, id_col_name):\n",
    "    \"\"\"\n",
    "    Generate features that will be ready for feeding into lightfm\n",
    "\n",
    "    Parameters\n",
    "    ----------\n",
    "    dataframe: Dataframe\n",
    "        Pandas Dataframe which contains features\n",
    "    features_names : List\n",
    "        List of feature columns name available in dataframe\n",
    "    id_col_name: String\n",
    "        Column name which contains id of the question or\n",
    "        answer that the features will map to.\n",
    "        There are two possible values for this variable.\n",
    "        1. questions_id_num\n",
    "        2. professionals_id_num\n",
    "\n",
    "    Returns\n",
    "    -------\n",
    "    Pandas Series\n",
    "        A pandas series containing process features\n",
    "        that are ready for feed into lightfm.\n",
    "        The format of each value\n",
    "        will be (user_id, ['feature_1', 'feature_2', 'feature_3'])\n",
    "        Ex. -> (1, ['military', 'army', '5'])\n",
    "    \"\"\"\n",
    "\n",
    "    features = dataframe[features_names].apply(list, axis=1)\n",
    "\n",
    "    features = list(zip(dataframe[id_col_name], features))\n",
    "    return features"
   ],
   "metadata": {
    "collapsed": false,
    "ExecuteTime": {
     "start_time": "2023-04-11T20:08:30.630892Z",
     "end_time": "2023-04-11T20:08:30.673752Z"
    }
   }
  },
  {
   "cell_type": "code",
   "execution_count": 150,
   "outputs": [],
   "source": [
    "def generate_features(dataframe, features_names):\n",
    "    \"\"\"\n",
    "    Generate features that will be ready for feeding into lightfm\n",
    "\n",
    "    Parameters\n",
    "    ----------\n",
    "    dataframe: Dataframe\n",
    "        Pandas Dataframe which contains features\n",
    "    features_names : List\n",
    "        List of feature columns name available in dataframe\n",
    "    id_col_name: String\n",
    "        Column name which contains id of the question or\n",
    "        answer that the features will map to.\n",
    "        There are two possible values for this variable.\n",
    "        1. questions_id_num\n",
    "        2. professionals_id_num\n",
    "\n",
    "    Returns\n",
    "    -------\n",
    "    Pandas Series\n",
    "        A pandas series containing process features\n",
    "        that are ready for feed into lightfm.\n",
    "        The format of each value\n",
    "        will be (user_id, ['feature_1', 'feature_2', 'feature_3'])\n",
    "        Ex. -> (1, ['military', 'army', '5'])\n",
    "    \"\"\"\n",
    "\n",
    "    features = dataframe[features_names].apply(\n",
    "        list, axis=1)\n",
    "\n",
    "    features = features.apply(pd.Series).stack().reset_index(drop=True)\n",
    "    return features"
   ],
   "metadata": {
    "collapsed": false,
    "ExecuteTime": {
     "start_time": "2023-04-12T12:33:23.848188Z",
     "end_time": "2023-04-12T12:33:23.942483Z"
    }
   }
  },
  {
   "cell_type": "code",
   "execution_count": null,
   "outputs": [],
   "source": [
    "problems"
   ],
   "metadata": {
    "collapsed": false
   }
  },
  {
   "cell_type": "code",
   "execution_count": 137,
   "outputs": [
    {
     "data": {
      "text/plain": "contest_id          int64\nindex              object\nproblem_url        object\nlevel_0           float64\nname               object\npoints            float64\ntags               object\ntag_ids            object\nrating            float64\nfilled_rating     float64\nrating_labels    category\ndtype: object"
     },
     "execution_count": 137,
     "metadata": {},
     "output_type": "execute_result"
    }
   ],
   "source": [
    "problems.dtypes"
   ],
   "metadata": {
    "collapsed": false,
    "ExecuteTime": {
     "start_time": "2023-04-12T12:25:43.581559Z",
     "end_time": "2023-04-12T12:25:43.659274Z"
    }
   }
  },
  {
   "cell_type": "code",
   "execution_count": 151,
   "outputs": [
    {
     "ename": "KeyboardInterrupt",
     "evalue": "",
     "output_type": "error",
     "traceback": [
      "\u001B[0;31m---------------------------------------------------------------------------\u001B[0m",
      "\u001B[0;31mKeyboardInterrupt\u001B[0m                         Traceback (most recent call last)",
      "Cell \u001B[0;32mIn[151], line 4\u001B[0m\n\u001B[1;32m      1\u001B[0m ds\u001B[38;5;241m.\u001B[39mfit(\n\u001B[1;32m      2\u001B[0m     (author \u001B[38;5;28;01mfor\u001B[39;00m author \u001B[38;5;129;01min\u001B[39;00m submissions\u001B[38;5;241m.\u001B[39mauthor_url),\n\u001B[1;32m      3\u001B[0m     (problem \u001B[38;5;28;01mfor\u001B[39;00m problem \u001B[38;5;129;01min\u001B[39;00m submissions\u001B[38;5;241m.\u001B[39mproblem_url),\n\u001B[0;32m----> 4\u001B[0m     \u001B[43mgenerate_features\u001B[49m\u001B[43m(\u001B[49m\u001B[43mauthors_active\u001B[49m\u001B[43m,\u001B[49m\u001B[43m \u001B[49m\u001B[43m[\u001B[49m\u001B[38;5;124;43m\"\u001B[39;49m\u001B[38;5;124;43mrating\u001B[39;49m\u001B[38;5;124;43m\"\u001B[39;49m\u001B[43m,\u001B[49m\u001B[43m \u001B[49m\u001B[38;5;124;43m\"\u001B[39;49m\u001B[38;5;124;43mrating_text\u001B[39;49m\u001B[38;5;124;43m\"\u001B[39;49m\u001B[43m,\u001B[49m\u001B[43m \u001B[49m\u001B[38;5;124;43m\"\u001B[39;49m\u001B[38;5;124;43mrating_max\u001B[39;49m\u001B[38;5;124;43m\"\u001B[39;49m\u001B[43m,\u001B[49m\u001B[43m \u001B[49m\u001B[38;5;124;43m\"\u001B[39;49m\u001B[38;5;124;43mrating_max_text\u001B[39;49m\u001B[38;5;124;43m\"\u001B[39;49m\u001B[43m]\u001B[49m\u001B[43m)\u001B[49m,\n\u001B[1;32m      5\u001B[0m     generate_features(problems, [\u001B[38;5;124m\"\u001B[39m\u001B[38;5;124mfilled_rating\u001B[39m\u001B[38;5;124m\"\u001B[39m, \u001B[38;5;124m\"\u001B[39m\u001B[38;5;124mtags\u001B[39m\u001B[38;5;124m\"\u001B[39m, \u001B[38;5;124m\"\u001B[39m\u001B[38;5;124mfilled_points\u001B[39m\u001B[38;5;124m\"\u001B[39m])\n\u001B[1;32m      6\u001B[0m )\n",
      "Cell \u001B[0;32mIn[150], line 31\u001B[0m, in \u001B[0;36mgenerate_features\u001B[0;34m(dataframe, features_names)\u001B[0m\n\u001B[1;32m      2\u001B[0m \u001B[38;5;250m\u001B[39m\u001B[38;5;124;03m\"\"\"\u001B[39;00m\n\u001B[1;32m      3\u001B[0m \u001B[38;5;124;03mGenerate features that will be ready for feeding into lightfm\u001B[39;00m\n\u001B[1;32m      4\u001B[0m \n\u001B[0;32m   (...)\u001B[0m\n\u001B[1;32m     25\u001B[0m \u001B[38;5;124;03m    Ex. -> (1, ['military', 'army', '5'])\u001B[39;00m\n\u001B[1;32m     26\u001B[0m \u001B[38;5;124;03m\"\"\"\u001B[39;00m\n\u001B[1;32m     28\u001B[0m features \u001B[38;5;241m=\u001B[39m dataframe[features_names]\u001B[38;5;241m.\u001B[39mapply(\n\u001B[1;32m     29\u001B[0m     \u001B[38;5;28mlist\u001B[39m, axis\u001B[38;5;241m=\u001B[39m\u001B[38;5;241m1\u001B[39m)\n\u001B[0;32m---> 31\u001B[0m features \u001B[38;5;241m=\u001B[39m \u001B[43mfeatures\u001B[49m\u001B[38;5;241;43m.\u001B[39;49m\u001B[43mapply\u001B[49m\u001B[43m(\u001B[49m\u001B[43mpd\u001B[49m\u001B[38;5;241;43m.\u001B[39;49m\u001B[43mSeries\u001B[49m\u001B[43m)\u001B[49m\u001B[38;5;241m.\u001B[39mstack()\u001B[38;5;241m.\u001B[39mreset_index(drop\u001B[38;5;241m=\u001B[39m\u001B[38;5;28;01mTrue\u001B[39;00m)\n\u001B[1;32m     32\u001B[0m \u001B[38;5;28;01mreturn\u001B[39;00m features\n",
      "File \u001B[0;32m~/StudyAI-ML/venv/lib/python3.10/site-packages/pandas/core/series.py:4631\u001B[0m, in \u001B[0;36mSeries.apply\u001B[0;34m(self, func, convert_dtype, args, **kwargs)\u001B[0m\n\u001B[1;32m   4521\u001B[0m \u001B[38;5;28;01mdef\u001B[39;00m \u001B[38;5;21mapply\u001B[39m(\n\u001B[1;32m   4522\u001B[0m     \u001B[38;5;28mself\u001B[39m,\n\u001B[1;32m   4523\u001B[0m     func: AggFuncType,\n\u001B[0;32m   (...)\u001B[0m\n\u001B[1;32m   4526\u001B[0m     \u001B[38;5;241m*\u001B[39m\u001B[38;5;241m*\u001B[39mkwargs,\n\u001B[1;32m   4527\u001B[0m ) \u001B[38;5;241m-\u001B[39m\u001B[38;5;241m>\u001B[39m DataFrame \u001B[38;5;241m|\u001B[39m Series:\n\u001B[1;32m   4528\u001B[0m \u001B[38;5;250m    \u001B[39m\u001B[38;5;124;03m\"\"\"\u001B[39;00m\n\u001B[1;32m   4529\u001B[0m \u001B[38;5;124;03m    Invoke function on values of Series.\u001B[39;00m\n\u001B[1;32m   4530\u001B[0m \n\u001B[0;32m   (...)\u001B[0m\n\u001B[1;32m   4629\u001B[0m \u001B[38;5;124;03m    dtype: float64\u001B[39;00m\n\u001B[1;32m   4630\u001B[0m \u001B[38;5;124;03m    \"\"\"\u001B[39;00m\n\u001B[0;32m-> 4631\u001B[0m     \u001B[38;5;28;01mreturn\u001B[39;00m \u001B[43mSeriesApply\u001B[49m\u001B[43m(\u001B[49m\u001B[38;5;28;43mself\u001B[39;49m\u001B[43m,\u001B[49m\u001B[43m \u001B[49m\u001B[43mfunc\u001B[49m\u001B[43m,\u001B[49m\u001B[43m \u001B[49m\u001B[43mconvert_dtype\u001B[49m\u001B[43m,\u001B[49m\u001B[43m \u001B[49m\u001B[43margs\u001B[49m\u001B[43m,\u001B[49m\u001B[43m \u001B[49m\u001B[43mkwargs\u001B[49m\u001B[43m)\u001B[49m\u001B[38;5;241;43m.\u001B[39;49m\u001B[43mapply\u001B[49m\u001B[43m(\u001B[49m\u001B[43m)\u001B[49m\n",
      "File \u001B[0;32m~/StudyAI-ML/venv/lib/python3.10/site-packages/pandas/core/apply.py:1025\u001B[0m, in \u001B[0;36mSeriesApply.apply\u001B[0;34m(self)\u001B[0m\n\u001B[1;32m   1022\u001B[0m     \u001B[38;5;28;01mreturn\u001B[39;00m \u001B[38;5;28mself\u001B[39m\u001B[38;5;241m.\u001B[39mapply_str()\n\u001B[1;32m   1024\u001B[0m \u001B[38;5;66;03m# self.f is Callable\u001B[39;00m\n\u001B[0;32m-> 1025\u001B[0m \u001B[38;5;28;01mreturn\u001B[39;00m \u001B[38;5;28;43mself\u001B[39;49m\u001B[38;5;241;43m.\u001B[39;49m\u001B[43mapply_standard\u001B[49m\u001B[43m(\u001B[49m\u001B[43m)\u001B[49m\n",
      "File \u001B[0;32m~/StudyAI-ML/venv/lib/python3.10/site-packages/pandas/core/apply.py:1076\u001B[0m, in \u001B[0;36mSeriesApply.apply_standard\u001B[0;34m(self)\u001B[0m\n\u001B[1;32m   1074\u001B[0m     \u001B[38;5;28;01melse\u001B[39;00m:\n\u001B[1;32m   1075\u001B[0m         values \u001B[38;5;241m=\u001B[39m obj\u001B[38;5;241m.\u001B[39mastype(\u001B[38;5;28mobject\u001B[39m)\u001B[38;5;241m.\u001B[39m_values\n\u001B[0;32m-> 1076\u001B[0m         mapped \u001B[38;5;241m=\u001B[39m \u001B[43mlib\u001B[49m\u001B[38;5;241;43m.\u001B[39;49m\u001B[43mmap_infer\u001B[49m\u001B[43m(\u001B[49m\n\u001B[1;32m   1077\u001B[0m \u001B[43m            \u001B[49m\u001B[43mvalues\u001B[49m\u001B[43m,\u001B[49m\n\u001B[1;32m   1078\u001B[0m \u001B[43m            \u001B[49m\u001B[43mf\u001B[49m\u001B[43m,\u001B[49m\n\u001B[1;32m   1079\u001B[0m \u001B[43m            \u001B[49m\u001B[43mconvert\u001B[49m\u001B[38;5;241;43m=\u001B[39;49m\u001B[38;5;28;43mself\u001B[39;49m\u001B[38;5;241;43m.\u001B[39;49m\u001B[43mconvert_dtype\u001B[49m\u001B[43m,\u001B[49m\n\u001B[1;32m   1080\u001B[0m \u001B[43m        \u001B[49m\u001B[43m)\u001B[49m\n\u001B[1;32m   1082\u001B[0m \u001B[38;5;28;01mif\u001B[39;00m \u001B[38;5;28mlen\u001B[39m(mapped) \u001B[38;5;129;01mand\u001B[39;00m \u001B[38;5;28misinstance\u001B[39m(mapped[\u001B[38;5;241m0\u001B[39m], ABCSeries):\n\u001B[1;32m   1083\u001B[0m     \u001B[38;5;66;03m# GH#43986 Need to do list(mapped) in order to get treated as nested\u001B[39;00m\n\u001B[1;32m   1084\u001B[0m     \u001B[38;5;66;03m#  See also GH#25959 regarding EA support\u001B[39;00m\n\u001B[1;32m   1085\u001B[0m     \u001B[38;5;28;01mreturn\u001B[39;00m obj\u001B[38;5;241m.\u001B[39m_constructor_expanddim(\u001B[38;5;28mlist\u001B[39m(mapped), index\u001B[38;5;241m=\u001B[39mobj\u001B[38;5;241m.\u001B[39mindex)\n",
      "File \u001B[0;32m~/StudyAI-ML/venv/lib/python3.10/site-packages/pandas/_libs/lib.pyx:2834\u001B[0m, in \u001B[0;36mpandas._libs.lib.map_infer\u001B[0;34m()\u001B[0m\n",
      "File \u001B[0;32m~/StudyAI-ML/venv/lib/python3.10/site-packages/pandas/core/series.py:518\u001B[0m, in \u001B[0;36mSeries.__init__\u001B[0;34m(self, data, index, dtype, name, copy, fastpath)\u001B[0m\n\u001B[1;32m    515\u001B[0m         data \u001B[38;5;241m=\u001B[39m SingleArrayManager\u001B[38;5;241m.\u001B[39mfrom_array(data, index)\n\u001B[1;32m    517\u001B[0m NDFrame\u001B[38;5;241m.\u001B[39m\u001B[38;5;21m__init__\u001B[39m(\u001B[38;5;28mself\u001B[39m, data)\n\u001B[0;32m--> 518\u001B[0m \u001B[38;5;28;43mself\u001B[39;49m\u001B[38;5;241;43m.\u001B[39;49m\u001B[43mname\u001B[49m \u001B[38;5;241m=\u001B[39m name\n\u001B[1;32m    519\u001B[0m \u001B[38;5;28mself\u001B[39m\u001B[38;5;241m.\u001B[39m_set_axis(\u001B[38;5;241m0\u001B[39m, index)\n",
      "File \u001B[0;32m~/StudyAI-ML/venv/lib/python3.10/site-packages/pandas/core/generic.py:6001\u001B[0m, in \u001B[0;36mNDFrame.__setattr__\u001B[0;34m(self, name, value)\u001B[0m\n\u001B[1;32m   5996\u001B[0m \u001B[38;5;66;03m# first try regular attribute access via __getattribute__, so that\u001B[39;00m\n\u001B[1;32m   5997\u001B[0m \u001B[38;5;66;03m# e.g. ``obj.x`` and ``obj.x = 4`` will always reference/modify\u001B[39;00m\n\u001B[1;32m   5998\u001B[0m \u001B[38;5;66;03m# the same attribute.\u001B[39;00m\n\u001B[1;32m   6000\u001B[0m \u001B[38;5;28;01mtry\u001B[39;00m:\n\u001B[0;32m-> 6001\u001B[0m     \u001B[38;5;28;43mobject\u001B[39;49m\u001B[38;5;241;43m.\u001B[39;49m\u001B[38;5;21;43m__getattribute__\u001B[39;49m\u001B[43m(\u001B[49m\u001B[38;5;28;43mself\u001B[39;49m\u001B[43m,\u001B[49m\u001B[43m \u001B[49m\u001B[43mname\u001B[49m\u001B[43m)\u001B[49m\n\u001B[1;32m   6002\u001B[0m     \u001B[38;5;28;01mreturn\u001B[39;00m \u001B[38;5;28mobject\u001B[39m\u001B[38;5;241m.\u001B[39m\u001B[38;5;21m__setattr__\u001B[39m(\u001B[38;5;28mself\u001B[39m, name, value)\n\u001B[1;32m   6003\u001B[0m \u001B[38;5;28;01mexcept\u001B[39;00m \u001B[38;5;167;01mAttributeError\u001B[39;00m:\n",
      "File \u001B[0;32m~/StudyAI-ML/venv/lib/python3.10/site-packages/pandas/core/series.py:674\u001B[0m, in \u001B[0;36mSeries.name\u001B[0;34m(self)\u001B[0m\n\u001B[1;32m    626\u001B[0m \u001B[38;5;129m@property\u001B[39m\n\u001B[1;32m    627\u001B[0m \u001B[38;5;28;01mdef\u001B[39;00m \u001B[38;5;21mname\u001B[39m(\u001B[38;5;28mself\u001B[39m) \u001B[38;5;241m-\u001B[39m\u001B[38;5;241m>\u001B[39m Hashable:\n\u001B[1;32m    628\u001B[0m \u001B[38;5;250m    \u001B[39m\u001B[38;5;124;03m\"\"\"\u001B[39;00m\n\u001B[1;32m    629\u001B[0m \u001B[38;5;124;03m    Return the name of the Series.\u001B[39;00m\n\u001B[1;32m    630\u001B[0m \n\u001B[0;32m   (...)\u001B[0m\n\u001B[1;32m    672\u001B[0m \u001B[38;5;124;03m    'Even Numbers'\u001B[39;00m\n\u001B[1;32m    673\u001B[0m \u001B[38;5;124;03m    \"\"\"\u001B[39;00m\n\u001B[0;32m--> 674\u001B[0m     \u001B[38;5;28;01mreturn\u001B[39;00m \u001B[38;5;28;43mself\u001B[39;49m\u001B[38;5;241;43m.\u001B[39;49m\u001B[43m_name\u001B[49m\n",
      "File \u001B[0;32m~/StudyAI-ML/venv/lib/python3.10/site-packages/pandas/core/generic.py:5975\u001B[0m, in \u001B[0;36mNDFrame.__getattr__\u001B[0;34m(self, name)\u001B[0m\n\u001B[1;32m   5971\u001B[0m         \u001B[38;5;28mself\u001B[39m\u001B[38;5;241m.\u001B[39mflags\u001B[38;5;241m.\u001B[39mallows_duplicate_labels \u001B[38;5;241m=\u001B[39m allows_duplicate_labels\n\u001B[1;32m   5973\u001B[0m     \u001B[38;5;28;01mreturn\u001B[39;00m \u001B[38;5;28mself\u001B[39m\n\u001B[0;32m-> 5975\u001B[0m \u001B[38;5;28;01mdef\u001B[39;00m \u001B[38;5;21m__getattr__\u001B[39m(\u001B[38;5;28mself\u001B[39m, name: \u001B[38;5;28mstr\u001B[39m):\n\u001B[1;32m   5976\u001B[0m \u001B[38;5;250m    \u001B[39m\u001B[38;5;124;03m\"\"\"\u001B[39;00m\n\u001B[1;32m   5977\u001B[0m \u001B[38;5;124;03m    After regular attribute access, try looking up the name\u001B[39;00m\n\u001B[1;32m   5978\u001B[0m \u001B[38;5;124;03m    This allows simpler access to columns for interactive use.\u001B[39;00m\n\u001B[1;32m   5979\u001B[0m \u001B[38;5;124;03m    \"\"\"\u001B[39;00m\n\u001B[1;32m   5980\u001B[0m     \u001B[38;5;66;03m# Note: obj.x will always call obj.__getattribute__('x') prior to\u001B[39;00m\n\u001B[1;32m   5981\u001B[0m     \u001B[38;5;66;03m# calling obj.__getattr__('x').\u001B[39;00m\n",
      "\u001B[0;31mKeyboardInterrupt\u001B[0m: "
     ]
    }
   ],
   "source": [
    "ds.fit(\n",
    "    (author for author in submissions.author_url),\n",
    "    (problem for problem in submissions.problem_url),\n",
    "    generate_features(authors_active, [\"rating\", \"rating_text\", \"rating_max\", \"rating_max_text\"]),\n",
    "    generate_features(problems, [\"filled_rating\", \"tags\", \"filled_points\"])\n",
    ")"
   ],
   "metadata": {
    "collapsed": false,
    "ExecuteTime": {
     "start_time": "2023-04-11T20:40:49.753591Z",
     "end_time": "2023-04-11T20:41:42.601851Z"
    }
   }
  },
  {
   "cell_type": "code",
   "execution_count": 155,
   "outputs": [
    {
     "data": {
      "text/plain": "[True, False]"
     },
     "execution_count": 155,
     "metadata": {},
     "output_type": "execute_result"
    }
   ],
   "source": [],
   "metadata": {
    "collapsed": false,
    "ExecuteTime": {
     "start_time": "2023-04-12T12:35:26.200993Z",
     "end_time": "2023-04-12T12:35:26.271384Z"
    }
   }
  },
  {
   "cell_type": "code",
   "execution_count": null,
   "outputs": [],
   "source": [],
   "metadata": {
    "collapsed": false
   }
  },
  {
   "cell_type": "code",
   "execution_count": 155,
   "outputs": [
    {
     "data": {
      "text/plain": "(304205, 307100)"
     },
     "execution_count": 155,
     "metadata": {},
     "output_type": "execute_result"
    }
   ],
   "source": [
    "ds.user_features_shape()"
   ],
   "metadata": {
    "collapsed": false,
    "ExecuteTime": {
     "start_time": "2023-04-11T20:42:40.934313Z",
     "end_time": "2023-04-11T20:42:40.948070Z"
    }
   }
  },
  {
   "cell_type": "code",
   "execution_count": 156,
   "outputs": [],
   "source": [
    "ds.fit_partial(items=(url for url in problems.problem_url))"
   ],
   "metadata": {
    "collapsed": false,
    "ExecuteTime": {
     "start_time": "2023-04-11T20:42:45.990848Z",
     "end_time": "2023-04-11T20:42:46.022579Z"
    }
   }
  },
  {
   "cell_type": "code",
   "execution_count": 117,
   "outputs": [],
   "source": [
    "ds.fit_partial(item_features=generate_features(problems, [\"filled_rating\", \"tags\", \"filled_points\"]))"
   ],
   "metadata": {
    "collapsed": false,
    "ExecuteTime": {
     "start_time": "2023-04-11T20:04:27.857724Z",
     "end_time": "2023-04-11T20:04:29.465117Z"
    }
   }
  },
  {
   "cell_type": "code",
   "execution_count": 119,
   "outputs": [
    {
     "data": {
      "text/plain": "(10213, 13037)"
     },
     "execution_count": 119,
     "metadata": {},
     "output_type": "execute_result"
    }
   ],
   "source": [
    "ds.item_features_shape()"
   ],
   "metadata": {
    "collapsed": false,
    "ExecuteTime": {
     "start_time": "2023-04-11T20:04:44.762350Z",
     "end_time": "2023-04-11T20:04:44.774845Z"
    }
   }
  },
  {
   "cell_type": "code",
   "execution_count": null,
   "outputs": [],
   "source": [
    "ds.fit_partial(items=(url for url in problems.problem_url))"
   ],
   "metadata": {
    "collapsed": false
   }
  },
  {
   "cell_type": "code",
   "execution_count": 126,
   "outputs": [],
   "source": [
    "ds.fit_partial(\n",
    "    user_features=generate_features(authors_active, [\"rating\", \"rating_text\", \"rating_max\", \"rating_max_text\"]))"
   ],
   "metadata": {
    "collapsed": false,
    "ExecuteTime": {
     "start_time": "2023-04-11T20:14:02.102809Z",
     "end_time": "2023-04-11T20:14:43.081650Z"
    }
   }
  },
  {
   "cell_type": "code",
   "execution_count": 125,
   "outputs": [
    {
     "name": "stdout",
     "output_type": "stream",
     "text": [
      "<class 'pandas.core.frame.DataFrame'>\n",
      "Index: 293645 entries, 1 to 367083\n",
      "Data columns (total 12 columns):\n",
      " #   Column           Non-Null Count   Dtype  \n",
      "---  ------           --------------   -----  \n",
      " 0   author           293643 non-null  object \n",
      " 1   author_url       293645 non-null  object \n",
      " 2   rating           290481 non-null  float64\n",
      " 3   rating_text      293645 non-null  object \n",
      " 4   city             115900 non-null  object \n",
      " 5   country          93678 non-null   object \n",
      " 6   organization     74935 non-null   object \n",
      " 7   contribution     293645 non-null  float64\n",
      " 8   friend_of        293645 non-null  float64\n",
      " 9   rating_max       290481 non-null  float64\n",
      " 10  rating_max_text  290481 non-null  object \n",
      " 11  registered       293645 non-null  object \n",
      "dtypes: float64(4), object(8)\n",
      "memory usage: 29.1+ MB\n"
     ]
    }
   ],
   "source": [
    "authors_active.info()"
   ],
   "metadata": {
    "collapsed": false,
    "ExecuteTime": {
     "start_time": "2023-04-11T20:11:21.764860Z",
     "end_time": "2023-04-11T20:11:21.810783Z"
    }
   }
  },
  {
   "cell_type": "code",
   "execution_count": 128,
   "outputs": [
    {
     "data": {
      "text/plain": "(304205, 307100)"
     },
     "execution_count": 128,
     "metadata": {},
     "output_type": "execute_result"
    }
   ],
   "source": [
    "ds.user_features_shape()"
   ],
   "metadata": {
    "collapsed": false,
    "ExecuteTime": {
     "start_time": "2023-04-11T20:22:16.046302Z",
     "end_time": "2023-04-11T20:22:16.101080Z"
    }
   }
  },
  {
   "cell_type": "code",
   "execution_count": 142,
   "outputs": [
    {
     "name": "stdout",
     "output_type": "stream",
     "text": [
      "/profile/PinkieDashForever\n",
      "/profile/PinkieDashForever\n",
      "/profile/PinkieDashForever\n",
      "/profile/PinkieDashForever\n",
      "/profile/PinkieDashForever\n",
      "/profile/cjtoribio\n",
      "/profile/cjtoribio\n",
      "/profile/cjtoribio\n",
      "/profile/cjtoribio\n",
      "/profile/cjtoribio\n"
     ]
    }
   ],
   "source": [
    "for a in submissions[['author_url', 'problem_url']].values[:10]:\n",
    "    print(a[0])"
   ],
   "metadata": {
    "collapsed": false,
    "ExecuteTime": {
     "start_time": "2023-04-11T20:33:40.898216Z",
     "end_time": "2023-04-11T20:33:41.119878Z"
    }
   }
  },
  {
   "cell_type": "code",
   "execution_count": 147,
   "outputs": [
    {
     "data": {
      "text/plain": "0"
     },
     "execution_count": 147,
     "metadata": {},
     "output_type": "execute_result"
    }
   ],
   "source": [
    "ds.mapping()[0][\"/profile/PinkieDashForever\"]"
   ],
   "metadata": {
    "collapsed": false,
    "ExecuteTime": {
     "start_time": "2023-04-11T20:35:37.665631Z",
     "end_time": "2023-04-11T20:35:37.679724Z"
    }
   }
  },
  {
   "cell_type": "code",
   "execution_count": 163,
   "outputs": [],
   "source": [
    "(interactions, weights) = ds.build_interactions(\n",
    "    ((x[0], x[1]) for x in submissions[['author_url', 'problem_url']].values))"
   ],
   "metadata": {
    "collapsed": false,
    "ExecuteTime": {
     "start_time": "2023-04-11T20:50:18.668630Z",
     "end_time": "2023-04-11T20:50:35.450362Z"
    }
   }
  },
  {
   "cell_type": "code",
   "execution_count": 164,
   "outputs": [
    {
     "data": {
      "text/plain": "{'/profile/PinkieDashForever': 0,\n '/profile/cjtoribio': 1,\n '/profile/miraliv': 2,\n '/profile/adrian.jaskolka': 3,\n '/profile/majia5': 4,\n '/profile/daniel.anghel': 5,\n '/profile/rowdark': 6,\n '/profile/GarySham': 7,\n '/profile/vsavchenkov': 8,\n '/profile/NikitaD': 9,\n '/profile/SWATMaD': 10,\n '/profile/xDEMONx': 11,\n '/profile/UESTC_Defense': 12,\n '/profile/Nodar': 13,\n '/profile/amir_sh': 14,\n '/profile/stqn': 15,\n '/profile/apathism': 16,\n '/profile/DimaPhil': 17,\n '/profile/wack-a-mole': 18,\n '/profile/knock-knock': 19,\n '/profile/Landertxu': 20,\n '/profile/Kaga2s': 21,\n '/profile/Zool': 22,\n '/profile/LinKin': 23,\n '/profile/Auster': 24,\n '/profile/ipaljak': 25,\n '/profile/Blink': 26,\n '/profile/ItsLastDay': 27,\n '/profile/vagnard': 28,\n '/profile/shibly': 29,\n '/profile/HeroShadow': 30,\n '/profile/Jesus': 31,\n '/profile/husheyn': 32,\n '/profile/tokoharu': 33,\n '/profile/eagletmt': 34,\n '/profile/D.M.': 35,\n '/profile/marim': 36,\n '/profile/spalac24': 37,\n '/profile/calflove': 38,\n '/profile/ycalvino': 39,\n '/profile/lcastillov': 40,\n '/profile/makeevvladx': 41,\n '/profile/72VanVector_SevNTU': 42,\n '/profile/xneby': 43,\n '/profile/ikk': 44,\n '/profile/sixteentons': 45,\n '/profile/Aliaksei': 46,\n '/profile/RomaWhite': 47,\n '/profile/pershik': 48,\n '/profile/Mikes': 49,\n '/profile/Eugen': 50,\n '/profile/kirmartynov': 51,\n '/profile/AnnKats93': 52,\n '/profile/nokia': 53,\n '/profile/An4ik.D': 54,\n '/profile/SavchukAM': 55,\n '/profile/undef': 56,\n '/profile/cup_of_tea': 57,\n '/profile/ZzzZ': 58,\n '/profile/Aleksander': 59,\n '/profile/STAJIKER': 60,\n '/profile/xhsong': 61,\n '/profile/kleninz': 62,\n '/profile/_Vadim_': 63,\n '/profile/rlac': 64,\n '/profile/MrMT': 65,\n '/profile/pfcntoorga': 66,\n '/profile/Logvinov_Leon': 67,\n '/profile/victorlf': 68,\n '/profile/aqua4': 69,\n '/profile/killerdjo': 70,\n '/profile/dergach': 71,\n '/profile/budabudimir': 72,\n '/profile/Tsumiman': 73,\n '/profile/dushmi94': 74,\n '/profile/RomanAkberov': 75,\n '/profile/alextim': 76,\n '/profile/ibra': 77,\n '/profile/coders1122': 78,\n '/profile/loggres': 79,\n '/profile/new': 80,\n '/profile/ankit_shukla': 81,\n '/profile/kolya37': 82,\n '/profile/abd.yerzhan': 83,\n '/profile/YerzhanU': 84,\n '/profile/Urbanowicz': 85,\n '/profile/trukanduk': 86,\n '/profile/StefanoT': 87,\n '/profile/duongnd': 88,\n '/profile/dmitry.s': 89,\n '/profile/mzhomart': 90,\n '/profile/luyi0619': 91,\n '/profile/RAF': 92,\n '/profile/R_Silva': 93,\n '/profile/doraemon': 94,\n '/profile/adam_': 95,\n '/profile/b_r': 96,\n '/profile/nima101': 97,\n '/profile/Perlik': 98,\n '/profile/DenXX': 99,\n '/profile/Timus': 100,\n '/profile/Ivan_Sergeev': 101,\n '/profile/asif_iut': 102,\n '/profile/lopek': 103,\n '/profile/Sanya_M': 104,\n '/profile/hakomo': 105,\n '/profile/Ilya_MSU': 106,\n '/profile/andra23': 107,\n '/profile/SergiiKo': 108,\n '/profile/mendax': 109,\n '/profile/stefan_naumovich': 110,\n '/profile/yashdv': 111,\n '/profile/mirsaid_mir': 112,\n '/profile/Silent_coder': 113,\n '/profile/mantas_urnieza': 114,\n '/profile/gourav.bit': 115,\n '/profile/bekzat': 116,\n '/profile/ortschun': 117,\n '/profile/dani1373': 118,\n '/profile/ostroumov': 119,\n '/profile/qwerty787788': 120,\n '/profile/mongolrgata': 121,\n '/profile/kwlyeo': 122,\n '/profile/NVAL': 123,\n '/profile/bardek': 124,\n '/profile/xJoK3Rx': 125,\n '/profile/AntiBiV': 126,\n '/profile/Permykov': 127,\n '/profile/akakiy': 128,\n '/profile/TeRom': 129,\n '/profile/tereshinvs': 130,\n '/profile/igor.silin': 131,\n '/profile/snguyen': 132,\n '/profile/arcsaber': 133,\n '/profile/Demasi': 134,\n '/profile/littlepanda': 135,\n '/profile/Acko': 136,\n '/profile/NeverLand.Dai': 137,\n '/profile/Seryi': 138,\n '/profile/Fedepousa': 139,\n '/profile/GR1n': 140,\n '/profile/Astekinane': 141,\n '/profile/bbugaev': 142,\n '/profile/radix.ru': 143,\n '/profile/alkaid': 144,\n '/profile/Parhomets': 145,\n '/profile/Hamzawy': 146,\n '/profile/sequence': 147,\n '/profile/cs_Diablo': 148,\n '/profile/pratikmoona': 149,\n '/profile/Creed': 150,\n '/profile/Gantz': 151,\n '/profile/pulkitg10': 152,\n '/profile/Long-shot': 153,\n '/profile/wisterik': 154,\n '/profile/shahdza': 155,\n '/profile/Monmoy': 156,\n '/profile/Enric': 157,\n '/profile/AND1989': 158,\n '/profile/Abulkhair': 159,\n '/profile/johnLate': 160,\n '/profile/willmetalufg': 161,\n '/profile/okoled': 162,\n '/profile/Sokolov': 163,\n '/profile/rayafjyblue': 164,\n '/profile/1a1a1a': 165,\n '/profile/wil93': 166,\n '/profile/iulawb195': 167,\n '/profile/mosquito': 168,\n '/profile/kwetril': 169,\n '/profile/hujiaxi': 170,\n '/profile/BademiChetan': 171,\n '/profile/mystery_boy': 172,\n '/profile/m_p': 173,\n '/profile/buluttekelioglu': 174,\n '/profile/lijunle': 175,\n '/profile/fcjy888': 176,\n '/profile/tyamgin': 177,\n '/profile/Koblyk': 178,\n '/profile/astrovsky': 179,\n '/profile/Nickolas': 180,\n '/profile/gympp': 181,\n '/profile/mgqa34': 182,\n '/profile/TMandzu': 183,\n '/profile/Corecoder_herowei': 184,\n '/profile/charlie': 185,\n '/profile/SmirnovBoris': 186,\n '/profile/jaric': 187,\n '/profile/Zen': 188,\n '/profile/sakib.malek': 189,\n '/profile/d1xlord': 190,\n '/profile/gnull': 191,\n '/profile/fullaccepted': 192,\n '/profile/zhasikz': 193,\n '/profile/maxim-m94': 194,\n '/profile/API': 195,\n '/profile/bm_anas': 196,\n '/profile/justever': 197,\n '/profile/babak': 198,\n '/profile/ashi009': 199,\n '/profile/Konovalov_Nik': 200,\n '/profile/Te4NIK': 201,\n '/profile/Willionaire': 202,\n '/profile/davidepallotti': 203,\n '/profile/littleturtle': 204,\n '/profile/abody97': 205,\n '/profile/david89': 206,\n '/profile/kabir.sohel': 207,\n '/profile/devils13': 208,\n '/profile/iRomchig': 209,\n '/profile/izban': 210,\n '/profile/yuxingdubai': 211,\n '/profile/pioneer': 212,\n '/profile/shakil': 213,\n '/profile/OptimuS99': 214,\n '/profile/aildermi': 215,\n '/profile/mohammad.mahmoodi': 216,\n '/profile/buaagg': 217,\n '/profile/grandmaster': 218,\n '/profile/Bidhan': 219,\n '/profile/Obaida': 220,\n '/profile/Volkyoe': 221,\n '/profile/ymondelo20': 222,\n '/profile/yongwhan': 223,\n '/profile/diarnwan': 224,\n '/profile/Ministr': 225,\n '/profile/_arjun': 226,\n '/profile/tiirz': 227,\n '/profile/hriss95': 228,\n '/profile/xaspa': 229,\n '/profile/deepangupta91': 230,\n '/profile/bjgo': 231,\n '/profile/zimbabwe': 232,\n '/profile/Smit': 233,\n '/profile/Alisafe': 234,\n '/profile/marsteroint': 235,\n '/profile/logic_max': 236,\n '/profile/shato': 237,\n '/profile/clx': 238,\n '/profile/Arti1990': 239,\n '/profile/konstantin.lex': 240,\n '/profile/slavaro': 241,\n '/profile/Volk': 242,\n '/profile/Adrian2010': 243,\n '/profile/MeHdi.KaZemI8': 244,\n '/profile/Empty': 245,\n '/profile/Atmo': 246,\n '/profile/magdi': 247,\n '/profile/ahm.kam_92': 248,\n '/profile/Dante': 249,\n '/profile/SerCe': 250,\n '/profile/Radchyk_Vitaliy': 251,\n '/profile/takapt': 252,\n '/profile/kovshi': 253,\n '/profile/zroom': 254,\n '/profile/Snef': 255,\n '/profile/floringh06': 256,\n '/profile/xsc': 257,\n '/profile/taserghar': 258,\n '/profile/am-real': 259,\n '/profile/MitRo': 260,\n '/profile/palcu': 261,\n '/profile/wasi.ahmed': 262,\n '/profile/bluesubzero': 263,\n '/profile/7-zhelanii': 264,\n '/profile/MrPapaya': 265,\n '/profile/iama': 266,\n '/profile/dany': 267,\n '/profile/mohammadrdeh': 268,\n '/profile/dharusimu': 269,\n '/profile/alex.alex': 270,\n '/profile/just4temping': 271,\n '/profile/l-.-l': 272,\n '/profile/__ivan__': 273,\n '/profile/Tadrion': 274,\n '/profile/okuzn': 275,\n '/profile/owetganna': 276,\n '/profile/blaklites': 277,\n '/profile/sh19910711': 278,\n '/profile/andresilva91': 279,\n '/profile/jonathanso123456': 280,\n '/profile/morteza.keshtkaran': 281,\n '/profile/Woodpecker': 282,\n '/profile/WingeD': 283,\n '/profile/LVampa': 284,\n '/profile/gotman.maria': 285,\n '/profile/Pitazboras': 286,\n '/profile/LeMieux': 287,\n '/profile/tcbpg': 288,\n '/profile/rishabhm': 289,\n '/profile/Battle_Mage': 290,\n '/profile/Acetoace': 291,\n '/profile/sniper1fm': 292,\n '/profile/abdukodir': 293,\n '/profile/jratkovic': 294,\n '/profile/f.nasim': 295,\n '/profile/Nina_Sidorova': 296,\n '/profile/mohamedkaram': 297,\n '/profile/aminabedi': 298,\n '/profile/eudanip': 299,\n '/profile/hogeover30': 300,\n '/profile/lfsmoura': 301,\n '/profile/kaifonaft': 302,\n '/profile/MrShocoladka': 303,\n '/profile/fml': 304,\n '/profile/nishitiiith': 305,\n '/profile/LIQRGV': 306,\n '/profile/QtieRu4': 307,\n '/profile/Michael_Spitzin': 308,\n '/profile/ioanisyan': 309,\n '/profile/math_mania': 310,\n '/profile/sami001': 311,\n '/profile/Sultan': 312,\n '/profile/ton4eg': 313,\n '/profile/romanova': 314,\n '/profile/dragonfire': 315,\n '/profile/Ronok1307': 316,\n '/profile/median0816': 317,\n '/profile/Arsenal911': 318,\n '/profile/semicolon29': 319,\n '/profile/cxyue': 320,\n '/profile/adityasinghhh': 321,\n '/profile/niksmiljkovic': 322,\n '/profile/sergio10barca': 323,\n '/profile/Serzhan': 324,\n '/profile/aishvarya': 325,\n '/profile/scier': 326,\n '/profile/Quazar': 327,\n '/profile/theriddler000': 328,\n '/profile/MarwanPP': 329,\n '/profile/zlc55321': 330,\n '/profile/Tranvick': 331,\n '/profile/ondrah': 332,\n '/profile/unasm': 333,\n '/profile/NadyaM': 334,\n '/profile/dima11221122': 335,\n '/profile/aeron': 336,\n '/profile/Warxezz': 337,\n '/profile/nota': 338,\n '/profile/Barricadenick': 339,\n '/profile/Nigga': 340,\n '/profile/iJedi': 341,\n '/profile/t_mackz': 342,\n '/profile/kolistivra': 343,\n '/profile/antonio_junior': 344,\n '/profile/husseincoder': 345,\n '/profile/t.gogniashvili': 346,\n '/profile/unrated': 347,\n '/profile/Chunky.Gecko': 348,\n '/profile/warchildmd': 349,\n '/profile/mkagenius': 350,\n '/profile/nurdaulet': 351,\n '/profile/Dasha': 352,\n '/profile/Temirulan': 353,\n '/profile/Tervel': 354,\n '/profile/mugen': 355,\n '/profile/arm': 356,\n '/profile/plexus': 357,\n '/profile/Delta003': 358,\n '/profile/laurion': 359,\n '/profile/Jamik': 360,\n '/profile/ishikado': 361,\n '/profile/DarkDaiver': 362,\n '/profile/archangel': 363,\n '/profile/Sklyack': 364,\n '/profile/dshaman92': 365,\n '/profile/sagar.topcoder': 366,\n '/profile/TRR': 367,\n '/profile/kashyap_kumar': 368,\n '/profile/Kisa_ss': 369,\n '/profile/anksanu1989': 370,\n '/profile/best.ua': 371,\n '/profile/BatusaiX': 372,\n '/profile/tig': 373,\n '/profile/serlis': 374,\n '/profile/linleo': 375,\n '/profile/passick': 376,\n '/profile/NastyaPNTU': 377,\n '/profile/marina_h': 378,\n '/profile/mgorvat': 379,\n '/profile/leviathan': 380,\n '/profile/-----': 381,\n '/profile/Dimalish': 382,\n '/profile/eater': 383,\n '/profile/SpitefulShaman': 384,\n '/profile/ago': 385,\n '/profile/Bylinovich.Vladislav': 386,\n '/profile/SanD94': 387,\n '/profile/Vitonka': 388,\n '/profile/vksgupta44': 389,\n '/profile/madxmad': 390,\n '/profile/anshuman179': 391,\n '/profile/baukaman': 392,\n '/profile/Cardi': 393,\n '/profile/serik.beketayev': 394,\n '/profile/Zozman': 395,\n '/profile/iHong': 396,\n '/profile/svrsvr': 397,\n '/profile/Fim': 398,\n '/profile/southsinger': 399,\n '/profile/h.hesham': 400,\n '/profile/AxelBall': 401,\n '/profile/TarifEzaz': 402,\n '/profile/t0nyukuk': 403,\n '/profile/milenkoviclazar': 404,\n '/profile/neverous': 405,\n '/profile/dengaleev': 406,\n '/profile/zhukov': 407,\n '/profile/kenliu': 408,\n '/profile/link_alex': 409,\n '/profile/shohedshakil': 410,\n '/profile/Xerxes': 411,\n '/profile/mukulgupta': 412,\n '/profile/danilko': 413,\n '/profile/jfuentes': 414,\n '/profile/hctannus': 415,\n '/profile/SmartCoder': 416,\n '/profile/AnnemaMissa': 417,\n '/profile/MakCoder': 418,\n '/profile/victoryland': 419,\n '/profile/armedbeast': 420,\n '/profile/michaelrpg': 421,\n '/profile/bytybai': 422,\n '/profile/nurbas': 423,\n '/profile/teodor94': 424,\n '/profile/pol': 425,\n '/profile/upoma': 426,\n '/profile/vlade087': 427,\n '/profile/phamducgiam': 428,\n '/profile/Catchy': 429,\n '/profile/jariasf': 430,\n '/profile/azk84': 431,\n '/profile/eyelesskayes': 432,\n '/profile/eclips': 433,\n '/profile/abhinavsingi': 434,\n '/profile/yeshuihai': 435,\n '/profile/undefined_thimpu': 436,\n '/profile/quietude': 437,\n '/profile/Inspired': 438,\n '/profile/LesyaPhoenix': 439,\n '/profile/IvanKol': 440,\n '/profile/adel_gilmullin': 441,\n '/profile/dennisbot': 442,\n '/profile/reink': 443,\n '/profile/Lapenkov': 444,\n '/profile/quandum': 445,\n '/profile/farhan_iut': 446,\n '/profile/EarlOfDitches': 447,\n '/profile/ivanr.nk': 448,\n '/profile/razh2009': 449,\n '/profile/simple.simon': 450,\n '/profile/ArK': 451,\n '/profile/Ab.Sultan': 452,\n '/profile/Amir.bh': 453,\n '/profile/Isania': 454,\n '/profile/aqib': 455,\n '/profile/Dimp': 456,\n '/profile/zhaoweijie12': 457,\n '/profile/NiceDay': 458,\n '/profile/kissgi677': 459,\n '/profile/iman_MC': 460,\n '/profile/jujojujo_2003': 461,\n '/profile/knix': 462,\n '/profile/Herisson': 463,\n '/profile/dpvlasov': 464,\n '/profile/mayank.punetha': 465,\n '/profile/Khaled91': 466,\n '/profile/dojiboy9': 467,\n '/profile/aaaaAaaaaAaaaaAaaaaA': 468,\n '/profile/MDK': 469,\n '/profile/aumy': 470,\n '/profile/buno_hash': 471,\n '/profile/Alex.lap': 472,\n '/profile/abhishek777': 473,\n '/profile/wanbo': 474,\n '/profile/anatoliin': 475,\n '/profile/obag': 476,\n '/profile/Anurag': 477,\n '/profile/iamoxygen': 478,\n '/profile/SlaviaN': 479,\n '/profile/nanke_': 480,\n '/profile/Prestige': 481,\n '/profile/Lougarou': 482,\n '/profile/BAIZOR': 483,\n '/profile/Horizon': 484,\n '/profile/sina_uice': 485,\n '/profile/tam_71': 486,\n '/profile/Vault_34': 487,\n '/profile/Tirreks': 488,\n '/profile/faiyaz26': 489,\n '/profile/superhy': 490,\n '/profile/A_NISHA': 491,\n '/profile/Jigers': 492,\n '/profile/Yousef_Salama': 493,\n '/profile/spOoky': 494,\n '/profile/najo': 495,\n '/profile/gravity': 496,\n '/profile/madjohn': 497,\n '/profile/coderling': 498,\n '/profile/lazydog': 499,\n '/profile/siddharth_l': 500,\n '/profile/compileGuy': 501,\n '/profile/Dark_White': 502,\n '/profile/Birjik': 503,\n '/profile/rdraft': 504,\n '/profile/alejopelaez': 505,\n '/profile/Tanusha': 506,\n '/profile/darknyaz': 507,\n '/profile/gridnevvvit': 508,\n '/profile/andrew.h': 509,\n '/profile/sfwering': 510,\n '/profile/MrDindows': 511,\n '/profile/RHman16': 512,\n '/profile/gosia': 513,\n '/profile/goyal.arpit.91': 514,\n '/profile/MrBear': 515,\n '/profile/AhlyM': 516,\n '/profile/ty70': 517,\n '/profile/iksuy': 518,\n '/profile/Tamanna_24': 519,\n '/profile/mn.ocean': 520,\n '/profile/Andrey92treyder': 521,\n '/profile/ER.abd_off': 522,\n '/profile/zhbit_yola': 523,\n '/profile/Luxy': 524,\n '/profile/kisu_pari_na': 525,\n '/profile/Hachiikung': 526,\n '/profile/andryk': 527,\n '/profile/NSV': 528,\n '/profile/jefferson_': 529,\n '/profile/Och-Iv2000': 530,\n '/profile/mrunique.01': 531,\n '/profile/abhipaliwal': 532,\n '/profile/pothikerdiary': 533,\n '/profile/craybeats': 534,\n '/profile/GPV': 535,\n '/profile/kush': 536,\n '/profile/CityHunter': 537,\n '/profile/vo_van': 538,\n '/profile/Pronin_Sergey': 539,\n '/profile/saurabhpandey': 540,\n '/profile/ApacheEx': 541,\n '/profile/Cheshir': 542,\n '/profile/nnhamane': 543,\n '/profile/PML': 544,\n '/profile/dan.nikonov': 545,\n '/profile/England': 546,\n '/profile/cchun': 547,\n '/profile/metalhead.sanya': 548,\n '/profile/anon': 549,\n '/profile/xtl_': 550,\n '/profile/rashed_safa': 551,\n '/profile/sundeepblue': 552,\n '/profile/surath': 553,\n '/profile/BIT': 554,\n '/profile/yu-huh': 555,\n '/profile/HorgH': 556,\n '/profile/rut4ik': 557,\n '/profile/Roowe': 558,\n '/profile/paulus': 559,\n '/profile/eimantas.juras': 560,\n '/profile/haha': 561,\n '/profile/ATogzhan': 562,\n '/profile/sanjaysaha': 563,\n '/profile/de_troit': 564,\n '/profile/madinamstf': 565,\n '/profile/enfinet': 566,\n '/profile/Scipt': 567,\n '/profile/notEphim': 568,\n '/profile/groverc002': 569,\n '/profile/jobmail.borisov': 570,\n '/profile/eli.rodriheck': 571,\n '/profile/091150096': 572,\n '/profile/S.HASHEMI': 573,\n '/profile/Ratuvog': 574,\n '/profile/akshayjain': 575,\n '/profile/divudivyansh': 576,\n '/profile/Semenov_Petr': 577,\n '/profile/Sawon90': 578,\n '/profile/tille100': 579,\n '/profile/rohitg': 580,\n '/profile/removeit': 581,\n '/profile/warrior_c': 582,\n '/profile/genro': 583,\n '/profile/aki08': 584,\n '/profile/m_milad': 585,\n '/profile/ogzd': 586,\n '/profile/konok': 587,\n '/profile/Andrew_Merkulov': 588,\n '/profile/yatyt': 589,\n '/profile/i.k': 590,\n '/profile/tommyz': 591,\n '/profile/Ne_y': 592,\n '/profile/anton.iokov': 593,\n '/profile/Dakovalev1': 594,\n '/profile/venkat': 595,\n '/profile/kiana': 596,\n '/profile/illay': 597,\n '/profile/CodeFreak': 598,\n '/profile/bhadra': 599,\n '/profile/BeleX': 600,\n '/profile/FreezingCool': 601,\n '/profile/Vinod_Shunmugavel': 602,\n '/profile/ravingeek': 603,\n '/profile/Untitled': 604,\n '/profile/tsotnep': 605,\n '/profile/herr_bilbo': 606,\n '/profile/fryzito': 607,\n '/profile/Goblin': 608,\n '/profile/kvm': 609,\n '/profile/parina': 610,\n '/profile/manoharprabhu': 611,\n '/profile/nanAlexis': 612,\n '/profile/deb_seu': 613,\n '/profile/bekzhan29': 614,\n '/profile/NewbieForever': 615,\n '/profile/alexandret': 616,\n '/profile/jrarias': 617,\n '/profile/ilyakryukov': 618,\n '/profile/homelesser': 619,\n '/profile/coderbd': 620,\n '/profile/jainisback': 621,\n '/profile/Cromel': 622,\n '/profile/mashasandrikova': 623,\n '/profile/Tenich': 624,\n '/profile/Zelich': 625,\n '/profile/Snark': 626,\n '/profile/xioumu': 627,\n '/profile/Eather': 628,\n '/profile/milhovhannisyan': 629,\n '/profile/mbaros': 630,\n '/profile/Maria184': 631,\n '/profile/trycoder': 632,\n '/profile/butters_stotch': 633,\n '/profile/gsomix': 634,\n '/profile/ryanaaa': 635,\n '/profile/Stolyarov': 636,\n '/profile/eltayev22': 637,\n '/profile/Lion': 638,\n '/profile/raynerhmc': 639,\n '/profile/asungat': 640,\n '/profile/ronnie1845': 641,\n '/profile/egenius': 642,\n '/profile/vachramchik': 643,\n '/profile/milosev': 644,\n '/profile/sync': 645,\n '/profile/greenhope': 646,\n '/profile/cheswick': 647,\n '/profile/srivatsan_vn': 648,\n '/profile/f4lung': 649,\n '/profile/yuri_i': 650,\n '/profile/emrevarol': 651,\n '/profile/Mila': 652,\n '/profile/asakevarashvili': 653,\n '/profile/acedpedped': 654,\n '/profile/htrinh': 655,\n '/profile/QZAR': 656,\n '/profile/Suvorov': 657,\n '/profile/lighter': 658,\n '/profile/UCI-Night': 659,\n '/profile/intsashka': 660,\n '/profile/AKarpinsky': 661,\n '/profile/vallejolan': 662,\n '/profile/thnkndblv': 663,\n '/profile/OmarEl-Mohandes': 664,\n '/profile/Max_Smolyakov': 665,\n '/profile/luzihao': 666,\n '/profile/Fbulatov': 667,\n '/profile/dcp': 668,\n '/profile/Yurik': 669,\n '/profile/tikfiz': 670,\n '/profile/kaushik.mv3': 671,\n '/profile/A_S_Potter': 672,\n '/profile/Long3dao': 673,\n '/profile/I_love_47': 674,\n '/profile/Tahlil': 675,\n '/profile/Light_Yagami': 676,\n '/profile/Troy1118': 677,\n '/profile/Sane': 678,\n '/profile/ameydhar': 679,\n '/profile/haliloglu': 680,\n '/profile/vin_74': 681,\n '/profile/Helgui': 682,\n '/profile/Bekhzod_Soliev': 683,\n '/profile/mishanay': 684,\n '/profile/nitin.gangahar': 685,\n '/profile/marat': 686,\n '/profile/masoudcs': 687,\n '/profile/MK3': 688,\n '/profile/PraveenDhinwa': 689,\n '/profile/Lmshonok': 690,\n '/profile/jlcastrillon': 691,\n '/profile/Sanzee': 692,\n '/profile/ZHBIT_JI_LWT': 693,\n '/profile/Hyppocrat': 694,\n '/profile/derbaer': 695,\n '/profile/camapaojiekca': 696,\n '/profile/roshan_iiita': 697,\n '/profile/rajnesh': 698,\n '/profile/ass4': 699,\n '/profile/G_Gnome': 700,\n '/profile/aHsirG': 701,\n '/profile/yisyis': 702,\n '/profile/akashs.cse': 703,\n '/profile/G4c4r0': 704,\n '/profile/mafia': 705,\n '/profile/unit7': 706,\n '/profile/vineetonrole': 707,\n '/profile/d_i': 708,\n '/profile/NoiseGL': 709,\n '/profile/DreadlockEugene': 710,\n '/profile/meroboy66': 711,\n '/profile/mrbammo': 712,\n '/profile/egor.okhterov': 713,\n '/profile/AmirAli': 714,\n '/profile/rangeeli': 715,\n '/profile/Footman': 716,\n '/profile/mng': 717,\n '/profile/rulojuka': 718,\n '/profile/NikitaPogodin': 719,\n '/profile/cosmin': 720,\n '/profile/OmniLRenegadE': 721,\n '/profile/lvdo92': 722,\n '/profile/byblos': 723,\n '/profile/sokokaleb': 724,\n '/profile/albualex': 725,\n '/profile/AlirezaN': 726,\n '/profile/artyommaths': 727,\n '/profile/nadia': 728,\n '/profile/swain': 729,\n '/profile/zakharvoit': 730,\n '/profile/Dejust': 731,\n '/profile/Arloesi': 732,\n '/profile/millimeterKing': 733,\n '/profile/Totktonada': 734,\n '/profile/Bujo0': 735,\n '/profile/Andrew146': 736,\n '/profile/Halum': 737,\n '/profile/Deniska_Alekseyevich': 738,\n '/profile/alp-arslan': 739,\n '/profile/sourav_sust_10': 740,\n '/profile/mehenaz': 741,\n '/profile/timus1994': 742,\n '/profile/farnabaz': 743,\n '/profile/d-o_o-b': 744,\n '/profile/CRconan': 745,\n '/profile/RitterSport': 746,\n '/profile/phoenx7': 747,\n '/profile/mr.ky': 748,\n '/profile/Cenadar': 749,\n '/profile/volodymyrpr': 750,\n '/profile/achiko93': 751,\n '/profile/Hedayet': 752,\n '/profile/WarLoveR': 753,\n '/profile/masibonge': 754,\n '/profile/AppleZ': 755,\n '/profile/candle': 756,\n '/profile/Renderhp': 757,\n '/profile/Predimonio': 758,\n '/profile/rdik': 759,\n '/profile/AnBat': 760,\n '/profile/lmsavigne': 761,\n '/profile/biatlon007': 762,\n '/profile/neo0057': 763,\n '/profile/Felidae': 764,\n '/profile/Rmin': 765,\n '/profile/Qubit01': 766,\n '/profile/AnOnIm': 767,\n '/profile/Demarkok': 768,\n '/profile/sudan_balai': 769,\n '/profile/emil': 770,\n '/profile/sandro_barna': 771,\n '/profile/VirtualEnonyfake': 772,\n '/profile/oldoldold': 773,\n '/profile/elshiko': 774,\n '/profile/daniil_tropin': 775,\n '/profile/kotokur': 776,\n '/profile/alehander42': 777,\n '/profile/truongbom': 778,\n '/profile/djrock': 779,\n '/profile/firstL': 780,\n '/profile/kojimo': 781,\n '/profile/katrin-bon': 782,\n '/profile/MJavad': 783,\n '/profile/Alekseiys': 784,\n '/profile/Aslan.m': 785,\n '/profile/Malthael': 786,\n '/profile/qvazar': 787,\n '/profile/michail.vms': 788,\n '/profile/mezhaka': 789,\n '/profile/guptashailesh92': 790,\n '/profile/harish.venkat': 791,\n '/profile/odranoel': 792,\n '/profile/Rapeyourmind': 793,\n '/profile/Belial': 794,\n '/profile/Rishat_Ibrahimov': 795,\n '/profile/ilidar': 796,\n '/profile/nipun.lall': 797,\n '/profile/MSPA': 798,\n '/profile/paraggupta1993': 799,\n '/profile/tahaeghtesad': 800,\n '/profile/Emeaya': 801,\n '/profile/sania': 802,\n '/profile/DVine': 803,\n '/profile/Raptor': 804,\n '/profile/ramazan_ktl': 805,\n '/profile/Lauri': 806,\n '/profile/Nebuchadnezzar': 807,\n '/profile/Avitella': 808,\n '/profile/Deep_Blue_01': 809,\n '/profile/okaoka': 810,\n '/profile/The_CodeBreakeR': 811,\n '/profile/IHaveShort': 812,\n '/profile/tqyaaaaaaaang': 813,\n '/profile/UmaThurman': 814,\n '/profile/Moiezen': 815,\n '/profile/FIKS_samurai': 816,\n '/profile/ysy_win_ioi': 817,\n '/profile/DysKode': 818,\n '/profile/Iriskinn': 819,\n '/profile/outerform': 820,\n '/profile/Yash_': 821,\n '/profile/nevgen': 822,\n '/profile/hansonyu123': 823,\n '/profile/Java4ever': 824,\n '/profile/yoshinoprpr': 825,\n '/profile/fanzhirui': 826,\n '/profile/Indecchi': 827,\n '/profile/AMR-KELEG': 828,\n '/profile/bukefala': 829,\n '/profile/boosted.bonobo': 830,\n '/profile/Dream-Reality': 831,\n '/profile/_ISA_': 832,\n '/profile/Maxim': 833,\n '/profile/shadowfax': 834,\n '/profile/MedalPluS': 835,\n '/profile/denis2111': 836,\n '/profile/kirillbogatiy': 837,\n '/profile/ujjwal9895': 838,\n '/profile/Tanzir5': 839,\n '/profile/love_kotori': 840,\n '/profile/ydivadjyzzifz': 841,\n '/profile/fauzdar65': 842,\n '/profile/luucasv': 843,\n '/profile/bgrm': 844,\n '/profile/bekar': 845,\n '/profile/pkk.tino': 846,\n '/profile/wolfling1': 847,\n '/profile/flash_7': 848,\n '/profile/fragusbot': 849,\n '/profile/Skyflake': 850,\n '/profile/OTTEBROT': 851,\n '/profile/RNS_MHB': 852,\n '/profile/haleyk100198': 853,\n '/profile/jinlifu1999': 854,\n '/profile/Anuar': 855,\n '/profile/bugrahan': 856,\n '/profile/CantGetAnyWaWhyIamSoWise': 857,\n '/profile/WeLoveSedGhasem': 858,\n '/profile/vigoss18': 859,\n '/profile/HeZiying': 860,\n '/profile/BALDA_AMAR': 861,\n '/profile/xiaosi': 862,\n '/profile/ezLadder': 863,\n '/profile/lxambulance': 864,\n '/profile/unbelievable02': 865,\n '/profile/LoppA': 866,\n '/profile/hsuppr': 867,\n '/profile/Ragdoll': 868,\n '/profile/ddddddpppppp': 869,\n '/profile/nukeykt': 870,\n '/profile/Wert4x4': 871,\n '/profile/Kostyan': 872,\n '/profile/FallDream': 873,\n '/profile/JesusChrist': 874,\n '/profile/Khazhak': 875,\n '/profile/NBAH': 876,\n '/profile/Basement': 877,\n '/profile/AlexandruValeanu': 878,\n '/profile/pavlovv': 879,\n '/profile/vsp4': 880,\n '/profile/only_one_year': 881,\n '/profile/MohamedZain': 882,\n '/profile/Hackrxer': 883,\n '/profile/Provet': 884,\n '/profile/NanaKagura': 885,\n '/profile/fofao_funk': 886,\n '/profile/anta.baka': 887,\n '/profile/Ginzaner': 888,\n '/profile/ega.volk': 889,\n '/profile/yuanzhaolin': 890,\n '/profile/I_See_You': 891,\n '/profile/dom': 892,\n '/profile/AyazAta': 893,\n '/profile/Moandor': 894,\n '/profile/iwashi31': 895,\n '/profile/gabrielinelus': 896,\n '/profile/Noxitu': 897,\n '/profile/Tiberiu': 898,\n '/profile/Pennyroyal_Tea': 899,\n '/profile/A_A_': 900,\n '/profile/sp_502': 901,\n '/profile/o948': 902,\n '/profile/mihai.zsisku': 903,\n '/profile/THOOR_000': 904,\n '/profile/Splashing': 905,\n '/profile/xht13127': 906,\n '/profile/zhabo': 907,\n '/profile/butcherofblaviken': 908,\n '/profile/Antimony': 909,\n '/profile/Minology': 910,\n '/profile/ollpu': 911,\n '/profile/fhy_tan': 912,\n '/profile/grayhathacker': 913,\n '/profile/euyecw120': 914,\n '/profile/neerajbattan': 915,\n '/profile/ccsnoopy': 916,\n '/profile/sasasagagaga': 917,\n '/profile/_Dragon_': 918,\n '/profile/drrrzdk': 919,\n '/profile/FoolPerson': 920,\n '/profile/danilserov': 921,\n '/profile/0w1': 922,\n '/profile/zhzxcool': 923,\n '/profile/calla212': 924,\n '/profile/Daikon': 925,\n '/profile/Goodbye1997': 926,\n '/profile/artisticoder': 927,\n '/profile/hzhJiang': 928,\n '/profile/Holy_Westfalen': 929,\n '/profile/draak_krijger': 930,\n '/profile/firehawk': 931,\n '/profile/KrewZh': 932,\n '/profile/Volja': 933,\n '/profile/eu3neuom': 934,\n '/profile/dashakisik': 935,\n '/profile/zyf2000': 936,\n '/profile/Salim_Shebli': 937,\n '/profile/aydarboss': 938,\n '/profile/TheConfessor': 939,\n '/profile/catherod': 940,\n '/profile/allllekssssa': 941,\n '/profile/comunodi': 942,\n '/profile/Envyte': 943,\n '/profile/suxrib': 944,\n '/profile/mihail.jianu': 945,\n '/profile/vntshh': 946,\n '/profile/no-longer-active': 947,\n '/profile/yctqzh386': 948,\n '/profile/el_smurfo': 949,\n '/profile/wang1991': 950,\n '/profile/CODOPEDIAC3': 951,\n '/profile/PKUItachi': 952,\n '/profile/ZigonK': 953,\n '/profile/igand': 954,\n '/profile/ielenik': 955,\n '/profile/-_M-M_-': 956,\n '/profile/Silentium': 957,\n '/profile/cangfeng': 958,\n '/profile/cookiedoth': 959,\n '/profile/GreyMaster': 960,\n '/profile/Miteusz': 961,\n '/profile/lekhang123lc': 962,\n '/profile/HbFS-': 963,\n '/profile/SGZW': 964,\n '/profile/Arrows': 965,\n '/profile/Jaihk662': 966,\n '/profile/_D41_': 967,\n '/profile/MishaPrigara': 968,\n '/profile/claus_spb': 969,\n '/profile/5p1d3r': 970,\n '/profile/-Sali-': 971,\n '/profile/I_Love_tanmay273': 972,\n '/profile/ian9696': 973,\n '/profile/_42': 974,\n '/profile/x_entropy': 975,\n '/profile/Took': 976,\n '/profile/yaegashi': 977,\n '/profile/rahulnagurtha': 978,\n '/profile/Djok216': 979,\n '/profile/Mustang98': 980,\n '/profile/sir_ementaler': 981,\n '/profile/tansongsong': 982,\n '/profile/xolm': 983,\n '/profile/Kelang': 984,\n '/profile/moshiur.bd': 985,\n '/profile/fmota': 986,\n '/profile/volkovda351': 987,\n '/profile/shirokami': 988,\n '/profile/SAeed': 989,\n '/profile/F02H': 990,\n '/profile/achm': 991,\n '/profile/bluefi': 992,\n '/profile/drigger': 993,\n '/profile/asawasa': 994,\n '/profile/deshaion': 995,\n '/profile/waterside': 996,\n '/profile/sanjana_chatterjee': 997,\n '/profile/sunset': 998,\n '/profile/escepta': 999,\n ...}"
     },
     "execution_count": 164,
     "metadata": {},
     "output_type": "execute_result"
    }
   ],
   "source": [
    "ds._user_feature_mapping"
   ],
   "metadata": {
    "collapsed": false,
    "ExecuteTime": {
     "start_time": "2023-04-11T20:57:00.673187Z",
     "end_time": "2023-04-11T20:57:00.741854Z"
    }
   }
  },
  {
   "cell_type": "code",
   "execution_count": 183,
   "outputs": [],
   "source": [
    "user_features = ds.build_user_features((x[0], x[1:]) for x in authors_active[\n",
    "    [\"author_url\", \"rating\", \"rating_text\", \"rating_max\", \"rating_max_text\"]].values if all([i == i for i in x[1:]]))"
   ],
   "metadata": {
    "collapsed": false,
    "ExecuteTime": {
     "start_time": "2023-04-11T21:18:10.507988Z",
     "end_time": "2023-04-11T21:18:13.444526Z"
    }
   }
  },
  {
   "cell_type": "code",
   "execution_count": 184,
   "outputs": [
    {
     "data": {
      "text/plain": "<304205x307100 sparse matrix of type '<class 'numpy.float32'>'\n\twith 1170227 stored elements in Compressed Sparse Row format>"
     },
     "execution_count": 184,
     "metadata": {},
     "output_type": "execute_result"
    }
   ],
   "source": [
    "user_features"
   ],
   "metadata": {
    "collapsed": false,
    "ExecuteTime": {
     "start_time": "2023-04-11T21:18:19.177453Z",
     "end_time": "2023-04-11T21:18:19.202488Z"
    }
   }
  },
  {
   "cell_type": "code",
   "execution_count": 187,
   "outputs": [],
   "source": [
    "item_features = ds.build_item_features(\n",
    "    (x[0], x[1:]) for x in problems[[\"problem_url\", \"filled_rating\", \"tags\", \"filled_points\"]].values if\n",
    "    all([i == i for i in x[1:]]))"
   ],
   "metadata": {
    "collapsed": false,
    "ExecuteTime": {
     "start_time": "2023-04-11T21:21:22.021904Z",
     "end_time": "2023-04-11T21:21:22.117871Z"
    }
   }
  },
  {
   "cell_type": "code",
   "execution_count": 188,
   "outputs": [
    {
     "data": {
      "text/plain": "<10213x13037 sparse matrix of type '<class 'numpy.float32'>'\n\twith 39482 stored elements in Compressed Sparse Row format>"
     },
     "execution_count": 188,
     "metadata": {},
     "output_type": "execute_result"
    }
   ],
   "source": [
    "item_features"
   ],
   "metadata": {
    "collapsed": false,
    "ExecuteTime": {
     "start_time": "2023-04-11T21:21:26.931497Z",
     "end_time": "2023-04-11T21:21:27.001177Z"
    }
   }
  },
  {
   "cell_type": "markdown",
   "source": [
    "## Building the model"
   ],
   "metadata": {
    "collapsed": false
   }
  },
  {
   "cell_type": "code",
   "execution_count": 194,
   "outputs": [
    {
     "data": {
      "text/plain": "{'/contest/127/problem/A': 0,\n '/contest/127/problem/B': 1,\n '/contest/127/problem/C': 2,\n '/contest/127/problem/D': 3,\n '/contest/127/problem/E': 4,\n '/contest/746/problem/A': 5,\n '/contest/746/problem/B': 6,\n '/contest/746/problem/C': 7,\n '/contest/746/problem/D': 8,\n '/contest/746/problem/E': 9,\n '/contest/746/problem/F': 10,\n '/contest/746/problem/G': 11,\n '/contest/1043/problem/A': 12,\n '/contest/1043/problem/B': 13,\n '/contest/1043/problem/C': 14,\n '/contest/1043/problem/D': 15,\n '/contest/1043/problem/E': 16,\n '/contest/1043/problem/F': 17,\n '/contest/1229/problem/A': 18,\n '/contest/1229/problem/B': 19,\n '/contest/1229/problem/C': 20,\n '/contest/1229/problem/D': 21,\n '/contest/1229/problem/E1': 22,\n '/contest/1229/problem/E2': 23,\n '/contest/175/problem/B': 24,\n '/contest/175/problem/A': 25,\n '/contest/175/problem/C': 26,\n '/contest/175/problem/D': 27,\n '/contest/175/problem/E': 28,\n '/contest/1477/problem/A': 29,\n '/contest/1477/problem/B': 30,\n '/contest/1477/problem/C': 31,\n '/contest/1477/problem/D': 32,\n '/contest/1477/problem/E': 33,\n '/contest/1477/problem/F': 34,\n '/contest/1437/problem/A': 35,\n '/contest/1437/problem/B': 36,\n '/contest/1437/problem/C': 37,\n '/contest/1437/problem/D': 38,\n '/contest/1437/problem/E': 39,\n '/contest/1437/problem/F': 40,\n '/contest/1437/problem/G': 41,\n '/contest/1479/problem/A': 42,\n '/contest/1479/problem/B1': 43,\n '/contest/1479/problem/B2': 44,\n '/contest/1479/problem/C': 45,\n '/contest/1479/problem/D': 46,\n '/contest/1479/problem/E': 47,\n '/contest/78/problem/A': 48,\n '/contest/78/problem/B': 49,\n '/contest/78/problem/E': 50,\n '/contest/78/problem/C': 51,\n '/contest/78/problem/D': 52,\n '/contest/407/problem/A': 53,\n '/contest/407/problem/B': 54,\n '/contest/407/problem/C': 55,\n '/contest/407/problem/D': 56,\n '/contest/666/problem/A': 57,\n '/contest/666/problem/B': 58,\n '/contest/666/problem/C': 59,\n '/contest/666/problem/D': 60,\n '/contest/666/problem/E': 61,\n '/contest/477/problem/B': 62,\n '/contest/477/problem/C': 63,\n '/contest/477/problem/D': 64,\n '/contest/477/problem/A': 65,\n '/contest/1543/problem/A': 66,\n '/contest/1543/problem/B': 67,\n '/contest/1543/problem/C': 68,\n '/contest/1543/problem/D1': 69,\n '/contest/1543/problem/D2': 70,\n '/contest/1543/problem/E': 71,\n '/contest/1084/problem/A': 72,\n '/contest/1084/problem/B': 73,\n '/contest/1084/problem/C': 74,\n '/contest/1084/problem/D': 75,\n '/contest/1084/problem/E': 76,\n '/contest/271/problem/A': 77,\n '/contest/271/problem/B': 78,\n '/contest/271/problem/C': 79,\n '/contest/271/problem/D': 80,\n '/contest/271/problem/E': 81,\n '/contest/215/problem/A': 82,\n '/contest/215/problem/B': 83,\n '/contest/215/problem/C': 84,\n '/contest/215/problem/D': 85,\n '/contest/215/problem/E': 86,\n '/contest/958/problem/A1': 87,\n '/contest/958/problem/A2': 88,\n '/contest/958/problem/A3': 89,\n '/contest/958/problem/B1': 90,\n '/contest/958/problem/B2': 91,\n '/contest/958/problem/C1': 92,\n '/contest/958/problem/C2': 93,\n '/contest/958/problem/C3': 94,\n '/contest/958/problem/D1': 95,\n '/contest/958/problem/D2': 96,\n '/contest/958/problem/E1': 97,\n '/contest/958/problem/E2': 98,\n '/contest/958/problem/E3': 99,\n '/contest/958/problem/F1': 100,\n '/contest/958/problem/F2': 101,\n '/contest/958/problem/F3': 102,\n '/contest/592/problem/A': 103,\n '/contest/592/problem/B': 104,\n '/contest/592/problem/C': 105,\n '/contest/592/problem/D': 106,\n '/contest/592/problem/E': 107,\n '/contest/555/problem/A': 108,\n '/contest/555/problem/B': 109,\n '/contest/555/problem/C': 110,\n '/contest/555/problem/D': 111,\n '/contest/555/problem/E': 112,\n '/contest/1588/problem/A': 113,\n '/contest/1588/problem/B': 114,\n '/contest/1588/problem/C': 115,\n '/contest/1588/problem/D': 116,\n '/contest/1588/problem/E': 117,\n '/contest/622/problem/A': 118,\n '/contest/622/problem/B': 119,\n '/contest/622/problem/C': 120,\n '/contest/622/problem/D': 121,\n '/contest/622/problem/E': 122,\n '/contest/622/problem/F': 123,\n '/contest/1556/problem/A': 124,\n '/contest/1556/problem/B': 125,\n '/contest/1556/problem/C': 126,\n '/contest/1556/problem/D': 127,\n '/contest/1556/problem/E': 128,\n '/contest/1556/problem/F': 129,\n '/contest/1556/problem/G': 130,\n '/contest/1556/problem/H': 131,\n '/contest/1444/problem/D': 132,\n '/contest/1444/problem/A': 133,\n '/contest/1444/problem/B': 134,\n '/contest/1444/problem/C': 135,\n '/contest/787/problem/A': 136,\n '/contest/787/problem/B': 137,\n '/contest/787/problem/C': 138,\n '/contest/787/problem/D': 139,\n '/contest/787/problem/E': 140,\n '/contest/578/problem/A': 141,\n '/contest/578/problem/B': 142,\n '/contest/578/problem/C': 143,\n '/contest/578/problem/D': 144,\n '/contest/578/problem/E': 145,\n '/contest/510/problem/A': 146,\n '/contest/510/problem/B': 147,\n '/contest/510/problem/C': 148,\n '/contest/510/problem/D': 149,\n '/contest/95/problem/A': 150,\n '/contest/95/problem/B': 151,\n '/contest/95/problem/C': 152,\n '/contest/95/problem/D': 153,\n '/contest/95/problem/E': 154,\n '/contest/638/problem/A': 155,\n '/contest/638/problem/B': 156,\n '/contest/638/problem/C': 157,\n '/contest/638/problem/D': 158,\n '/contest/1217/problem/A': 159,\n '/contest/1217/problem/B': 160,\n '/contest/1217/problem/C': 161,\n '/contest/1217/problem/D': 162,\n '/contest/1217/problem/E': 163,\n '/contest/1217/problem/F': 164,\n '/contest/848/problem/A': 165,\n '/contest/848/problem/B': 166,\n '/contest/848/problem/C': 167,\n '/contest/848/problem/D': 168,\n '/contest/169/problem/A': 169,\n '/contest/169/problem/B': 170,\n '/contest/169/problem/C': 171,\n '/contest/169/problem/D': 172,\n '/contest/169/problem/E': 173,\n '/contest/450/problem/A': 174,\n '/contest/450/problem/B': 175,\n '/contest/450/problem/C': 176,\n '/contest/450/problem/D': 177,\n '/contest/450/problem/E': 178,\n '/contest/1082/problem/A': 179,\n '/contest/1082/problem/B': 180,\n '/contest/1082/problem/C': 181,\n '/contest/1082/problem/D': 182,\n '/contest/1082/problem/E': 183,\n '/contest/1082/problem/F': 184,\n '/contest/1082/problem/G': 185,\n '/contest/1303/problem/A': 186,\n '/contest/1303/problem/B': 187,\n '/contest/1303/problem/C': 188,\n '/contest/1303/problem/D': 189,\n '/contest/1303/problem/E': 190,\n '/contest/1303/problem/F': 191,\n '/contest/1303/problem/G': 192,\n '/contest/772/problem/A': 193,\n '/contest/772/problem/B': 194,\n '/contest/772/problem/C': 195,\n '/contest/772/problem/D': 196,\n '/contest/772/problem/E': 197,\n '/contest/166/problem/A': 198,\n '/contest/166/problem/B': 199,\n '/contest/166/problem/C': 200,\n '/contest/166/problem/D': 201,\n '/contest/166/problem/E': 202,\n '/contest/414/problem/A': 203,\n '/contest/414/problem/B': 204,\n '/contest/414/problem/C': 205,\n '/contest/414/problem/D': 206,\n '/contest/414/problem/E': 207,\n '/contest/323/problem/A': 208,\n '/contest/323/problem/C': 209,\n '/contest/1602/problem/A': 210,\n '/contest/1602/problem/B': 211,\n '/contest/1602/problem/C': 212,\n '/contest/1602/problem/D': 213,\n '/contest/1602/problem/E': 214,\n '/contest/1602/problem/F': 215,\n '/contest/274/problem/A': 216,\n '/contest/274/problem/B': 217,\n '/contest/274/problem/C': 218,\n '/contest/274/problem/D': 219,\n '/contest/1199/problem/A': 220,\n '/contest/1199/problem/B': 221,\n '/contest/1199/problem/C': 222,\n '/contest/1199/problem/D': 223,\n '/contest/1199/problem/E': 224,\n '/contest/1199/problem/F': 225,\n '/contest/1005/problem/A': 226,\n '/contest/1005/problem/B': 227,\n '/contest/1005/problem/C': 228,\n '/contest/1005/problem/D': 229,\n '/contest/1005/problem/E1': 230,\n '/contest/1005/problem/F': 231,\n '/contest/1005/problem/E2': 232,\n '/contest/1607/problem/A': 233,\n '/contest/1607/problem/B': 234,\n '/contest/1607/problem/C': 235,\n '/contest/1607/problem/D': 236,\n '/contest/1607/problem/E': 237,\n '/contest/1607/problem/F': 238,\n '/contest/1607/problem/G': 239,\n '/contest/1607/problem/H': 240,\n '/contest/1642/problem/A': 241,\n '/contest/1642/problem/B': 242,\n '/contest/1642/problem/C': 243,\n '/contest/1642/problem/D': 244,\n '/contest/1642/problem/E': 245,\n '/contest/1642/problem/F': 246,\n '/contest/1189/problem/A': 247,\n '/contest/1189/problem/B': 248,\n '/contest/1189/problem/C': 249,\n '/contest/1189/problem/D1': 250,\n '/contest/1189/problem/D2': 251,\n '/contest/1189/problem/E': 252,\n '/contest/1189/problem/F': 253,\n '/contest/1006/problem/A': 254,\n '/contest/1006/problem/B': 255,\n '/contest/1006/problem/C': 256,\n '/contest/1006/problem/D': 257,\n '/contest/1006/problem/E': 258,\n '/contest/1006/problem/F': 259,\n '/contest/776/problem/A': 260,\n '/contest/776/problem/B': 261,\n '/contest/776/problem/C': 262,\n '/contest/776/problem/D': 263,\n '/contest/776/problem/E': 264,\n '/contest/776/problem/F': 265,\n '/contest/776/problem/G': 266,\n '/contest/1099/problem/A': 267,\n '/contest/1099/problem/B': 268,\n '/contest/1099/problem/C': 269,\n '/contest/1099/problem/D': 270,\n '/contest/1099/problem/E': 271,\n '/contest/1099/problem/F': 272,\n '/contest/350/problem/B': 273,\n '/contest/350/problem/C': 274,\n '/contest/350/problem/D': 275,\n '/contest/350/problem/E': 276,\n '/contest/350/problem/A': 277,\n '/contest/849/problem/A': 278,\n '/contest/849/problem/B': 279,\n '/contest/849/problem/C': 280,\n '/contest/849/problem/D': 281,\n '/contest/849/problem/E': 282,\n '/contest/614/problem/B': 283,\n '/contest/614/problem/A': 284,\n '/contest/614/problem/C': 285,\n '/contest/614/problem/D': 286,\n '/contest/614/problem/E': 287,\n '/contest/988/problem/A': 288,\n '/contest/988/problem/B': 289,\n '/contest/988/problem/C': 290,\n '/contest/988/problem/D': 291,\n '/contest/988/problem/E': 292,\n '/contest/988/problem/F': 293,\n '/contest/631/problem/A': 294,\n '/contest/631/problem/B': 295,\n '/contest/631/problem/C': 296,\n '/contest/631/problem/D': 297,\n '/contest/631/problem/E': 298,\n '/contest/248/problem/A': 299,\n '/contest/248/problem/B': 300,\n '/contest/248/problem/C': 301,\n '/contest/248/problem/E': 302,\n '/contest/248/problem/D': 303,\n '/contest/1096/problem/A': 304,\n '/contest/1096/problem/B': 305,\n '/contest/1096/problem/C': 306,\n '/contest/1096/problem/D': 307,\n '/contest/1096/problem/E': 308,\n '/contest/1096/problem/F': 309,\n '/contest/1096/problem/G': 310,\n '/contest/1648/problem/A': 311,\n '/contest/1648/problem/B': 312,\n '/contest/1648/problem/C': 313,\n '/contest/1648/problem/D': 314,\n '/contest/1648/problem/E': 315,\n '/contest/1512/problem/A': 316,\n '/contest/1512/problem/B': 317,\n '/contest/1512/problem/C': 318,\n '/contest/1512/problem/D': 319,\n '/contest/1512/problem/E': 320,\n '/contest/1512/problem/F': 321,\n '/contest/1512/problem/G': 322,\n '/contest/1544/problem/A': 323,\n '/contest/1544/problem/B': 324,\n '/contest/1544/problem/C': 325,\n '/contest/1544/problem/D': 326,\n '/contest/1544/problem/E': 327,\n '/contest/1544/problem/F': 328,\n '/contest/1544/problem/H': 329,\n '/contest/1544/problem/G': 330,\n '/contest/150/problem/A': 331,\n '/contest/150/problem/B': 332,\n '/contest/150/problem/C': 333,\n '/contest/150/problem/D': 334,\n '/contest/1284/problem/A': 335,\n '/contest/1284/problem/B': 336,\n '/contest/1284/problem/C': 337,\n '/contest/1284/problem/D': 338,\n '/contest/1284/problem/E': 339,\n '/contest/1284/problem/F': 340,\n '/contest/1284/problem/G': 341,\n '/contest/660/problem/A': 342,\n '/contest/660/problem/B': 343,\n '/contest/660/problem/C': 344,\n '/contest/660/problem/D': 345,\n '/contest/660/problem/E': 346,\n '/contest/660/problem/F': 347,\n '/contest/1605/problem/A': 348,\n '/contest/1605/problem/B': 349,\n '/contest/1605/problem/C': 350,\n '/contest/1605/problem/D': 351,\n '/contest/1605/problem/E': 352,\n '/contest/1457/problem/A': 353,\n '/contest/1457/problem/B': 354,\n '/contest/1457/problem/C': 355,\n '/contest/1457/problem/D': 356,\n '/contest/1457/problem/E': 357,\n '/contest/112/problem/A': 358,\n '/contest/112/problem/B': 359,\n '/contest/112/problem/C': 360,\n '/contest/112/problem/D': 361,\n '/contest/112/problem/E': 362,\n '/contest/145/problem/A': 363,\n '/contest/145/problem/B': 364,\n '/contest/145/problem/C': 365,\n '/contest/145/problem/E': 366,\n '/contest/1097/problem/A': 367,\n '/contest/1097/problem/B': 368,\n '/contest/1097/problem/C': 369,\n '/contest/1097/problem/D': 370,\n '/contest/1097/problem/E': 371,\n '/contest/1097/problem/F': 372,\n '/contest/1097/problem/G': 373,\n '/contest/1097/problem/H': 374,\n '/contest/932/problem/A': 375,\n '/contest/932/problem/B': 376,\n '/contest/932/problem/C': 377,\n '/contest/932/problem/D': 378,\n '/contest/932/problem/E': 379,\n '/contest/932/problem/F': 380,\n '/contest/932/problem/G': 381,\n '/contest/560/problem/A': 382,\n '/contest/560/problem/B': 383,\n '/contest/560/problem/C': 384,\n '/contest/560/problem/D': 385,\n '/contest/560/problem/E': 386,\n '/contest/1065/problem/A': 387,\n '/contest/1065/problem/B': 388,\n '/contest/1065/problem/C': 389,\n '/contest/1065/problem/D': 390,\n '/contest/1065/problem/E': 391,\n '/contest/1065/problem/F': 392,\n '/contest/1065/problem/G': 393,\n '/contest/208/problem/A': 394,\n '/contest/208/problem/B': 395,\n '/contest/208/problem/C': 396,\n '/contest/208/problem/D': 397,\n '/contest/208/problem/E': 398,\n '/contest/821/problem/A': 399,\n '/contest/821/problem/B': 400,\n '/contest/821/problem/C': 401,\n '/contest/821/problem/D': 402,\n '/contest/821/problem/E': 403,\n '/contest/1107/problem/A': 404,\n '/contest/1107/problem/B': 405,\n '/contest/1107/problem/C': 406,\n '/contest/1107/problem/D': 407,\n '/contest/1107/problem/E': 408,\n '/contest/1107/problem/F': 409,\n '/contest/1107/problem/G': 410,\n '/contest/632/problem/A': 411,\n '/contest/632/problem/B': 412,\n '/contest/632/problem/C': 413,\n '/contest/632/problem/D': 414,\n '/contest/632/problem/E': 415,\n '/contest/632/problem/F': 416,\n '/contest/475/problem/B': 417,\n '/contest/475/problem/C': 418,\n '/contest/475/problem/D': 419,\n '/contest/475/problem/E': 420,\n '/contest/475/problem/F': 421,\n '/contest/475/problem/A': 422,\n '/contest/230/problem/A': 423,\n '/contest/230/problem/B': 424,\n '/contest/230/problem/C': 425,\n '/contest/230/problem/D': 426,\n '/contest/230/problem/E': 427,\n '/contest/1563/problem/A': 428,\n '/contest/1563/problem/B': 429,\n '/contest/1563/problem/C': 430,\n '/contest/1563/problem/D': 431,\n '/contest/1563/problem/E': 432,\n '/contest/1563/problem/F': 433,\n '/contest/1384/problem/A': 434,\n '/contest/1384/problem/B1': 435,\n '/contest/1384/problem/B2': 436,\n '/contest/1384/problem/C': 437,\n '/contest/1384/problem/D': 438,\n '/contest/1384/problem/F': 439,\n '/contest/1186/problem/A': 440,\n '/contest/1186/problem/C': 441,\n '/contest/1186/problem/D': 442,\n '/contest/1186/problem/E': 443,\n '/contest/1186/problem/F': 444,\n '/contest/111/problem/A': 445,\n '/contest/111/problem/B': 446,\n '/contest/111/problem/C': 447,\n '/contest/111/problem/D': 448,\n '/contest/644/problem/A': 449,\n '/contest/644/problem/B': 450,\n '/contest/644/problem/C': 451,\n '/contest/1379/problem/A': 452,\n '/contest/1379/problem/B': 453,\n '/contest/1379/problem/C': 454,\n '/contest/1379/problem/D': 455,\n '/contest/1379/problem/F1': 456,\n '/contest/1379/problem/F2': 457,\n '/contest/1632/problem/A': 458,\n '/contest/1632/problem/B': 459,\n '/contest/1632/problem/C': 460,\n '/contest/1632/problem/D': 461,\n '/contest/1632/problem/E1': 462,\n '/contest/1632/problem/E2': 463,\n '/contest/1140/problem/A': 464,\n '/contest/1140/problem/B': 465,\n '/contest/1140/problem/C': 466,\n '/contest/1140/problem/D': 467,\n '/contest/1140/problem/E': 468,\n '/contest/1140/problem/F': 469,\n '/contest/1140/problem/G': 470,\n '/contest/1079/problem/A': 471,\n '/contest/1079/problem/B': 472,\n '/contest/1079/problem/C': 473,\n '/contest/1079/problem/D': 474,\n '/contest/1079/problem/E': 475,\n '/contest/83/problem/A': 476,\n '/contest/83/problem/B': 477,\n '/contest/83/problem/C': 478,\n '/contest/83/problem/D': 479,\n '/contest/83/problem/E': 480,\n '/contest/1557/problem/A': 481,\n '/contest/1557/problem/B': 482,\n '/contest/1557/problem/C': 483,\n '/contest/1557/problem/D': 484,\n '/contest/1557/problem/E': 485,\n '/contest/1191/problem/A': 486,\n '/contest/1191/problem/B': 487,\n '/contest/1191/problem/C': 488,\n '/contest/1191/problem/D': 489,\n '/contest/1191/problem/E': 490,\n '/contest/1191/problem/F': 491,\n '/contest/870/problem/A': 492,\n '/contest/870/problem/B': 493,\n '/contest/870/problem/C': 494,\n '/contest/870/problem/D': 495,\n '/contest/963/problem/A': 496,\n '/contest/963/problem/B': 497,\n '/contest/963/problem/C': 498,\n '/contest/963/problem/D': 499,\n '/contest/963/problem/E': 500,\n '/contest/1299/problem/A': 501,\n '/contest/1299/problem/B': 502,\n '/contest/1299/problem/C': 503,\n '/contest/1299/problem/D': 504,\n '/contest/1299/problem/E': 505,\n '/contest/48/problem/A': 506,\n '/contest/48/problem/B': 507,\n '/contest/48/problem/C': 508,\n '/contest/48/problem/D': 509,\n '/contest/48/problem/E': 510,\n '/contest/165/problem/A': 511,\n '/contest/165/problem/B': 512,\n '/contest/165/problem/C': 513,\n '/contest/165/problem/D': 514,\n '/contest/165/problem/E': 515,\n '/contest/298/problem/A': 516,\n '/contest/298/problem/B': 517,\n '/contest/298/problem/C': 518,\n '/contest/298/problem/D': 519,\n '/contest/93/problem/A': 520,\n '/contest/93/problem/B': 521,\n '/contest/93/problem/C': 522,\n '/contest/93/problem/D': 523,\n '/contest/93/problem/E': 524,\n '/contest/800/problem/B': 525,\n '/contest/800/problem/C': 526,\n '/contest/800/problem/D': 527,\n '/contest/800/problem/E': 528,\n '/contest/800/problem/A': 529,\n '/contest/1612/problem/A': 530,\n '/contest/1612/problem/B': 531,\n '/contest/1612/problem/C': 532,\n '/contest/1612/problem/D': 533,\n '/contest/1612/problem/E': 534,\n '/contest/1612/problem/F': 535,\n '/contest/1612/problem/G': 536,\n '/contest/1230/problem/A': 537,\n '/contest/1230/problem/B': 538,\n '/contest/1230/problem/C': 539,\n '/contest/1230/problem/D': 540,\n '/contest/1230/problem/E': 541,\n '/contest/1230/problem/F': 542,\n '/contest/1337/problem/A': 543,\n '/contest/1337/problem/B': 544,\n '/contest/1337/problem/C': 545,\n '/contest/1337/problem/D': 546,\n '/contest/1337/problem/E': 547,\n '/contest/28/problem/A': 548,\n '/contest/28/problem/B': 549,\n '/contest/28/problem/C': 550,\n '/contest/28/problem/D': 551,\n '/contest/1231/problem/A': 552,\n '/contest/1231/problem/B': 553,\n '/contest/1231/problem/C': 554,\n '/contest/1231/problem/D': 555,\n '/contest/1231/problem/F': 556,\n '/contest/1231/problem/E': 557,\n '/contest/147/problem/A': 558,\n '/contest/147/problem/B': 559,\n '/contest/1095/problem/A': 560,\n '/contest/1095/problem/B': 561,\n '/contest/1095/problem/C': 562,\n '/contest/1095/problem/D': 563,\n '/contest/1095/problem/E': 564,\n '/contest/1095/problem/F': 565,\n '/contest/947/problem/A': 566,\n '/contest/947/problem/B': 567,\n '/contest/947/problem/C': 568,\n '/contest/947/problem/D': 569,\n '/contest/947/problem/E': 570,\n '/contest/279/problem/A': 571,\n '/contest/279/problem/B': 572,\n '/contest/279/problem/C': 573,\n '/contest/279/problem/D': 574,\n '/contest/279/problem/E': 575,\n '/contest/916/problem/A': 576,\n '/contest/916/problem/C': 577,\n '/contest/916/problem/D': 578,\n '/contest/916/problem/E': 579,\n '/contest/916/problem/B': 580,\n '/contest/379/problem/A': 581,\n '/contest/379/problem/B': 582,\n '/contest/379/problem/C': 583,\n '/contest/379/problem/D': 584,\n '/contest/379/problem/E': 585,\n '/contest/379/problem/F': 586,\n '/contest/719/problem/A': 587,\n '/contest/719/problem/B': 588,\n '/contest/719/problem/C': 589,\n '/contest/719/problem/E': 590,\n '/contest/891/problem/A': 591,\n '/contest/891/problem/B': 592,\n '/contest/891/problem/C': 593,\n '/contest/891/problem/D': 594,\n '/contest/891/problem/E': 595,\n '/contest/878/problem/A': 596,\n '/contest/878/problem/B': 597,\n '/contest/878/problem/C': 598,\n '/contest/878/problem/D': 599,\n '/contest/878/problem/E': 600,\n '/contest/913/problem/A': 601,\n '/contest/913/problem/B': 602,\n '/contest/913/problem/C': 603,\n '/contest/913/problem/D': 604,\n '/contest/913/problem/E': 605,\n '/contest/913/problem/F': 606,\n '/contest/913/problem/G': 607,\n '/contest/61/problem/E': 608,\n '/contest/61/problem/A': 609,\n '/contest/61/problem/B': 610,\n '/contest/61/problem/D': 611,\n '/contest/61/problem/C': 612,\n '/contest/919/problem/A': 613,\n '/contest/919/problem/B': 614,\n '/contest/919/problem/C': 615,\n '/contest/919/problem/D': 616,\n '/contest/919/problem/E': 617,\n '/contest/919/problem/F': 618,\n '/contest/577/problem/E': 619,\n '/contest/577/problem/A': 620,\n '/contest/577/problem/B': 621,\n '/contest/577/problem/C': 622,\n '/contest/577/problem/D': 623,\n '/contest/1287/problem/A': 624,\n '/contest/1287/problem/B': 625,\n '/contest/1287/problem/C': 626,\n '/contest/1287/problem/D': 627,\n '/contest/1287/problem/E1': 628,\n '/contest/415/problem/A': 629,\n '/contest/415/problem/B': 630,\n '/contest/415/problem/C': 631,\n '/contest/415/problem/D': 632,\n '/contest/415/problem/E': 633,\n '/contest/1137/problem/A': 634,\n '/contest/1137/problem/B': 635,\n '/contest/1137/problem/D': 636,\n '/contest/1137/problem/E': 637,\n '/contest/1137/problem/F': 638,\n '/contest/1137/problem/C': 639,\n '/contest/305/problem/A': 640,\n '/contest/305/problem/B': 641,\n '/contest/305/problem/C': 642,\n '/contest/305/problem/D': 643,\n '/contest/305/problem/E': 644,\n '/contest/320/problem/A': 645,\n '/contest/320/problem/B': 646,\n '/contest/320/problem/C': 647,\n '/contest/320/problem/D': 648,\n '/contest/320/problem/E': 649,\n '/contest/1216/problem/A': 650,\n '/contest/1216/problem/B': 651,\n '/contest/1216/problem/C': 652,\n '/contest/1216/problem/D': 653,\n '/contest/1216/problem/E1': 654,\n '/contest/1216/problem/E2': 655,\n '/contest/1216/problem/F': 656,\n '/contest/523/problem/A': 657,\n '/contest/523/problem/B': 658,\n '/contest/523/problem/C': 659,\n '/contest/523/problem/D': 660,\n '/contest/1055/problem/A': 661,\n '/contest/1055/problem/B': 662,\n '/contest/1055/problem/C': 663,\n '/contest/1055/problem/D': 664,\n '/contest/1055/problem/E': 665,\n '/contest/1055/problem/F': 666,\n '/contest/1055/problem/G': 667,\n '/contest/1142/problem/A': 668,\n '/contest/1142/problem/B': 669,\n '/contest/1142/problem/C': 670,\n '/contest/1142/problem/D': 671,\n '/contest/1142/problem/E': 672,\n '/contest/1019/problem/A': 673,\n '/contest/1019/problem/B': 674,\n '/contest/1019/problem/C': 675,\n '/contest/1019/problem/D': 676,\n '/contest/1019/problem/E': 677,\n '/contest/1320/problem/A': 678,\n '/contest/1320/problem/B': 679,\n '/contest/1320/problem/C': 680,\n '/contest/1320/problem/D': 681,\n '/contest/1320/problem/E': 682,\n '/contest/1320/problem/F': 683,\n '/contest/1174/problem/A': 684,\n '/contest/1174/problem/B': 685,\n '/contest/1174/problem/C': 686,\n '/contest/1174/problem/D': 687,\n '/contest/1174/problem/E': 688,\n '/contest/1174/problem/F': 689,\n '/contest/920/problem/A': 690,\n '/contest/920/problem/B': 691,\n '/contest/920/problem/C': 692,\n '/contest/920/problem/D': 693,\n '/contest/920/problem/E': 694,\n '/contest/920/problem/F': 695,\n '/contest/920/problem/G': 696,\n '/contest/133/problem/A': 697,\n '/contest/133/problem/B': 698,\n '/contest/133/problem/C': 699,\n '/contest/133/problem/D': 700,\n '/contest/133/problem/E': 701,\n '/contest/1343/problem/A': 702,\n '/contest/1343/problem/B': 703,\n '/contest/1343/problem/C': 704,\n '/contest/1343/problem/D': 705,\n '/contest/1343/problem/E': 706,\n '/contest/413/problem/A': 707,\n '/contest/413/problem/B': 708,\n '/contest/413/problem/C': 709,\n '/contest/413/problem/D': 710,\n '/contest/413/problem/E': 711,\n '/contest/856/problem/A': 712,\n '/contest/856/problem/B': 713,\n '/contest/856/problem/C': 714,\n '/contest/856/problem/D': 715,\n '/contest/856/problem/E': 716,\n '/contest/360/problem/A': 717,\n '/contest/360/problem/B': 718,\n '/contest/360/problem/C': 719,\n '/contest/360/problem/D': 720,\n '/contest/360/problem/E': 721,\n '/contest/1442/problem/A': 722,\n '/contest/1442/problem/B': 723,\n '/contest/1442/problem/C': 724,\n '/contest/1442/problem/D': 725,\n '/contest/1442/problem/E': 726,\n '/contest/158/problem/A': 727,\n '/contest/158/problem/B': 728,\n '/contest/158/problem/C': 729,\n '/contest/158/problem/D': 730,\n '/contest/158/problem/E': 731,\n '/contest/389/problem/A': 732,\n '/contest/389/problem/B': 733,\n '/contest/389/problem/C': 734,\n '/contest/389/problem/D': 735,\n '/contest/389/problem/E': 736,\n '/contest/535/problem/A': 737,\n '/contest/535/problem/B': 738,\n '/contest/535/problem/C': 739,\n '/contest/535/problem/D': 740,\n '/contest/176/problem/A': 741,\n '/contest/176/problem/B': 742,\n '/contest/176/problem/C': 743,\n '/contest/176/problem/D': 744,\n '/contest/997/problem/A': 745,\n '/contest/997/problem/B': 746,\n '/contest/997/problem/C': 747,\n '/contest/997/problem/D': 748,\n '/contest/997/problem/E': 749,\n '/contest/984/problem/A': 750,\n '/contest/984/problem/B': 751,\n '/contest/984/problem/C': 752,\n '/contest/984/problem/D': 753,\n '/contest/984/problem/E': 754,\n '/contest/432/problem/A': 755,\n '/contest/432/problem/B': 756,\n '/contest/432/problem/C': 757,\n '/contest/432/problem/D': 758,\n '/contest/432/problem/E': 759,\n '/contest/568/problem/A': 760,\n '/contest/568/problem/B': 761,\n '/contest/568/problem/C': 762,\n '/contest/568/problem/D': 763,\n '/contest/939/problem/A': 764,\n '/contest/939/problem/B': 765,\n '/contest/939/problem/C': 766,\n '/contest/939/problem/D': 767,\n '/contest/939/problem/E': 768,\n '/contest/939/problem/F': 769,\n '/contest/675/problem/A': 770,\n '/contest/675/problem/B': 771,\n '/contest/675/problem/C': 772,\n '/contest/675/problem/D': 773,\n '/contest/675/problem/E': 774,\n '/contest/998/problem/A': 775,\n '/contest/998/problem/B': 776,\n '/contest/998/problem/C': 777,\n '/contest/998/problem/D': 778,\n '/contest/998/problem/E': 779,\n '/contest/1195/problem/A': 780,\n '/contest/1195/problem/B': 781,\n '/contest/1195/problem/C': 782,\n '/contest/1195/problem/D1': 783,\n '/contest/1195/problem/D2': 784,\n '/contest/1195/problem/E': 785,\n '/contest/1195/problem/F': 786,\n '/contest/1594/problem/A': 787,\n '/contest/1594/problem/B': 788,\n '/contest/1594/problem/C': 789,\n '/contest/1594/problem/D': 790,\n '/contest/1594/problem/E1': 791,\n '/contest/1594/problem/E2': 792,\n '/contest/1594/problem/F': 793,\n '/contest/542/problem/A': 794,\n '/contest/542/problem/C': 795,\n '/contest/542/problem/D': 796,\n '/contest/542/problem/E': 797,\n '/contest/542/problem/F': 798,\n '/contest/1380/problem/A': 799,\n '/contest/1380/problem/B': 800,\n '/contest/1380/problem/C': 801,\n '/contest/1380/problem/D': 802,\n '/contest/1380/problem/E': 803,\n '/contest/1380/problem/F': 804,\n '/contest/1380/problem/G': 805,\n '/contest/877/problem/A': 806,\n '/contest/877/problem/B': 807,\n '/contest/877/problem/C': 808,\n '/contest/877/problem/D': 809,\n '/contest/877/problem/E': 810,\n '/contest/877/problem/F': 811,\n '/contest/57/problem/A': 812,\n '/contest/57/problem/B': 813,\n '/contest/57/problem/C': 814,\n '/contest/57/problem/D': 815,\n '/contest/57/problem/E': 816,\n '/contest/851/problem/A': 817,\n '/contest/851/problem/B': 818,\n '/contest/851/problem/C': 819,\n '/contest/851/problem/D': 820,\n '/contest/851/problem/E': 821,\n '/contest/299/problem/A': 822,\n '/contest/299/problem/B': 823,\n '/contest/299/problem/C': 824,\n '/contest/299/problem/E': 825,\n '/contest/1130/problem/A': 826,\n '/contest/1130/problem/B': 827,\n '/contest/1130/problem/C': 828,\n '/contest/1130/problem/D1': 829,\n '/contest/1130/problem/D2': 830,\n '/contest/1130/problem/E': 831,\n '/contest/16/problem/A': 832,\n '/contest/16/problem/B': 833,\n '/contest/16/problem/C': 834,\n '/contest/16/problem/D': 835,\n '/contest/16/problem/E': 836,\n '/contest/1389/problem/A': 837,\n '/contest/1389/problem/B': 838,\n '/contest/1389/problem/C': 839,\n '/contest/1389/problem/D': 840,\n '/contest/1389/problem/E': 841,\n '/contest/1389/problem/F': 842,\n '/contest/1389/problem/G': 843,\n '/contest/982/problem/A': 844,\n '/contest/982/problem/B': 845,\n '/contest/982/problem/C': 846,\n '/contest/982/problem/D': 847,\n '/contest/982/problem/F': 848,\n '/contest/982/problem/E': 849,\n '/contest/1552/problem/A': 850,\n '/contest/1552/problem/B': 851,\n '/contest/1552/problem/C': 852,\n '/contest/1552/problem/D': 853,\n '/contest/1552/problem/E': 854,\n '/contest/1552/problem/F': 855,\n '/contest/1552/problem/G': 856,\n '/contest/1552/problem/H': 857,\n '/contest/1552/problem/I': 858,\n '/contest/1234/problem/A': 859,\n '/contest/1234/problem/B1': 860,\n '/contest/1234/problem/B2': 861,\n '/contest/1234/problem/C': 862,\n '/contest/1234/problem/D': 863,\n '/contest/1234/problem/E': 864,\n '/contest/1234/problem/F': 865,\n '/contest/574/problem/A': 866,\n '/contest/574/problem/B': 867,\n '/contest/574/problem/C': 868,\n '/contest/574/problem/D': 869,\n '/contest/574/problem/E': 870,\n '/contest/1629/problem/A': 871,\n '/contest/1629/problem/B': 872,\n '/contest/1629/problem/C': 873,\n '/contest/1629/problem/D': 874,\n '/contest/1629/problem/E': 875,\n '/contest/1629/problem/F1': 876,\n '/contest/1629/problem/F2': 877,\n '/contest/1040/problem/A': 878,\n '/contest/1040/problem/B': 879,\n '/contest/1040/problem/C': 880,\n '/contest/1040/problem/D': 881,\n '/contest/1040/problem/E': 882,\n '/contest/55/problem/A': 883,\n '/contest/55/problem/B': 884,\n '/contest/55/problem/C': 885,\n '/contest/55/problem/D': 886,\n '/contest/55/problem/E': 887,\n '/contest/1406/problem/A': 888,\n '/contest/1406/problem/B': 889,\n '/contest/1406/problem/C': 890,\n '/contest/1406/problem/D': 891,\n '/contest/1406/problem/E': 892,\n '/contest/457/problem/A': 893,\n '/contest/457/problem/B': 894,\n '/contest/457/problem/C': 895,\n '/contest/457/problem/D': 896,\n '/contest/159/problem/A': 897,\n '/contest/159/problem/B': 898,\n '/contest/159/problem/C': 899,\n '/contest/159/problem/D': 900,\n '/contest/159/problem/E': 901,\n '/contest/1215/problem/A': 902,\n '/contest/1215/problem/B': 903,\n '/contest/1215/problem/C': 904,\n '/contest/1215/problem/D': 905,\n '/contest/1215/problem/E': 906,\n '/contest/1215/problem/F': 907,\n '/contest/1332/problem/A': 908,\n '/contest/1332/problem/B': 909,\n '/contest/1332/problem/C': 910,\n '/contest/1332/problem/D': 911,\n '/contest/1332/problem/E': 912,\n '/contest/1332/problem/F': 913,\n '/contest/1332/problem/G': 914,\n '/contest/688/problem/A': 915,\n '/contest/688/problem/B': 916,\n '/contest/688/problem/C': 917,\n '/contest/688/problem/D': 918,\n '/contest/688/problem/E': 919,\n '/contest/1239/problem/A': 920,\n '/contest/1239/problem/B': 921,\n '/contest/1239/problem/D': 922,\n '/contest/1239/problem/E': 923,\n '/contest/1239/problem/C': 924,\n '/contest/508/problem/A': 925,\n '/contest/508/problem/B': 926,\n '/contest/508/problem/C': 927,\n '/contest/508/problem/D': 928,\n '/contest/508/problem/E': 929,\n '/contest/32/problem/A': 930,\n '/contest/32/problem/B': 931,\n '/contest/32/problem/C': 932,\n '/contest/32/problem/D': 933,\n '/contest/1204/problem/A': 934,\n '/contest/1204/problem/B': 935,\n '/contest/1204/problem/C': 936,\n '/contest/1204/problem/D1': 937,\n '/contest/1204/problem/D2': 938,\n '/contest/1204/problem/E': 939,\n '/contest/240/problem/A': 940,\n '/contest/240/problem/B': 941,\n '/contest/240/problem/C': 942,\n '/contest/240/problem/D': 943,\n '/contest/240/problem/E': 944,\n '/contest/240/problem/F': 945,\n '/contest/745/problem/A': 946,\n '/contest/745/problem/B': 947,\n '/contest/745/problem/C': 948,\n '/contest/745/problem/D': 949,\n '/contest/745/problem/E': 950,\n '/contest/1413/problem/A': 951,\n '/contest/1413/problem/B': 952,\n '/contest/1413/problem/C': 953,\n '/contest/1413/problem/D': 954,\n '/contest/1413/problem/E': 955,\n '/contest/1413/problem/F': 956,\n '/contest/1604/problem/A': 957,\n '/contest/1604/problem/B': 958,\n '/contest/1604/problem/C': 959,\n '/contest/1604/problem/D': 960,\n '/contest/1604/problem/E': 961,\n '/contest/1604/problem/F': 962,\n '/contest/651/problem/A': 963,\n '/contest/651/problem/B': 964,\n '/contest/651/problem/C': 965,\n '/contest/651/problem/D': 966,\n '/contest/651/problem/E': 967,\n '/contest/1333/problem/A': 968,\n '/contest/1333/problem/B': 969,\n '/contest/1333/problem/C': 970,\n '/contest/1333/problem/D': 971,\n '/contest/1333/problem/E': 972,\n '/contest/1333/problem/F': 973,\n '/contest/1344/problem/A': 974,\n '/contest/1344/problem/B': 975,\n '/contest/1344/problem/C': 976,\n '/contest/1344/problem/D': 977,\n '/contest/1344/problem/E': 978,\n '/contest/1344/problem/F': 979,\n '/contest/1242/problem/A': 980,\n '/contest/1242/problem/B': 981,\n '/contest/1242/problem/C': 982,\n '/contest/1242/problem/E': 983,\n '/contest/1242/problem/D': 984,\n '/contest/1496/problem/A': 985,\n '/contest/1496/problem/B': 986,\n '/contest/1496/problem/C': 987,\n '/contest/1496/problem/D': 988,\n '/contest/1496/problem/E': 989,\n '/contest/1496/problem/F': 990,\n '/contest/985/problem/A': 991,\n '/contest/985/problem/B': 992,\n '/contest/985/problem/C': 993,\n '/contest/985/problem/D': 994,\n '/contest/985/problem/E': 995,\n '/contest/985/problem/F': 996,\n '/contest/985/problem/G': 997,\n '/contest/1120/problem/B': 998,\n '/contest/1120/problem/C': 999,\n ...}"
     },
     "execution_count": 194,
     "metadata": {},
     "output_type": "execute_result"
    }
   ],
   "source": [
    "ds._item_id_mapping"
   ],
   "metadata": {
    "collapsed": false,
    "ExecuteTime": {
     "start_time": "2023-04-11T21:42:45.653122Z",
     "end_time": "2023-04-11T21:42:45.704843Z"
    }
   }
  },
  {
   "cell_type": "code",
   "execution_count": 160,
   "outputs": [],
   "source": [
    "from lightfm import LightFM"
   ],
   "metadata": {
    "collapsed": false,
    "ExecuteTime": {
     "start_time": "2023-04-11T20:44:40.933185Z",
     "end_time": "2023-04-11T20:44:41.060348Z"
    }
   }
  },
  {
   "cell_type": "code",
   "execution_count": 162,
   "outputs": [],
   "source": [
    "model = LightFM(no_components=150, learning_rate=0.05, loss=\"warp\", random_state=2023)"
   ],
   "metadata": {
    "collapsed": false,
    "ExecuteTime": {
     "start_time": "2023-04-11T20:48:49.304521Z",
     "end_time": "2023-04-11T20:48:49.318921Z"
    }
   }
  },
  {
   "cell_type": "code",
   "execution_count": 189,
   "outputs": [
    {
     "name": "stderr",
     "output_type": "stream",
     "text": [
      "Epoch: 100%|██████████| 5/5 [03:04<00:00, 36.98s/it]\n"
     ]
    },
    {
     "data": {
      "text/plain": "<lightfm.lightfm.LightFM at 0x7fc1c4ac7cd0>"
     },
     "execution_count": 189,
     "metadata": {},
     "output_type": "execute_result"
    }
   ],
   "source": [
    "model.fit(interactions, user_features, item_features, sample_weight=weights, epochs=5, num_threads=8, verbose=True)"
   ],
   "metadata": {
    "collapsed": false,
    "ExecuteTime": {
     "start_time": "2023-04-11T21:22:41.343168Z",
     "end_time": "2023-04-11T21:25:47.233586Z"
    }
   }
  },
  {
   "cell_type": "code",
   "execution_count": 192,
   "outputs": [
    {
     "data": {
      "text/plain": "               author               author_url  rating rating_text city   \n32071  IRussianGamerI  /profile/IRussianGamerI  1334.0       pupil  NaN  \\\n\n      country organization  contribution  friend_of  rating_max   \n32071     NaN          NaN           0.0        2.0      1479.0  \\\n\n      rating_max_text         registered  \n32071      specialist  Sep/23/2019 12:48  ",
      "text/html": "<div>\n<style scoped>\n    .dataframe tbody tr th:only-of-type {\n        vertical-align: middle;\n    }\n\n    .dataframe tbody tr th {\n        vertical-align: top;\n    }\n\n    .dataframe thead th {\n        text-align: right;\n    }\n</style>\n<table border=\"1\" class=\"dataframe\">\n  <thead>\n    <tr style=\"text-align: right;\">\n      <th></th>\n      <th>author</th>\n      <th>author_url</th>\n      <th>rating</th>\n      <th>rating_text</th>\n      <th>city</th>\n      <th>country</th>\n      <th>organization</th>\n      <th>contribution</th>\n      <th>friend_of</th>\n      <th>rating_max</th>\n      <th>rating_max_text</th>\n      <th>registered</th>\n    </tr>\n  </thead>\n  <tbody>\n    <tr>\n      <th>32071</th>\n      <td>IRussianGamerI</td>\n      <td>/profile/IRussianGamerI</td>\n      <td>1334.0</td>\n      <td>pupil</td>\n      <td>NaN</td>\n      <td>NaN</td>\n      <td>NaN</td>\n      <td>0.0</td>\n      <td>2.0</td>\n      <td>1479.0</td>\n      <td>specialist</td>\n      <td>Sep/23/2019 12:48</td>\n    </tr>\n  </tbody>\n</table>\n</div>"
     },
     "execution_count": 192,
     "metadata": {},
     "output_type": "execute_result"
    }
   ],
   "source": [
    "authors_active[authors_active.author_url.str.contains(\"IRussianGamerI\", regex=False)]"
   ],
   "metadata": {
    "collapsed": false,
    "ExecuteTime": {
     "start_time": "2023-04-11T21:40:41.524324Z",
     "end_time": "2023-04-11T21:40:41.646133Z"
    }
   }
  },
  {
   "cell_type": "code",
   "execution_count": 199,
   "outputs": [
    {
     "data": {
      "text/plain": "199000"
     },
     "execution_count": 199,
     "metadata": {},
     "output_type": "execute_result"
    }
   ],
   "source": [
    "ds._user_id_mapping[\"/profile/IRussianGamerI\"]"
   ],
   "metadata": {
    "collapsed": false,
    "ExecuteTime": {
     "start_time": "2023-04-11T22:37:56.498435Z",
     "end_time": "2023-04-11T22:37:56.589433Z"
    }
   }
  },
  {
   "cell_type": "code",
   "execution_count": 204,
   "outputs": [
    {
     "data": {
      "text/plain": "{'/contest/127/problem/A': 0,\n '/contest/127/problem/B': 1,\n '/contest/127/problem/C': 2,\n '/contest/127/problem/D': 3,\n '/contest/127/problem/E': 4,\n '/contest/746/problem/A': 5,\n '/contest/746/problem/B': 6,\n '/contest/746/problem/C': 7,\n '/contest/746/problem/D': 8,\n '/contest/746/problem/E': 9,\n '/contest/746/problem/F': 10,\n '/contest/746/problem/G': 11,\n '/contest/1043/problem/A': 12,\n '/contest/1043/problem/B': 13,\n '/contest/1043/problem/C': 14,\n '/contest/1043/problem/D': 15,\n '/contest/1043/problem/E': 16,\n '/contest/1043/problem/F': 17,\n '/contest/1229/problem/A': 18,\n '/contest/1229/problem/B': 19,\n '/contest/1229/problem/C': 20,\n '/contest/1229/problem/D': 21,\n '/contest/1229/problem/E1': 22,\n '/contest/1229/problem/E2': 23,\n '/contest/175/problem/B': 24,\n '/contest/175/problem/A': 25,\n '/contest/175/problem/C': 26,\n '/contest/175/problem/D': 27,\n '/contest/175/problem/E': 28,\n '/contest/1477/problem/A': 29,\n '/contest/1477/problem/B': 30,\n '/contest/1477/problem/C': 31,\n '/contest/1477/problem/D': 32,\n '/contest/1477/problem/E': 33,\n '/contest/1477/problem/F': 34,\n '/contest/1437/problem/A': 35,\n '/contest/1437/problem/B': 36,\n '/contest/1437/problem/C': 37,\n '/contest/1437/problem/D': 38,\n '/contest/1437/problem/E': 39,\n '/contest/1437/problem/F': 40,\n '/contest/1437/problem/G': 41,\n '/contest/1479/problem/A': 42,\n '/contest/1479/problem/B1': 43,\n '/contest/1479/problem/B2': 44,\n '/contest/1479/problem/C': 45,\n '/contest/1479/problem/D': 46,\n '/contest/1479/problem/E': 47,\n '/contest/78/problem/A': 48,\n '/contest/78/problem/B': 49,\n '/contest/78/problem/E': 50,\n '/contest/78/problem/C': 51,\n '/contest/78/problem/D': 52,\n '/contest/407/problem/A': 53,\n '/contest/407/problem/B': 54,\n '/contest/407/problem/C': 55,\n '/contest/407/problem/D': 56,\n '/contest/666/problem/A': 57,\n '/contest/666/problem/B': 58,\n '/contest/666/problem/C': 59,\n '/contest/666/problem/D': 60,\n '/contest/666/problem/E': 61,\n '/contest/477/problem/B': 62,\n '/contest/477/problem/C': 63,\n '/contest/477/problem/D': 64,\n '/contest/477/problem/A': 65,\n '/contest/1543/problem/A': 66,\n '/contest/1543/problem/B': 67,\n '/contest/1543/problem/C': 68,\n '/contest/1543/problem/D1': 69,\n '/contest/1543/problem/D2': 70,\n '/contest/1543/problem/E': 71,\n '/contest/1084/problem/A': 72,\n '/contest/1084/problem/B': 73,\n '/contest/1084/problem/C': 74,\n '/contest/1084/problem/D': 75,\n '/contest/1084/problem/E': 76,\n '/contest/271/problem/A': 77,\n '/contest/271/problem/B': 78,\n '/contest/271/problem/C': 79,\n '/contest/271/problem/D': 80,\n '/contest/271/problem/E': 81,\n '/contest/215/problem/A': 82,\n '/contest/215/problem/B': 83,\n '/contest/215/problem/C': 84,\n '/contest/215/problem/D': 85,\n '/contest/215/problem/E': 86,\n '/contest/958/problem/A1': 87,\n '/contest/958/problem/A2': 88,\n '/contest/958/problem/A3': 89,\n '/contest/958/problem/B1': 90,\n '/contest/958/problem/B2': 91,\n '/contest/958/problem/C1': 92,\n '/contest/958/problem/C2': 93,\n '/contest/958/problem/C3': 94,\n '/contest/958/problem/D1': 95,\n '/contest/958/problem/D2': 96,\n '/contest/958/problem/E1': 97,\n '/contest/958/problem/E2': 98,\n '/contest/958/problem/E3': 99,\n '/contest/958/problem/F1': 100,\n '/contest/958/problem/F2': 101,\n '/contest/958/problem/F3': 102,\n '/contest/592/problem/A': 103,\n '/contest/592/problem/B': 104,\n '/contest/592/problem/C': 105,\n '/contest/592/problem/D': 106,\n '/contest/592/problem/E': 107,\n '/contest/555/problem/A': 108,\n '/contest/555/problem/B': 109,\n '/contest/555/problem/C': 110,\n '/contest/555/problem/D': 111,\n '/contest/555/problem/E': 112,\n '/contest/1588/problem/A': 113,\n '/contest/1588/problem/B': 114,\n '/contest/1588/problem/C': 115,\n '/contest/1588/problem/D': 116,\n '/contest/1588/problem/E': 117,\n '/contest/622/problem/A': 118,\n '/contest/622/problem/B': 119,\n '/contest/622/problem/C': 120,\n '/contest/622/problem/D': 121,\n '/contest/622/problem/E': 122,\n '/contest/622/problem/F': 123,\n '/contest/1556/problem/A': 124,\n '/contest/1556/problem/B': 125,\n '/contest/1556/problem/C': 126,\n '/contest/1556/problem/D': 127,\n '/contest/1556/problem/E': 128,\n '/contest/1556/problem/F': 129,\n '/contest/1556/problem/G': 130,\n '/contest/1556/problem/H': 131,\n '/contest/1444/problem/D': 132,\n '/contest/1444/problem/A': 133,\n '/contest/1444/problem/B': 134,\n '/contest/1444/problem/C': 135,\n '/contest/787/problem/A': 136,\n '/contest/787/problem/B': 137,\n '/contest/787/problem/C': 138,\n '/contest/787/problem/D': 139,\n '/contest/787/problem/E': 140,\n '/contest/578/problem/A': 141,\n '/contest/578/problem/B': 142,\n '/contest/578/problem/C': 143,\n '/contest/578/problem/D': 144,\n '/contest/578/problem/E': 145,\n '/contest/510/problem/A': 146,\n '/contest/510/problem/B': 147,\n '/contest/510/problem/C': 148,\n '/contest/510/problem/D': 149,\n '/contest/95/problem/A': 150,\n '/contest/95/problem/B': 151,\n '/contest/95/problem/C': 152,\n '/contest/95/problem/D': 153,\n '/contest/95/problem/E': 154,\n '/contest/638/problem/A': 155,\n '/contest/638/problem/B': 156,\n '/contest/638/problem/C': 157,\n '/contest/638/problem/D': 158,\n '/contest/1217/problem/A': 159,\n '/contest/1217/problem/B': 160,\n '/contest/1217/problem/C': 161,\n '/contest/1217/problem/D': 162,\n '/contest/1217/problem/E': 163,\n '/contest/1217/problem/F': 164,\n '/contest/848/problem/A': 165,\n '/contest/848/problem/B': 166,\n '/contest/848/problem/C': 167,\n '/contest/848/problem/D': 168,\n '/contest/169/problem/A': 169,\n '/contest/169/problem/B': 170,\n '/contest/169/problem/C': 171,\n '/contest/169/problem/D': 172,\n '/contest/169/problem/E': 173,\n '/contest/450/problem/A': 174,\n '/contest/450/problem/B': 175,\n '/contest/450/problem/C': 176,\n '/contest/450/problem/D': 177,\n '/contest/450/problem/E': 178,\n '/contest/1082/problem/A': 179,\n '/contest/1082/problem/B': 180,\n '/contest/1082/problem/C': 181,\n '/contest/1082/problem/D': 182,\n '/contest/1082/problem/E': 183,\n '/contest/1082/problem/F': 184,\n '/contest/1082/problem/G': 185,\n '/contest/1303/problem/A': 186,\n '/contest/1303/problem/B': 187,\n '/contest/1303/problem/C': 188,\n '/contest/1303/problem/D': 189,\n '/contest/1303/problem/E': 190,\n '/contest/1303/problem/F': 191,\n '/contest/1303/problem/G': 192,\n '/contest/772/problem/A': 193,\n '/contest/772/problem/B': 194,\n '/contest/772/problem/C': 195,\n '/contest/772/problem/D': 196,\n '/contest/772/problem/E': 197,\n '/contest/166/problem/A': 198,\n '/contest/166/problem/B': 199,\n '/contest/166/problem/C': 200,\n '/contest/166/problem/D': 201,\n '/contest/166/problem/E': 202,\n '/contest/414/problem/A': 203,\n '/contest/414/problem/B': 204,\n '/contest/414/problem/C': 205,\n '/contest/414/problem/D': 206,\n '/contest/414/problem/E': 207,\n '/contest/323/problem/A': 208,\n '/contest/323/problem/C': 209,\n '/contest/1602/problem/A': 210,\n '/contest/1602/problem/B': 211,\n '/contest/1602/problem/C': 212,\n '/contest/1602/problem/D': 213,\n '/contest/1602/problem/E': 214,\n '/contest/1602/problem/F': 215,\n '/contest/274/problem/A': 216,\n '/contest/274/problem/B': 217,\n '/contest/274/problem/C': 218,\n '/contest/274/problem/D': 219,\n '/contest/1199/problem/A': 220,\n '/contest/1199/problem/B': 221,\n '/contest/1199/problem/C': 222,\n '/contest/1199/problem/D': 223,\n '/contest/1199/problem/E': 224,\n '/contest/1199/problem/F': 225,\n '/contest/1005/problem/A': 226,\n '/contest/1005/problem/B': 227,\n '/contest/1005/problem/C': 228,\n '/contest/1005/problem/D': 229,\n '/contest/1005/problem/E1': 230,\n '/contest/1005/problem/F': 231,\n '/contest/1005/problem/E2': 232,\n '/contest/1607/problem/A': 233,\n '/contest/1607/problem/B': 234,\n '/contest/1607/problem/C': 235,\n '/contest/1607/problem/D': 236,\n '/contest/1607/problem/E': 237,\n '/contest/1607/problem/F': 238,\n '/contest/1607/problem/G': 239,\n '/contest/1607/problem/H': 240,\n '/contest/1642/problem/A': 241,\n '/contest/1642/problem/B': 242,\n '/contest/1642/problem/C': 243,\n '/contest/1642/problem/D': 244,\n '/contest/1642/problem/E': 245,\n '/contest/1642/problem/F': 246,\n '/contest/1189/problem/A': 247,\n '/contest/1189/problem/B': 248,\n '/contest/1189/problem/C': 249,\n '/contest/1189/problem/D1': 250,\n '/contest/1189/problem/D2': 251,\n '/contest/1189/problem/E': 252,\n '/contest/1189/problem/F': 253,\n '/contest/1006/problem/A': 254,\n '/contest/1006/problem/B': 255,\n '/contest/1006/problem/C': 256,\n '/contest/1006/problem/D': 257,\n '/contest/1006/problem/E': 258,\n '/contest/1006/problem/F': 259,\n '/contest/776/problem/A': 260,\n '/contest/776/problem/B': 261,\n '/contest/776/problem/C': 262,\n '/contest/776/problem/D': 263,\n '/contest/776/problem/E': 264,\n '/contest/776/problem/F': 265,\n '/contest/776/problem/G': 266,\n '/contest/1099/problem/A': 267,\n '/contest/1099/problem/B': 268,\n '/contest/1099/problem/C': 269,\n '/contest/1099/problem/D': 270,\n '/contest/1099/problem/E': 271,\n '/contest/1099/problem/F': 272,\n '/contest/350/problem/B': 273,\n '/contest/350/problem/C': 274,\n '/contest/350/problem/D': 275,\n '/contest/350/problem/E': 276,\n '/contest/350/problem/A': 277,\n '/contest/849/problem/A': 278,\n '/contest/849/problem/B': 279,\n '/contest/849/problem/C': 280,\n '/contest/849/problem/D': 281,\n '/contest/849/problem/E': 282,\n '/contest/614/problem/B': 283,\n '/contest/614/problem/A': 284,\n '/contest/614/problem/C': 285,\n '/contest/614/problem/D': 286,\n '/contest/614/problem/E': 287,\n '/contest/988/problem/A': 288,\n '/contest/988/problem/B': 289,\n '/contest/988/problem/C': 290,\n '/contest/988/problem/D': 291,\n '/contest/988/problem/E': 292,\n '/contest/988/problem/F': 293,\n '/contest/631/problem/A': 294,\n '/contest/631/problem/B': 295,\n '/contest/631/problem/C': 296,\n '/contest/631/problem/D': 297,\n '/contest/631/problem/E': 298,\n '/contest/248/problem/A': 299,\n '/contest/248/problem/B': 300,\n '/contest/248/problem/C': 301,\n '/contest/248/problem/E': 302,\n '/contest/248/problem/D': 303,\n '/contest/1096/problem/A': 304,\n '/contest/1096/problem/B': 305,\n '/contest/1096/problem/C': 306,\n '/contest/1096/problem/D': 307,\n '/contest/1096/problem/E': 308,\n '/contest/1096/problem/F': 309,\n '/contest/1096/problem/G': 310,\n '/contest/1648/problem/A': 311,\n '/contest/1648/problem/B': 312,\n '/contest/1648/problem/C': 313,\n '/contest/1648/problem/D': 314,\n '/contest/1648/problem/E': 315,\n '/contest/1512/problem/A': 316,\n '/contest/1512/problem/B': 317,\n '/contest/1512/problem/C': 318,\n '/contest/1512/problem/D': 319,\n '/contest/1512/problem/E': 320,\n '/contest/1512/problem/F': 321,\n '/contest/1512/problem/G': 322,\n '/contest/1544/problem/A': 323,\n '/contest/1544/problem/B': 324,\n '/contest/1544/problem/C': 325,\n '/contest/1544/problem/D': 326,\n '/contest/1544/problem/E': 327,\n '/contest/1544/problem/F': 328,\n '/contest/1544/problem/H': 329,\n '/contest/1544/problem/G': 330,\n '/contest/150/problem/A': 331,\n '/contest/150/problem/B': 332,\n '/contest/150/problem/C': 333,\n '/contest/150/problem/D': 334,\n '/contest/1284/problem/A': 335,\n '/contest/1284/problem/B': 336,\n '/contest/1284/problem/C': 337,\n '/contest/1284/problem/D': 338,\n '/contest/1284/problem/E': 339,\n '/contest/1284/problem/F': 340,\n '/contest/1284/problem/G': 341,\n '/contest/660/problem/A': 342,\n '/contest/660/problem/B': 343,\n '/contest/660/problem/C': 344,\n '/contest/660/problem/D': 345,\n '/contest/660/problem/E': 346,\n '/contest/660/problem/F': 347,\n '/contest/1605/problem/A': 348,\n '/contest/1605/problem/B': 349,\n '/contest/1605/problem/C': 350,\n '/contest/1605/problem/D': 351,\n '/contest/1605/problem/E': 352,\n '/contest/1457/problem/A': 353,\n '/contest/1457/problem/B': 354,\n '/contest/1457/problem/C': 355,\n '/contest/1457/problem/D': 356,\n '/contest/1457/problem/E': 357,\n '/contest/112/problem/A': 358,\n '/contest/112/problem/B': 359,\n '/contest/112/problem/C': 360,\n '/contest/112/problem/D': 361,\n '/contest/112/problem/E': 362,\n '/contest/145/problem/A': 363,\n '/contest/145/problem/B': 364,\n '/contest/145/problem/C': 365,\n '/contest/145/problem/E': 366,\n '/contest/1097/problem/A': 367,\n '/contest/1097/problem/B': 368,\n '/contest/1097/problem/C': 369,\n '/contest/1097/problem/D': 370,\n '/contest/1097/problem/E': 371,\n '/contest/1097/problem/F': 372,\n '/contest/1097/problem/G': 373,\n '/contest/1097/problem/H': 374,\n '/contest/932/problem/A': 375,\n '/contest/932/problem/B': 376,\n '/contest/932/problem/C': 377,\n '/contest/932/problem/D': 378,\n '/contest/932/problem/E': 379,\n '/contest/932/problem/F': 380,\n '/contest/932/problem/G': 381,\n '/contest/560/problem/A': 382,\n '/contest/560/problem/B': 383,\n '/contest/560/problem/C': 384,\n '/contest/560/problem/D': 385,\n '/contest/560/problem/E': 386,\n '/contest/1065/problem/A': 387,\n '/contest/1065/problem/B': 388,\n '/contest/1065/problem/C': 389,\n '/contest/1065/problem/D': 390,\n '/contest/1065/problem/E': 391,\n '/contest/1065/problem/F': 392,\n '/contest/1065/problem/G': 393,\n '/contest/208/problem/A': 394,\n '/contest/208/problem/B': 395,\n '/contest/208/problem/C': 396,\n '/contest/208/problem/D': 397,\n '/contest/208/problem/E': 398,\n '/contest/821/problem/A': 399,\n '/contest/821/problem/B': 400,\n '/contest/821/problem/C': 401,\n '/contest/821/problem/D': 402,\n '/contest/821/problem/E': 403,\n '/contest/1107/problem/A': 404,\n '/contest/1107/problem/B': 405,\n '/contest/1107/problem/C': 406,\n '/contest/1107/problem/D': 407,\n '/contest/1107/problem/E': 408,\n '/contest/1107/problem/F': 409,\n '/contest/1107/problem/G': 410,\n '/contest/632/problem/A': 411,\n '/contest/632/problem/B': 412,\n '/contest/632/problem/C': 413,\n '/contest/632/problem/D': 414,\n '/contest/632/problem/E': 415,\n '/contest/632/problem/F': 416,\n '/contest/475/problem/B': 417,\n '/contest/475/problem/C': 418,\n '/contest/475/problem/D': 419,\n '/contest/475/problem/E': 420,\n '/contest/475/problem/F': 421,\n '/contest/475/problem/A': 422,\n '/contest/230/problem/A': 423,\n '/contest/230/problem/B': 424,\n '/contest/230/problem/C': 425,\n '/contest/230/problem/D': 426,\n '/contest/230/problem/E': 427,\n '/contest/1563/problem/A': 428,\n '/contest/1563/problem/B': 429,\n '/contest/1563/problem/C': 430,\n '/contest/1563/problem/D': 431,\n '/contest/1563/problem/E': 432,\n '/contest/1563/problem/F': 433,\n '/contest/1384/problem/A': 434,\n '/contest/1384/problem/B1': 435,\n '/contest/1384/problem/B2': 436,\n '/contest/1384/problem/C': 437,\n '/contest/1384/problem/D': 438,\n '/contest/1384/problem/F': 439,\n '/contest/1186/problem/A': 440,\n '/contest/1186/problem/C': 441,\n '/contest/1186/problem/D': 442,\n '/contest/1186/problem/E': 443,\n '/contest/1186/problem/F': 444,\n '/contest/111/problem/A': 445,\n '/contest/111/problem/B': 446,\n '/contest/111/problem/C': 447,\n '/contest/111/problem/D': 448,\n '/contest/644/problem/A': 449,\n '/contest/644/problem/B': 450,\n '/contest/644/problem/C': 451,\n '/contest/1379/problem/A': 452,\n '/contest/1379/problem/B': 453,\n '/contest/1379/problem/C': 454,\n '/contest/1379/problem/D': 455,\n '/contest/1379/problem/F1': 456,\n '/contest/1379/problem/F2': 457,\n '/contest/1632/problem/A': 458,\n '/contest/1632/problem/B': 459,\n '/contest/1632/problem/C': 460,\n '/contest/1632/problem/D': 461,\n '/contest/1632/problem/E1': 462,\n '/contest/1632/problem/E2': 463,\n '/contest/1140/problem/A': 464,\n '/contest/1140/problem/B': 465,\n '/contest/1140/problem/C': 466,\n '/contest/1140/problem/D': 467,\n '/contest/1140/problem/E': 468,\n '/contest/1140/problem/F': 469,\n '/contest/1140/problem/G': 470,\n '/contest/1079/problem/A': 471,\n '/contest/1079/problem/B': 472,\n '/contest/1079/problem/C': 473,\n '/contest/1079/problem/D': 474,\n '/contest/1079/problem/E': 475,\n '/contest/83/problem/A': 476,\n '/contest/83/problem/B': 477,\n '/contest/83/problem/C': 478,\n '/contest/83/problem/D': 479,\n '/contest/83/problem/E': 480,\n '/contest/1557/problem/A': 481,\n '/contest/1557/problem/B': 482,\n '/contest/1557/problem/C': 483,\n '/contest/1557/problem/D': 484,\n '/contest/1557/problem/E': 485,\n '/contest/1191/problem/A': 486,\n '/contest/1191/problem/B': 487,\n '/contest/1191/problem/C': 488,\n '/contest/1191/problem/D': 489,\n '/contest/1191/problem/E': 490,\n '/contest/1191/problem/F': 491,\n '/contest/870/problem/A': 492,\n '/contest/870/problem/B': 493,\n '/contest/870/problem/C': 494,\n '/contest/870/problem/D': 495,\n '/contest/963/problem/A': 496,\n '/contest/963/problem/B': 497,\n '/contest/963/problem/C': 498,\n '/contest/963/problem/D': 499,\n '/contest/963/problem/E': 500,\n '/contest/1299/problem/A': 501,\n '/contest/1299/problem/B': 502,\n '/contest/1299/problem/C': 503,\n '/contest/1299/problem/D': 504,\n '/contest/1299/problem/E': 505,\n '/contest/48/problem/A': 506,\n '/contest/48/problem/B': 507,\n '/contest/48/problem/C': 508,\n '/contest/48/problem/D': 509,\n '/contest/48/problem/E': 510,\n '/contest/165/problem/A': 511,\n '/contest/165/problem/B': 512,\n '/contest/165/problem/C': 513,\n '/contest/165/problem/D': 514,\n '/contest/165/problem/E': 515,\n '/contest/298/problem/A': 516,\n '/contest/298/problem/B': 517,\n '/contest/298/problem/C': 518,\n '/contest/298/problem/D': 519,\n '/contest/93/problem/A': 520,\n '/contest/93/problem/B': 521,\n '/contest/93/problem/C': 522,\n '/contest/93/problem/D': 523,\n '/contest/93/problem/E': 524,\n '/contest/800/problem/B': 525,\n '/contest/800/problem/C': 526,\n '/contest/800/problem/D': 527,\n '/contest/800/problem/E': 528,\n '/contest/800/problem/A': 529,\n '/contest/1612/problem/A': 530,\n '/contest/1612/problem/B': 531,\n '/contest/1612/problem/C': 532,\n '/contest/1612/problem/D': 533,\n '/contest/1612/problem/E': 534,\n '/contest/1612/problem/F': 535,\n '/contest/1612/problem/G': 536,\n '/contest/1230/problem/A': 537,\n '/contest/1230/problem/B': 538,\n '/contest/1230/problem/C': 539,\n '/contest/1230/problem/D': 540,\n '/contest/1230/problem/E': 541,\n '/contest/1230/problem/F': 542,\n '/contest/1337/problem/A': 543,\n '/contest/1337/problem/B': 544,\n '/contest/1337/problem/C': 545,\n '/contest/1337/problem/D': 546,\n '/contest/1337/problem/E': 547,\n '/contest/28/problem/A': 548,\n '/contest/28/problem/B': 549,\n '/contest/28/problem/C': 550,\n '/contest/28/problem/D': 551,\n '/contest/1231/problem/A': 552,\n '/contest/1231/problem/B': 553,\n '/contest/1231/problem/C': 554,\n '/contest/1231/problem/D': 555,\n '/contest/1231/problem/F': 556,\n '/contest/1231/problem/E': 557,\n '/contest/147/problem/A': 558,\n '/contest/147/problem/B': 559,\n '/contest/1095/problem/A': 560,\n '/contest/1095/problem/B': 561,\n '/contest/1095/problem/C': 562,\n '/contest/1095/problem/D': 563,\n '/contest/1095/problem/E': 564,\n '/contest/1095/problem/F': 565,\n '/contest/947/problem/A': 566,\n '/contest/947/problem/B': 567,\n '/contest/947/problem/C': 568,\n '/contest/947/problem/D': 569,\n '/contest/947/problem/E': 570,\n '/contest/279/problem/A': 571,\n '/contest/279/problem/B': 572,\n '/contest/279/problem/C': 573,\n '/contest/279/problem/D': 574,\n '/contest/279/problem/E': 575,\n '/contest/916/problem/A': 576,\n '/contest/916/problem/C': 577,\n '/contest/916/problem/D': 578,\n '/contest/916/problem/E': 579,\n '/contest/916/problem/B': 580,\n '/contest/379/problem/A': 581,\n '/contest/379/problem/B': 582,\n '/contest/379/problem/C': 583,\n '/contest/379/problem/D': 584,\n '/contest/379/problem/E': 585,\n '/contest/379/problem/F': 586,\n '/contest/719/problem/A': 587,\n '/contest/719/problem/B': 588,\n '/contest/719/problem/C': 589,\n '/contest/719/problem/E': 590,\n '/contest/891/problem/A': 591,\n '/contest/891/problem/B': 592,\n '/contest/891/problem/C': 593,\n '/contest/891/problem/D': 594,\n '/contest/891/problem/E': 595,\n '/contest/878/problem/A': 596,\n '/contest/878/problem/B': 597,\n '/contest/878/problem/C': 598,\n '/contest/878/problem/D': 599,\n '/contest/878/problem/E': 600,\n '/contest/913/problem/A': 601,\n '/contest/913/problem/B': 602,\n '/contest/913/problem/C': 603,\n '/contest/913/problem/D': 604,\n '/contest/913/problem/E': 605,\n '/contest/913/problem/F': 606,\n '/contest/913/problem/G': 607,\n '/contest/61/problem/E': 608,\n '/contest/61/problem/A': 609,\n '/contest/61/problem/B': 610,\n '/contest/61/problem/D': 611,\n '/contest/61/problem/C': 612,\n '/contest/919/problem/A': 613,\n '/contest/919/problem/B': 614,\n '/contest/919/problem/C': 615,\n '/contest/919/problem/D': 616,\n '/contest/919/problem/E': 617,\n '/contest/919/problem/F': 618,\n '/contest/577/problem/E': 619,\n '/contest/577/problem/A': 620,\n '/contest/577/problem/B': 621,\n '/contest/577/problem/C': 622,\n '/contest/577/problem/D': 623,\n '/contest/1287/problem/A': 624,\n '/contest/1287/problem/B': 625,\n '/contest/1287/problem/C': 626,\n '/contest/1287/problem/D': 627,\n '/contest/1287/problem/E1': 628,\n '/contest/415/problem/A': 629,\n '/contest/415/problem/B': 630,\n '/contest/415/problem/C': 631,\n '/contest/415/problem/D': 632,\n '/contest/415/problem/E': 633,\n '/contest/1137/problem/A': 634,\n '/contest/1137/problem/B': 635,\n '/contest/1137/problem/D': 636,\n '/contest/1137/problem/E': 637,\n '/contest/1137/problem/F': 638,\n '/contest/1137/problem/C': 639,\n '/contest/305/problem/A': 640,\n '/contest/305/problem/B': 641,\n '/contest/305/problem/C': 642,\n '/contest/305/problem/D': 643,\n '/contest/305/problem/E': 644,\n '/contest/320/problem/A': 645,\n '/contest/320/problem/B': 646,\n '/contest/320/problem/C': 647,\n '/contest/320/problem/D': 648,\n '/contest/320/problem/E': 649,\n '/contest/1216/problem/A': 650,\n '/contest/1216/problem/B': 651,\n '/contest/1216/problem/C': 652,\n '/contest/1216/problem/D': 653,\n '/contest/1216/problem/E1': 654,\n '/contest/1216/problem/E2': 655,\n '/contest/1216/problem/F': 656,\n '/contest/523/problem/A': 657,\n '/contest/523/problem/B': 658,\n '/contest/523/problem/C': 659,\n '/contest/523/problem/D': 660,\n '/contest/1055/problem/A': 661,\n '/contest/1055/problem/B': 662,\n '/contest/1055/problem/C': 663,\n '/contest/1055/problem/D': 664,\n '/contest/1055/problem/E': 665,\n '/contest/1055/problem/F': 666,\n '/contest/1055/problem/G': 667,\n '/contest/1142/problem/A': 668,\n '/contest/1142/problem/B': 669,\n '/contest/1142/problem/C': 670,\n '/contest/1142/problem/D': 671,\n '/contest/1142/problem/E': 672,\n '/contest/1019/problem/A': 673,\n '/contest/1019/problem/B': 674,\n '/contest/1019/problem/C': 675,\n '/contest/1019/problem/D': 676,\n '/contest/1019/problem/E': 677,\n '/contest/1320/problem/A': 678,\n '/contest/1320/problem/B': 679,\n '/contest/1320/problem/C': 680,\n '/contest/1320/problem/D': 681,\n '/contest/1320/problem/E': 682,\n '/contest/1320/problem/F': 683,\n '/contest/1174/problem/A': 684,\n '/contest/1174/problem/B': 685,\n '/contest/1174/problem/C': 686,\n '/contest/1174/problem/D': 687,\n '/contest/1174/problem/E': 688,\n '/contest/1174/problem/F': 689,\n '/contest/920/problem/A': 690,\n '/contest/920/problem/B': 691,\n '/contest/920/problem/C': 692,\n '/contest/920/problem/D': 693,\n '/contest/920/problem/E': 694,\n '/contest/920/problem/F': 695,\n '/contest/920/problem/G': 696,\n '/contest/133/problem/A': 697,\n '/contest/133/problem/B': 698,\n '/contest/133/problem/C': 699,\n '/contest/133/problem/D': 700,\n '/contest/133/problem/E': 701,\n '/contest/1343/problem/A': 702,\n '/contest/1343/problem/B': 703,\n '/contest/1343/problem/C': 704,\n '/contest/1343/problem/D': 705,\n '/contest/1343/problem/E': 706,\n '/contest/413/problem/A': 707,\n '/contest/413/problem/B': 708,\n '/contest/413/problem/C': 709,\n '/contest/413/problem/D': 710,\n '/contest/413/problem/E': 711,\n '/contest/856/problem/A': 712,\n '/contest/856/problem/B': 713,\n '/contest/856/problem/C': 714,\n '/contest/856/problem/D': 715,\n '/contest/856/problem/E': 716,\n '/contest/360/problem/A': 717,\n '/contest/360/problem/B': 718,\n '/contest/360/problem/C': 719,\n '/contest/360/problem/D': 720,\n '/contest/360/problem/E': 721,\n '/contest/1442/problem/A': 722,\n '/contest/1442/problem/B': 723,\n '/contest/1442/problem/C': 724,\n '/contest/1442/problem/D': 725,\n '/contest/1442/problem/E': 726,\n '/contest/158/problem/A': 727,\n '/contest/158/problem/B': 728,\n '/contest/158/problem/C': 729,\n '/contest/158/problem/D': 730,\n '/contest/158/problem/E': 731,\n '/contest/389/problem/A': 732,\n '/contest/389/problem/B': 733,\n '/contest/389/problem/C': 734,\n '/contest/389/problem/D': 735,\n '/contest/389/problem/E': 736,\n '/contest/535/problem/A': 737,\n '/contest/535/problem/B': 738,\n '/contest/535/problem/C': 739,\n '/contest/535/problem/D': 740,\n '/contest/176/problem/A': 741,\n '/contest/176/problem/B': 742,\n '/contest/176/problem/C': 743,\n '/contest/176/problem/D': 744,\n '/contest/997/problem/A': 745,\n '/contest/997/problem/B': 746,\n '/contest/997/problem/C': 747,\n '/contest/997/problem/D': 748,\n '/contest/997/problem/E': 749,\n '/contest/984/problem/A': 750,\n '/contest/984/problem/B': 751,\n '/contest/984/problem/C': 752,\n '/contest/984/problem/D': 753,\n '/contest/984/problem/E': 754,\n '/contest/432/problem/A': 755,\n '/contest/432/problem/B': 756,\n '/contest/432/problem/C': 757,\n '/contest/432/problem/D': 758,\n '/contest/432/problem/E': 759,\n '/contest/568/problem/A': 760,\n '/contest/568/problem/B': 761,\n '/contest/568/problem/C': 762,\n '/contest/568/problem/D': 763,\n '/contest/939/problem/A': 764,\n '/contest/939/problem/B': 765,\n '/contest/939/problem/C': 766,\n '/contest/939/problem/D': 767,\n '/contest/939/problem/E': 768,\n '/contest/939/problem/F': 769,\n '/contest/675/problem/A': 770,\n '/contest/675/problem/B': 771,\n '/contest/675/problem/C': 772,\n '/contest/675/problem/D': 773,\n '/contest/675/problem/E': 774,\n '/contest/998/problem/A': 775,\n '/contest/998/problem/B': 776,\n '/contest/998/problem/C': 777,\n '/contest/998/problem/D': 778,\n '/contest/998/problem/E': 779,\n '/contest/1195/problem/A': 780,\n '/contest/1195/problem/B': 781,\n '/contest/1195/problem/C': 782,\n '/contest/1195/problem/D1': 783,\n '/contest/1195/problem/D2': 784,\n '/contest/1195/problem/E': 785,\n '/contest/1195/problem/F': 786,\n '/contest/1594/problem/A': 787,\n '/contest/1594/problem/B': 788,\n '/contest/1594/problem/C': 789,\n '/contest/1594/problem/D': 790,\n '/contest/1594/problem/E1': 791,\n '/contest/1594/problem/E2': 792,\n '/contest/1594/problem/F': 793,\n '/contest/542/problem/A': 794,\n '/contest/542/problem/C': 795,\n '/contest/542/problem/D': 796,\n '/contest/542/problem/E': 797,\n '/contest/542/problem/F': 798,\n '/contest/1380/problem/A': 799,\n '/contest/1380/problem/B': 800,\n '/contest/1380/problem/C': 801,\n '/contest/1380/problem/D': 802,\n '/contest/1380/problem/E': 803,\n '/contest/1380/problem/F': 804,\n '/contest/1380/problem/G': 805,\n '/contest/877/problem/A': 806,\n '/contest/877/problem/B': 807,\n '/contest/877/problem/C': 808,\n '/contest/877/problem/D': 809,\n '/contest/877/problem/E': 810,\n '/contest/877/problem/F': 811,\n '/contest/57/problem/A': 812,\n '/contest/57/problem/B': 813,\n '/contest/57/problem/C': 814,\n '/contest/57/problem/D': 815,\n '/contest/57/problem/E': 816,\n '/contest/851/problem/A': 817,\n '/contest/851/problem/B': 818,\n '/contest/851/problem/C': 819,\n '/contest/851/problem/D': 820,\n '/contest/851/problem/E': 821,\n '/contest/299/problem/A': 822,\n '/contest/299/problem/B': 823,\n '/contest/299/problem/C': 824,\n '/contest/299/problem/E': 825,\n '/contest/1130/problem/A': 826,\n '/contest/1130/problem/B': 827,\n '/contest/1130/problem/C': 828,\n '/contest/1130/problem/D1': 829,\n '/contest/1130/problem/D2': 830,\n '/contest/1130/problem/E': 831,\n '/contest/16/problem/A': 832,\n '/contest/16/problem/B': 833,\n '/contest/16/problem/C': 834,\n '/contest/16/problem/D': 835,\n '/contest/16/problem/E': 836,\n '/contest/1389/problem/A': 837,\n '/contest/1389/problem/B': 838,\n '/contest/1389/problem/C': 839,\n '/contest/1389/problem/D': 840,\n '/contest/1389/problem/E': 841,\n '/contest/1389/problem/F': 842,\n '/contest/1389/problem/G': 843,\n '/contest/982/problem/A': 844,\n '/contest/982/problem/B': 845,\n '/contest/982/problem/C': 846,\n '/contest/982/problem/D': 847,\n '/contest/982/problem/F': 848,\n '/contest/982/problem/E': 849,\n '/contest/1552/problem/A': 850,\n '/contest/1552/problem/B': 851,\n '/contest/1552/problem/C': 852,\n '/contest/1552/problem/D': 853,\n '/contest/1552/problem/E': 854,\n '/contest/1552/problem/F': 855,\n '/contest/1552/problem/G': 856,\n '/contest/1552/problem/H': 857,\n '/contest/1552/problem/I': 858,\n '/contest/1234/problem/A': 859,\n '/contest/1234/problem/B1': 860,\n '/contest/1234/problem/B2': 861,\n '/contest/1234/problem/C': 862,\n '/contest/1234/problem/D': 863,\n '/contest/1234/problem/E': 864,\n '/contest/1234/problem/F': 865,\n '/contest/574/problem/A': 866,\n '/contest/574/problem/B': 867,\n '/contest/574/problem/C': 868,\n '/contest/574/problem/D': 869,\n '/contest/574/problem/E': 870,\n '/contest/1629/problem/A': 871,\n '/contest/1629/problem/B': 872,\n '/contest/1629/problem/C': 873,\n '/contest/1629/problem/D': 874,\n '/contest/1629/problem/E': 875,\n '/contest/1629/problem/F1': 876,\n '/contest/1629/problem/F2': 877,\n '/contest/1040/problem/A': 878,\n '/contest/1040/problem/B': 879,\n '/contest/1040/problem/C': 880,\n '/contest/1040/problem/D': 881,\n '/contest/1040/problem/E': 882,\n '/contest/55/problem/A': 883,\n '/contest/55/problem/B': 884,\n '/contest/55/problem/C': 885,\n '/contest/55/problem/D': 886,\n '/contest/55/problem/E': 887,\n '/contest/1406/problem/A': 888,\n '/contest/1406/problem/B': 889,\n '/contest/1406/problem/C': 890,\n '/contest/1406/problem/D': 891,\n '/contest/1406/problem/E': 892,\n '/contest/457/problem/A': 893,\n '/contest/457/problem/B': 894,\n '/contest/457/problem/C': 895,\n '/contest/457/problem/D': 896,\n '/contest/159/problem/A': 897,\n '/contest/159/problem/B': 898,\n '/contest/159/problem/C': 899,\n '/contest/159/problem/D': 900,\n '/contest/159/problem/E': 901,\n '/contest/1215/problem/A': 902,\n '/contest/1215/problem/B': 903,\n '/contest/1215/problem/C': 904,\n '/contest/1215/problem/D': 905,\n '/contest/1215/problem/E': 906,\n '/contest/1215/problem/F': 907,\n '/contest/1332/problem/A': 908,\n '/contest/1332/problem/B': 909,\n '/contest/1332/problem/C': 910,\n '/contest/1332/problem/D': 911,\n '/contest/1332/problem/E': 912,\n '/contest/1332/problem/F': 913,\n '/contest/1332/problem/G': 914,\n '/contest/688/problem/A': 915,\n '/contest/688/problem/B': 916,\n '/contest/688/problem/C': 917,\n '/contest/688/problem/D': 918,\n '/contest/688/problem/E': 919,\n '/contest/1239/problem/A': 920,\n '/contest/1239/problem/B': 921,\n '/contest/1239/problem/D': 922,\n '/contest/1239/problem/E': 923,\n '/contest/1239/problem/C': 924,\n '/contest/508/problem/A': 925,\n '/contest/508/problem/B': 926,\n '/contest/508/problem/C': 927,\n '/contest/508/problem/D': 928,\n '/contest/508/problem/E': 929,\n '/contest/32/problem/A': 930,\n '/contest/32/problem/B': 931,\n '/contest/32/problem/C': 932,\n '/contest/32/problem/D': 933,\n '/contest/1204/problem/A': 934,\n '/contest/1204/problem/B': 935,\n '/contest/1204/problem/C': 936,\n '/contest/1204/problem/D1': 937,\n '/contest/1204/problem/D2': 938,\n '/contest/1204/problem/E': 939,\n '/contest/240/problem/A': 940,\n '/contest/240/problem/B': 941,\n '/contest/240/problem/C': 942,\n '/contest/240/problem/D': 943,\n '/contest/240/problem/E': 944,\n '/contest/240/problem/F': 945,\n '/contest/745/problem/A': 946,\n '/contest/745/problem/B': 947,\n '/contest/745/problem/C': 948,\n '/contest/745/problem/D': 949,\n '/contest/745/problem/E': 950,\n '/contest/1413/problem/A': 951,\n '/contest/1413/problem/B': 952,\n '/contest/1413/problem/C': 953,\n '/contest/1413/problem/D': 954,\n '/contest/1413/problem/E': 955,\n '/contest/1413/problem/F': 956,\n '/contest/1604/problem/A': 957,\n '/contest/1604/problem/B': 958,\n '/contest/1604/problem/C': 959,\n '/contest/1604/problem/D': 960,\n '/contest/1604/problem/E': 961,\n '/contest/1604/problem/F': 962,\n '/contest/651/problem/A': 963,\n '/contest/651/problem/B': 964,\n '/contest/651/problem/C': 965,\n '/contest/651/problem/D': 966,\n '/contest/651/problem/E': 967,\n '/contest/1333/problem/A': 968,\n '/contest/1333/problem/B': 969,\n '/contest/1333/problem/C': 970,\n '/contest/1333/problem/D': 971,\n '/contest/1333/problem/E': 972,\n '/contest/1333/problem/F': 973,\n '/contest/1344/problem/A': 974,\n '/contest/1344/problem/B': 975,\n '/contest/1344/problem/C': 976,\n '/contest/1344/problem/D': 977,\n '/contest/1344/problem/E': 978,\n '/contest/1344/problem/F': 979,\n '/contest/1242/problem/A': 980,\n '/contest/1242/problem/B': 981,\n '/contest/1242/problem/C': 982,\n '/contest/1242/problem/E': 983,\n '/contest/1242/problem/D': 984,\n '/contest/1496/problem/A': 985,\n '/contest/1496/problem/B': 986,\n '/contest/1496/problem/C': 987,\n '/contest/1496/problem/D': 988,\n '/contest/1496/problem/E': 989,\n '/contest/1496/problem/F': 990,\n '/contest/985/problem/A': 991,\n '/contest/985/problem/B': 992,\n '/contest/985/problem/C': 993,\n '/contest/985/problem/D': 994,\n '/contest/985/problem/E': 995,\n '/contest/985/problem/F': 996,\n '/contest/985/problem/G': 997,\n '/contest/1120/problem/B': 998,\n '/contest/1120/problem/C': 999,\n ...}"
     },
     "execution_count": 204,
     "metadata": {},
     "output_type": "execute_result"
    }
   ],
   "source": [
    "ds._item_id_mapping"
   ],
   "metadata": {
    "collapsed": false,
    "ExecuteTime": {
     "start_time": "2023-04-11T22:39:18.055257Z",
     "end_time": "2023-04-11T22:39:18.098834Z"
    }
   }
  },
  {
   "cell_type": "code",
   "execution_count": 280,
   "outputs": [
    {
     "ename": "AttributeError",
     "evalue": "'list' object has no attribute 'tocsr'",
     "output_type": "error",
     "traceback": [
      "\u001B[0;31m---------------------------------------------------------------------------\u001B[0m",
      "\u001B[0;31mAttributeError\u001B[0m                            Traceback (most recent call last)",
      "Cell \u001B[0;32mIn[280], line 1\u001B[0m\n\u001B[0;32m----> 1\u001B[0m res \u001B[38;5;241m=\u001B[39m \u001B[43mmodel\u001B[49m\u001B[38;5;241;43m.\u001B[39;49m\u001B[43mpredict\u001B[49m\u001B[43m(\u001B[49m\u001B[43mds\u001B[49m\u001B[38;5;241;43m.\u001B[39;49m\u001B[43m_user_id_mapping\u001B[49m\u001B[43m[\u001B[49m\u001B[38;5;124;43m\"\u001B[39;49m\u001B[38;5;124;43m/profile/IRussianGamerI\u001B[39;49m\u001B[38;5;124;43m\"\u001B[39;49m\u001B[43m]\u001B[49m\u001B[43m,\u001B[49m\u001B[43m \u001B[49m\u001B[43mitem_ids\u001B[49m\u001B[38;5;241;43m=\u001B[39;49m\u001B[38;5;28;43mlist\u001B[39;49m\u001B[43m(\u001B[49m\u001B[43mds\u001B[49m\u001B[38;5;241;43m.\u001B[39;49m\u001B[43m_item_id_mapping\u001B[49m\u001B[38;5;241;43m.\u001B[39;49m\u001B[43mvalues\u001B[49m\u001B[43m(\u001B[49m\u001B[43m)\u001B[49m\u001B[43m)\u001B[49m\u001B[43m,\u001B[49m\u001B[43m \u001B[49m\u001B[43mitem_features\u001B[49m\u001B[38;5;241;43m=\u001B[39;49m\u001B[38;5;28;43mlist\u001B[39;49m\u001B[43m(\u001B[49m\u001B[43mds\u001B[49m\u001B[38;5;241;43m.\u001B[39;49m\u001B[43m_item_feature_mapping\u001B[49m\u001B[38;5;241;43m.\u001B[39;49m\u001B[43mitems\u001B[49m\u001B[43m(\u001B[49m\u001B[43m)\u001B[49m\u001B[43m)\u001B[49m\u001B[43m)\u001B[49m\n",
      "File \u001B[0;32m~/StudyAI-ML/venv/lib/python3.10/site-packages/lightfm/lightfm.py:854\u001B[0m, in \u001B[0;36mLightFM.predict\u001B[0;34m(self, user_ids, item_ids, item_features, user_features, num_threads)\u001B[0m\n\u001B[1;32m    851\u001B[0m n_users \u001B[38;5;241m=\u001B[39m user_ids\u001B[38;5;241m.\u001B[39mmax() \u001B[38;5;241m+\u001B[39m \u001B[38;5;241m1\u001B[39m\n\u001B[1;32m    852\u001B[0m n_items \u001B[38;5;241m=\u001B[39m item_ids\u001B[38;5;241m.\u001B[39mmax() \u001B[38;5;241m+\u001B[39m \u001B[38;5;241m1\u001B[39m\n\u001B[0;32m--> 854\u001B[0m (user_features, item_features) \u001B[38;5;241m=\u001B[39m \u001B[38;5;28;43mself\u001B[39;49m\u001B[38;5;241;43m.\u001B[39;49m\u001B[43m_construct_feature_matrices\u001B[49m\u001B[43m(\u001B[49m\n\u001B[1;32m    855\u001B[0m \u001B[43m    \u001B[49m\u001B[43mn_users\u001B[49m\u001B[43m,\u001B[49m\u001B[43m \u001B[49m\u001B[43mn_items\u001B[49m\u001B[43m,\u001B[49m\u001B[43m \u001B[49m\u001B[43muser_features\u001B[49m\u001B[43m,\u001B[49m\u001B[43m \u001B[49m\u001B[43mitem_features\u001B[49m\n\u001B[1;32m    856\u001B[0m \u001B[43m\u001B[49m\u001B[43m)\u001B[49m\n\u001B[1;32m    858\u001B[0m lightfm_data \u001B[38;5;241m=\u001B[39m \u001B[38;5;28mself\u001B[39m\u001B[38;5;241m.\u001B[39m_get_lightfm_data()\n\u001B[1;32m    860\u001B[0m predictions \u001B[38;5;241m=\u001B[39m np\u001B[38;5;241m.\u001B[39mempty(\u001B[38;5;28mlen\u001B[39m(user_ids), dtype\u001B[38;5;241m=\u001B[39mnp\u001B[38;5;241m.\u001B[39mfloat32)\n",
      "File \u001B[0;32m~/StudyAI-ML/venv/lib/python3.10/site-packages/lightfm/lightfm.py:326\u001B[0m, in \u001B[0;36mLightFM._construct_feature_matrices\u001B[0;34m(self, n_users, n_items, user_features, item_features)\u001B[0m\n\u001B[1;32m    324\u001B[0m     item_features \u001B[38;5;241m=\u001B[39m sp\u001B[38;5;241m.\u001B[39midentity(n_items, dtype\u001B[38;5;241m=\u001B[39mCYTHON_DTYPE, \u001B[38;5;28mformat\u001B[39m\u001B[38;5;241m=\u001B[39m\u001B[38;5;124m\"\u001B[39m\u001B[38;5;124mcsr\u001B[39m\u001B[38;5;124m\"\u001B[39m)\n\u001B[1;32m    325\u001B[0m \u001B[38;5;28;01melse\u001B[39;00m:\n\u001B[0;32m--> 326\u001B[0m     item_features \u001B[38;5;241m=\u001B[39m \u001B[43mitem_features\u001B[49m\u001B[38;5;241;43m.\u001B[39;49m\u001B[43mtocsr\u001B[49m()\n\u001B[1;32m    328\u001B[0m \u001B[38;5;28;01mif\u001B[39;00m n_users \u001B[38;5;241m>\u001B[39m user_features\u001B[38;5;241m.\u001B[39mshape[\u001B[38;5;241m0\u001B[39m]:\n\u001B[1;32m    329\u001B[0m     \u001B[38;5;28;01mraise\u001B[39;00m \u001B[38;5;167;01mException\u001B[39;00m(\n\u001B[1;32m    330\u001B[0m         \u001B[38;5;124m\"\u001B[39m\u001B[38;5;124mNumber of user feature rows does not equal the number of users\u001B[39m\u001B[38;5;124m\"\u001B[39m\n\u001B[1;32m    331\u001B[0m     )\n",
      "\u001B[0;31mAttributeError\u001B[0m: 'list' object has no attribute 'tocsr'"
     ]
    }
   ],
   "source": [
    "res = model.predict(ds._user_id_mapping[\"/profile/IRussianGamerI\"], item_ids=list(ds._item_id_mapping.values()),\n",
    "                    item_features=list(ds._item_feature_mapping.items()))"
   ],
   "metadata": {
    "collapsed": false,
    "ExecuteTime": {
     "start_time": "2023-04-11T22:54:53.822965Z",
     "end_time": "2023-04-11T22:54:53.889508Z"
    }
   }
  },
  {
   "cell_type": "code",
   "execution_count": 270,
   "outputs": [
    {
     "name": "stdout",
     "output_type": "stream",
     "text": [
      "[-13.922911   -10.350857    -7.6710205  ...  -1.9641181    0.07243571\n",
      "  -6.865121  ]\n"
     ]
    }
   ],
   "source": [
    "print(res)"
   ],
   "metadata": {
    "collapsed": false,
    "ExecuteTime": {
     "start_time": "2023-04-11T22:54:54.952726Z",
     "end_time": "2023-04-11T22:54:55.027004Z"
    }
   }
  },
  {
   "cell_type": "code",
   "execution_count": 271,
   "outputs": [
    {
     "data": {
      "text/plain": "4686"
     },
     "execution_count": 271,
     "metadata": {},
     "output_type": "execute_result"
    }
   ],
   "source": [
    "res.argmax()"
   ],
   "metadata": {
    "collapsed": false,
    "ExecuteTime": {
     "start_time": "2023-04-11T22:54:55.144305Z",
     "end_time": "2023-04-11T22:54:55.182485Z"
    }
   }
  },
  {
   "cell_type": "code",
   "execution_count": 272,
   "outputs": [],
   "source": [
    "srt = res.argsort()"
   ],
   "metadata": {
    "collapsed": false,
    "ExecuteTime": {
     "start_time": "2023-04-11T22:54:55.303158Z",
     "end_time": "2023-04-11T22:54:55.409204Z"
    }
   }
  },
  {
   "cell_type": "code",
   "execution_count": 273,
   "outputs": [
    {
     "data": {
      "text/plain": "array([5349, 3250,  186, 1902, 4689,  968, 3492, 1052, 7812, 4686])"
     },
     "execution_count": 273,
     "metadata": {},
     "output_type": "execute_result"
    }
   ],
   "source": [
    "srt[-10:]"
   ],
   "metadata": {
    "collapsed": false,
    "ExecuteTime": {
     "start_time": "2023-04-11T22:54:55.402311Z",
     "end_time": "2023-04-11T22:54:55.474691Z"
    }
   }
  },
  {
   "cell_type": "code",
   "execution_count": 274,
   "outputs": [],
   "source": [
    "inverted = {}\n",
    "\n",
    "for key, value in ds._item_id_mapping.items():\n",
    "    inverted[value] = key"
   ],
   "metadata": {
    "collapsed": false,
    "ExecuteTime": {
     "start_time": "2023-04-11T22:54:55.891163Z",
     "end_time": "2023-04-11T22:54:55.959100Z"
    }
   }
  },
  {
   "cell_type": "code",
   "execution_count": 308,
   "outputs": [
    {
     "data": {
      "text/plain": "1459.9999999999998"
     },
     "execution_count": 308,
     "metadata": {},
     "output_type": "execute_result"
    },
    {
     "data": {
      "text/plain": "<Figure size 640x480 with 1 Axes>",
      "image/png": "[encoded data removed]"
     },
     "metadata": {},
     "output_type": "display_data"
    }
   ],
   "source": [
    "s = problems[\n",
    "    problems.problem_url.isin(submissions[submissions.author_url == \"/profile/IRussianGamerI\"].problem_url)].rating\n",
    "\n",
    "s.hist()\n",
    "\n",
    "s.quantile(0.95)"
   ],
   "metadata": {
    "collapsed": false,
    "ExecuteTime": {
     "start_time": "2023-04-11T23:20:23.380196Z",
     "end_time": "2023-04-11T23:20:23.708898Z"
    }
   }
  },
  {
   "cell_type": "code",
   "execution_count": 341,
   "outputs": [
    {
     "name": "stdout",
     "output_type": "stream",
     "text": [
      "https://codeforces.com/contest/1331/problem/D 5023    2000.0\n",
      "Name: filled_rating, dtype: float64\n",
      "https://codeforces.com/contest/1330/problem/B 5016    1400.0\n",
      "Name: filled_rating, dtype: float64\n",
      "https://codeforces.com/contest/1363/problem/B 575    1400.0\n",
      "Name: filled_rating, dtype: float64\n",
      "https://codeforces.com/contest/1327/problem/C 4994    1600.0\n",
      "Name: filled_rating, dtype: float64\n",
      "https://codeforces.com/contest/1228/problem/B 3806    1400.0\n",
      "Name: filled_rating, dtype: float64\n",
      "https://codeforces.com/contest/1191/problem/C 1080    1400.0\n",
      "Name: filled_rating, dtype: float64\n",
      "https://codeforces.com/contest/1368/problem/C 608    1500.0\n",
      "Name: filled_rating, dtype: float64\n",
      "https://codeforces.com/contest/1334/problem/C 5043    1600.0\n",
      "Name: filled_rating, dtype: float64\n",
      "https://codeforces.com/contest/1341/problem/C 5089    1500.0\n",
      "Name: filled_rating, dtype: float64\n",
      "https://codeforces.com/contest/1269/problem/B 8319    1500.0\n",
      "Name: filled_rating, dtype: float64\n"
     ]
    }
   ],
   "source": [
    "for key in reversed(srt[-100:]):\n",
    "    if len(problems[problems.problem_url == inverted[key]].filled_rating) and \\\n",
    "            problems[problems.problem_url == inverted[key]].filled_rating.iat[0] >= s.quantile(0.9):\n",
    "        print(f\"https://codeforces.com{inverted[key]}\", problems[problems.problem_url == inverted[key]].filled_rating)"
   ],
   "metadata": {
    "collapsed": false,
    "ExecuteTime": {
     "start_time": "2023-04-11T23:48:13.923777Z",
     "end_time": "2023-04-11T23:48:14.300152Z"
    }
   }
  },
  {
   "cell_type": "code",
   "execution_count": 332,
   "outputs": [],
   "source": [
    "draw = pd.DataFrame(submissions.problem_url.value_counts().reset_index())"
   ],
   "metadata": {
    "collapsed": false,
    "ExecuteTime": {
     "start_time": "2023-04-11T23:45:29.799679Z",
     "end_time": "2023-04-11T23:45:29.834766Z"
    }
   }
  },
  {
   "cell_type": "code",
   "execution_count": null,
   "outputs": [],
   "source": [
    ")"
   ],
   "metadata": {
    "collapsed": false
   }
  },
  {
   "cell_type": "code",
   "execution_count": 334,
   "outputs": [
    {
     "ename": "KeyError",
     "evalue": "'problem_url'",
     "output_type": "error",
     "traceback": [
      "\u001B[0;31m---------------------------------------------------------------------------\u001B[0m",
      "\u001B[0;31mKeyError\u001B[0m                                  Traceback (most recent call last)",
      "File \u001B[0;32m~/StudyAI-ML/venv/lib/python3.10/site-packages/pandas/core/indexes/base.py:3652\u001B[0m, in \u001B[0;36mIndex.get_loc\u001B[0;34m(self, key)\u001B[0m\n\u001B[1;32m   3651\u001B[0m \u001B[38;5;28;01mtry\u001B[39;00m:\n\u001B[0;32m-> 3652\u001B[0m     \u001B[38;5;28;01mreturn\u001B[39;00m \u001B[38;5;28;43mself\u001B[39;49m\u001B[38;5;241;43m.\u001B[39;49m\u001B[43m_engine\u001B[49m\u001B[38;5;241;43m.\u001B[39;49m\u001B[43mget_loc\u001B[49m\u001B[43m(\u001B[49m\u001B[43mcasted_key\u001B[49m\u001B[43m)\u001B[49m\n\u001B[1;32m   3653\u001B[0m \u001B[38;5;28;01mexcept\u001B[39;00m \u001B[38;5;167;01mKeyError\u001B[39;00m \u001B[38;5;28;01mas\u001B[39;00m err:\n",
      "File \u001B[0;32m~/StudyAI-ML/venv/lib/python3.10/site-packages/pandas/_libs/index.pyx:147\u001B[0m, in \u001B[0;36mpandas._libs.index.IndexEngine.get_loc\u001B[0;34m()\u001B[0m\n",
      "File \u001B[0;32m~/StudyAI-ML/venv/lib/python3.10/site-packages/pandas/_libs/index.pyx:176\u001B[0m, in \u001B[0;36mpandas._libs.index.IndexEngine.get_loc\u001B[0;34m()\u001B[0m\n",
      "File \u001B[0;32mpandas/_libs/hashtable_class_helper.pxi:7080\u001B[0m, in \u001B[0;36mpandas._libs.hashtable.PyObjectHashTable.get_item\u001B[0;34m()\u001B[0m\n",
      "File \u001B[0;32mpandas/_libs/hashtable_class_helper.pxi:7088\u001B[0m, in \u001B[0;36mpandas._libs.hashtable.PyObjectHashTable.get_item\u001B[0;34m()\u001B[0m\n",
      "\u001B[0;31mKeyError\u001B[0m: 'problem_url'",
      "\nThe above exception was the direct cause of the following exception:\n",
      "\u001B[0;31mKeyError\u001B[0m                                  Traceback (most recent call last)",
      "Cell \u001B[0;32mIn[334], line 3\u001B[0m\n\u001B[1;32m      1\u001B[0m draw \u001B[38;5;241m=\u001B[39m pd\u001B[38;5;241m.\u001B[39mDataFrame(submissions\u001B[38;5;241m.\u001B[39mproblem_url\u001B[38;5;241m.\u001B[39mvalue_counts())\n\u001B[0;32m----> 3\u001B[0m draw[\u001B[38;5;124m\"\u001B[39m\u001B[38;5;124mrating\u001B[39m\u001B[38;5;124m\"\u001B[39m] \u001B[38;5;241m=\u001B[39m \u001B[43mdraw\u001B[49m\u001B[43m[\u001B[49m\u001B[38;5;124;43m\"\u001B[39;49m\u001B[38;5;124;43mproblem_url\u001B[39;49m\u001B[38;5;124;43m\"\u001B[39;49m\u001B[43m]\u001B[49m\u001B[38;5;241m.\u001B[39mapply(\u001B[38;5;28;01mlambda\u001B[39;00m row: problems[problems\u001B[38;5;241m.\u001B[39mproblem_url \u001B[38;5;241m==\u001B[39m row]\u001B[38;5;241m.\u001B[39mfilled_rating[\u001B[38;5;241m0\u001B[39m], axis\u001B[38;5;241m=\u001B[39m\u001B[38;5;241m1\u001B[39m)\n",
      "File \u001B[0;32m~/StudyAI-ML/venv/lib/python3.10/site-packages/pandas/core/frame.py:3760\u001B[0m, in \u001B[0;36mDataFrame.__getitem__\u001B[0;34m(self, key)\u001B[0m\n\u001B[1;32m   3758\u001B[0m \u001B[38;5;28;01mif\u001B[39;00m \u001B[38;5;28mself\u001B[39m\u001B[38;5;241m.\u001B[39mcolumns\u001B[38;5;241m.\u001B[39mnlevels \u001B[38;5;241m>\u001B[39m \u001B[38;5;241m1\u001B[39m:\n\u001B[1;32m   3759\u001B[0m     \u001B[38;5;28;01mreturn\u001B[39;00m \u001B[38;5;28mself\u001B[39m\u001B[38;5;241m.\u001B[39m_getitem_multilevel(key)\n\u001B[0;32m-> 3760\u001B[0m indexer \u001B[38;5;241m=\u001B[39m \u001B[38;5;28;43mself\u001B[39;49m\u001B[38;5;241;43m.\u001B[39;49m\u001B[43mcolumns\u001B[49m\u001B[38;5;241;43m.\u001B[39;49m\u001B[43mget_loc\u001B[49m\u001B[43m(\u001B[49m\u001B[43mkey\u001B[49m\u001B[43m)\u001B[49m\n\u001B[1;32m   3761\u001B[0m \u001B[38;5;28;01mif\u001B[39;00m is_integer(indexer):\n\u001B[1;32m   3762\u001B[0m     indexer \u001B[38;5;241m=\u001B[39m [indexer]\n",
      "File \u001B[0;32m~/StudyAI-ML/venv/lib/python3.10/site-packages/pandas/core/indexes/base.py:3654\u001B[0m, in \u001B[0;36mIndex.get_loc\u001B[0;34m(self, key)\u001B[0m\n\u001B[1;32m   3652\u001B[0m     \u001B[38;5;28;01mreturn\u001B[39;00m \u001B[38;5;28mself\u001B[39m\u001B[38;5;241m.\u001B[39m_engine\u001B[38;5;241m.\u001B[39mget_loc(casted_key)\n\u001B[1;32m   3653\u001B[0m \u001B[38;5;28;01mexcept\u001B[39;00m \u001B[38;5;167;01mKeyError\u001B[39;00m \u001B[38;5;28;01mas\u001B[39;00m err:\n\u001B[0;32m-> 3654\u001B[0m     \u001B[38;5;28;01mraise\u001B[39;00m \u001B[38;5;167;01mKeyError\u001B[39;00m(key) \u001B[38;5;28;01mfrom\u001B[39;00m \u001B[38;5;21;01merr\u001B[39;00m\n\u001B[1;32m   3655\u001B[0m \u001B[38;5;28;01mexcept\u001B[39;00m \u001B[38;5;167;01mTypeError\u001B[39;00m:\n\u001B[1;32m   3656\u001B[0m     \u001B[38;5;66;03m# If we have a listlike key, _check_indexing_error will raise\u001B[39;00m\n\u001B[1;32m   3657\u001B[0m     \u001B[38;5;66;03m#  InvalidIndexError. Otherwise we fall through and re-raise\u001B[39;00m\n\u001B[1;32m   3658\u001B[0m     \u001B[38;5;66;03m#  the TypeError.\u001B[39;00m\n\u001B[1;32m   3659\u001B[0m     \u001B[38;5;28mself\u001B[39m\u001B[38;5;241m.\u001B[39m_check_indexing_error(key)\n",
      "\u001B[0;31mKeyError\u001B[0m: 'problem_url'"
     ]
    }
   ],
   "source": [
    "draw = pd.DataFrame(submissions.problem_url.value_counts())\n",
    "\n",
    "draw[\"rating\"] = draw[\"problem_url\"].apply(lambda row: problems[problems.problem_url == row].filled_rating[0], axis=1)"
   ],
   "metadata": {
    "collapsed": false,
    "ExecuteTime": {
     "start_time": "2023-04-11T23:36:52.832896Z",
     "end_time": "2023-04-11T23:36:52.845383Z"
    }
   }
  },
  {
   "cell_type": "code",
   "execution_count": null,
   "outputs": [],
   "source": [],
   "metadata": {
    "collapsed": false
   }
  }
 ],
 "metadata": {
  "kernelspec": {
   "display_name": "Python 3",
   "language": "python",
   "name": "python3"
  },
  "language_info": {
   "codemirror_mode": {
    "name": "ipython",
    "version": 2
   },
   "file_extension": ".py",
   "mimetype": "text/x-python",
   "name": "python",
   "nbconvert_exporter": "python",
   "pygments_lexer": "ipython2",
   "version": "2.7.6"
  }
 },
 "nbformat": 4,
 "nbformat_minor": 0
}
