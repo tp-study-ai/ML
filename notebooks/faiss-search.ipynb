{
 "metadata": {
  "kernelspec": {
   "language": "python",
   "display_name": "Python 3",
   "name": "python3"
  },
  "language_info": {
   "name": "python",
   "version": "3.7.12",
   "mimetype": "text/x-python",
   "codemirror_mode": {
    "name": "ipython",
    "version": 3
   },
   "pygments_lexer": "ipython3",
   "nbconvert_exporter": "python",
   "file_extension": ".py"
  }
 },
 "nbformat_minor": 4,
 "nbformat": 4,
 "cells": [
  {
   "cell_type": "code",
   "source": [
    "import numpy as np # linear algebra\n",
    "import pandas as pd # data processing, CSV file I/O (e.g. pd.read_csv)\n",
    "import torch\n",
    "import os\n",
    "from scipy.spatial.distance import cosine\n",
    "from sklearn.decomposition import PCA\n",
    "from tqdm import tqdm\n",
    "import pickle\n",
    "import faiss\n",
    "from transformers import AutoTokenizer, AutoModel"
   ],
   "metadata": {
    "execution": {
     "iopub.status.busy": "2023-04-04T15:05:36.722594Z",
     "iopub.execute_input": "2023-04-04T15:05:36.724130Z",
     "iopub.status.idle": "2023-04-04T15:05:46.552447Z",
     "shell.execute_reply.started": "2023-04-04T15:05:36.724064Z",
     "shell.execute_reply": "2023-04-04T15:05:46.550804Z"
    },
    "trusted": true,
    "ExecuteTime": {
     "start_time": "2023-04-08T14:12:50.372601Z",
     "end_time": "2023-04-08T14:12:55.772925Z"
    }
   },
   "execution_count": 4,
   "outputs": []
  },
  {
   "cell_type": "markdown",
   "source": [
    "# Set up MLP Model"
   ],
   "metadata": {}
  },
  {
   "cell_type": "code",
   "source": [
    "class BERTEmbeddingTransform(object):\n",
    "    def __init__(self, bert_model, tokenizer, device='cpu'):\n",
    "        bert_model.eval()\n",
    "        bert_model = bert_model.to(device)\n",
    "        bert_model.share_memory()\n",
    "        self.bert_model = bert_model\n",
    "        self.tokenizer = tokenizer\n",
    "        self.device = device\n",
    "    \n",
    "    def __call__(self, sample):\n",
    "        code_tokens=self.tokenizer.tokenize(sample)\n",
    "        tokens = code_tokens\n",
    "        tokens_ids=self.tokenizer.convert_tokens_to_ids(tokens)\n",
    "        done_tok = torch.split(torch.tensor(tokens_ids, device=self.device), 510)\n",
    "        with torch.no_grad():\n",
    "            embedings = []\n",
    "            for input_tok in done_tok:\n",
    "                input_tok = torch.cat((torch.tensor([0], device=self.device), input_tok, torch.tensor([2], device=self.device)))\n",
    "                temp = self.bert_model(input_tok.clone().detach()[None,:], output_hidden_states = True)\n",
    "                embedings.append(temp[1][-2])\n",
    "            return torch.concat(embedings,dim=1).squeeze().mean(dim=0)"
   ],
   "metadata": {
    "execution": {
     "iopub.status.busy": "2023-04-04T15:13:59.314149Z",
     "iopub.execute_input": "2023-04-04T15:13:59.314666Z",
     "iopub.status.idle": "2023-04-04T15:13:59.328944Z",
     "shell.execute_reply.started": "2023-04-04T15:13:59.314622Z",
     "shell.execute_reply": "2023-04-04T15:13:59.326809Z"
    },
    "trusted": true,
    "ExecuteTime": {
     "start_time": "2023-04-08T14:12:26.983805Z",
     "end_time": "2023-04-08T14:12:27.017855Z"
    }
   },
   "execution_count": 1,
   "outputs": []
  },
  {
   "cell_type": "code",
   "source": [
    "class MLP256(torch.nn.Module):\n",
    "    def __init__(self):\n",
    "        super().__init__()\n",
    "        self.mlp = torch.nn.Sequential(\n",
    "            torch.nn.Linear(768, 512),\n",
    "            torch.nn.GELU(),\n",
    "            torch.nn.Dropout(p=0.1),\n",
    "            torch.nn.Linear(512, 512),\n",
    "            torch.nn.GELU(),\n",
    "            torch.nn.Dropout(p=0.1),\n",
    "            torch.nn.Linear(512, 512),\n",
    "            torch.nn.GELU(),\n",
    "            torch.nn.Dropout(p=0.1),\n",
    "            torch.nn.Linear(512, 256),\n",
    "        )\n",
    "    def forward(self, x):\n",
    "        y = self.mlp(x)\n",
    "        return y"
   ],
   "metadata": {
    "execution": {
     "iopub.status.busy": "2023-04-04T15:06:18.992598Z",
     "iopub.execute_input": "2023-04-04T15:06:18.993213Z",
     "iopub.status.idle": "2023-04-04T15:06:19.002487Z",
     "shell.execute_reply.started": "2023-04-04T15:06:18.993166Z",
     "shell.execute_reply": "2023-04-04T15:06:19.000761Z"
    },
    "trusted": true,
    "ExecuteTime": {
     "start_time": "2023-04-08T14:13:02.436576Z",
     "end_time": "2023-04-08T14:13:02.518783Z"
    }
   },
   "execution_count": 5,
   "outputs": []
  },
  {
   "cell_type": "markdown",
   "source": [
    "## Set up BERT"
   ],
   "metadata": {}
  },
  {
   "cell_type": "code",
   "source": [
    "tokenizer = AutoTokenizer.from_pretrained(\"neulab/codebert-cpp\")\n",
    "BERT = AutoModel.from_pretrained(\"neulab/codebert-cpp\", add_pooling_layer = False)\n",
    "BERT.eval()\n",
    "if torch.cuda.is_available():\n",
    "    bert_transform = BERTEmbeddingTransform(BERT,tokenizer, 'cuda')\n",
    "else:\n",
    "    bert_transform = BERTEmbeddingTransform(BERT,tokenizer, 'cpu')"
   ],
   "metadata": {
    "execution": {
     "iopub.status.busy": "2023-04-04T15:14:08.654697Z",
     "iopub.execute_input": "2023-04-04T15:14:08.655117Z",
     "iopub.status.idle": "2023-04-04T15:14:11.726672Z",
     "shell.execute_reply.started": "2023-04-04T15:14:08.655081Z",
     "shell.execute_reply": "2023-04-04T15:14:11.725639Z"
    },
    "trusted": true,
    "ExecuteTime": {
     "start_time": "2023-04-08T14:13:04.567789Z",
     "end_time": "2023-04-08T14:13:06.797067Z"
    }
   },
   "execution_count": 6,
   "outputs": [
    {
     "name": "stderr",
     "output_type": "stream",
     "text": [
      "Some weights of the model checkpoint at neulab/codebert-cpp were not used when initializing RobertaModel: ['lm_head.bias', 'lm_head.dense.weight', 'lm_head.layer_norm.weight', 'lm_head.dense.bias', 'lm_head.layer_norm.bias']\n",
      "- This IS expected if you are initializing RobertaModel from the checkpoint of a model trained on another task or with another architecture (e.g. initializing a BertForSequenceClassification model from a BertForPreTraining model).\n",
      "- This IS NOT expected if you are initializing RobertaModel from the checkpoint of a model that you expect to be exactly identical (initializing a BertForSequenceClassification model from a BertForSequenceClassification model).\n"
     ]
    }
   ]
  },
  {
   "cell_type": "markdown",
   "source": [
    "## Set up MLP"
   ],
   "metadata": {}
  },
  {
   "cell_type": "code",
   "source": [
    "mlp = MLP256()\n",
    "#model = BiLSTMVectorizer(768, 256)\n",
    "if torch.cuda.is_available():\n",
    "    mlp.to(\"cuda\")\n",
    "mlp.load_state_dict(torch.load(\"../models/MLP256_last.pth\", map_location=torch.device('cpu')))\n",
    "mlp.eval()"
   ],
   "metadata": {
    "execution": {
     "iopub.status.busy": "2023-04-04T15:33:17.350170Z",
     "iopub.execute_input": "2023-04-04T15:33:17.351565Z",
     "iopub.status.idle": "2023-04-04T15:33:17.420662Z",
     "shell.execute_reply.started": "2023-04-04T15:33:17.351517Z",
     "shell.execute_reply": "2023-04-04T15:33:17.419348Z"
    },
    "trusted": true,
    "ExecuteTime": {
     "start_time": "2023-04-08T14:13:06.798430Z",
     "end_time": "2023-04-08T14:13:06.853821Z"
    }
   },
   "execution_count": 7,
   "outputs": [
    {
     "data": {
      "text/plain": "MLP256(\n  (mlp): Sequential(\n    (0): Linear(in_features=768, out_features=512, bias=True)\n    (1): GELU(approximate='none')\n    (2): Dropout(p=0.1, inplace=False)\n    (3): Linear(in_features=512, out_features=512, bias=True)\n    (4): GELU(approximate='none')\n    (5): Dropout(p=0.1, inplace=False)\n    (6): Linear(in_features=512, out_features=512, bias=True)\n    (7): GELU(approximate='none')\n    (8): Dropout(p=0.1, inplace=False)\n    (9): Linear(in_features=512, out_features=256, bias=True)\n  )\n)"
     },
     "execution_count": 7,
     "metadata": {},
     "output_type": "execute_result"
    }
   ]
  },
  {
   "cell_type": "markdown",
   "source": [
    "# Load Data"
   ],
   "metadata": {}
  },
  {
   "cell_type": "code",
   "source": [
    "faiss_index = faiss.read_index('../data/external/task_index_median_MLP256_03-04-23.bin')\n",
    "keys_df = pd.read_csv(\"../data/external/keys_df.csv\", index_col=0)\n",
    "pwt_df = pd.read_csv(\"../data/external/codeforces-problems.csv\", index_col=0)"
   ],
   "metadata": {
    "execution": {
     "iopub.status.busy": "2023-04-04T15:06:26.497134Z",
     "iopub.execute_input": "2023-04-04T15:06:26.498511Z",
     "iopub.status.idle": "2023-04-04T15:06:26.707425Z",
     "shell.execute_reply.started": "2023-04-04T15:06:26.498440Z",
     "shell.execute_reply": "2023-04-04T15:06:26.705938Z"
    },
    "trusted": true,
    "ExecuteTime": {
     "start_time": "2023-04-08T14:13:26.848404Z",
     "end_time": "2023-04-08T14:13:26.991526Z"
    }
   },
   "execution_count": 11,
   "outputs": []
  },
  {
   "cell_type": "code",
   "source": [
    "keys_df.head()"
   ],
   "metadata": {
    "execution": {
     "iopub.status.busy": "2023-04-04T15:07:06.566019Z",
     "iopub.execute_input": "2023-04-04T15:07:06.566488Z",
     "iopub.status.idle": "2023-04-04T15:07:06.593723Z",
     "shell.execute_reply.started": "2023-04-04T15:07:06.566451Z",
     "shell.execute_reply": "2023-04-04T15:07:06.592468Z"
    },
    "trusted": true,
    "ExecuteTime": {
     "start_time": "2023-04-08T14:13:27.173526Z",
     "end_time": "2023-04-08T14:13:27.174654Z"
    }
   },
   "execution_count": 12,
   "outputs": [
    {
     "data": {
      "text/plain": "            problem_url\n0  /contest/1/problem/A\n1  /contest/1/problem/B\n2  /contest/1/problem/C\n3  /contest/2/problem/A\n4  /contest/2/problem/B",
      "text/html": "<div>\n<style scoped>\n    .dataframe tbody tr th:only-of-type {\n        vertical-align: middle;\n    }\n\n    .dataframe tbody tr th {\n        vertical-align: top;\n    }\n\n    .dataframe thead th {\n        text-align: right;\n    }\n</style>\n<table border=\"1\" class=\"dataframe\">\n  <thead>\n    <tr style=\"text-align: right;\">\n      <th></th>\n      <th>problem_url</th>\n    </tr>\n  </thead>\n  <tbody>\n    <tr>\n      <th>0</th>\n      <td>/contest/1/problem/A</td>\n    </tr>\n    <tr>\n      <th>1</th>\n      <td>/contest/1/problem/B</td>\n    </tr>\n    <tr>\n      <th>2</th>\n      <td>/contest/1/problem/C</td>\n    </tr>\n    <tr>\n      <th>3</th>\n      <td>/contest/2/problem/A</td>\n    </tr>\n    <tr>\n      <th>4</th>\n      <td>/contest/2/problem/B</td>\n    </tr>\n  </tbody>\n</table>\n</div>"
     },
     "execution_count": 12,
     "metadata": {},
     "output_type": "execute_result"
    }
   ]
  },
  {
   "cell_type": "code",
   "source": [
    "pwt_df[\"problem_url\"] = pwt_df[\"problem_url\"].apply(lambda x: x.replace(\"contests\", \"contest\"))\n",
    "pwt_df['problem_tags'] = pwt_df['problem_tags'].astype(str)\n",
    "pwt_df.head()"
   ],
   "metadata": {
    "execution": {
     "iopub.status.busy": "2023-04-04T15:10:40.651194Z",
     "iopub.execute_input": "2023-04-04T15:10:40.651703Z",
     "iopub.status.idle": "2023-04-04T15:10:40.675764Z",
     "shell.execute_reply.started": "2023-04-04T15:10:40.651646Z",
     "shell.execute_reply": "2023-04-04T15:10:40.674358Z"
    },
    "trusted": true,
    "ExecuteTime": {
     "start_time": "2023-04-08T14:13:28.149449Z",
     "end_time": "2023-04-08T14:13:28.237778Z"
    }
   },
   "execution_count": 13,
   "outputs": [
    {
     "data": {
      "text/plain": "   contest problem_name                                  problem_statement   \n0      325            A  You are given n rectangles. The corners of rec...  \\\n1      325            B  Daniel is organizing a football tournament. He...   \n2      325            C  Piegirl has found a monster and a book about m...   \n3      325            D  In a far away land, there exists a planet shap...   \n4      325            E  Piegirl found the red button. You have one las...   \n\n                                    problem_tags  rating   \n0                                 implementation  1500.0  \\\n1                              binarysearch,math  1800.0   \n2             dfsandsimilar,graphs,shortestpaths  2600.0   \n3                                            dsu  2900.0   \n4  combinatorics,dfsandsimilar,dsu,graphs,greedy  2800.0   \n\n              problem_url  \n0  /contest/325/problem/A  \n1  /contest/325/problem/B  \n2  /contest/325/problem/C  \n3  /contest/325/problem/D  \n4  /contest/325/problem/E  ",
      "text/html": "<div>\n<style scoped>\n    .dataframe tbody tr th:only-of-type {\n        vertical-align: middle;\n    }\n\n    .dataframe tbody tr th {\n        vertical-align: top;\n    }\n\n    .dataframe thead th {\n        text-align: right;\n    }\n</style>\n<table border=\"1\" class=\"dataframe\">\n  <thead>\n    <tr style=\"text-align: right;\">\n      <th></th>\n      <th>contest</th>\n      <th>problem_name</th>\n      <th>problem_statement</th>\n      <th>problem_tags</th>\n      <th>rating</th>\n      <th>problem_url</th>\n    </tr>\n  </thead>\n  <tbody>\n    <tr>\n      <th>0</th>\n      <td>325</td>\n      <td>A</td>\n      <td>You are given n rectangles. The corners of rec...</td>\n      <td>implementation</td>\n      <td>1500.0</td>\n      <td>/contest/325/problem/A</td>\n    </tr>\n    <tr>\n      <th>1</th>\n      <td>325</td>\n      <td>B</td>\n      <td>Daniel is organizing a football tournament. He...</td>\n      <td>binarysearch,math</td>\n      <td>1800.0</td>\n      <td>/contest/325/problem/B</td>\n    </tr>\n    <tr>\n      <th>2</th>\n      <td>325</td>\n      <td>C</td>\n      <td>Piegirl has found a monster and a book about m...</td>\n      <td>dfsandsimilar,graphs,shortestpaths</td>\n      <td>2600.0</td>\n      <td>/contest/325/problem/C</td>\n    </tr>\n    <tr>\n      <th>3</th>\n      <td>325</td>\n      <td>D</td>\n      <td>In a far away land, there exists a planet shap...</td>\n      <td>dsu</td>\n      <td>2900.0</td>\n      <td>/contest/325/problem/D</td>\n    </tr>\n    <tr>\n      <th>4</th>\n      <td>325</td>\n      <td>E</td>\n      <td>Piegirl found the red button. You have one las...</td>\n      <td>combinatorics,dfsandsimilar,dsu,graphs,greedy</td>\n      <td>2800.0</td>\n      <td>/contest/325/problem/E</td>\n    </tr>\n  </tbody>\n</table>\n</div>"
     },
     "execution_count": 13,
     "metadata": {},
     "output_type": "execute_result"
    }
   ]
  },
  {
   "cell_type": "code",
   "source": [
    "merged_df = pd.merge(keys_df, pwt_df, how=\"left\", on='problem_url')\n",
    "merged_df.head()"
   ],
   "metadata": {
    "execution": {
     "iopub.status.busy": "2023-04-04T15:11:22.130310Z",
     "iopub.execute_input": "2023-04-04T15:11:22.130867Z",
     "iopub.status.idle": "2023-04-04T15:11:22.163074Z",
     "shell.execute_reply.started": "2023-04-04T15:11:22.130824Z",
     "shell.execute_reply": "2023-04-04T15:11:22.161403Z"
    },
    "trusted": true,
    "ExecuteTime": {
     "start_time": "2023-04-08T14:13:30.056979Z",
     "end_time": "2023-04-08T14:13:30.118120Z"
    }
   },
   "execution_count": 14,
   "outputs": [
    {
     "data": {
      "text/plain": "            problem_url  contest problem_name   \n0  /contest/1/problem/A      1.0            A  \\\n1  /contest/1/problem/B      1.0            B   \n2  /contest/1/problem/C      1.0            C   \n3  /contest/2/problem/A      2.0            A   \n4  /contest/2/problem/B      2.0            B   \n\n                                   problem_statement            problem_tags   \n0  Theatre Square in the capital city of Berland ...                    math  \\\n1  In the popular spreadsheets systems (for examp...     implementation,math   \n2  Nowadays all circuses in Berland have a round ...           geometry,math   \n3  The winner of the card game popular in Berland...  hashing,implementation   \n4  There is a square matrix n × n, consisting of ...                 dp,math   \n\n   rating  \n0  1000.0  \n1  1600.0  \n2  2100.0  \n3  1500.0  \n4  2000.0  ",
      "text/html": "<div>\n<style scoped>\n    .dataframe tbody tr th:only-of-type {\n        vertical-align: middle;\n    }\n\n    .dataframe tbody tr th {\n        vertical-align: top;\n    }\n\n    .dataframe thead th {\n        text-align: right;\n    }\n</style>\n<table border=\"1\" class=\"dataframe\">\n  <thead>\n    <tr style=\"text-align: right;\">\n      <th></th>\n      <th>problem_url</th>\n      <th>contest</th>\n      <th>problem_name</th>\n      <th>problem_statement</th>\n      <th>problem_tags</th>\n      <th>rating</th>\n    </tr>\n  </thead>\n  <tbody>\n    <tr>\n      <th>0</th>\n      <td>/contest/1/problem/A</td>\n      <td>1.0</td>\n      <td>A</td>\n      <td>Theatre Square in the capital city of Berland ...</td>\n      <td>math</td>\n      <td>1000.0</td>\n    </tr>\n    <tr>\n      <th>1</th>\n      <td>/contest/1/problem/B</td>\n      <td>1.0</td>\n      <td>B</td>\n      <td>In the popular spreadsheets systems (for examp...</td>\n      <td>implementation,math</td>\n      <td>1600.0</td>\n    </tr>\n    <tr>\n      <th>2</th>\n      <td>/contest/1/problem/C</td>\n      <td>1.0</td>\n      <td>C</td>\n      <td>Nowadays all circuses in Berland have a round ...</td>\n      <td>geometry,math</td>\n      <td>2100.0</td>\n    </tr>\n    <tr>\n      <th>3</th>\n      <td>/contest/2/problem/A</td>\n      <td>2.0</td>\n      <td>A</td>\n      <td>The winner of the card game popular in Berland...</td>\n      <td>hashing,implementation</td>\n      <td>1500.0</td>\n    </tr>\n    <tr>\n      <th>4</th>\n      <td>/contest/2/problem/B</td>\n      <td>2.0</td>\n      <td>B</td>\n      <td>There is a square matrix n × n, consisting of ...</td>\n      <td>dp,math</td>\n      <td>2000.0</td>\n    </tr>\n  </tbody>\n</table>\n</div>"
     },
     "execution_count": 14,
     "metadata": {},
     "output_type": "execute_result"
    }
   ]
  },
  {
   "cell_type": "markdown",
   "source": [
    "# Test FAISS"
   ],
   "metadata": {}
  },
  {
   "cell_type": "code",
   "source": [
    "source_code = '#include <bits/stdc++.h>\\n \\nusing namespace std;\\ntypedef long long ll;\\n \\nvector<vector<int>> adj,btree;\\nint timer=1,bid=1;\\nvector<int> vis,tin,low;\\nset<pair<int,int>> edges;\\n \\nvoid bridge(int v,int p){\\n    vis[v]=1;\\n    tin[v] = low[v] = timer++;\\n    for(auto u : adj[v]){\\n        if(u == p) continue;\\n        if(vis[u]){\\n            low[v] = min(low[v],tin[u]);\\n        }else{\\n            bridge(u,v);\\n            low[v] = min(low[v],low[u]);\\n            if(low[u] > tin[v]){\\n                // bridge   \\n                edges.insert({min(u,v),max(u,v)});\\n            }\\n        }\\n    }\\n}\\n \\n \\nvoid build(int v,int cur){\\n    vis[v]=1;\\n    for(auto u : adj[v]){\\n        if(vis[u])continue;\\n        if(edges.find({min(u,v),max(u,v)}) == edges.end()){\\n            build(u,cur);\\n        }else{\\n            bid++;\\n            btree[cur].push_back(bid);\\n            btree[bid].push_back(cur);\\n            build(u,bid);\\n        }\\n    }\\n}\\n \\nint ans =0,s;\\nvoid dfs(int v,int p,int cur){\\n    cur++;\\n    if(cur > ans){\\n        ans = cur,s =v;\\n    }\\n    for(auto u : btree[v]){\\n        if(u == p)continue;\\n        dfs(u,v,cur);\\n    }\\n}\\n \\nvoid solve(){\\n    int n,m;cin>>n>>m;\\n    adj.resize(n+1),btree.resize(n+1);\\n    for(int i=0;i<m;i++){\\n        int x,y;cin>>x>>y;\\n        adj[x].push_back(y);\\n        adj[y].push_back(x);\\n    }\\n    vis.resize(n+1,0),tin.resize(n+1,0),low.resize(n+1,1e9);\\n    bridge(1,-1);\\n    vis.clear(),vis.resize(n+1,0);\\n    build(1,1);\\n    dfs(1,-1,0);\\n    dfs(s, -1,0);\\n    cout<<ans-1;\\n}\\n \\n \\nint main(){\\n   ios_base::sync_with_stdio(0),cin.tie(0);\\n   int t=1;//cin>>t;\\n   while(t--) solve();\\n}\\n'"
   ],
   "metadata": {
    "execution": {
     "iopub.status.busy": "2023-04-04T15:33:28.827159Z",
     "iopub.execute_input": "2023-04-04T15:33:28.827615Z",
     "iopub.status.idle": "2023-04-04T15:33:28.835074Z",
     "shell.execute_reply.started": "2023-04-04T15:33:28.827578Z",
     "shell.execute_reply": "2023-04-04T15:33:28.833303Z"
    },
    "trusted": true,
    "ExecuteTime": {
     "start_time": "2023-04-08T14:13:32.552928Z",
     "end_time": "2023-04-08T14:13:32.557926Z"
    }
   },
   "execution_count": 15,
   "outputs": []
  },
  {
   "cell_type": "code",
   "source": [
    "emb = mlp(bert_transform(source_code))\n",
    "emb.size()"
   ],
   "metadata": {
    "execution": {
     "iopub.status.busy": "2023-04-04T15:33:29.129493Z",
     "iopub.execute_input": "2023-04-04T15:33:29.130550Z",
     "iopub.status.idle": "2023-04-04T15:33:31.016178Z",
     "shell.execute_reply.started": "2023-04-04T15:33:29.130485Z",
     "shell.execute_reply": "2023-04-04T15:33:31.014749Z"
    },
    "trusted": true,
    "ExecuteTime": {
     "start_time": "2023-04-08T14:13:33.315815Z",
     "end_time": "2023-04-08T14:13:35.213835Z"
    }
   },
   "execution_count": 16,
   "outputs": [
    {
     "name": "stderr",
     "output_type": "stream",
     "text": [
      "Token indices sequence length is longer than the specified maximum sequence length for this model (968 > 512). Running this sequence through the model will result in indexing errors\n"
     ]
    },
    {
     "data": {
      "text/plain": "torch.Size([256])"
     },
     "execution_count": 16,
     "metadata": {},
     "output_type": "execute_result"
    }
   ]
  },
  {
   "cell_type": "code",
   "source": [
    "result = faiss_index.search(emb.detach().numpy().reshape(-1,256), k=20)\n",
    "result"
   ],
   "metadata": {
    "execution": {
     "iopub.status.busy": "2023-04-04T15:33:31.018559Z",
     "iopub.execute_input": "2023-04-04T15:33:31.020116Z",
     "iopub.status.idle": "2023-04-04T15:33:31.032074Z",
     "shell.execute_reply.started": "2023-04-04T15:33:31.020060Z",
     "shell.execute_reply": "2023-04-04T15:33:31.030658Z"
    },
    "trusted": true,
    "ExecuteTime": {
     "start_time": "2023-04-08T14:13:35.257464Z",
     "end_time": "2023-04-08T14:13:35.261578Z"
    }
   },
   "execution_count": 17,
   "outputs": [
    {
     "data": {
      "text/plain": "(array([[243513.67, 261347.53, 311992.  , 321059.  , 330046.12, 357358.03,\n         360204.75, 360420.5 , 362626.97, 368758.06, 370713.16, 386262.06,\n         389857.4 , 390099.53, 402195.38, 409448.38, 409600.75, 412134.3 ,\n         436164.  , 438096.03]], dtype=float32),\n array([[3071, 2413, 5716, 2013, 1062, 1069, 1605, 1920, 5093, 5136, 5255,\n         4606,   61, 3404, 2256, 6950, 2258,  819, 6710, 2020]]))"
     },
     "execution_count": 17,
     "metadata": {},
     "output_type": "execute_result"
    }
   ]
  },
  {
   "cell_type": "code",
   "source": [
    "for i in result[1][0]:\n",
    "    print(merged_df.problem_url[i], merged_df.problem_tags[i])"
   ],
   "metadata": {
    "execution": {
     "iopub.status.busy": "2023-04-04T15:33:31.033660Z",
     "iopub.execute_input": "2023-04-04T15:33:31.034625Z",
     "iopub.status.idle": "2023-04-04T15:33:31.046137Z",
     "shell.execute_reply.started": "2023-04-04T15:33:31.034584Z",
     "shell.execute_reply": "2023-04-04T15:33:31.044079Z"
    },
    "trusted": true,
    "ExecuteTime": {
     "start_time": "2023-04-08T14:13:35.257672Z",
     "end_time": "2023-04-08T14:13:35.595822Z"
    }
   },
   "execution_count": 18,
   "outputs": [
    {
     "name": "stdout",
     "output_type": "stream",
     "text": [
      "/contest/687/problem/E dfsandsimilar,graphs\n",
      "/contest/542/problem/E graphs,shortestpaths\n",
      "/contest/1220/problem/E dfsandsimilar,dp,dsu,graphs,greedy,trees\n",
      "/contest/449/problem/B graphs,greedy,shortestpaths\n",
      "/contest/229/problem/B binarysearch,datastructures,graphs,shortestpaths\n",
      "/contest/230/problem/D binarysearch,graphs,shortestpaths\n",
      "/contest/346/problem/D dp,graphs,shortestpaths\n",
      "/contest/427/problem/C dfsandsimilar,graphs,twopointers\n",
      "/contest/1101/problem/D datastructures,dfsandsimilar,dp,numbertheory,trees\n",
      "/contest/1108/problem/F binarysearch,dsu,graphs,greedy\n",
      "/contest/1139/problem/E flows,graphmatchings,graphs\n",
      "/contest/1000/problem/E dfsandsimilar,graphs,trees\n",
      "/contest/14/problem/D dfsandsimilar,dp,graphs,shortestpaths,trees,twopointers\n",
      "/contest/757/problem/F datastructures,graphs,shortestpaths\n",
      "/contest/505/problem/D dfsandsimilar\n",
      "/contest/1467/problem/E nan\n",
      "/contest/506/problem/B dfsandsimilar,graphs\n",
      "/contest/178/problem/B1 nan\n",
      "/contest/1423/problem/B nan\n",
      "/contest/450/problem/D graphs,greedy,shortestpaths\n"
     ]
    }
   ]
  },
  {
   "cell_type": "markdown",
   "source": [
    "## Test once again"
   ],
   "metadata": {
    "collapsed": false
   }
  },
  {
   "cell_type": "code",
   "source": [
    "my_code = \"\"\"#include <bits/stdc++.h>\n",
    "#define ll long  long\n",
    "#define f first\n",
    "#define s second\n",
    "#define pii pair<int,int>\n",
    "#define pll pair<ll,ll>\n",
    "#define pb push_back\n",
    "#define epb emplace_back\n",
    "using namespace std;\n",
    "\n",
    "const int nmax = 500001;\n",
    "char ask(vector <int> vec){\n",
    "    cout << \"? \";\n",
    "    cout << vec.size() << \"\\n\";\n",
    "    for(int to : vec)\n",
    "        cout << to << \" \";\n",
    "    cout << \"\\n\";\n",
    "    string s; cin >> s;\n",
    "    return s[0];\n",
    "}\n",
    "\n",
    "vector <int> add(vector <int> a, vector <int> b){\n",
    "    for(int to : b)\n",
    "        a.pb(to);\n",
    "    return a;\n",
    "}\n",
    "\n",
    "int main(){\n",
    "  // ios_base::sync_with_stdio(false); cin.tie(0);\n",
    "    int n; cin >> n;\n",
    "    vector <int> vec;\n",
    "    for(int i = 1; i <= n; i++){\n",
    "        vec.pb(i);\n",
    "    }\n",
    "    while(vec.size() > 3){\n",
    "        vector <int> v[4];\n",
    "        for(int i = 0; i < vec.size(); i++){\n",
    "            v[i % 4].pb(vec[i]);\n",
    "        }\n",
    "        char c = ask(add(v[0], v[1]));\n",
    "        char d = ask(add(v[0], v[2]));\n",
    "        if(c == 'Y' && d == 'Y'){\n",
    "            vec = add(add(v[0], v[1]), v[2]);\n",
    "        }\n",
    "        if(c == 'N' && d == 'N'){\n",
    "            vec = add(add(v[1], v[2]), v[3]);\n",
    "        }\n",
    "        if(c == 'Y' && d == 'N'){\n",
    "            vec = add(add(v[0], v[1]), v[3]);\n",
    "        }\n",
    "        if(d == 'Y' && c == 'N'){\n",
    "            vec = add(add(v[0], v[2]), v[3]);\n",
    "        }\n",
    "    }\n",
    "    while(vec.size() > 2){\n",
    "        vector <int> v[3];\n",
    "        for(int i = 0; i < 3; i++){\n",
    "            v[i].pb(vec[i]);\n",
    "        }\n",
    "        char c[4];\n",
    "        c[0] = ask(v[0]);\n",
    "        c[1] = ask(v[1]);\n",
    "        c[2] = ask(v[1]);\n",
    "        c[3] = ask(v[0]);\n",
    "        if(c[1] == c[2] && c[1] == 'N'){\n",
    "            vec = add(v[0], v[2]);\n",
    "            break;\n",
    "        }\n",
    "        bool ind = false;\n",
    "        for(int i = 0; i < 3; i++){\n",
    "            if(c[i] == c[i + 1] && c[i] == 'Y')\n",
    "                ind = true;\n",
    "        }\n",
    "        if(ind)\n",
    "            vec = add(v[0], v[1]);\n",
    "        else vec = add(v[1], v[2]);\n",
    "    }\n",
    "    for(int i = 0; i < vec.size(); i++){\n",
    "        cout << \"! \" << vec[i] << \"\\n\";\n",
    "        string s; cin >> s;\n",
    "        if(s == \":)\"){\n",
    "            return 0;\n",
    "        }\n",
    "    }\n",
    "    return 0;\n",
    "}\n",
    "\n",
    "/* - - - - - - - - - - - - - -\n",
    "  |             ##            |\n",
    "  |      #      ##      #     |\n",
    "  |    #####    ##    #####   |\n",
    "  |      #      ##      #     |\n",
    "  |             ##            |\n",
    "  | ##########################|\n",
    "  |             ##            |\n",
    "  |      #      ##      #     |\n",
    "  |    #####    ##    #####   |\n",
    "  |      #      ##      #     |\n",
    "  |             ##            |\n",
    "   - - - - - - - - - - - - - -\n",
    "*/\n",
    "\"\"\""
   ],
   "metadata": {
    "ExecuteTime": {
     "start_time": "2023-04-08T14:14:07.733776Z",
     "end_time": "2023-04-08T14:14:07.781620Z"
    }
   },
   "execution_count": 20,
   "outputs": []
  },
  {
   "cell_type": "code",
   "execution_count": 21,
   "outputs": [
    {
     "data": {
      "text/plain": "torch.Size([256])"
     },
     "execution_count": 21,
     "metadata": {},
     "output_type": "execute_result"
    }
   ],
   "source": [
    "my_emb = mlp(bert_transform(my_code))\n",
    "\n",
    "my_emb.size()"
   ],
   "metadata": {
    "collapsed": false,
    "ExecuteTime": {
     "start_time": "2023-04-08T14:14:08.422285Z",
     "end_time": "2023-04-08T14:14:10.751012Z"
    }
   }
  },
  {
   "cell_type": "code",
   "execution_count": 22,
   "outputs": [
    {
     "data": {
      "text/plain": "(array([[305015.47, 469340.  , 475558.9 , 485043.06, 495876.1 , 500925.38,\n         518346.38, 520242.94, 551583.6 , 555028.06, 558868.7 , 566499.6 ,\n         576634.94, 580273.06, 592506.  , 612349.75, 625550.5 , 627672.8 ,\n         635495.4 , 645210.44, 659217.4 , 676676.94, 678242.9 , 692588.56,\n         694291.56, 709770.6 , 711381.8 , 733038.6 , 733685.  , 740591.1 ,\n         746606.44, 751325.6 , 753392.8 , 754402.6 , 760106.7 , 760855.94,\n         761555.6 , 767999.94, 773481.4 , 774505.25]], dtype=float32),\n array([[6127, 6237, 3695, 3912, 7446, 3070, 2044,  753, 7208, 2322, 6811,\n         2051, 7618, 6817,  862, 2098, 3788, 5410, 7479, 7738, 1838,  868,\n         7415, 2512, 5993,  819, 3702, 6099, 3166, 7315,  820, 1356, 7928,\n         1595, 1783, 7803, 6062, 4858,  285, 5986]]))"
     },
     "execution_count": 22,
     "metadata": {},
     "output_type": "execute_result"
    }
   ],
   "source": [
    "my_recs = faiss_index.search(my_emb.detach().numpy().reshape(-1,256), k=40)\n",
    "my_recs"
   ],
   "metadata": {
    "collapsed": false,
    "ExecuteTime": {
     "start_time": "2023-04-08T14:14:10.748144Z",
     "end_time": "2023-04-08T14:14:10.859875Z"
    }
   }
  },
  {
   "cell_type": "code",
   "execution_count": 23,
   "outputs": [
    {
     "name": "stdout",
     "output_type": "stream",
     "text": [
      "/contest/1304/problem/E datastructures,dfsandsimilar,shortestpaths,trees\n",
      "/contest/1328/problem/E dfsandsimilar,graphs,trees\n",
      "/contest/812/problem/D dfsandsimilar,graphs,implementation,trees\n",
      "/contest/855/problem/D trees\n",
      "/contest/1558/problem/E nan\n",
      "/contest/687/problem/D bruteforce,datastructures,dsu,graphs,sortings\n",
      "/contest/455/problem/C dfsandsimilar,dp,dsu,ternarysearch,trees\n",
      "/contest/165/problem/D datastructures,dsu,trees\n",
      "/contest/1515/problem/G nan\n",
      "/contest/519/problem/E binarysearch,datastructures,dfsandsimilar,dp,trees\n",
      "/contest/1441/problem/D nan\n",
      "/contest/456/problem/E dfsandsimilar,dsu,graphs,trees\n",
      "/contest/1594/problem/D nan\n",
      "/contest/1442/problem/E binarysearch,constructivealgorithms,dfsandsimilar,dp,greedy,trees\n",
      "/contest/187/problem/C dfsandsimilar,dsu\n",
      "/contest/466/problem/E dfsandsimilar,dsu,graphs,trees\n",
      "/contest/832/problem/D dfsandsimilar,graphs,trees\n",
      "/contest/1166/problem/F datastructures,dsu,graphs,hashing\n",
      "/contest/1563/problem/E nan\n",
      "/contest/1615/problem/D nan\n",
      "/contest/406/problem/D dfsandsimilar,geometry,trees\n",
      "/contest/189/problem/E binarysearch,shortestpaths\n",
      "/contest/1553/problem/G nan\n",
      "/contest/566/problem/D datastructures,dsu\n",
      "/contest/1277/problem/E dfsandsimilar,graphs\n",
      "/contest/178/problem/B1 nan\n",
      "/contest/813/problem/F datastructures,dsu,graphs\n",
      "/contest/1296/problem/F constructivealgorithms,dfsandsimilar,greedy,sortings,trees\n",
      "/contest/707/problem/D bitmasks,datastructures,dfsandsimilar,implementation\n",
      "/contest/1537/problem/F nan\n",
      "/contest/178/problem/B2 nan\n",
      "/contest/292/problem/D datastructures,dfsandsimilar,dp,dsu\n",
      "/contest/1650/problem/G nan\n",
      "/contest/343/problem/D datastructures,dfsandsimilar,graphs,trees\n",
      "/contest/384/problem/D implementation\n",
      "/contest/1624/problem/G nan\n",
      "/contest/1290/problem/C dfsandsimilar,dsu,graphs\n",
      "/contest/1056/problem/C greedy,implementation,interactive,sortings\n",
      "/contest/59/problem/E graphs,shortestpaths\n",
      "/contest/1276/problem/B combinatorics,dfsandsimilar,dsu,graphs\n"
     ]
    }
   ],
   "source": [
    "for i in my_recs[1][0]:\n",
    "    print(merged_df.problem_url[i], merged_df.problem_tags[i])"
   ],
   "metadata": {
    "collapsed": false,
    "ExecuteTime": {
     "start_time": "2023-04-08T14:14:11.069309Z",
     "end_time": "2023-04-08T14:14:11.070014Z"
    }
   }
  },
  {
   "cell_type": "code",
   "execution_count": null,
   "outputs": [],
   "source": [],
   "metadata": {
    "collapsed": false
   }
  }
 ]
}
