{
 "metadata": {
  "kernelspec": {
   "language": "python",
   "display_name": "Python 3",
   "name": "python3"
  },
  "language_info": {
   "name": "python",
   "version": "3.7.12",
   "mimetype": "text/x-python",
   "codemirror_mode": {
    "name": "ipython",
    "version": 3
   },
   "pygments_lexer": "ipython3",
   "nbconvert_exporter": "python",
   "file_extension": ".py"
  }
 },
 "nbformat_minor": 4,
 "nbformat": 4,
 "cells": [
  {
   "cell_type": "code",
   "source": [
    "import numpy as np # linear algebra\n",
    "import pandas as pd # data processing, CSV file I/O (e.g. pd.read_csv)\n",
    "import torch\n",
    "import os\n",
    "from scipy.spatial.distance import cosine\n",
    "from sklearn.decomposition import PCA\n",
    "from tqdm import tqdm\n",
    "import pickle\n",
    "import faiss\n",
    "from transformers import AutoTokenizer, AutoModel"
   ],
   "metadata": {
    "execution": {
     "iopub.status.busy": "2023-04-04T15:05:36.722594Z",
     "iopub.execute_input": "2023-04-04T15:05:36.724130Z",
     "iopub.status.idle": "2023-04-04T15:05:46.552447Z",
     "shell.execute_reply.started": "2023-04-04T15:05:36.724064Z",
     "shell.execute_reply": "2023-04-04T15:05:46.550804Z"
    },
    "trusted": true,
    "ExecuteTime": {
     "start_time": "2023-04-05T18:02:10.399241Z",
     "end_time": "2023-04-05T18:02:13.054489Z"
    }
   },
   "execution_count": 2,
   "outputs": []
  },
  {
   "cell_type": "markdown",
   "source": [
    "# Set up MLP Model"
   ],
   "metadata": {}
  },
  {
   "cell_type": "code",
   "source": [
    "class BERTEmbeddingTransform(object):\n",
    "    def __init__(self, bert_model, tokenizer, device='cpu'):\n",
    "        bert_model.eval()\n",
    "        bert_model = bert_model.to(device)\n",
    "        bert_model.share_memory()\n",
    "        self.bert_model = bert_model\n",
    "        self.tokenizer = tokenizer\n",
    "        self.device = device\n",
    "    \n",
    "    def __call__(self, sample):\n",
    "        code_tokens=self.tokenizer.tokenize(sample)\n",
    "        tokens = code_tokens\n",
    "        tokens_ids=self.tokenizer.convert_tokens_to_ids(tokens)\n",
    "        done_tok = torch.split(torch.tensor(tokens_ids, device=self.device), 510)\n",
    "        with torch.no_grad():\n",
    "            embedings = []\n",
    "            for input_tok in done_tok:\n",
    "                input_tok = torch.cat((torch.tensor([0], device=self.device), input_tok, torch.tensor([2], device=self.device)))\n",
    "                temp = self.bert_model(input_tok.clone().detach()[None,:], output_hidden_states = True)\n",
    "                embedings.append(temp[1][-2])\n",
    "            return torch.concat(embedings,dim=1).squeeze().mean(dim=0)"
   ],
   "metadata": {
    "execution": {
     "iopub.status.busy": "2023-04-04T15:13:59.314149Z",
     "iopub.execute_input": "2023-04-04T15:13:59.314666Z",
     "iopub.status.idle": "2023-04-04T15:13:59.328944Z",
     "shell.execute_reply.started": "2023-04-04T15:13:59.314622Z",
     "shell.execute_reply": "2023-04-04T15:13:59.326809Z"
    },
    "trusted": true,
    "ExecuteTime": {
     "start_time": "2023-04-05T18:02:19.929741Z",
     "end_time": "2023-04-05T18:02:19.967321Z"
    }
   },
   "execution_count": 3,
   "outputs": []
  },
  {
   "cell_type": "code",
   "source": [
    "class MLP256(torch.nn.Module):\n",
    "    def __init__(self):\n",
    "        super().__init__()\n",
    "        self.mlp = torch.nn.Sequential(\n",
    "            torch.nn.Linear(768, 512),\n",
    "            torch.nn.GELU(),\n",
    "            torch.nn.Dropout(p=0.1),\n",
    "            torch.nn.Linear(512, 512),\n",
    "            torch.nn.GELU(),\n",
    "            torch.nn.Dropout(p=0.1),\n",
    "            torch.nn.Linear(512, 512),\n",
    "            torch.nn.GELU(),\n",
    "            torch.nn.Dropout(p=0.1),\n",
    "            torch.nn.Linear(512, 256),\n",
    "        )\n",
    "    def forward(self, x):\n",
    "        y = self.mlp(x)\n",
    "        return y"
   ],
   "metadata": {
    "execution": {
     "iopub.status.busy": "2023-04-04T15:06:18.992598Z",
     "iopub.execute_input": "2023-04-04T15:06:18.993213Z",
     "iopub.status.idle": "2023-04-04T15:06:19.002487Z",
     "shell.execute_reply.started": "2023-04-04T15:06:18.993166Z",
     "shell.execute_reply": "2023-04-04T15:06:19.000761Z"
    },
    "trusted": true,
    "ExecuteTime": {
     "start_time": "2023-04-05T18:02:22.940200Z",
     "end_time": "2023-04-05T18:02:22.952581Z"
    }
   },
   "execution_count": 4,
   "outputs": []
  },
  {
   "cell_type": "markdown",
   "source": [
    "## Set up BERT"
   ],
   "metadata": {}
  },
  {
   "cell_type": "code",
   "source": [
    "tokenizer = AutoTokenizer.from_pretrained(\"neulab/codebert-cpp\")\n",
    "BERT = AutoModel.from_pretrained(\"neulab/codebert-cpp\", add_pooling_layer = False)\n",
    "BERT.eval()\n",
    "if torch.cuda.is_available():\n",
    "    bert_transform = BERTEmbeddingTransform(BERT,tokenizer, 'cuda')\n",
    "else:\n",
    "    bert_transform = BERTEmbeddingTransform(BERT,tokenizer, 'cpu')"
   ],
   "metadata": {
    "execution": {
     "iopub.status.busy": "2023-04-04T15:14:08.654697Z",
     "iopub.execute_input": "2023-04-04T15:14:08.655117Z",
     "iopub.status.idle": "2023-04-04T15:14:11.726672Z",
     "shell.execute_reply.started": "2023-04-04T15:14:08.655081Z",
     "shell.execute_reply": "2023-04-04T15:14:11.725639Z"
    },
    "trusted": true,
    "ExecuteTime": {
     "start_time": "2023-04-05T18:03:53.635653Z",
     "end_time": "2023-04-05T18:04:18.454012Z"
    }
   },
   "execution_count": 5,
   "outputs": [
    {
     "data": {
      "text/plain": "Downloading (…)okenizer_config.json: 0.00B [00:00, ?B/s]",
      "application/vnd.jupyter.widget-view+json": {
       "version_major": 2,
       "version_minor": 0,
       "model_id": "76a5e0125f5f4ae788c0e050a56892b1"
      }
     },
     "metadata": {},
     "output_type": "display_data"
    },
    {
     "data": {
      "text/plain": "Downloading (…)olve/main/vocab.json: 0.00B [00:00, ?B/s]",
      "application/vnd.jupyter.widget-view+json": {
       "version_major": 2,
       "version_minor": 0,
       "model_id": "5e372e0faccb4494be2833cb37a21576"
      }
     },
     "metadata": {},
     "output_type": "display_data"
    },
    {
     "data": {
      "text/plain": "Downloading (…)olve/main/merges.txt: 0.00B [00:00, ?B/s]",
      "application/vnd.jupyter.widget-view+json": {
       "version_major": 2,
       "version_minor": 0,
       "model_id": "2cceb3a9886940e3a42b2e5f1b560fe5"
      }
     },
     "metadata": {},
     "output_type": "display_data"
    },
    {
     "data": {
      "text/plain": "Downloading (…)/main/tokenizer.json: 0.00B [00:00, ?B/s]",
      "application/vnd.jupyter.widget-view+json": {
       "version_major": 2,
       "version_minor": 0,
       "model_id": "3acbb7a7ebb44520bed4deaf43aa743a"
      }
     },
     "metadata": {},
     "output_type": "display_data"
    },
    {
     "data": {
      "text/plain": "Downloading (…)cial_tokens_map.json:   0%|          | 0.00/280 [00:00<?, ?B/s]",
      "application/vnd.jupyter.widget-view+json": {
       "version_major": 2,
       "version_minor": 0,
       "model_id": "f7b22e68f9cb4723abd629345a0d884c"
      }
     },
     "metadata": {},
     "output_type": "display_data"
    },
    {
     "data": {
      "text/plain": "Downloading (…)lve/main/config.json:   0%|          | 0.00/695 [00:00<?, ?B/s]",
      "application/vnd.jupyter.widget-view+json": {
       "version_major": 2,
       "version_minor": 0,
       "model_id": "b48022d01b9346c98aa3ab9bd1c3a2ab"
      }
     },
     "metadata": {},
     "output_type": "display_data"
    },
    {
     "data": {
      "text/plain": "Downloading pytorch_model.bin:   0%|          | 0.00/499M [00:00<?, ?B/s]",
      "application/vnd.jupyter.widget-view+json": {
       "version_major": 2,
       "version_minor": 0,
       "model_id": "25a3d93902364d39bec0bdc5a401b391"
      }
     },
     "metadata": {},
     "output_type": "display_data"
    },
    {
     "name": "stderr",
     "output_type": "stream",
     "text": [
      "Some weights of the model checkpoint at neulab/codebert-cpp were not used when initializing RobertaModel: ['lm_head.bias', 'lm_head.dense.weight', 'lm_head.layer_norm.bias', 'lm_head.layer_norm.weight', 'lm_head.dense.bias']\n",
      "- This IS expected if you are initializing RobertaModel from the checkpoint of a model trained on another task or with another architecture (e.g. initializing a BertForSequenceClassification model from a BertForPreTraining model).\n",
      "- This IS NOT expected if you are initializing RobertaModel from the checkpoint of a model that you expect to be exactly identical (initializing a BertForSequenceClassification model from a BertForSequenceClassification model).\n"
     ]
    }
   ]
  },
  {
   "cell_type": "markdown",
   "source": [
    "## Set up MLP"
   ],
   "metadata": {}
  },
  {
   "cell_type": "code",
   "source": [
    "mlp = MLP256()\n",
    "#model = BiLSTMVectorizer(768, 256)\n",
    "if torch.cuda.is_available():\n",
    "    mlp.to(\"cuda\")\n",
    "mlp.load_state_dict(torch.load(\"../models/MLP256_last.pth\", map_location=torch.device('cpu')))\n",
    "mlp.eval()"
   ],
   "metadata": {
    "execution": {
     "iopub.status.busy": "2023-04-04T15:33:17.350170Z",
     "iopub.execute_input": "2023-04-04T15:33:17.351565Z",
     "iopub.status.idle": "2023-04-04T15:33:17.420662Z",
     "shell.execute_reply.started": "2023-04-04T15:33:17.351517Z",
     "shell.execute_reply": "2023-04-04T15:33:17.419348Z"
    },
    "trusted": true,
    "ExecuteTime": {
     "start_time": "2023-04-05T18:25:28.069570Z",
     "end_time": "2023-04-05T18:25:28.128154Z"
    }
   },
   "execution_count": 6,
   "outputs": [
    {
     "data": {
      "text/plain": "MLP256(\n  (mlp): Sequential(\n    (0): Linear(in_features=768, out_features=512, bias=True)\n    (1): GELU(approximate='none')\n    (2): Dropout(p=0.1, inplace=False)\n    (3): Linear(in_features=512, out_features=512, bias=True)\n    (4): GELU(approximate='none')\n    (5): Dropout(p=0.1, inplace=False)\n    (6): Linear(in_features=512, out_features=512, bias=True)\n    (7): GELU(approximate='none')\n    (8): Dropout(p=0.1, inplace=False)\n    (9): Linear(in_features=512, out_features=256, bias=True)\n  )\n)"
     },
     "execution_count": 6,
     "metadata": {},
     "output_type": "execute_result"
    }
   ]
  },
  {
   "cell_type": "markdown",
   "source": [
    "# Load Data"
   ],
   "metadata": {}
  },
  {
   "cell_type": "code",
   "execution_count": 15,
   "outputs": [
    {
     "name": "stdout",
     "output_type": "stream",
     "text": [
      "Warning: Your Kaggle API key is readable by other users on this system! To fix this, you can run 'chmod 600 /home/lev/.kaggle/kaggle.json'\r\n",
      "401 - Unauthorized\r\n"
     ]
    }
   ],
   "source": [
    "!export KAGGLE_USERNAME=levbara\n",
    "!export KAGGLE_KEY=01a0cd591f0703bd83e2beeb110172cd\n",
    "!kaggle datasets download robertkhazhiev/codeforces-problems -f task_index_median_MLP256_03-04-23.bin -p ../data/interim"
   ],
   "metadata": {
    "collapsed": false,
    "ExecuteTime": {
     "start_time": "2023-04-05T18:38:33.676269Z",
     "end_time": "2023-04-05T18:38:34.620784Z"
    }
   }
  },
  {
   "cell_type": "code",
   "source": [
    "faiss_index = faiss.read_index('../data/interim/task_index_median_MLP256_03-04-23.bin')\n",
    "keys_df = pd.read_csv(\"../data/interim/keys_df.csv\", index_col=0)\n",
    "pwt_df = pd.read_csv(\"../data/interim/codeforces-problems.csv\")"
   ],
   "metadata": {
    "execution": {
     "iopub.status.busy": "2023-04-04T15:06:26.497134Z",
     "iopub.execute_input": "2023-04-04T15:06:26.498511Z",
     "iopub.status.idle": "2023-04-04T15:06:26.707425Z",
     "shell.execute_reply.started": "2023-04-04T15:06:26.498440Z",
     "shell.execute_reply": "2023-04-04T15:06:26.705938Z"
    },
    "trusted": true,
    "ExecuteTime": {
     "start_time": "2023-04-05T18:56:29.483322Z",
     "end_time": "2023-04-05T18:56:29.636857Z"
    }
   },
   "execution_count": 23,
   "outputs": []
  },
  {
   "cell_type": "code",
   "source": [
    "keys_df.head()"
   ],
   "metadata": {
    "execution": {
     "iopub.status.busy": "2023-04-04T15:07:06.566019Z",
     "iopub.execute_input": "2023-04-04T15:07:06.566488Z",
     "iopub.status.idle": "2023-04-04T15:07:06.593723Z",
     "shell.execute_reply.started": "2023-04-04T15:07:06.566451Z",
     "shell.execute_reply": "2023-04-04T15:07:06.592468Z"
    },
    "trusted": true,
    "ExecuteTime": {
     "start_time": "2023-04-05T18:56:30.367144Z",
     "end_time": "2023-04-05T18:56:30.379437Z"
    }
   },
   "execution_count": 24,
   "outputs": [
    {
     "data": {
      "text/plain": "            problem_url\n0  /contest/1/problem/A\n1  /contest/1/problem/B\n2  /contest/1/problem/C\n3  /contest/2/problem/A\n4  /contest/2/problem/B",
      "text/html": "<div>\n<style scoped>\n    .dataframe tbody tr th:only-of-type {\n        vertical-align: middle;\n    }\n\n    .dataframe tbody tr th {\n        vertical-align: top;\n    }\n\n    .dataframe thead th {\n        text-align: right;\n    }\n</style>\n<table border=\"1\" class=\"dataframe\">\n  <thead>\n    <tr style=\"text-align: right;\">\n      <th></th>\n      <th>problem_url</th>\n    </tr>\n  </thead>\n  <tbody>\n    <tr>\n      <th>0</th>\n      <td>/contest/1/problem/A</td>\n    </tr>\n    <tr>\n      <th>1</th>\n      <td>/contest/1/problem/B</td>\n    </tr>\n    <tr>\n      <th>2</th>\n      <td>/contest/1/problem/C</td>\n    </tr>\n    <tr>\n      <th>3</th>\n      <td>/contest/2/problem/A</td>\n    </tr>\n    <tr>\n      <th>4</th>\n      <td>/contest/2/problem/B</td>\n    </tr>\n  </tbody>\n</table>\n</div>"
     },
     "execution_count": 24,
     "metadata": {},
     "output_type": "execute_result"
    }
   ]
  },
  {
   "cell_type": "code",
   "source": [
    "pwt_df[\"problem_url\"] = pwt_df[\"problem_url\"].apply(lambda x: x.replace(\"contests\", \"contest\"))\n",
    "pwt_df['problem_tags'] = pwt_df['problem_tags'].astype(str)\n",
    "pwt_df.head()"
   ],
   "metadata": {
    "execution": {
     "iopub.status.busy": "2023-04-04T15:10:40.651194Z",
     "iopub.execute_input": "2023-04-04T15:10:40.651703Z",
     "iopub.status.idle": "2023-04-04T15:10:40.675764Z",
     "shell.execute_reply.started": "2023-04-04T15:10:40.651646Z",
     "shell.execute_reply": "2023-04-04T15:10:40.674358Z"
    },
    "trusted": true,
    "ExecuteTime": {
     "start_time": "2023-04-05T18:56:47.476645Z",
     "end_time": "2023-04-05T18:56:47.518577Z"
    }
   },
   "execution_count": 25,
   "outputs": [
    {
     "data": {
      "text/plain": "   Unnamed: 0  contest problem_name   \n0           0      325            A  \\\n1           1      325            B   \n2           2      325            C   \n3           3      325            D   \n4           4      325            E   \n\n                                   problem_statement   \n0  You are given n rectangles. The corners of rec...  \\\n1  Daniel is organizing a football tournament. He...   \n2  Piegirl has found a monster and a book about m...   \n3  In a far away land, there exists a planet shap...   \n4  Piegirl found the red button. You have one las...   \n\n                                    problem_tags  rating   \n0                                 implementation  1500.0  \\\n1                              binarysearch,math  1800.0   \n2             dfsandsimilar,graphs,shortestpaths  2600.0   \n3                                            dsu  2900.0   \n4  combinatorics,dfsandsimilar,dsu,graphs,greedy  2800.0   \n\n              problem_url  \n0  /contest/325/problem/A  \n1  /contest/325/problem/B  \n2  /contest/325/problem/C  \n3  /contest/325/problem/D  \n4  /contest/325/problem/E  ",
      "text/html": "<div>\n<style scoped>\n    .dataframe tbody tr th:only-of-type {\n        vertical-align: middle;\n    }\n\n    .dataframe tbody tr th {\n        vertical-align: top;\n    }\n\n    .dataframe thead th {\n        text-align: right;\n    }\n</style>\n<table border=\"1\" class=\"dataframe\">\n  <thead>\n    <tr style=\"text-align: right;\">\n      <th></th>\n      <th>Unnamed: 0</th>\n      <th>contest</th>\n      <th>problem_name</th>\n      <th>problem_statement</th>\n      <th>problem_tags</th>\n      <th>rating</th>\n      <th>problem_url</th>\n    </tr>\n  </thead>\n  <tbody>\n    <tr>\n      <th>0</th>\n      <td>0</td>\n      <td>325</td>\n      <td>A</td>\n      <td>You are given n rectangles. The corners of rec...</td>\n      <td>implementation</td>\n      <td>1500.0</td>\n      <td>/contest/325/problem/A</td>\n    </tr>\n    <tr>\n      <th>1</th>\n      <td>1</td>\n      <td>325</td>\n      <td>B</td>\n      <td>Daniel is organizing a football tournament. He...</td>\n      <td>binarysearch,math</td>\n      <td>1800.0</td>\n      <td>/contest/325/problem/B</td>\n    </tr>\n    <tr>\n      <th>2</th>\n      <td>2</td>\n      <td>325</td>\n      <td>C</td>\n      <td>Piegirl has found a monster and a book about m...</td>\n      <td>dfsandsimilar,graphs,shortestpaths</td>\n      <td>2600.0</td>\n      <td>/contest/325/problem/C</td>\n    </tr>\n    <tr>\n      <th>3</th>\n      <td>3</td>\n      <td>325</td>\n      <td>D</td>\n      <td>In a far away land, there exists a planet shap...</td>\n      <td>dsu</td>\n      <td>2900.0</td>\n      <td>/contest/325/problem/D</td>\n    </tr>\n    <tr>\n      <th>4</th>\n      <td>4</td>\n      <td>325</td>\n      <td>E</td>\n      <td>Piegirl found the red button. You have one las...</td>\n      <td>combinatorics,dfsandsimilar,dsu,graphs,greedy</td>\n      <td>2800.0</td>\n      <td>/contest/325/problem/E</td>\n    </tr>\n  </tbody>\n</table>\n</div>"
     },
     "execution_count": 25,
     "metadata": {},
     "output_type": "execute_result"
    }
   ]
  },
  {
   "cell_type": "code",
   "source": [
    "merged_df = pd.merge(keys_df, pwt_df, how=\"left\", on='problem_url')\n",
    "merged_df.head()"
   ],
   "metadata": {
    "execution": {
     "iopub.status.busy": "2023-04-04T15:11:22.130310Z",
     "iopub.execute_input": "2023-04-04T15:11:22.130867Z",
     "iopub.status.idle": "2023-04-04T15:11:22.163074Z",
     "shell.execute_reply.started": "2023-04-04T15:11:22.130824Z",
     "shell.execute_reply": "2023-04-04T15:11:22.161403Z"
    },
    "trusted": true,
    "ExecuteTime": {
     "start_time": "2023-04-05T18:56:51.379553Z",
     "end_time": "2023-04-05T18:56:51.423618Z"
    }
   },
   "execution_count": 26,
   "outputs": [
    {
     "data": {
      "text/plain": "            problem_url  Unnamed: 0  contest problem_name   \n0  /contest/1/problem/A         5.0      1.0            A  \\\n1  /contest/1/problem/B         6.0      1.0            B   \n2  /contest/1/problem/C         7.0      1.0            C   \n3  /contest/2/problem/A      6075.0      2.0            A   \n4  /contest/2/problem/B      6076.0      2.0            B   \n\n                                   problem_statement            problem_tags   \n0  Theatre Square in the capital city of Berland ...                    math  \\\n1  In the popular spreadsheets systems (for examp...     implementation,math   \n2  Nowadays all circuses in Berland have a round ...           geometry,math   \n3  The winner of the card game popular in Berland...  hashing,implementation   \n4  There is a square matrix n × n, consisting of ...                 dp,math   \n\n   rating  \n0  1000.0  \n1  1600.0  \n2  2100.0  \n3  1500.0  \n4  2000.0  ",
      "text/html": "<div>\n<style scoped>\n    .dataframe tbody tr th:only-of-type {\n        vertical-align: middle;\n    }\n\n    .dataframe tbody tr th {\n        vertical-align: top;\n    }\n\n    .dataframe thead th {\n        text-align: right;\n    }\n</style>\n<table border=\"1\" class=\"dataframe\">\n  <thead>\n    <tr style=\"text-align: right;\">\n      <th></th>\n      <th>problem_url</th>\n      <th>Unnamed: 0</th>\n      <th>contest</th>\n      <th>problem_name</th>\n      <th>problem_statement</th>\n      <th>problem_tags</th>\n      <th>rating</th>\n    </tr>\n  </thead>\n  <tbody>\n    <tr>\n      <th>0</th>\n      <td>/contest/1/problem/A</td>\n      <td>5.0</td>\n      <td>1.0</td>\n      <td>A</td>\n      <td>Theatre Square in the capital city of Berland ...</td>\n      <td>math</td>\n      <td>1000.0</td>\n    </tr>\n    <tr>\n      <th>1</th>\n      <td>/contest/1/problem/B</td>\n      <td>6.0</td>\n      <td>1.0</td>\n      <td>B</td>\n      <td>In the popular spreadsheets systems (for examp...</td>\n      <td>implementation,math</td>\n      <td>1600.0</td>\n    </tr>\n    <tr>\n      <th>2</th>\n      <td>/contest/1/problem/C</td>\n      <td>7.0</td>\n      <td>1.0</td>\n      <td>C</td>\n      <td>Nowadays all circuses in Berland have a round ...</td>\n      <td>geometry,math</td>\n      <td>2100.0</td>\n    </tr>\n    <tr>\n      <th>3</th>\n      <td>/contest/2/problem/A</td>\n      <td>6075.0</td>\n      <td>2.0</td>\n      <td>A</td>\n      <td>The winner of the card game popular in Berland...</td>\n      <td>hashing,implementation</td>\n      <td>1500.0</td>\n    </tr>\n    <tr>\n      <th>4</th>\n      <td>/contest/2/problem/B</td>\n      <td>6076.0</td>\n      <td>2.0</td>\n      <td>B</td>\n      <td>There is a square matrix n × n, consisting of ...</td>\n      <td>dp,math</td>\n      <td>2000.0</td>\n    </tr>\n  </tbody>\n</table>\n</div>"
     },
     "execution_count": 26,
     "metadata": {},
     "output_type": "execute_result"
    }
   ]
  },
  {
   "cell_type": "markdown",
   "source": [
    "# Test FAISS"
   ],
   "metadata": {}
  },
  {
   "cell_type": "code",
   "source": [
    "source_code = '#include <bits/stdc++.h>\\n \\nusing namespace std;\\ntypedef long long ll;\\n \\nvector<vector<int>> adj,btree;\\nint timer=1,bid=1;\\nvector<int> vis,tin,low;\\nset<pair<int,int>> edges;\\n \\nvoid bridge(int v,int p){\\n    vis[v]=1;\\n    tin[v] = low[v] = timer++;\\n    for(auto u : adj[v]){\\n        if(u == p) continue;\\n        if(vis[u]){\\n            low[v] = min(low[v],tin[u]);\\n        }else{\\n            bridge(u,v);\\n            low[v] = min(low[v],low[u]);\\n            if(low[u] > tin[v]){\\n                // bridge   \\n                edges.insert({min(u,v),max(u,v)});\\n            }\\n        }\\n    }\\n}\\n \\n \\nvoid build(int v,int cur){\\n    vis[v]=1;\\n    for(auto u : adj[v]){\\n        if(vis[u])continue;\\n        if(edges.find({min(u,v),max(u,v)}) == edges.end()){\\n            build(u,cur);\\n        }else{\\n            bid++;\\n            btree[cur].push_back(bid);\\n            btree[bid].push_back(cur);\\n            build(u,bid);\\n        }\\n    }\\n}\\n \\nint ans =0,s;\\nvoid dfs(int v,int p,int cur){\\n    cur++;\\n    if(cur > ans){\\n        ans = cur,s =v;\\n    }\\n    for(auto u : btree[v]){\\n        if(u == p)continue;\\n        dfs(u,v,cur);\\n    }\\n}\\n \\nvoid solve(){\\n    int n,m;cin>>n>>m;\\n    adj.resize(n+1),btree.resize(n+1);\\n    for(int i=0;i<m;i++){\\n        int x,y;cin>>x>>y;\\n        adj[x].push_back(y);\\n        adj[y].push_back(x);\\n    }\\n    vis.resize(n+1,0),tin.resize(n+1,0),low.resize(n+1,1e9);\\n    bridge(1,-1);\\n    vis.clear(),vis.resize(n+1,0);\\n    build(1,1);\\n    dfs(1,-1,0);\\n    dfs(s, -1,0);\\n    cout<<ans-1;\\n}\\n \\n \\nint main(){\\n   ios_base::sync_with_stdio(0),cin.tie(0);\\n   int t=1;//cin>>t;\\n   while(t--) solve();\\n}\\n'"
   ],
   "metadata": {
    "execution": {
     "iopub.status.busy": "2023-04-04T15:33:28.827159Z",
     "iopub.execute_input": "2023-04-04T15:33:28.827615Z",
     "iopub.status.idle": "2023-04-04T15:33:28.835074Z",
     "shell.execute_reply.started": "2023-04-04T15:33:28.827578Z",
     "shell.execute_reply": "2023-04-04T15:33:28.833303Z"
    },
    "trusted": true,
    "ExecuteTime": {
     "start_time": "2023-04-05T21:21:52.250580Z",
     "end_time": "2023-04-05T21:21:52.310497Z"
    }
   },
   "execution_count": 55,
   "outputs": []
  },
  {
   "cell_type": "code",
   "source": [
    "emb = mlp(bert_transform(source_code))\n",
    "emb.size()"
   ],
   "metadata": {
    "execution": {
     "iopub.status.busy": "2023-04-04T15:33:29.129493Z",
     "iopub.execute_input": "2023-04-04T15:33:29.130550Z",
     "iopub.status.idle": "2023-04-04T15:33:31.016178Z",
     "shell.execute_reply.started": "2023-04-04T15:33:29.130485Z",
     "shell.execute_reply": "2023-04-04T15:33:31.014749Z"
    },
    "trusted": true,
    "ExecuteTime": {
     "start_time": "2023-04-05T21:21:53.185374Z",
     "end_time": "2023-04-05T21:21:55.067956Z"
    }
   },
   "execution_count": 56,
   "outputs": [
    {
     "data": {
      "text/plain": "torch.Size([256])"
     },
     "execution_count": 56,
     "metadata": {},
     "output_type": "execute_result"
    }
   ]
  },
  {
   "cell_type": "code",
   "source": [
    "result = faiss_index.search(emb.detach().numpy().reshape(-1,256), k=20)\n",
    "result"
   ],
   "metadata": {
    "execution": {
     "iopub.status.busy": "2023-04-04T15:33:31.018559Z",
     "iopub.execute_input": "2023-04-04T15:33:31.020116Z",
     "iopub.status.idle": "2023-04-04T15:33:31.032074Z",
     "shell.execute_reply.started": "2023-04-04T15:33:31.020060Z",
     "shell.execute_reply": "2023-04-04T15:33:31.030658Z"
    },
    "trusted": true,
    "ExecuteTime": {
     "start_time": "2023-04-05T21:21:58.684090Z",
     "end_time": "2023-04-05T21:21:58.698704Z"
    }
   },
   "execution_count": 57,
   "outputs": [
    {
     "data": {
      "text/plain": "(array([[243513.67, 261347.53, 311992.  , 321059.  , 330046.12, 357358.03,\n         360204.75, 360420.5 , 362626.97, 368758.06, 370713.16, 386262.06,\n         389857.4 , 390099.53, 402195.38, 409448.38, 409600.75, 412134.3 ,\n         436164.  , 438096.03]], dtype=float32),\n array([[3071, 2413, 5716, 2013, 1062, 1069, 1605, 1920, 5093, 5136, 5255,\n         4606,   61, 3404, 2256, 6950, 2258,  819, 6710, 2020]]))"
     },
     "execution_count": 57,
     "metadata": {},
     "output_type": "execute_result"
    }
   ]
  },
  {
   "cell_type": "code",
   "source": [
    "for i in result[1][0]:\n",
    "    print(merged_df.problem_url[i], merged_df.problem_tags[i])"
   ],
   "metadata": {
    "execution": {
     "iopub.status.busy": "2023-04-04T15:33:31.033660Z",
     "iopub.execute_input": "2023-04-04T15:33:31.034625Z",
     "iopub.status.idle": "2023-04-04T15:33:31.046137Z",
     "shell.execute_reply.started": "2023-04-04T15:33:31.034584Z",
     "shell.execute_reply": "2023-04-04T15:33:31.044079Z"
    },
    "trusted": true,
    "ExecuteTime": {
     "start_time": "2023-04-05T21:22:07.118344Z",
     "end_time": "2023-04-05T21:22:07.125712Z"
    }
   },
   "execution_count": 58,
   "outputs": [
    {
     "name": "stdout",
     "output_type": "stream",
     "text": [
      "/contest/687/problem/E dfsandsimilar,graphs\n",
      "/contest/542/problem/E graphs,shortestpaths\n",
      "/contest/1220/problem/E dfsandsimilar,dp,dsu,graphs,greedy,trees\n",
      "/contest/449/problem/B graphs,greedy,shortestpaths\n",
      "/contest/229/problem/B binarysearch,datastructures,graphs,shortestpaths\n",
      "/contest/230/problem/D binarysearch,graphs,shortestpaths\n",
      "/contest/346/problem/D dp,graphs,shortestpaths\n",
      "/contest/427/problem/C dfsandsimilar,graphs,twopointers\n",
      "/contest/1101/problem/D datastructures,dfsandsimilar,dp,numbertheory,trees\n",
      "/contest/1108/problem/F binarysearch,dsu,graphs,greedy\n",
      "/contest/1139/problem/E flows,graphmatchings,graphs\n",
      "/contest/1000/problem/E dfsandsimilar,graphs,trees\n",
      "/contest/14/problem/D dfsandsimilar,dp,graphs,shortestpaths,trees,twopointers\n",
      "/contest/757/problem/F datastructures,graphs,shortestpaths\n",
      "/contest/505/problem/D dfsandsimilar\n",
      "/contest/1467/problem/E nan\n",
      "/contest/506/problem/B dfsandsimilar,graphs\n",
      "/contest/178/problem/B1 nan\n",
      "/contest/1423/problem/B nan\n",
      "/contest/450/problem/D graphs,greedy,shortestpaths\n"
     ]
    }
   ]
  },
  {
   "cell_type": "markdown",
   "source": [
    "## Test once again"
   ],
   "metadata": {
    "collapsed": false
   }
  },
  {
   "cell_type": "code",
   "source": [
    "my_code = \"\"\"#include <iostream>\n",
    "int main() {\n",
    "    int n, t, t_last = 0;\n",
    "    std::cin >> n;\n",
    "    for (int i = 0; i < n; ++i) {\n",
    "        std::cin >> t;\n",
    "        if (t - t_last > 15) {\n",
    "            std::cout << t_last + 15 << '\\\\n';\n",
    "            return 0;\n",
    "        }\n",
    "        t_last = t;\n",
    "    }\n",
    "    if (90 - t_last > 15) {\n",
    "        std::cout << t_last + 15 << '\\\\n';\n",
    "    } else {\n",
    "        std::cout << 90 << '\\\\n';\n",
    "    }\n",
    "    return 0;\n",
    "}\n",
    "\"\"\""
   ],
   "metadata": {
    "ExecuteTime": {
     "start_time": "2023-04-05T21:20:38.717037Z",
     "end_time": "2023-04-05T21:20:38.769243Z"
    }
   },
   "execution_count": 51,
   "outputs": []
  },
  {
   "cell_type": "code",
   "execution_count": 52,
   "outputs": [
    {
     "data": {
      "text/plain": "torch.Size([256])"
     },
     "execution_count": 52,
     "metadata": {},
     "output_type": "execute_result"
    }
   ],
   "source": [
    "my_emb = mlp(bert_transform(my_code))\n",
    "\n",
    "my_emb.size()"
   ],
   "metadata": {
    "collapsed": false,
    "ExecuteTime": {
     "start_time": "2023-04-05T21:20:40.273916Z",
     "end_time": "2023-04-05T21:20:40.777465Z"
    }
   }
  },
  {
   "cell_type": "code",
   "execution_count": 53,
   "outputs": [
    {
     "data": {
      "text/plain": "(array([[ 522032.8 ,  555257.75,  606501.9 ,  607078.75,  628522.25,\n          647745.8 ,  732096.1 ,  747057.4 ,  758509.  ,  767628.9 ,\n          776300.5 ,  776618.4 ,  884603.6 ,  896551.  ,  898672.  ,\n          904343.1 ,  911973.5 ,  942849.6 ,  978892.9 ,  990885.75,\n          994977.1 ,  996726.06, 1018196.1 , 1024579.25, 1045882.2 ,\n         1047523.44, 1049025.6 , 1066525.8 , 1069447.2 , 1092486.8 ,\n         1096621.5 , 1096819.  , 1101231.5 , 1104593.8 , 1118921.5 ,\n         1142213.5 , 1143113.6 , 1146463.  , 1160463.2 , 1169596.9 ]],\n       dtype=float32),\n array([[ 880, 4022,  938, 1320,  666, 4161, 5290, 1919, 3989,  708, 1030,\n         3980, 5307, 3007, 1790, 5245, 5390, 4596,  258, 4591, 5588, 1689,\n         5185, 4472, 2038, 5383, 4891, 4727, 1584,  687, 2580, 3815, 1191,\n         5171, 2017, 3852, 1126, 2665, 5099, 1348]]))"
     },
     "execution_count": 53,
     "metadata": {},
     "output_type": "execute_result"
    }
   ],
   "source": [
    "my_recs = faiss_index.search(my_emb.detach().numpy().reshape(-1,256), k=40)\n",
    "my_recs"
   ],
   "metadata": {
    "collapsed": false,
    "ExecuteTime": {
     "start_time": "2023-04-05T21:20:56.642892Z",
     "end_time": "2023-04-05T21:20:56.678631Z"
    }
   }
  },
  {
   "cell_type": "code",
   "execution_count": 54,
   "outputs": [
    {
     "name": "stdout",
     "output_type": "stream",
     "text": [
      "/contest/192/problem/B bruteforce,implementation\n",
      "/contest/879/problem/B datastructures,implementation\n",
      "/contest/205/problem/A bruteforce,implementation\n",
      "/contest/285/problem/B implementation\n",
      "/contest/144/problem/A implementation\n",
      "/contest/911/problem/A implementation\n",
      "/contest/1145/problem/A nan\n",
      "/contest/427/problem/B datastructures,implementation\n",
      "/contest/872/problem/B implementation\n",
      "/contest/155/problem/A bruteforce\n",
      "/contest/222/problem/A bruteforce,implementation\n",
      "/contest/870/problem/B greedy\n",
      "/contest/1147/problem/C games\n",
      "/contest/673/problem/A implementation\n",
      "/contest/386/problem/A implementation\n",
      "/contest/1138/problem/A binarysearch,greedy,implementation\n",
      "/contest/1162/problem/E games\n",
      "/contest/999/problem/A bruteforce,implementation\n",
      "/contest/54/problem/A implementation\n",
      "/contest/998/problem/A constructivealgorithms,implementation\n",
      "/contest/1199/problem/A implementation\n",
      "/contest/365/problem/B implementation\n",
      "/contest/1119/problem/A greedy,implementation\n",
      "/contest/977/problem/C sortings\n",
      "/contest/454/problem/B implementation\n",
      "/contest/1161/problem/C games\n",
      "/contest/1062/problem/A greedy,implementation\n",
      "/contest/1029/problem/B dp,greedy,math\n",
      "/contest/341/problem/B binarysearch,datastructures,dp\n",
      "/contest/149/problem/A greedy,implementation,sortings\n",
      "/contest/580/problem/A bruteforce,dp,implementation\n",
      "/contest/839/problem/A implementation\n",
      "/contest/257/problem/A greedy,implementation,sortings\n",
      "/contest/1117/problem/A implementation,math\n",
      "/contest/450/problem/A implementation\n",
      "/contest/846/problem/A bruteforce,implementation\n",
      "/contest/242/problem/B implementation,sortings\n",
      "/contest/599/problem/C sortings\n",
      "/contest/1102/problem/C games\n",
      "/contest/291/problem/A specialproblem,implementation,sortings\n"
     ]
    }
   ],
   "source": [
    "for i in my_recs[1][0]:\n",
    "    print(merged_df.problem_url[i], merged_df.problem_tags[i])"
   ],
   "metadata": {
    "collapsed": false,
    "ExecuteTime": {
     "start_time": "2023-04-05T21:21:08.192422Z",
     "end_time": "2023-04-05T21:21:08.198325Z"
    }
   }
  },
  {
   "cell_type": "code",
   "execution_count": null,
   "outputs": [],
   "source": [],
   "metadata": {
    "collapsed": false
   }
  }
 ]
}
