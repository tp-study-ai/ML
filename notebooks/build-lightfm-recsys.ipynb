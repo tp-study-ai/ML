{
 "cells": [
  {
   "cell_type": "markdown",
   "source": [
    "## Prepare data"
   ],
   "metadata": {
    "collapsed": false
   }
  },
  {
   "cell_type": "code",
   "execution_count": 1,
   "metadata": {
    "collapsed": true,
    "ExecuteTime": {
     "start_time": "2023-04-12T16:12:23.067624Z",
     "end_time": "2023-04-12T16:12:23.573880Z"
    }
   },
   "outputs": [],
   "source": [
    "import pandas as pd\n",
    "import numpy as np\n",
    "from tqdm import tqdm\n",
    "import matplotlib.pyplot as plt\n",
    "\n",
    "%matplotlib inline"
   ]
  },
  {
   "cell_type": "code",
   "execution_count": 2,
   "outputs": [],
   "source": [
    "authors = pd.read_csv(\"../data/external/general_recs/authors.csv\", index_col=0)\n",
    "authors.drop(columns=\"full_name\", inplace=True)\n",
    "submissions = pd.read_csv(\"../data/external/general_recs/cf-cpp-submissions-wo-code.csv\", index_col=0)"
   ],
   "metadata": {
    "collapsed": false,
    "ExecuteTime": {
     "start_time": "2023-04-12T16:13:35.278038Z",
     "end_time": "2023-04-12T16:13:52.134672Z"
    }
   }
  },
  {
   "cell_type": "code",
   "execution_count": 3,
   "outputs": [],
   "source": [
    "def str2list(x):\n",
    "    return x.strip(\"[]\").replace(\"'\", \"\").split(\", \")\n",
    "\n",
    "\n",
    "problems = pd.read_csv(\"../data/external/general_recs/final_df.csv\", index_col=0,\n",
    "                       converters={\"tags\": str2list, \"tag_ids\": str2list})"
   ],
   "metadata": {
    "collapsed": false,
    "ExecuteTime": {
     "start_time": "2023-04-12T16:13:52.136552Z",
     "end_time": "2023-04-12T16:13:52.212465Z"
    }
   }
  },
  {
   "cell_type": "markdown",
   "source": [
    "### Problems"
   ],
   "metadata": {
    "collapsed": false
   }
  },
  {
   "cell_type": "code",
   "execution_count": 4,
   "outputs": [
    {
     "data": {
      "text/plain": "   contest_id index             problem_url  level_0   \n0         325     A  /contest/325/problem/A   7149.0  \\\n1         325     B  /contest/325/problem/B   7148.0   \n2         325     C  /contest/325/problem/C   7147.0   \n3         325     D  /contest/325/problem/D   7146.0   \n4         325     E  /contest/325/problem/E   7145.0   \n\n                       name  points   \n0  Квадрат и прямоугольники   500.0  \\\n1            Стадион и игры  1000.0   \n2      Монстры и бриллианты  2000.0   \n3     Царство и государство  2000.0   \n4        Тропинки и полянки  2500.0   \n\n                                                tags              tag_ids   \n0                                   [implementation]                 [23]  \\\n1                              [binary search, math]              [3, 25]   \n2          [dfs and similar, graphs, shortest paths]         [10, 20, 31]   \n3                                              [dsu]                 [13]   \n4  [combinatorics, dfs and similar, dsu, graphs, ...  [7, 10, 13, 20, 21]   \n\n   rating  \n0  1500.0  \n1  1800.0  \n2  2600.0  \n3  2900.0  \n4  2800.0  ",
      "text/html": "<div>\n<style scoped>\n    .dataframe tbody tr th:only-of-type {\n        vertical-align: middle;\n    }\n\n    .dataframe tbody tr th {\n        vertical-align: top;\n    }\n\n    .dataframe thead th {\n        text-align: right;\n    }\n</style>\n<table border=\"1\" class=\"dataframe\">\n  <thead>\n    <tr style=\"text-align: right;\">\n      <th></th>\n      <th>contest_id</th>\n      <th>index</th>\n      <th>problem_url</th>\n      <th>level_0</th>\n      <th>name</th>\n      <th>points</th>\n      <th>tags</th>\n      <th>tag_ids</th>\n      <th>rating</th>\n    </tr>\n  </thead>\n  <tbody>\n    <tr>\n      <th>0</th>\n      <td>325</td>\n      <td>A</td>\n      <td>/contest/325/problem/A</td>\n      <td>7149.0</td>\n      <td>Квадрат и прямоугольники</td>\n      <td>500.0</td>\n      <td>[implementation]</td>\n      <td>[23]</td>\n      <td>1500.0</td>\n    </tr>\n    <tr>\n      <th>1</th>\n      <td>325</td>\n      <td>B</td>\n      <td>/contest/325/problem/B</td>\n      <td>7148.0</td>\n      <td>Стадион и игры</td>\n      <td>1000.0</td>\n      <td>[binary search, math]</td>\n      <td>[3, 25]</td>\n      <td>1800.0</td>\n    </tr>\n    <tr>\n      <th>2</th>\n      <td>325</td>\n      <td>C</td>\n      <td>/contest/325/problem/C</td>\n      <td>7147.0</td>\n      <td>Монстры и бриллианты</td>\n      <td>2000.0</td>\n      <td>[dfs and similar, graphs, shortest paths]</td>\n      <td>[10, 20, 31]</td>\n      <td>2600.0</td>\n    </tr>\n    <tr>\n      <th>3</th>\n      <td>325</td>\n      <td>D</td>\n      <td>/contest/325/problem/D</td>\n      <td>7146.0</td>\n      <td>Царство и государство</td>\n      <td>2000.0</td>\n      <td>[dsu]</td>\n      <td>[13]</td>\n      <td>2900.0</td>\n    </tr>\n    <tr>\n      <th>4</th>\n      <td>325</td>\n      <td>E</td>\n      <td>/contest/325/problem/E</td>\n      <td>7145.0</td>\n      <td>Тропинки и полянки</td>\n      <td>2500.0</td>\n      <td>[combinatorics, dfs and similar, dsu, graphs, ...</td>\n      <td>[7, 10, 13, 20, 21]</td>\n      <td>2800.0</td>\n    </tr>\n  </tbody>\n</table>\n</div>"
     },
     "execution_count": 4,
     "metadata": {},
     "output_type": "execute_result"
    }
   ],
   "source": [
    "problems.head()"
   ],
   "metadata": {
    "collapsed": false,
    "ExecuteTime": {
     "start_time": "2023-04-12T16:13:52.169222Z",
     "end_time": "2023-04-12T16:13:52.286075Z"
    }
   }
  },
  {
   "cell_type": "code",
   "execution_count": 6,
   "outputs": [
    {
     "name": "stdout",
     "output_type": "stream",
     "text": [
      "<class 'pandas.core.series.Series'>\n",
      "Index: 10107 entries, 0 to 10106\n",
      "Series name: rating\n",
      "Non-Null Count  Dtype  \n",
      "--------------  -----  \n",
      "9783 non-null   float64\n",
      "dtypes: float64(1)\n",
      "memory usage: 157.9 KB\n"
     ]
    }
   ],
   "source": [
    "problems.rating.info()"
   ],
   "metadata": {
    "collapsed": false,
    "ExecuteTime": {
     "start_time": "2023-04-12T16:16:06.117703Z",
     "end_time": "2023-04-12T16:16:06.152685Z"
    }
   }
  },
  {
   "cell_type": "code",
   "execution_count": null,
   "outputs": [],
   "source": [
    "problems.rating.hist(bins=[800, 1200, 1600, 1900, 2200, 2500, 2900, 3500])"
   ],
   "metadata": {
    "collapsed": false,
    "ExecuteTime": {
     "start_time": "2023-04-12T16:07:47.503004Z",
     "end_time": "2023-04-12T16:07:48.049263Z"
    },
    "pycharm": {
     "is_executing": true
    }
   }
  },
  {
   "cell_type": "code",
   "execution_count": 8,
   "outputs": [],
   "source": [
    "problems[\"filled_rating\"] = problems.apply(lambda row: row.rating if not row.rating != row.rating else problems[\n",
    "    problems.rating.notna() & (problems[\"index\"].str.slice(stop=1) == row[\"index\"][:1])].rating.median(), axis=1)"
   ],
   "metadata": {
    "collapsed": false,
    "ExecuteTime": {
     "start_time": "2023-04-12T16:16:08.702588Z",
     "end_time": "2023-04-12T16:16:09.979721Z"
    }
   }
  },
  {
   "cell_type": "code",
   "execution_count": 12,
   "outputs": [
    {
     "data": {
      "text/plain": "              problem_url  filled_rating\n0  /contest/325/problem/A         1500.0\n1  /contest/325/problem/B         1800.0\n2  /contest/325/problem/C         2600.0\n3  /contest/325/problem/D         2900.0\n4  /contest/325/problem/E         2800.0",
      "text/html": "<div>\n<style scoped>\n    .dataframe tbody tr th:only-of-type {\n        vertical-align: middle;\n    }\n\n    .dataframe tbody tr th {\n        vertical-align: top;\n    }\n\n    .dataframe thead th {\n        text-align: right;\n    }\n</style>\n<table border=\"1\" class=\"dataframe\">\n  <thead>\n    <tr style=\"text-align: right;\">\n      <th></th>\n      <th>problem_url</th>\n      <th>filled_rating</th>\n    </tr>\n  </thead>\n  <tbody>\n    <tr>\n      <th>0</th>\n      <td>/contest/325/problem/A</td>\n      <td>1500.0</td>\n    </tr>\n    <tr>\n      <th>1</th>\n      <td>/contest/325/problem/B</td>\n      <td>1800.0</td>\n    </tr>\n    <tr>\n      <th>2</th>\n      <td>/contest/325/problem/C</td>\n      <td>2600.0</td>\n    </tr>\n    <tr>\n      <th>3</th>\n      <td>/contest/325/problem/D</td>\n      <td>2900.0</td>\n    </tr>\n    <tr>\n      <th>4</th>\n      <td>/contest/325/problem/E</td>\n      <td>2800.0</td>\n    </tr>\n  </tbody>\n</table>\n</div>"
     },
     "execution_count": 12,
     "metadata": {},
     "output_type": "execute_result"
    }
   ],
   "source": [
    "problems_compact = problems[[\"problem_url\", \"filled_rating\"]]\n",
    "\n",
    "problems_compact.head()"
   ],
   "metadata": {
    "collapsed": false,
    "ExecuteTime": {
     "start_time": "2023-04-12T16:17:26.191998Z",
     "end_time": "2023-04-12T16:17:26.304786Z"
    }
   }
  },
  {
   "cell_type": "code",
   "execution_count": 13,
   "outputs": [
    {
     "data": {
      "text/plain": "<Axes: >"
     },
     "execution_count": 13,
     "metadata": {},
     "output_type": "execute_result"
    },
    {
     "data": {
      "text/plain": "<Figure size 640x480 with 1 Axes>",
      "image/png": "[encoded data removed]"
     },
     "metadata": {},
     "output_type": "display_data"
    }
   ],
   "source": [
    "problems.filled_rating.hist(bins=[800, 1200, 1600, 1900, 2200, 2500, 2900, 3500])"
   ],
   "metadata": {
    "collapsed": false,
    "ExecuteTime": {
     "start_time": "2023-04-12T16:17:45.663381Z",
     "end_time": "2023-04-12T16:17:45.862275Z"
    }
   }
  },
  {
   "cell_type": "code",
   "execution_count": 14,
   "outputs": [],
   "source": [
    "problems[\"rating_labels\"] = pd.cut(problems.filled_rating, bins=[799, 1199, 1599, 1899, 2199, 2499, 2899, 3501],\n",
    "                                   labels=[\"newbie\", \"student\", \"expert\", \"master\", \"international master\",\n",
    "                                           \"grandmaster\", \"legendary grandmaster\"])"
   ],
   "metadata": {
    "collapsed": false,
    "ExecuteTime": {
     "start_time": "2023-04-12T16:17:47.769264Z",
     "end_time": "2023-04-12T16:17:47.824271Z"
    }
   }
  },
  {
   "cell_type": "code",
   "execution_count": 15,
   "outputs": [],
   "source": [
    "problem_features = list(problems.rating_labels.unique())"
   ],
   "metadata": {
    "collapsed": false,
    "ExecuteTime": {
     "start_time": "2023-04-12T16:17:48.746796Z",
     "end_time": "2023-04-12T16:17:48.814893Z"
    }
   }
  },
  {
   "cell_type": "code",
   "execution_count": 16,
   "outputs": [
    {
     "data": {
      "text/plain": "['student',\n 'expert',\n 'grandmaster',\n 'legendary grandmaster',\n 'newbie',\n 'master',\n 'international master']"
     },
     "execution_count": 16,
     "metadata": {},
     "output_type": "execute_result"
    }
   ],
   "source": [
    "problem_features.remove(np.nan)\n",
    "\n",
    "problem_features"
   ],
   "metadata": {
    "collapsed": false,
    "ExecuteTime": {
     "start_time": "2023-04-12T16:17:49.216811Z",
     "end_time": "2023-04-12T16:17:49.230448Z"
    }
   }
  },
  {
   "cell_type": "code",
   "execution_count": 17,
   "outputs": [
    {
     "name": "stderr",
     "output_type": "stream",
     "text": [
      "100%|██████████| 10107/10107 [00:00<00:00, 640892.44it/s]\n"
     ]
    }
   ],
   "source": [
    "tags = set()\n",
    "\n",
    "for problem_tags in tqdm(problems.tags):\n",
    "    for tag in problem_tags:\n",
    "        tags.add(tag)"
   ],
   "metadata": {
    "collapsed": false,
    "ExecuteTime": {
     "start_time": "2023-04-12T16:17:49.609681Z",
     "end_time": "2023-04-12T16:17:49.702436Z"
    }
   }
  },
  {
   "cell_type": "code",
   "execution_count": 18,
   "outputs": [
    {
     "data": {
      "text/plain": "{'',\n '*special',\n '2-sat',\n 'binary search',\n 'bitmasks',\n 'brute force',\n 'chinese remainder theorem',\n 'combinatorics',\n 'constructive algorithms',\n 'data structures',\n 'dfs and similar',\n 'divide and conquer',\n 'dp',\n 'dsu',\n 'expression parsing',\n 'fft',\n 'flows',\n 'games',\n 'geometry',\n 'graph matchings',\n 'graphs',\n 'greedy',\n 'hashing',\n 'implementation',\n 'interactive',\n 'math',\n 'matrices',\n 'meet-in-the-middle',\n 'number theory',\n 'probabilities',\n 'schedules',\n 'shortest paths',\n 'sortings',\n 'string suffix structures',\n 'strings',\n 'ternary search',\n 'trees',\n 'two pointers'}"
     },
     "execution_count": 18,
     "metadata": {},
     "output_type": "execute_result"
    }
   ],
   "source": [
    "tags"
   ],
   "metadata": {
    "collapsed": false,
    "ExecuteTime": {
     "start_time": "2023-04-12T16:17:50.323518Z",
     "end_time": "2023-04-12T16:17:50.365038Z"
    }
   }
  },
  {
   "cell_type": "code",
   "execution_count": 19,
   "outputs": [],
   "source": [
    "problem_features.extend(list(tags))"
   ],
   "metadata": {
    "collapsed": false,
    "ExecuteTime": {
     "start_time": "2023-04-12T16:17:50.843935Z",
     "end_time": "2023-04-12T16:17:50.853698Z"
    }
   }
  },
  {
   "cell_type": "code",
   "execution_count": 20,
   "outputs": [],
   "source": [
    "problem_urls = problems.problem_url.unique()"
   ],
   "metadata": {
    "collapsed": false,
    "ExecuteTime": {
     "start_time": "2023-04-12T16:17:51.745860Z",
     "end_time": "2023-04-12T16:17:51.827944Z"
    }
   }
  },
  {
   "cell_type": "code",
   "execution_count": 21,
   "outputs": [
    {
     "data": {
      "text/plain": "array(['/contest/325/problem/A', '/contest/325/problem/B',\n       '/contest/325/problem/C', ..., '/contest/1814/problem/D',\n       '/contest/1814/problem/E', '/contest/1814/problem/F'], dtype=object)"
     },
     "execution_count": 21,
     "metadata": {},
     "output_type": "execute_result"
    }
   ],
   "source": [
    "problem_urls"
   ],
   "metadata": {
    "collapsed": false,
    "ExecuteTime": {
     "start_time": "2023-04-12T16:17:52.572166Z",
     "end_time": "2023-04-12T16:17:52.587487Z"
    }
   }
  },
  {
   "cell_type": "code",
   "execution_count": 22,
   "outputs": [],
   "source": [
    "problem_urls = set(problem_urls)"
   ],
   "metadata": {
    "collapsed": false,
    "ExecuteTime": {
     "start_time": "2023-04-12T16:17:53.015603Z",
     "end_time": "2023-04-12T16:17:53.070347Z"
    }
   }
  },
  {
   "cell_type": "code",
   "execution_count": 23,
   "outputs": [],
   "source": [
    "problem_urls = problem_urls.union(set(submissions.problem_url.unique()))"
   ],
   "metadata": {
    "collapsed": false,
    "ExecuteTime": {
     "start_time": "2023-04-12T16:17:53.458985Z",
     "end_time": "2023-04-12T16:17:53.833779Z"
    }
   }
  },
  {
   "cell_type": "code",
   "execution_count": 24,
   "outputs": [],
   "source": [
    "problem_urls = list(problem_urls)"
   ],
   "metadata": {
    "collapsed": false,
    "ExecuteTime": {
     "start_time": "2023-04-12T16:17:53.965313Z",
     "end_time": "2023-04-12T16:17:54.030206Z"
    }
   }
  },
  {
   "cell_type": "markdown",
   "source": [
    "### Authors"
   ],
   "metadata": {
    "collapsed": false
   }
  },
  {
   "cell_type": "code",
   "execution_count": 25,
   "outputs": [
    {
     "data": {
      "text/plain": "            author                author_url  rating rating_text     city   \n1       anubhav360       /profile/anubhav360  1199.0      newbie      NaN  \\\n2  little_waxberry  /profile/little_waxberry  2186.0      master  Nanjing   \n3  saurabhnewatiya  /profile/saurabhnewatiya  1259.0       pupil   Kanpur   \n4             mp13             /profile/mp13   929.0      newbie   Mumbai   \n5        sachi1325        /profile/sachi1325  1417.0  specialist      NaN   \n\n  country                                      organization  contribution   \n1     NaN                                               NaN           0.0  \\\n2   China                   Nanjing Foreign Language School           0.0   \n3   India  Jaypee Institute of Information Technology,Noida           0.0   \n4   India       Dwarkadas J. Sanghvi College of Engineering           0.0   \n5     NaN                                               NaN           0.0   \n\n   friend_of  rating_max rating_max_text         registered  \n1        0.0      1393.0           pupil  Aug/22/2019 15:09  \n2      191.0      2186.0          master  Mar/20/2017 02:10  \n3       34.0      1406.0      specialist  Aug/18/2018 17:31  \n4        1.0      1362.0           pupil  Nov/18/2019 13:42  \n5        2.0      1495.0      specialist  Sep/24/2010 13:48  ",
      "text/html": "<div>\n<style scoped>\n    .dataframe tbody tr th:only-of-type {\n        vertical-align: middle;\n    }\n\n    .dataframe tbody tr th {\n        vertical-align: top;\n    }\n\n    .dataframe thead th {\n        text-align: right;\n    }\n</style>\n<table border=\"1\" class=\"dataframe\">\n  <thead>\n    <tr style=\"text-align: right;\">\n      <th></th>\n      <th>author</th>\n      <th>author_url</th>\n      <th>rating</th>\n      <th>rating_text</th>\n      <th>city</th>\n      <th>country</th>\n      <th>organization</th>\n      <th>contribution</th>\n      <th>friend_of</th>\n      <th>rating_max</th>\n      <th>rating_max_text</th>\n      <th>registered</th>\n    </tr>\n  </thead>\n  <tbody>\n    <tr>\n      <th>1</th>\n      <td>anubhav360</td>\n      <td>/profile/anubhav360</td>\n      <td>1199.0</td>\n      <td>newbie</td>\n      <td>NaN</td>\n      <td>NaN</td>\n      <td>NaN</td>\n      <td>0.0</td>\n      <td>0.0</td>\n      <td>1393.0</td>\n      <td>pupil</td>\n      <td>Aug/22/2019 15:09</td>\n    </tr>\n    <tr>\n      <th>2</th>\n      <td>little_waxberry</td>\n      <td>/profile/little_waxberry</td>\n      <td>2186.0</td>\n      <td>master</td>\n      <td>Nanjing</td>\n      <td>China</td>\n      <td>Nanjing Foreign Language School</td>\n      <td>0.0</td>\n      <td>191.0</td>\n      <td>2186.0</td>\n      <td>master</td>\n      <td>Mar/20/2017 02:10</td>\n    </tr>\n    <tr>\n      <th>3</th>\n      <td>saurabhnewatiya</td>\n      <td>/profile/saurabhnewatiya</td>\n      <td>1259.0</td>\n      <td>pupil</td>\n      <td>Kanpur</td>\n      <td>India</td>\n      <td>Jaypee Institute of Information Technology,Noida</td>\n      <td>0.0</td>\n      <td>34.0</td>\n      <td>1406.0</td>\n      <td>specialist</td>\n      <td>Aug/18/2018 17:31</td>\n    </tr>\n    <tr>\n      <th>4</th>\n      <td>mp13</td>\n      <td>/profile/mp13</td>\n      <td>929.0</td>\n      <td>newbie</td>\n      <td>Mumbai</td>\n      <td>India</td>\n      <td>Dwarkadas J. Sanghvi College of Engineering</td>\n      <td>0.0</td>\n      <td>1.0</td>\n      <td>1362.0</td>\n      <td>pupil</td>\n      <td>Nov/18/2019 13:42</td>\n    </tr>\n    <tr>\n      <th>5</th>\n      <td>sachi1325</td>\n      <td>/profile/sachi1325</td>\n      <td>1417.0</td>\n      <td>specialist</td>\n      <td>NaN</td>\n      <td>NaN</td>\n      <td>NaN</td>\n      <td>0.0</td>\n      <td>2.0</td>\n      <td>1495.0</td>\n      <td>specialist</td>\n      <td>Sep/24/2010 13:48</td>\n    </tr>\n  </tbody>\n</table>\n</div>"
     },
     "execution_count": 25,
     "metadata": {},
     "output_type": "execute_result"
    }
   ],
   "source": [
    "authors.head()"
   ],
   "metadata": {
    "collapsed": false,
    "ExecuteTime": {
     "start_time": "2023-04-12T16:17:55.104100Z",
     "end_time": "2023-04-12T16:17:55.122907Z"
    }
   }
  },
  {
   "cell_type": "code",
   "execution_count": 26,
   "outputs": [],
   "source": [
    "author_features = list(authors.rating_text.unique()) + list(authors.rating_max_text.unique())"
   ],
   "metadata": {
    "collapsed": false,
    "ExecuteTime": {
     "start_time": "2023-04-12T16:18:07.738248Z",
     "end_time": "2023-04-12T16:18:07.763125Z"
    }
   }
  },
  {
   "cell_type": "code",
   "execution_count": 27,
   "outputs": [
    {
     "data": {
      "text/plain": "['international grandmaster',\n 'newbie',\n 'grandmaster',\n 'unrated',\n 'expert',\n 'headquarters',\n 'specialist',\n 'candidate master',\n 'legendary grandmaster',\n 'pupil',\n 'master',\n 'international master']"
     },
     "execution_count": 27,
     "metadata": {},
     "output_type": "execute_result"
    }
   ],
   "source": [
    "author_features = list(set(author_features))\n",
    "author_features.remove(np.nan)\n",
    "author_features"
   ],
   "metadata": {
    "collapsed": false,
    "ExecuteTime": {
     "start_time": "2023-04-12T16:18:08.172372Z",
     "end_time": "2023-04-12T16:18:08.266591Z"
    }
   }
  },
  {
   "cell_type": "code",
   "execution_count": 28,
   "outputs": [],
   "source": [
    "author_urls = set(authors.author_url.unique()).union(submissions.author_url.unique())"
   ],
   "metadata": {
    "collapsed": false,
    "ExecuteTime": {
     "start_time": "2023-04-12T16:18:08.785067Z",
     "end_time": "2023-04-12T16:18:09.776256Z"
    }
   }
  },
  {
   "cell_type": "code",
   "execution_count": 29,
   "outputs": [],
   "source": [
    "author_urls = list(author_urls)"
   ],
   "metadata": {
    "collapsed": false,
    "ExecuteTime": {
     "start_time": "2023-04-12T16:18:10.409874Z",
     "end_time": "2023-04-12T16:18:10.525394Z"
    }
   }
  },
  {
   "cell_type": "code",
   "execution_count": 30,
   "outputs": [
    {
     "data": {
      "text/plain": "                 author_url  rating\n1       /profile/anubhav360  1199.0\n2  /profile/little_waxberry  2186.0\n3  /profile/saurabhnewatiya  1259.0\n4             /profile/mp13   929.0\n5        /profile/sachi1325  1417.0",
      "text/html": "<div>\n<style scoped>\n    .dataframe tbody tr th:only-of-type {\n        vertical-align: middle;\n    }\n\n    .dataframe tbody tr th {\n        vertical-align: top;\n    }\n\n    .dataframe thead th {\n        text-align: right;\n    }\n</style>\n<table border=\"1\" class=\"dataframe\">\n  <thead>\n    <tr style=\"text-align: right;\">\n      <th></th>\n      <th>author_url</th>\n      <th>rating</th>\n    </tr>\n  </thead>\n  <tbody>\n    <tr>\n      <th>1</th>\n      <td>/profile/anubhav360</td>\n      <td>1199.0</td>\n    </tr>\n    <tr>\n      <th>2</th>\n      <td>/profile/little_waxberry</td>\n      <td>2186.0</td>\n    </tr>\n    <tr>\n      <th>3</th>\n      <td>/profile/saurabhnewatiya</td>\n      <td>1259.0</td>\n    </tr>\n    <tr>\n      <th>4</th>\n      <td>/profile/mp13</td>\n      <td>929.0</td>\n    </tr>\n    <tr>\n      <th>5</th>\n      <td>/profile/sachi1325</td>\n      <td>1417.0</td>\n    </tr>\n  </tbody>\n</table>\n</div>"
     },
     "execution_count": 30,
     "metadata": {},
     "output_type": "execute_result"
    }
   ],
   "source": [
    "authors_compact = authors[[\"author_url\", \"rating\"]]\n",
    "\n",
    "authors_compact.head()"
   ],
   "metadata": {
    "collapsed": false,
    "ExecuteTime": {
     "start_time": "2023-04-12T16:18:41.684392Z",
     "end_time": "2023-04-12T16:18:41.751590Z"
    }
   }
  },
  {
   "cell_type": "markdown",
   "source": [
    "## Make the dataset"
   ],
   "metadata": {
    "collapsed": false
   }
  },
  {
   "cell_type": "code",
   "execution_count": 31,
   "outputs": [],
   "source": [
    "from lightfm.data import Dataset"
   ],
   "metadata": {
    "collapsed": false,
    "ExecuteTime": {
     "start_time": "2023-04-12T16:18:49.127250Z",
     "end_time": "2023-04-12T16:18:51.964637Z"
    }
   }
  },
  {
   "cell_type": "code",
   "execution_count": 32,
   "outputs": [],
   "source": [
    "ds = Dataset()"
   ],
   "metadata": {
    "collapsed": false,
    "ExecuteTime": {
     "start_time": "2023-04-12T16:18:51.967456Z",
     "end_time": "2023-04-12T16:18:51.977522Z"
    }
   }
  },
  {
   "cell_type": "code",
   "execution_count": 33,
   "outputs": [],
   "source": [
    "ds.fit(users=author_urls, items=problem_urls, user_features=author_features, item_features=problem_features)"
   ],
   "metadata": {
    "collapsed": false,
    "ExecuteTime": {
     "start_time": "2023-04-12T16:18:51.973864Z",
     "end_time": "2023-04-12T16:18:52.269787Z"
    }
   }
  },
  {
   "cell_type": "code",
   "execution_count": 34,
   "outputs": [
    {
     "name": "stdout",
     "output_type": "stream",
     "text": [
      "('/profile/PinkieDashForever', '/contest/127/problem/A')\n",
      "('/profile/PinkieDashForever', '/contest/127/problem/B')\n",
      "('/profile/PinkieDashForever', '/contest/127/problem/C')\n",
      "('/profile/PinkieDashForever', '/contest/127/problem/D')\n",
      "('/profile/PinkieDashForever', '/contest/127/problem/E')\n",
      "('/profile/cjtoribio', '/contest/127/problem/A')\n",
      "('/profile/cjtoribio', '/contest/127/problem/B')\n",
      "('/profile/cjtoribio', '/contest/127/problem/C')\n",
      "('/profile/cjtoribio', '/contest/127/problem/D')\n",
      "('/profile/cjtoribio', '/contest/127/problem/E')\n"
     ]
    }
   ],
   "source": [
    "for row in submissions[[\"author_url\", \"problem_url\"]].values[:10]:\n",
    "    print((row[0], row[1]))"
   ],
   "metadata": {
    "collapsed": false,
    "ExecuteTime": {
     "start_time": "2023-04-12T16:18:52.274439Z",
     "end_time": "2023-04-12T16:18:52.392700Z"
    }
   }
  },
  {
   "cell_type": "markdown",
   "source": [
    "## Build the dataset"
   ],
   "metadata": {
    "collapsed": false
   }
  },
  {
   "cell_type": "code",
   "execution_count": 35,
   "outputs": [],
   "source": [
    "submissions = pd.merge(submissions, authors_compact, how='left', on=\"author_url\")"
   ],
   "metadata": {
    "collapsed": false,
    "ExecuteTime": {
     "start_time": "2023-04-12T16:19:41.814352Z",
     "end_time": "2023-04-12T16:19:43.481001Z"
    }
   }
  },
  {
   "cell_type": "code",
   "execution_count": 36,
   "outputs": [],
   "source": [
    "submissions = pd.merge(submissions, problems_compact, how='left', on=\"problem_url\")"
   ],
   "metadata": {
    "collapsed": false,
    "ExecuteTime": {
     "start_time": "2023-04-12T16:19:43.851790Z",
     "end_time": "2023-04-12T16:19:45.130430Z"
    }
   }
  },
  {
   "cell_type": "code",
   "execution_count": 38,
   "outputs": [
    {
     "data": {
      "text/plain": "   contest_id  submission_id                          author   \n0         127         843764  Contestant:\\nPinkieDashForever  \\\n1         127         844434  Contestant:\\nPinkieDashForever   \n2         127         850036  Contestant:\\nPinkieDashForever   \n3         127         846279  Contestant:\\nPinkieDashForever   \n4         127         847897  Contestant:\\nPinkieDashForever   \n\n                   author_url                problem             problem_url   \n0  /profile/PinkieDashForever  127A\\r\\n         - 15  /contest/127/problem/A  \\\n1  /profile/PinkieDashForever  127B\\r\\n         - 27  /contest/127/problem/B   \n2  /profile/PinkieDashForever  127C\\r\\n         - 38  /contest/127/problem/C   \n3  /profile/PinkieDashForever  127D\\r\\n         - 49  /contest/127/problem/D   \n4  /profile/PinkieDashForever  127E\\r\\n         - 18  /contest/127/problem/E   \n\n  language   verdict    time    memory                 sent   \n0   MS C++  Accepted   30 ms   1360 KB  2011-11-09 21:05:56  \\\n1   MS C++  Accepted   30 ms   1368 KB  2011-11-09 21:11:38   \n2   MS C++  Accepted   80 ms   1368 KB  2011-11-09 22:31:46   \n3   MS C++  Accepted   60 ms   6252 KB  2011-11-09 21:31:17   \n4   MS C++  Accepted  130 ms  17132 KB  2011-11-09 21:56:21   \n\n                judged  rating  filled_rating  \n0  2011-11-09 23:21:14  2152.0          900.0  \n1  2011-11-09 23:26:49  2152.0         1000.0  \n2  2011-11-09 23:56:53  2152.0         1900.0  \n3  2011-11-09 23:41:06  2152.0         1700.0  \n4  2011-11-09 23:49:30  2152.0         2000.0  ",
      "text/html": "<div>\n<style scoped>\n    .dataframe tbody tr th:only-of-type {\n        vertical-align: middle;\n    }\n\n    .dataframe tbody tr th {\n        vertical-align: top;\n    }\n\n    .dataframe thead th {\n        text-align: right;\n    }\n</style>\n<table border=\"1\" class=\"dataframe\">\n  <thead>\n    <tr style=\"text-align: right;\">\n      <th></th>\n      <th>contest_id</th>\n      <th>submission_id</th>\n      <th>author</th>\n      <th>author_url</th>\n      <th>problem</th>\n      <th>problem_url</th>\n      <th>language</th>\n      <th>verdict</th>\n      <th>time</th>\n      <th>memory</th>\n      <th>sent</th>\n      <th>judged</th>\n      <th>rating</th>\n      <th>filled_rating</th>\n    </tr>\n  </thead>\n  <tbody>\n    <tr>\n      <th>0</th>\n      <td>127</td>\n      <td>843764</td>\n      <td>Contestant:\\nPinkieDashForever</td>\n      <td>/profile/PinkieDashForever</td>\n      <td>127A\\r\\n         - 15</td>\n      <td>/contest/127/problem/A</td>\n      <td>MS C++</td>\n      <td>Accepted</td>\n      <td>30 ms</td>\n      <td>1360 KB</td>\n      <td>2011-11-09 21:05:56</td>\n      <td>2011-11-09 23:21:14</td>\n      <td>2152.0</td>\n      <td>900.0</td>\n    </tr>\n    <tr>\n      <th>1</th>\n      <td>127</td>\n      <td>844434</td>\n      <td>Contestant:\\nPinkieDashForever</td>\n      <td>/profile/PinkieDashForever</td>\n      <td>127B\\r\\n         - 27</td>\n      <td>/contest/127/problem/B</td>\n      <td>MS C++</td>\n      <td>Accepted</td>\n      <td>30 ms</td>\n      <td>1368 KB</td>\n      <td>2011-11-09 21:11:38</td>\n      <td>2011-11-09 23:26:49</td>\n      <td>2152.0</td>\n      <td>1000.0</td>\n    </tr>\n    <tr>\n      <th>2</th>\n      <td>127</td>\n      <td>850036</td>\n      <td>Contestant:\\nPinkieDashForever</td>\n      <td>/profile/PinkieDashForever</td>\n      <td>127C\\r\\n         - 38</td>\n      <td>/contest/127/problem/C</td>\n      <td>MS C++</td>\n      <td>Accepted</td>\n      <td>80 ms</td>\n      <td>1368 KB</td>\n      <td>2011-11-09 22:31:46</td>\n      <td>2011-11-09 23:56:53</td>\n      <td>2152.0</td>\n      <td>1900.0</td>\n    </tr>\n    <tr>\n      <th>3</th>\n      <td>127</td>\n      <td>846279</td>\n      <td>Contestant:\\nPinkieDashForever</td>\n      <td>/profile/PinkieDashForever</td>\n      <td>127D\\r\\n         - 49</td>\n      <td>/contest/127/problem/D</td>\n      <td>MS C++</td>\n      <td>Accepted</td>\n      <td>60 ms</td>\n      <td>6252 KB</td>\n      <td>2011-11-09 21:31:17</td>\n      <td>2011-11-09 23:41:06</td>\n      <td>2152.0</td>\n      <td>1700.0</td>\n    </tr>\n    <tr>\n      <th>4</th>\n      <td>127</td>\n      <td>847897</td>\n      <td>Contestant:\\nPinkieDashForever</td>\n      <td>/profile/PinkieDashForever</td>\n      <td>127E\\r\\n         - 18</td>\n      <td>/contest/127/problem/E</td>\n      <td>MS C++</td>\n      <td>Accepted</td>\n      <td>130 ms</td>\n      <td>17132 KB</td>\n      <td>2011-11-09 21:56:21</td>\n      <td>2011-11-09 23:49:30</td>\n      <td>2152.0</td>\n      <td>2000.0</td>\n    </tr>\n  </tbody>\n</table>\n</div>"
     },
     "execution_count": 38,
     "metadata": {},
     "output_type": "execute_result"
    }
   ],
   "source": [
    "submissions.head()"
   ],
   "metadata": {
    "collapsed": false,
    "ExecuteTime": {
     "start_time": "2023-04-12T16:20:21.100646Z",
     "end_time": "2023-04-12T16:20:21.184149Z"
    }
   }
  },
  {
   "cell_type": "code",
   "execution_count": 40,
   "outputs": [
    {
     "name": "stdout",
     "output_type": "stream",
     "text": [
      "<class 'pandas.core.series.Series'>\n",
      "RangeIndex: 9086946 entries, 0 to 9086945\n",
      "Series name: filled_rating\n",
      "Non-Null Count    Dtype  \n",
      "--------------    -----  \n",
      "8983611 non-null  float64\n",
      "dtypes: float64(1)\n",
      "memory usage: 69.3 MB\n",
      "None\n"
     ]
    }
   ],
   "source": [
    "print(submissions.filled_rating.info())"
   ],
   "metadata": {
    "collapsed": false,
    "ExecuteTime": {
     "start_time": "2023-04-12T16:21:19.680889Z",
     "end_time": "2023-04-12T16:21:19.781704Z"
    }
   }
  },
  {
   "cell_type": "code",
   "execution_count": 46,
   "outputs": [],
   "source": [
    "(interactions, weights) = ds.build_interactions(\n",
    "    ((row[0], row[1]) for row in submissions[[\"author_url\", \"problem_url\", \"rating\", \"filled_rating\"]].values if row[2] <= row[3]))"
   ],
   "metadata": {
    "collapsed": false,
    "ExecuteTime": {
     "start_time": "2023-04-12T16:25:32.134249Z",
     "end_time": "2023-04-12T16:25:37.002487Z"
    }
   }
  },
  {
   "cell_type": "code",
   "execution_count": 47,
   "outputs": [
    {
     "name": "stdout",
     "output_type": "stream",
     "text": [
      "<359036x10213 sparse matrix of type '<class 'numpy.int32'>'\n",
      "\twith 1065455 stored elements in COOrdinate format>\n"
     ]
    }
   ],
   "source": [
    "print(repr(interactions))"
   ],
   "metadata": {
    "collapsed": false,
    "ExecuteTime": {
     "start_time": "2023-04-12T16:25:39.220554Z",
     "end_time": "2023-04-12T16:25:39.283861Z"
    }
   }
  },
  {
   "cell_type": "code",
   "execution_count": 30,
   "outputs": [
    {
     "name": "stdout",
     "output_type": "stream",
     "text": [
      "<359036x10213 sparse matrix of type '<class 'numpy.int32'>'\n",
      "\twith 9086946 stored elements in COOrdinate format>\n"
     ]
    }
   ],
   "source": [
    "# print(repr(interactions)) -- old"
   ],
   "metadata": {
    "collapsed": false,
    "ExecuteTime": {
     "start_time": "2023-04-12T14:13:59.593385Z",
     "end_time": "2023-04-12T14:13:59.593744Z"
    }
   }
  },
  {
   "cell_type": "code",
   "execution_count": 48,
   "outputs": [
    {
     "name": "stdout",
     "output_type": "stream",
     "text": [
      "('/contest/325/problem/A', ['student', 'implementation'])\n",
      "('/contest/325/problem/B', ['expert', 'binary search', 'math'])\n",
      "('/contest/325/problem/C', ['grandmaster', 'dfs and similar', 'graphs', 'shortest paths'])\n",
      "('/contest/325/problem/D', ['legendary grandmaster', 'dsu'])\n",
      "('/contest/325/problem/E', ['grandmaster', 'combinatorics', 'dfs and similar', 'dsu', 'graphs', 'greedy'])\n"
     ]
    }
   ],
   "source": [
    "for row in problems[[\"problem_url\", \"rating_labels\", \"tags\"]].values[:5]:\n",
    "    print((row[0], [row[1]] + row[2]))"
   ],
   "metadata": {
    "collapsed": false,
    "ExecuteTime": {
     "start_time": "2023-04-12T16:26:00.277050Z",
     "end_time": "2023-04-12T16:26:00.372459Z"
    }
   }
  },
  {
   "cell_type": "code",
   "execution_count": 49,
   "outputs": [],
   "source": [
    "item_features = ds.build_item_features(((row[0], [row[1]] + row[2] if row[1] == row[1] else row[2]) for row in\n",
    "                                        problems[[\"problem_url\", \"rating_labels\", \"tags\"]].values))"
   ],
   "metadata": {
    "collapsed": false,
    "ExecuteTime": {
     "start_time": "2023-04-12T16:26:02.410237Z",
     "end_time": "2023-04-12T16:26:02.579415Z"
    }
   }
  },
  {
   "cell_type": "code",
   "execution_count": 50,
   "outputs": [
    {
     "name": "stdout",
     "output_type": "stream",
     "text": [
      "<10213x10258 sparse matrix of type '<class 'numpy.float32'>'\n",
      "\twith 46738 stored elements in Compressed Sparse Row format>\n"
     ]
    }
   ],
   "source": [
    "print(repr(item_features))"
   ],
   "metadata": {
    "collapsed": false,
    "ExecuteTime": {
     "start_time": "2023-04-12T16:26:03.484873Z",
     "end_time": "2023-04-12T16:26:03.523329Z"
    }
   }
  },
  {
   "cell_type": "code",
   "execution_count": 51,
   "outputs": [
    {
     "name": "stdout",
     "output_type": "stream",
     "text": [
      "('/profile/anubhav360', ['newbie', 'pupil'])\n",
      "('/profile/little_waxberry', ['master', 'master'])\n",
      "('/profile/saurabhnewatiya', ['pupil', 'specialist'])\n",
      "('/profile/mp13', ['newbie', 'pupil'])\n",
      "('/profile/sachi1325', ['specialist', 'specialist'])\n"
     ]
    }
   ],
   "source": [
    "for row in authors[[\"author_url\", \"rating_text\", \"rating_max_text\"]][authors.author_url.notna()].values[:5]:\n",
    "    print((row[0], [row[1], row[2]]))"
   ],
   "metadata": {
    "collapsed": false,
    "ExecuteTime": {
     "start_time": "2023-04-12T16:26:07.366363Z",
     "end_time": "2023-04-12T16:26:07.468944Z"
    }
   }
  },
  {
   "cell_type": "code",
   "execution_count": 52,
   "outputs": [
    {
     "data": {
      "text/plain": "                  author                 author_url  rating rating_text   \n359738       vanwilder77       /profile/vanwilder77     NaN     unrated  \\\n359739      luciferajeet      /profile/luciferajeet     NaN     unrated   \n359740  gjfjisuanjisiban  /profile/gjfjisuanjisiban     NaN     unrated   \n359741         VladTkach         /profile/VladTkach     NaN     unrated   \n359742      nestler.jang      /profile/nestler.jang     NaN     unrated   \n\n             city country organization  contribution  friend_of  rating_max   \n359738        NaN     NaN          NaN           0.0        0.0         NaN  \\\n359739  Ghaziabad   India          NaN           0.0        0.0         NaN   \n359740        NaN     NaN          NaN           0.0        0.0         NaN   \n359741        NaN     NaN          NaN           0.0        0.0         NaN   \n359742        NaN     NaN          NaN           0.0        0.0         NaN   \n\n       rating_max_text         registered  \n359738             NaN  Apr/03/2012 20:41  \n359739             NaN  Aug/04/2015 21:26  \n359740             NaN  Feb/13/2015 09:09  \n359741             NaN  Apr/05/2019 19:42  \n359742             NaN  Feb/25/2020 23:15  ",
      "text/html": "<div>\n<style scoped>\n    .dataframe tbody tr th:only-of-type {\n        vertical-align: middle;\n    }\n\n    .dataframe tbody tr th {\n        vertical-align: top;\n    }\n\n    .dataframe thead th {\n        text-align: right;\n    }\n</style>\n<table border=\"1\" class=\"dataframe\">\n  <thead>\n    <tr style=\"text-align: right;\">\n      <th></th>\n      <th>author</th>\n      <th>author_url</th>\n      <th>rating</th>\n      <th>rating_text</th>\n      <th>city</th>\n      <th>country</th>\n      <th>organization</th>\n      <th>contribution</th>\n      <th>friend_of</th>\n      <th>rating_max</th>\n      <th>rating_max_text</th>\n      <th>registered</th>\n    </tr>\n  </thead>\n  <tbody>\n    <tr>\n      <th>359738</th>\n      <td>vanwilder77</td>\n      <td>/profile/vanwilder77</td>\n      <td>NaN</td>\n      <td>unrated</td>\n      <td>NaN</td>\n      <td>NaN</td>\n      <td>NaN</td>\n      <td>0.0</td>\n      <td>0.0</td>\n      <td>NaN</td>\n      <td>NaN</td>\n      <td>Apr/03/2012 20:41</td>\n    </tr>\n    <tr>\n      <th>359739</th>\n      <td>luciferajeet</td>\n      <td>/profile/luciferajeet</td>\n      <td>NaN</td>\n      <td>unrated</td>\n      <td>Ghaziabad</td>\n      <td>India</td>\n      <td>NaN</td>\n      <td>0.0</td>\n      <td>0.0</td>\n      <td>NaN</td>\n      <td>NaN</td>\n      <td>Aug/04/2015 21:26</td>\n    </tr>\n    <tr>\n      <th>359740</th>\n      <td>gjfjisuanjisiban</td>\n      <td>/profile/gjfjisuanjisiban</td>\n      <td>NaN</td>\n      <td>unrated</td>\n      <td>NaN</td>\n      <td>NaN</td>\n      <td>NaN</td>\n      <td>0.0</td>\n      <td>0.0</td>\n      <td>NaN</td>\n      <td>NaN</td>\n      <td>Feb/13/2015 09:09</td>\n    </tr>\n    <tr>\n      <th>359741</th>\n      <td>VladTkach</td>\n      <td>/profile/VladTkach</td>\n      <td>NaN</td>\n      <td>unrated</td>\n      <td>NaN</td>\n      <td>NaN</td>\n      <td>NaN</td>\n      <td>0.0</td>\n      <td>0.0</td>\n      <td>NaN</td>\n      <td>NaN</td>\n      <td>Apr/05/2019 19:42</td>\n    </tr>\n    <tr>\n      <th>359742</th>\n      <td>nestler.jang</td>\n      <td>/profile/nestler.jang</td>\n      <td>NaN</td>\n      <td>unrated</td>\n      <td>NaN</td>\n      <td>NaN</td>\n      <td>NaN</td>\n      <td>0.0</td>\n      <td>0.0</td>\n      <td>NaN</td>\n      <td>NaN</td>\n      <td>Feb/25/2020 23:15</td>\n    </tr>\n  </tbody>\n</table>\n</div>"
     },
     "execution_count": 52,
     "metadata": {},
     "output_type": "execute_result"
    }
   ],
   "source": [
    "authors[authors.rating_max_text.isna() & authors.rating_text.notna()].head()"
   ],
   "metadata": {
    "collapsed": false,
    "ExecuteTime": {
     "start_time": "2023-04-12T16:26:20.486943Z",
     "end_time": "2023-04-12T16:26:20.562812Z"
    }
   }
  },
  {
   "cell_type": "code",
   "execution_count": 53,
   "outputs": [],
   "source": [
    "user_features = ds.build_user_features(((row[0], [row[1], row[2] if row[2] == row[2] else row[1]]) for row in\n",
    "                                        authors[authors.author_url.notna()][\n",
    "                                            [\"author_url\", \"rating_text\", \"rating_max_text\"]].values))"
   ],
   "metadata": {
    "collapsed": false,
    "ExecuteTime": {
     "start_time": "2023-04-12T16:26:37.791157Z",
     "end_time": "2023-04-12T16:26:38.967231Z"
    }
   }
  },
  {
   "cell_type": "code",
   "execution_count": 54,
   "outputs": [
    {
     "name": "stdout",
     "output_type": "stream",
     "text": [
      "<359036x359048 sparse matrix of type '<class 'numpy.float32'>'\n",
      "\twith 826155 stored elements in Compressed Sparse Row format>\n"
     ]
    }
   ],
   "source": [
    "print(repr(user_features))"
   ],
   "metadata": {
    "collapsed": false,
    "ExecuteTime": {
     "start_time": "2023-04-12T16:26:41.146508Z",
     "end_time": "2023-04-12T16:26:41.214765Z"
    }
   }
  },
  {
   "cell_type": "markdown",
   "source": [
    "## Build the model"
   ],
   "metadata": {
    "collapsed": false
   }
  },
  {
   "cell_type": "code",
   "execution_count": 55,
   "outputs": [
    {
     "name": "stderr",
     "output_type": "stream",
     "text": [
      "Epoch: 100%|██████████| 5/5 [00:22<00:00,  4.58s/it]\n"
     ]
    },
    {
     "data": {
      "text/plain": "<lightfm.lightfm.LightFM at 0x7fbd71c3b220>"
     },
     "execution_count": 55,
     "metadata": {},
     "output_type": "execute_result"
    }
   ],
   "source": [
    "from lightfm import LightFM\n",
    "\n",
    "model = LightFM(no_components=150, learning_rate=0.05, loss=\"warp\", random_state=2023)\n",
    "model.fit(interactions=interactions, user_features=user_features, item_features=item_features, sample_weight=weights,\n",
    "          epochs=5, num_threads=8, verbose=True)"
   ],
   "metadata": {
    "collapsed": false,
    "ExecuteTime": {
     "start_time": "2023-04-12T16:26:50.433256Z",
     "end_time": "2023-04-12T16:27:13.968978Z"
    }
   }
  },
  {
   "cell_type": "markdown",
   "source": [
    "## Test model"
   ],
   "metadata": {
    "collapsed": false
   }
  },
  {
   "cell_type": "code",
   "execution_count": 77,
   "outputs": [],
   "source": [
    "res = model.predict(user_ids=ds.mapping()[0][\"/profile/IRussianGamerI\"], item_ids=np.arange(len(ds.mapping()[2])),\n",
    "                    item_features=item_features, user_features=user_features)"
   ],
   "metadata": {
    "collapsed": false,
    "ExecuteTime": {
     "start_time": "2023-04-12T17:58:19.374816Z",
     "end_time": "2023-04-12T17:58:19.642128Z"
    }
   }
  },
  {
   "cell_type": "code",
   "execution_count": 78,
   "outputs": [
    {
     "name": "stdout",
     "output_type": "stream",
     "text": [
      "[-66.146164 -63.09422  -64.69383  ... -61.64777  -62.02909  -64.00947 ]\n"
     ]
    }
   ],
   "source": [
    "print(res)"
   ],
   "metadata": {
    "collapsed": false,
    "ExecuteTime": {
     "start_time": "2023-04-12T17:58:19.980727Z",
     "end_time": "2023-04-12T17:58:20.090374Z"
    }
   }
  },
  {
   "cell_type": "code",
   "execution_count": 79,
   "outputs": [
    {
     "data": {
      "text/plain": "3659"
     },
     "execution_count": 79,
     "metadata": {},
     "output_type": "execute_result"
    }
   ],
   "source": [
    "res.argmax()"
   ],
   "metadata": {
    "collapsed": false,
    "ExecuteTime": {
     "start_time": "2023-04-12T17:58:20.611439Z",
     "end_time": "2023-04-12T17:58:20.620203Z"
    }
   }
  },
  {
   "cell_type": "code",
   "execution_count": 80,
   "outputs": [],
   "source": [
    "srt = res.argsort()"
   ],
   "metadata": {
    "collapsed": false,
    "ExecuteTime": {
     "start_time": "2023-04-12T17:58:21.062514Z",
     "end_time": "2023-04-12T17:58:21.109005Z"
    }
   }
  },
  {
   "cell_type": "code",
   "execution_count": 81,
   "outputs": [
    {
     "data": {
      "text/plain": "array([10153,  9206,  2938,  2444,  1678,   226,   187,  1155,  4169,\n        3659])"
     },
     "execution_count": 81,
     "metadata": {},
     "output_type": "execute_result"
    }
   ],
   "source": [
    "srt[-10:]"
   ],
   "metadata": {
    "collapsed": false,
    "ExecuteTime": {
     "start_time": "2023-04-12T17:58:21.496028Z",
     "end_time": "2023-04-12T17:58:21.537993Z"
    }
   }
  },
  {
   "cell_type": "code",
   "execution_count": 82,
   "outputs": [],
   "source": [
    "inverted = {}\n",
    "\n",
    "for key, value in ds._item_id_mapping.items():\n",
    "    inverted[value] = key"
   ],
   "metadata": {
    "collapsed": false,
    "ExecuteTime": {
     "start_time": "2023-04-12T17:58:21.963465Z",
     "end_time": "2023-04-12T17:58:22.011265Z"
    }
   }
  },
  {
   "cell_type": "code",
   "execution_count": 83,
   "outputs": [
    {
     "name": "stdout",
     "output_type": "stream",
     "text": [
      "https://codeforces.com/contest/1331/problem/D\n",
      "https://codeforces.com/contest/1549/problem/C\n",
      "https://codeforces.com/contest/1538/problem/F\n",
      "https://codeforces.com/contest/1473/problem/C\n",
      "https://codeforces.com/contest/1616/problem/C\n",
      "https://codeforces.com/contest/1400/problem/C\n",
      "https://codeforces.com/contest/1391/problem/C\n",
      "https://codeforces.com/contest/1552/problem/B\n",
      "https://codeforces.com/contest/1368/problem/B\n",
      "https://codeforces.com/contest/1632/problem/C\n"
     ]
    }
   ],
   "source": [
    "for key in reversed(srt[-10:]):\n",
    "    print(f\"https://codeforces.com{inverted[key]}\")"
   ],
   "metadata": {
    "collapsed": false,
    "ExecuteTime": {
     "start_time": "2023-04-12T17:58:23.647723Z",
     "end_time": "2023-04-12T17:58:23.747722Z"
    }
   }
  },
  {
   "cell_type": "markdown",
   "source": [
    "## GET recs"
   ],
   "metadata": {
    "collapsed": false
   }
  },
  {
   "cell_type": "code",
   "execution_count": 84,
   "outputs": [],
   "source": [
    "inverted = {}\n",
    "\n",
    "for key, value in ds._item_id_mapping.items():\n",
    "    inverted[value] = key"
   ],
   "metadata": {
    "collapsed": false,
    "ExecuteTime": {
     "start_time": "2023-04-12T18:00:36.250675Z",
     "end_time": "2023-04-12T18:00:36.304034Z"
    }
   }
  },
  {
   "cell_type": "code",
   "execution_count": 85,
   "outputs": [],
   "source": [
    "def get_ten_recs(username: str):\n",
    "    res = model.predict(user_ids=ds.mapping()[0][f\"/profile/{username}\"], item_ids=np.arange(len(ds.mapping()[2])),\n",
    "                        item_features=item_features, user_features=user_features)\n",
    "    srt = res.argsort()\n",
    "    for key in reversed(srt[-10:]):\n",
    "        print(f\"https://codeforces.com{inverted[key]}\")"
   ],
   "metadata": {
    "collapsed": false,
    "ExecuteTime": {
     "start_time": "2023-04-12T18:00:36.410709Z",
     "end_time": "2023-04-12T18:00:36.420408Z"
    }
   }
  },
  {
   "cell_type": "code",
   "execution_count": 96,
   "outputs": [
    {
     "name": "stdout",
     "output_type": "stream",
     "text": [
      "https://codeforces.com/contest/1161/problem/E\n",
      "https://codeforces.com/contest/1091/problem/H\n",
      "https://codeforces.com/contest/1428/problem/G1\n",
      "https://codeforces.com/contest/1329/problem/D\n",
      "https://codeforces.com/contest/1610/problem/I\n",
      "https://codeforces.com/contest/1280/problem/E\n",
      "https://codeforces.com/contest/1428/problem/G2\n",
      "https://codeforces.com/contest/1290/problem/E\n",
      "https://codeforces.com/contest/1266/problem/F\n",
      "https://codeforces.com/contest/455/problem/E\n"
     ]
    }
   ],
   "source": [
    "get_ten_recs(\"tourist\")"
   ],
   "metadata": {
    "collapsed": false,
    "ExecuteTime": {
     "start_time": "2023-04-12T18:51:37.251056Z",
     "end_time": "2023-04-12T18:51:37.325800Z"
    }
   }
  },
  {
   "cell_type": "markdown",
   "source": [
    "## Test another approach"
   ],
   "metadata": {
    "collapsed": false
   }
  },
  {
   "cell_type": "code",
   "execution_count": 116,
   "outputs": [],
   "source": [
    "new_authors = authors.set_index(authors.author_url)"
   ],
   "metadata": {
    "collapsed": false,
    "ExecuteTime": {
     "start_time": "2023-04-12T15:54:31.802638Z",
     "end_time": "2023-04-12T15:54:31.871179Z"
    }
   }
  },
  {
   "cell_type": "code",
   "execution_count": 119,
   "outputs": [
    {
     "name": "stdout",
     "output_type": "stream",
     "text": [
      "3264365    /profile/----\n",
      "4621382    /profile/----\n",
      "6616197    /profile/----\n",
      "6616198    /profile/----\n",
      "4621383    /profile/----\n",
      "               ...      \n",
      "4340946       /team/9994\n",
      "6374327       /team/9995\n",
      "705460        /team/9996\n",
      "6373708       /team/9998\n",
      "6373806       /team/9998\n",
      "Name: author_url, Length: 9086946, dtype: object\n"
     ]
    }
   ],
   "source": [
    "print(submissions.author_url)"
   ],
   "metadata": {
    "collapsed": false,
    "ExecuteTime": {
     "start_time": "2023-04-12T15:58:59.015465Z",
     "end_time": "2023-04-12T15:58:59.095208Z"
    }
   }
  },
  {
   "cell_type": "code",
   "execution_count": 118,
   "outputs": [
    {
     "ename": "KeyError",
     "evalue": "'/profile/----'",
     "output_type": "error",
     "traceback": [
      "\u001B[0;31m---------------------------------------------------------------------------\u001B[0m",
      "\u001B[0;31mKeyError\u001B[0m                                  Traceback (most recent call last)",
      "File \u001B[0;32m~/StudyAI-ML/venv/lib/python3.10/site-packages/pandas/core/indexes/base.py:3652\u001B[0m, in \u001B[0;36mIndex.get_loc\u001B[0;34m(self, key)\u001B[0m\n\u001B[1;32m   3651\u001B[0m \u001B[38;5;28;01mtry\u001B[39;00m:\n\u001B[0;32m-> 3652\u001B[0m     \u001B[38;5;28;01mreturn\u001B[39;00m \u001B[38;5;28;43mself\u001B[39;49m\u001B[38;5;241;43m.\u001B[39;49m\u001B[43m_engine\u001B[49m\u001B[38;5;241;43m.\u001B[39;49m\u001B[43mget_loc\u001B[49m\u001B[43m(\u001B[49m\u001B[43mcasted_key\u001B[49m\u001B[43m)\u001B[49m\n\u001B[1;32m   3653\u001B[0m \u001B[38;5;28;01mexcept\u001B[39;00m \u001B[38;5;167;01mKeyError\u001B[39;00m \u001B[38;5;28;01mas\u001B[39;00m err:\n",
      "File \u001B[0;32m~/StudyAI-ML/venv/lib/python3.10/site-packages/pandas/_libs/index.pyx:147\u001B[0m, in \u001B[0;36mpandas._libs.index.IndexEngine.get_loc\u001B[0;34m()\u001B[0m\n",
      "File \u001B[0;32m~/StudyAI-ML/venv/lib/python3.10/site-packages/pandas/_libs/index.pyx:176\u001B[0m, in \u001B[0;36mpandas._libs.index.IndexEngine.get_loc\u001B[0;34m()\u001B[0m\n",
      "File \u001B[0;32mpandas/_libs/hashtable_class_helper.pxi:7080\u001B[0m, in \u001B[0;36mpandas._libs.hashtable.PyObjectHashTable.get_item\u001B[0;34m()\u001B[0m\n",
      "File \u001B[0;32mpandas/_libs/hashtable_class_helper.pxi:7088\u001B[0m, in \u001B[0;36mpandas._libs.hashtable.PyObjectHashTable.get_item\u001B[0;34m()\u001B[0m\n",
      "\u001B[0;31mKeyError\u001B[0m: '/profile/----'",
      "\nThe above exception was the direct cause of the following exception:\n",
      "\u001B[0;31mKeyError\u001B[0m                                  Traceback (most recent call last)",
      "Cell \u001B[0;32mIn[118], line 1\u001B[0m\n\u001B[0;32m----> 1\u001B[0m submissions[\u001B[38;5;124m\"\u001B[39m\u001B[38;5;124mauthor_rating\u001B[39m\u001B[38;5;124m\"\u001B[39m] \u001B[38;5;241m=\u001B[39m \u001B[43msubmissions\u001B[49m\u001B[38;5;241;43m.\u001B[39;49m\u001B[43mauthor_url\u001B[49m\u001B[38;5;241;43m.\u001B[39;49m\u001B[43mapply\u001B[49m\u001B[43m(\u001B[49m\n\u001B[1;32m      2\u001B[0m \u001B[43m    \u001B[49m\u001B[38;5;28;43;01mlambda\u001B[39;49;00m\u001B[43m \u001B[49m\u001B[43murl\u001B[49m\u001B[43m:\u001B[49m\u001B[43m \u001B[49m\u001B[43mnew_authors\u001B[49m\u001B[43m[\u001B[49m\u001B[43murl\u001B[49m\u001B[43m]\u001B[49m\u001B[38;5;241;43m.\u001B[39;49m\u001B[43mrating\u001B[49m\u001B[43m \u001B[49m\u001B[38;5;28;43;01mif\u001B[39;49;00m\u001B[43m \u001B[49m\u001B[43murl\u001B[49m\u001B[43m \u001B[49m\u001B[38;5;129;43;01min\u001B[39;49;00m\u001B[43m \u001B[49m\u001B[43mnew_authors\u001B[49m\u001B[38;5;241;43m.\u001B[39;49m\u001B[43mindex\u001B[49m\u001B[43m \u001B[49m\u001B[38;5;129;43;01mand\u001B[39;49;00m\u001B[43m \u001B[49m\u001B[43mnew_authors\u001B[49m\u001B[43m[\u001B[49m\u001B[43murl\u001B[49m\u001B[43m]\u001B[49m\u001B[38;5;241;43m.\u001B[39;49m\u001B[43mrating\u001B[49m\u001B[43m \u001B[49m\u001B[38;5;241;43m==\u001B[39;49m\u001B[43m \u001B[49m\u001B[43mnew_authors\u001B[49m\u001B[43m[\u001B[49m\u001B[43murl\u001B[49m\u001B[43m]\u001B[49m\u001B[38;5;241;43m.\u001B[39;49m\u001B[43mrating\u001B[49m\u001B[43m \u001B[49m\u001B[38;5;28;43;01melse\u001B[39;49;00m\u001B[43m \u001B[49m\u001B[38;5;241;43m0\u001B[39;49m\u001B[43m)\u001B[49m\n",
      "File \u001B[0;32m~/StudyAI-ML/venv/lib/python3.10/site-packages/pandas/core/series.py:4631\u001B[0m, in \u001B[0;36mSeries.apply\u001B[0;34m(self, func, convert_dtype, args, **kwargs)\u001B[0m\n\u001B[1;32m   4521\u001B[0m \u001B[38;5;28;01mdef\u001B[39;00m \u001B[38;5;21mapply\u001B[39m(\n\u001B[1;32m   4522\u001B[0m     \u001B[38;5;28mself\u001B[39m,\n\u001B[1;32m   4523\u001B[0m     func: AggFuncType,\n\u001B[0;32m   (...)\u001B[0m\n\u001B[1;32m   4526\u001B[0m     \u001B[38;5;241m*\u001B[39m\u001B[38;5;241m*\u001B[39mkwargs,\n\u001B[1;32m   4527\u001B[0m ) \u001B[38;5;241m-\u001B[39m\u001B[38;5;241m>\u001B[39m DataFrame \u001B[38;5;241m|\u001B[39m Series:\n\u001B[1;32m   4528\u001B[0m \u001B[38;5;250m    \u001B[39m\u001B[38;5;124;03m\"\"\"\u001B[39;00m\n\u001B[1;32m   4529\u001B[0m \u001B[38;5;124;03m    Invoke function on values of Series.\u001B[39;00m\n\u001B[1;32m   4530\u001B[0m \n\u001B[0;32m   (...)\u001B[0m\n\u001B[1;32m   4629\u001B[0m \u001B[38;5;124;03m    dtype: float64\u001B[39;00m\n\u001B[1;32m   4630\u001B[0m \u001B[38;5;124;03m    \"\"\"\u001B[39;00m\n\u001B[0;32m-> 4631\u001B[0m     \u001B[38;5;28;01mreturn\u001B[39;00m \u001B[43mSeriesApply\u001B[49m\u001B[43m(\u001B[49m\u001B[38;5;28;43mself\u001B[39;49m\u001B[43m,\u001B[49m\u001B[43m \u001B[49m\u001B[43mfunc\u001B[49m\u001B[43m,\u001B[49m\u001B[43m \u001B[49m\u001B[43mconvert_dtype\u001B[49m\u001B[43m,\u001B[49m\u001B[43m \u001B[49m\u001B[43margs\u001B[49m\u001B[43m,\u001B[49m\u001B[43m \u001B[49m\u001B[43mkwargs\u001B[49m\u001B[43m)\u001B[49m\u001B[38;5;241;43m.\u001B[39;49m\u001B[43mapply\u001B[49m\u001B[43m(\u001B[49m\u001B[43m)\u001B[49m\n",
      "File \u001B[0;32m~/StudyAI-ML/venv/lib/python3.10/site-packages/pandas/core/apply.py:1025\u001B[0m, in \u001B[0;36mSeriesApply.apply\u001B[0;34m(self)\u001B[0m\n\u001B[1;32m   1022\u001B[0m     \u001B[38;5;28;01mreturn\u001B[39;00m \u001B[38;5;28mself\u001B[39m\u001B[38;5;241m.\u001B[39mapply_str()\n\u001B[1;32m   1024\u001B[0m \u001B[38;5;66;03m# self.f is Callable\u001B[39;00m\n\u001B[0;32m-> 1025\u001B[0m \u001B[38;5;28;01mreturn\u001B[39;00m \u001B[38;5;28;43mself\u001B[39;49m\u001B[38;5;241;43m.\u001B[39;49m\u001B[43mapply_standard\u001B[49m\u001B[43m(\u001B[49m\u001B[43m)\u001B[49m\n",
      "File \u001B[0;32m~/StudyAI-ML/venv/lib/python3.10/site-packages/pandas/core/apply.py:1076\u001B[0m, in \u001B[0;36mSeriesApply.apply_standard\u001B[0;34m(self)\u001B[0m\n\u001B[1;32m   1074\u001B[0m     \u001B[38;5;28;01melse\u001B[39;00m:\n\u001B[1;32m   1075\u001B[0m         values \u001B[38;5;241m=\u001B[39m obj\u001B[38;5;241m.\u001B[39mastype(\u001B[38;5;28mobject\u001B[39m)\u001B[38;5;241m.\u001B[39m_values\n\u001B[0;32m-> 1076\u001B[0m         mapped \u001B[38;5;241m=\u001B[39m \u001B[43mlib\u001B[49m\u001B[38;5;241;43m.\u001B[39;49m\u001B[43mmap_infer\u001B[49m\u001B[43m(\u001B[49m\n\u001B[1;32m   1077\u001B[0m \u001B[43m            \u001B[49m\u001B[43mvalues\u001B[49m\u001B[43m,\u001B[49m\n\u001B[1;32m   1078\u001B[0m \u001B[43m            \u001B[49m\u001B[43mf\u001B[49m\u001B[43m,\u001B[49m\n\u001B[1;32m   1079\u001B[0m \u001B[43m            \u001B[49m\u001B[43mconvert\u001B[49m\u001B[38;5;241;43m=\u001B[39;49m\u001B[38;5;28;43mself\u001B[39;49m\u001B[38;5;241;43m.\u001B[39;49m\u001B[43mconvert_dtype\u001B[49m\u001B[43m,\u001B[49m\n\u001B[1;32m   1080\u001B[0m \u001B[43m        \u001B[49m\u001B[43m)\u001B[49m\n\u001B[1;32m   1082\u001B[0m \u001B[38;5;28;01mif\u001B[39;00m \u001B[38;5;28mlen\u001B[39m(mapped) \u001B[38;5;129;01mand\u001B[39;00m \u001B[38;5;28misinstance\u001B[39m(mapped[\u001B[38;5;241m0\u001B[39m], ABCSeries):\n\u001B[1;32m   1083\u001B[0m     \u001B[38;5;66;03m# GH#43986 Need to do list(mapped) in order to get treated as nested\u001B[39;00m\n\u001B[1;32m   1084\u001B[0m     \u001B[38;5;66;03m#  See also GH#25959 regarding EA support\u001B[39;00m\n\u001B[1;32m   1085\u001B[0m     \u001B[38;5;28;01mreturn\u001B[39;00m obj\u001B[38;5;241m.\u001B[39m_constructor_expanddim(\u001B[38;5;28mlist\u001B[39m(mapped), index\u001B[38;5;241m=\u001B[39mobj\u001B[38;5;241m.\u001B[39mindex)\n",
      "File \u001B[0;32m~/StudyAI-ML/venv/lib/python3.10/site-packages/pandas/_libs/lib.pyx:2834\u001B[0m, in \u001B[0;36mpandas._libs.lib.map_infer\u001B[0;34m()\u001B[0m\n",
      "Cell \u001B[0;32mIn[118], line 2\u001B[0m, in \u001B[0;36m<lambda>\u001B[0;34m(url)\u001B[0m\n\u001B[1;32m      1\u001B[0m submissions[\u001B[38;5;124m\"\u001B[39m\u001B[38;5;124mauthor_rating\u001B[39m\u001B[38;5;124m\"\u001B[39m] \u001B[38;5;241m=\u001B[39m submissions\u001B[38;5;241m.\u001B[39mauthor_url\u001B[38;5;241m.\u001B[39mapply(\n\u001B[0;32m----> 2\u001B[0m     \u001B[38;5;28;01mlambda\u001B[39;00m url: new_authors[url]\u001B[38;5;241m.\u001B[39mrating \u001B[38;5;28;01mif\u001B[39;00m url \u001B[38;5;129;01min\u001B[39;00m new_authors\u001B[38;5;241m.\u001B[39mindex \u001B[38;5;129;01mand\u001B[39;00m \u001B[43mnew_authors\u001B[49m\u001B[43m[\u001B[49m\u001B[43murl\u001B[49m\u001B[43m]\u001B[49m\u001B[38;5;241m.\u001B[39mrating \u001B[38;5;241m==\u001B[39m new_authors[url]\u001B[38;5;241m.\u001B[39mrating \u001B[38;5;28;01melse\u001B[39;00m \u001B[38;5;241m0\u001B[39m)\n",
      "File \u001B[0;32m~/StudyAI-ML/venv/lib/python3.10/site-packages/pandas/core/frame.py:3760\u001B[0m, in \u001B[0;36mDataFrame.__getitem__\u001B[0;34m(self, key)\u001B[0m\n\u001B[1;32m   3758\u001B[0m \u001B[38;5;28;01mif\u001B[39;00m \u001B[38;5;28mself\u001B[39m\u001B[38;5;241m.\u001B[39mcolumns\u001B[38;5;241m.\u001B[39mnlevels \u001B[38;5;241m>\u001B[39m \u001B[38;5;241m1\u001B[39m:\n\u001B[1;32m   3759\u001B[0m     \u001B[38;5;28;01mreturn\u001B[39;00m \u001B[38;5;28mself\u001B[39m\u001B[38;5;241m.\u001B[39m_getitem_multilevel(key)\n\u001B[0;32m-> 3760\u001B[0m indexer \u001B[38;5;241m=\u001B[39m \u001B[38;5;28;43mself\u001B[39;49m\u001B[38;5;241;43m.\u001B[39;49m\u001B[43mcolumns\u001B[49m\u001B[38;5;241;43m.\u001B[39;49m\u001B[43mget_loc\u001B[49m\u001B[43m(\u001B[49m\u001B[43mkey\u001B[49m\u001B[43m)\u001B[49m\n\u001B[1;32m   3761\u001B[0m \u001B[38;5;28;01mif\u001B[39;00m is_integer(indexer):\n\u001B[1;32m   3762\u001B[0m     indexer \u001B[38;5;241m=\u001B[39m [indexer]\n",
      "File \u001B[0;32m~/StudyAI-ML/venv/lib/python3.10/site-packages/pandas/core/indexes/base.py:3654\u001B[0m, in \u001B[0;36mIndex.get_loc\u001B[0;34m(self, key)\u001B[0m\n\u001B[1;32m   3652\u001B[0m     \u001B[38;5;28;01mreturn\u001B[39;00m \u001B[38;5;28mself\u001B[39m\u001B[38;5;241m.\u001B[39m_engine\u001B[38;5;241m.\u001B[39mget_loc(casted_key)\n\u001B[1;32m   3653\u001B[0m \u001B[38;5;28;01mexcept\u001B[39;00m \u001B[38;5;167;01mKeyError\u001B[39;00m \u001B[38;5;28;01mas\u001B[39;00m err:\n\u001B[0;32m-> 3654\u001B[0m     \u001B[38;5;28;01mraise\u001B[39;00m \u001B[38;5;167;01mKeyError\u001B[39;00m(key) \u001B[38;5;28;01mfrom\u001B[39;00m \u001B[38;5;21;01merr\u001B[39;00m\n\u001B[1;32m   3655\u001B[0m \u001B[38;5;28;01mexcept\u001B[39;00m \u001B[38;5;167;01mTypeError\u001B[39;00m:\n\u001B[1;32m   3656\u001B[0m     \u001B[38;5;66;03m# If we have a listlike key, _check_indexing_error will raise\u001B[39;00m\n\u001B[1;32m   3657\u001B[0m     \u001B[38;5;66;03m#  InvalidIndexError. Otherwise we fall through and re-raise\u001B[39;00m\n\u001B[1;32m   3658\u001B[0m     \u001B[38;5;66;03m#  the TypeError.\u001B[39;00m\n\u001B[1;32m   3659\u001B[0m     \u001B[38;5;28mself\u001B[39m\u001B[38;5;241m.\u001B[39m_check_indexing_error(key)\n",
      "\u001B[0;31mKeyError\u001B[0m: '/profile/----'"
     ]
    }
   ],
   "source": [
    "submissions[\"author_rating\"] = submissions.author_url.apply(\n",
    "    lambda url: new_authors[url].rating if url in new_authors.index and new_authors[url].rating == new_authors[url].rating else 0)"
   ],
   "metadata": {
    "collapsed": false
   }
  },
  {
   "cell_type": "code",
   "execution_count": null,
   "outputs": [],
   "source": [
    "(new_interactions, new_weights) = ds.build_interactions(\n",
    "    ((pair[0], pair[1]) for pair in submissions[[\"author_url\", \"problem_url\"]].values if))"
   ],
   "metadata": {
    "collapsed": false
   }
  },
  {
   "cell_type": "code",
   "execution_count": null,
   "outputs": [],
   "source": [],
   "metadata": {
    "collapsed": false
   }
  }
 ],
 "metadata": {
  "kernelspec": {
   "display_name": "Python 3",
   "language": "python",
   "name": "python3"
  },
  "language_info": {
   "codemirror_mode": {
    "name": "ipython",
    "version": 2
   },
   "file_extension": ".py",
   "mimetype": "text/x-python",
   "name": "python",
   "nbconvert_exporter": "python",
   "pygments_lexer": "ipython2",
   "version": "2.7.6"
  }
 },
 "nbformat": 4,
 "nbformat_minor": 0
}
